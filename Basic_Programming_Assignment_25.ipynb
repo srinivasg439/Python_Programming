{
  "nbformat": 4,
  "nbformat_minor": 0,
  "metadata": {
    "colab": {
      "provenance": []
    },
    "kernelspec": {
      "name": "python3",
      "display_name": "Python 3"
    },
    "language_info": {
      "name": "python"
    }
  },
  "cells": [
    {
      "cell_type": "code",
      "execution_count": 1,
      "metadata": {
        "colab": {
          "base_uri": "https://localhost:8080/"
        },
        "id": "OPrnqXJlkCpR",
        "outputId": "46e4e6d6-8784-48ad-cd89-5b04e9a58790"
      },
      "outputs": [
        {
          "output_type": "execute_result",
          "data": {
            "text/plain": [
              "2"
            ]
          },
          "metadata": {},
          "execution_count": 1
        }
      ],
      "source": [
        "\"\"\"1.Create a function that takes three integer arguments (a, b, c) and returns the amount of\n",
        "integers which are of equal value.\n",
        "Examples\n",
        "equal(3, 4, 3) ➞ 2\n",
        "equal(1, 1, 1) ➞ 3\n",
        "equal(3, 4, 1) ➞ 0\n",
        "Notes\n",
        "Your function must return 0, 2 or 3.\"\"\"\n",
        "#Sol.\n",
        "def equal(a,b,c):\n",
        "    num = 0\n",
        "    if a == b and a == c :\n",
        "        num = 3\n",
        "    elif a == b or a == c :\n",
        "        num = 2\n",
        "    else:\n",
        "        num = 0\n",
        "    return num\n",
        "equal(3, 4, 3)"
      ]
    },
    {
      "cell_type": "code",
      "source": [
        "\"\"\"2.Write a function that converts a dictionary into a list of keys-values tuples.\n",
        "Examples\n",
        "dict_to_list({\n",
        "'D': 1,\n",
        "'B': 2,\n",
        "'C': 3\n",
        "}) ➞ [('B', 2), ('C', 3), ('D', 1)]\n",
        "dict_to_list({\n",
        "'likes': 2,\n",
        "'dislikes': 3,\n",
        "'followers': 10\n",
        "}) ➞ [('dislikes', 3), ('followers', 10), ('likes', 2)]\n",
        "Notes\n",
        "Return the elements in the list in alphabetical order.\n",
        "\"\"\"\n",
        "#Sol.\n",
        "def dict_to_list(d):\n",
        "    return list(d.items())\n",
        "dict_to_list({\n",
        "    'D': 1,\n",
        "    'B': 2,\n",
        "    'C': 3\n",
        "    })"
      ],
      "metadata": {
        "colab": {
          "base_uri": "https://localhost:8080/"
        },
        "id": "5Mg7WYb8t0x9",
        "outputId": "647fc24f-2140-4dd3-b273-8913948cdc2a"
      },
      "execution_count": 2,
      "outputs": [
        {
          "output_type": "execute_result",
          "data": {
            "text/plain": [
              "[('D', 1), ('B', 2), ('C', 3)]"
            ]
          },
          "metadata": {},
          "execution_count": 2
        }
      ]
    },
    {
      "cell_type": "code",
      "source": [
        "dict_to_list({\n",
        "    'likes': 2,\n",
        "    'dislikes': 3,\n",
        "    'followers': 10\n",
        "    })"
      ],
      "metadata": {
        "colab": {
          "base_uri": "https://localhost:8080/"
        },
        "id": "DtANCoCLviXI",
        "outputId": "9a755605-8ac5-41fb-ef42-e3824331389c"
      },
      "execution_count": 3,
      "outputs": [
        {
          "output_type": "execute_result",
          "data": {
            "text/plain": [
              "[('likes', 2), ('dislikes', 3), ('followers', 10)]"
            ]
          },
          "metadata": {},
          "execution_count": 3
        }
      ]
    },
    {
      "cell_type": "code",
      "source": [
        "\"\"\"3.Write a function that creates a dictionary with each (key, value) pair being the (lower case,\n",
        "upper case) versions of a letter, respectively.\n",
        "Examples\n",
        "mapping(['p', 's']) ➞ { 'p': 'P', 's': 'S' }\n",
        "\n",
        "mapping(['a', 'b', 'c']) ➞ { 'a': 'A', 'b': 'B', 'c': 'C' }\n",
        "mapping(['a', 'v', 'y', 'z']) ➞ { 'a': 'A', 'v': 'V', 'y': 'Y', 'z': 'Z' }\n",
        "Notes\n",
        "All of the letters in the input list will always be lowercase.\"\"\"\n",
        "#Sol.\n",
        "def mapping(lst):\n",
        "    return {v.lower():v.upper() for v in lst}\n",
        "mapping(['p', 's'])"
      ],
      "metadata": {
        "colab": {
          "base_uri": "https://localhost:8080/"
        },
        "id": "ljt6kUzPvqsi",
        "outputId": "dcc343f4-433f-46ef-8186-e42f8dc248e0"
      },
      "execution_count": 4,
      "outputs": [
        {
          "output_type": "execute_result",
          "data": {
            "text/plain": [
              "{'p': 'P', 's': 'S'}"
            ]
          },
          "metadata": {},
          "execution_count": 4
        }
      ]
    },
    {
      "cell_type": "code",
      "source": [
        "\"\"\"4.Write a function, that replaces all vowels in a string with a specified vowel.\n",
        "Examples\n",
        "vow_replace('apples and bananas', 'u') ➞ 'upplus und bununus'\n",
        "vow_replace('cheese casserole', 'o') ➞ 'chooso cossorolo'\n",
        "vow_replace('stuffed jalapeno poppers', 'e') ➞ 'steffed jelepene peppers'\n",
        "Notes\n",
        "All words will be lowercase. Y is not considered a vowel.\"\"\"\n",
        "#Sol.\n",
        "def vow_replace(s,ch):\n",
        "    vowel ='AEIOUaeiuo'\n",
        "    s1 = []\n",
        "    for i in range(len(s)):\n",
        "        if s[i] in vowel:\n",
        "            s1.append(ch)\n",
        "        else:\n",
        "            s1.append(s[i])\n",
        "\n",
        "    return ''.join((s1))\n",
        "vow_replace('apples and bananas', 'u')"
      ],
      "metadata": {
        "colab": {
          "base_uri": "https://localhost:8080/",
          "height": 35
        },
        "id": "fjGwKKwWxD6s",
        "outputId": "9759cace-157e-4837-b977-b28efda52bda"
      },
      "execution_count": 5,
      "outputs": [
        {
          "output_type": "execute_result",
          "data": {
            "text/plain": [
              "'upplus und bununus'"
            ],
            "application/vnd.google.colaboratory.intrinsic+json": {
              "type": "string"
            }
          },
          "metadata": {},
          "execution_count": 5
        }
      ]
    },
    {
      "cell_type": "code",
      "source": [
        "\"\"\"5.Create a function that takes a string as input and capitalizes a letter if its ASCII code is even\n",
        "and returns its lower case version if its ASCII code is odd.\n",
        "Examples\n",
        "ascii_capitalize('to be or not to be!') ➞ 'To Be oR NoT To Be!'\n",
        "ascii_capitalize('THE LITTLE MERMAID') ➞ 'THe LiTTLe meRmaiD'\n",
        "ascii_capitalize('Oh what a beautiful morning.') ➞ 'oH wHaT a BeauTiFuL\n",
        "moRNiNg.\"\"\"\n",
        "#Sol.\n",
        "def ascii_capitalize(s):\n",
        "    s1 = []\n",
        "    for i in range(len(s)):\n",
        "        if ord(s[i]) % 2 == 0:\n",
        "            s1.append(s[i].upper())\n",
        "        else:\n",
        "            s1.append(s[i].lower())\n",
        "\n",
        "    return \"\".join((s1))\n",
        "\n",
        "ascii_capitalize('to be or not to be!')"
      ],
      "metadata": {
        "colab": {
          "base_uri": "https://localhost:8080/",
          "height": 35
        },
        "id": "Uv00-F5aybHW",
        "outputId": "f94c665f-4612-4dd1-a9b6-8cd478aa247d"
      },
      "execution_count": 1,
      "outputs": [
        {
          "output_type": "execute_result",
          "data": {
            "text/plain": [
              "'To Be oR NoT To Be!'"
            ],
            "application/vnd.google.colaboratory.intrinsic+json": {
              "type": "string"
            }
          },
          "metadata": {},
          "execution_count": 1
        }
      ]
    }
  ]
}