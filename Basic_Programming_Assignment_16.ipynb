{
  "nbformat": 4,
  "nbformat_minor": 0,
  "metadata": {
    "colab": {
      "provenance": []
    },
    "kernelspec": {
      "name": "python3",
      "display_name": "Python 3"
    },
    "language_info": {
      "name": "python"
    }
  },
  "cells": [
    {
      "cell_type": "code",
      "execution_count": 1,
      "metadata": {
        "colab": {
          "base_uri": "https://localhost:8080/"
        },
        "id": "E6jujMC-qA4x",
        "outputId": "8e319c9d-e136-41b5-e2a6-c5dd16f81e04"
      },
      "outputs": [
        {
          "output_type": "stream",
          "name": "stdout",
          "text": [
            "in... in... incredible?\n"
          ]
        }
      ],
      "source": [
        "\"\"\"1. Write a function that stutters a word as if someone is struggling to read it. The first two letters are repeated twice with an ellipsis ... and space after each, and then the word is pronounced with a question mark ?.\n",
        "Examples\n",
        "stutter(\"incredible\") ➞ \"in... in... incredible?\"\n",
        "\n",
        "stutter(\"enthusiastic\") ➞ \"en... en... enthusiastic?\"\n",
        "\n",
        "stutter(\"outstanding\") ➞ \"ou... ou... outstanding?\"\n",
        "\n",
        "Hint :- Assume all input is in lower case and at least two characters long.\"\"\"\n",
        "\n",
        "#Sol.\n",
        "def stutter(word):\n",
        "    s = word[:2]\n",
        "    return (2 * (s + '... ')) + word + '?'\n",
        "\n",
        "\n",
        "print(stutter(\"incredible\"))"
      ]
    },
    {
      "cell_type": "code",
      "source": [
        "\"\"\"2.Create a function that takes an angle in radians and returns the corresponding angle in degrees rounded to one decimal place.\n",
        "Examples\n",
        "radians_to_degrees(1) ➞ 57.3\n",
        "\n",
        "radians_to_degrees(20) ➞ 1145.9\n",
        "\n",
        "radians_to_degrees(50) ➞ 2864.8 \"\"\"\n",
        "\n",
        "#Sol.\n",
        "\n",
        "def radians_to_degrees(radian):\n",
        "    pi = 3.14159\n",
        "    #formula\n",
        "    degree = radian * (180/pi)\n",
        "    return degree\n",
        "radian = float(input('Enter the Radian : '))\n",
        "print(\"degree =\",(radians_to_degrees(radian)))\n",
        "\n",
        "\n"
      ],
      "metadata": {
        "colab": {
          "base_uri": "https://localhost:8080/"
        },
        "id": "xDAM6GdXrMOh",
        "outputId": "9555433c-0e5f-4e53-9584-a10d7eaee4e6"
      },
      "execution_count": 2,
      "outputs": [
        {
          "output_type": "stream",
          "name": "stdout",
          "text": [
            "Enter the Radian : 1\n",
            "degree = 57.295827908797776\n"
          ]
        }
      ]
    },
    {
      "cell_type": "code",
      "source": [
        "\"\"\"3. In this challenge, establish if a given integer num is a Curzon number. If 1 plus\n",
        "2 elevated to num is exactly divisible by 1 plus 2 multiplied by num, then num is a Curzon\n",
        "number.\n",
        "Given a non-negative integer num, implement a function that returns True if num is a Curzon\n",
        "number, or False otherwise.\n",
        "Examples\n",
        "is_curzon(5) ➞ True\n",
        "# 2 ** 5 + 1 = 33\n",
        "# 2 * 5 + 1 = 11\n",
        "# 33 is a multiple of 11\n",
        "is_curzon(10) ➞ False\n",
        "# 2 ** 10 + 1 = 1025\n",
        "# 2 * 10 + 1 = 21\n",
        "# 1025 is not a multiple of 21\n",
        "is_curzon(14) ➞ True\n",
        "# 2 ** 14 + 1 = 16385\n",
        "# 2 * 14 + 1 = 29\n",
        "# 16385 is a multiple of 29.  \"\"\"\n",
        "\n",
        "#sol. \n",
        "def checkIfCurzonNumber(n):\n",
        " \n",
        "    power, product = 0, 0\n",
        " \n",
        "    # Find 2**n + 1\n",
        "    power = pow(2, n) + 1\n",
        " \n",
        "    # Find 2*n + 1\n",
        "    product = 2 * n + 1\n",
        " \n",
        "    # Check for divisibility\n",
        "    if (power % product == 0):\n",
        "        print(n, \"is Curzon Number\")\n",
        "    else:\n",
        "        print(n, \"is not a Curzon Number\")\n",
        "        \n",
        "n = int(input('Enter a number : '))\n",
        "checkIfCurzonNumber(n)\n"
      ],
      "metadata": {
        "colab": {
          "base_uri": "https://localhost:8080/"
        },
        "id": "89WMy4Z-uW76",
        "outputId": "42f2f348-2db8-4ae8-9f73-6b6156ad8597"
      },
      "execution_count": 4,
      "outputs": [
        {
          "output_type": "stream",
          "name": "stdout",
          "text": [
            "Enter a number : 5\n",
            "5 is Curzon Number\n"
          ]
        }
      ]
    },
    {
      "cell_type": "code",
      "source": [
        "\"\"\"4. Given the side length x find the area of a hexagon.\n",
        "Examples\n",
        "area_of_hexagon(1) ➞ 2.6\n",
        "\n",
        "area_of_hexagon(2) ➞ 10.4\n",
        "\n",
        "area_of_hexagon(3) ➞ 23.4  \"\"\"\n",
        "\n",
        "#Sol.\n",
        "\n",
        "# area of a Hexagon\n",
        "# Area = (3 √3(n*n) ) / 2\n",
        "import math\n",
        "def area_of_hexagon(s):     \n",
        "    return ((3 * math.sqrt(3) * (sideLength * sideLength)) / 2);\n",
        "     \n",
        "#length of a side.\n",
        "sideLength = float(input('Enter the length : '))\n",
        "\n",
        "print(\"Area:\",\"{0:.4f}\".format(area_of_hexagon(sideLength)))"
      ],
      "metadata": {
        "colab": {
          "base_uri": "https://localhost:8080/"
        },
        "id": "ai7H_FEJwQf5",
        "outputId": "0b8329e8-8f8e-4774-b4ca-9266cffff67e"
      },
      "execution_count": 7,
      "outputs": [
        {
          "output_type": "stream",
          "name": "stdout",
          "text": [
            "Enter the length : 3\n",
            "Area: 23.3827\n"
          ]
        }
      ]
    },
    {
      "cell_type": "code",
      "source": [
        "\"\"\"5.Create a function that returns a base-2 (binary) representation of a base-10 (decimal) string number. To convert is simple: ((2) means base-2 and (10) means base-10) 010101001(2) = 1 + 8 + 32 + 128.\n",
        "Going from right to left, the value of the most right bit is 1, now from that every bit to the left will be x2 the value, value of an 8 bit binary numbers are (256, 128, 64, 32, 16, 8, 4, 2, 1).\n",
        "Examples\n",
        "binary(1) ➞ \"1\"\n",
        "# 1*1 = 1\n",
        "\n",
        "binary(5) ➞ \"101\"\n",
        "# 1*1 + 1*4 = 5\n",
        "\n",
        "binary(10) ➞ \"1010\"\n",
        "# 1*2 + 1*8 = 10  \"\"\"\n",
        "\n",
        "#sol.\n",
        "\n",
        "# Function to convert Decimal number\n",
        "# to Binary number\n",
        "def decimalToBinary(n):\n",
        "    return bin(n).replace(\"0b\", \"\")\n",
        "   \n",
        "for i in range(0,5):\n",
        "    print(decimalToBinary(i))\n",
        "\n",
        "\n"
      ],
      "metadata": {
        "colab": {
          "base_uri": "https://localhost:8080/"
        },
        "id": "6MkHluvRxEkp",
        "outputId": "5448d084-699a-44f8-f91f-f891437a9398"
      },
      "execution_count": 10,
      "outputs": [
        {
          "output_type": "stream",
          "name": "stdout",
          "text": [
            "0\n",
            "1\n",
            "10\n",
            "11\n",
            "100\n"
          ]
        }
      ]
    }
  ]
}