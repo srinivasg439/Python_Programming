{
  "nbformat": 4,
  "nbformat_minor": 0,
  "metadata": {
    "colab": {
      "provenance": []
    },
    "kernelspec": {
      "name": "python3",
      "display_name": "Python 3"
    },
    "language_info": {
      "name": "python"
    }
  },
  "cells": [
    {
      "cell_type": "markdown",
      "source": [
        "Q1. What are the benefits of the built-in array package, if any?\n",
        "\n",
        "Ans : Arrays represent multiple data items of the same type using a single name.In arrays, the elements can be accessed randomly by using the index number. Arrays allocate memory in contiguous memory locations for all its elements. Hence there is no chance of extra memory being allocated in case of arrays. This avoids memory overflow or shortage of memory in arrays.\n",
        "\n",
        "Q2. What are some of the array package's limitations?\n",
        "\n",
        "Ans : The number of elements to be stored in an array should be known in advance. An array is a static structure (which means the array is of fixed size)Once declared the size of the array cannot be modified. The memory which is allocated to it cannot be increased or decreased. Insertion and deletion are quite difficult in an array as the elements are stored in consecutive memory locations and the shifting operation is costly. Allocating more memory than the requirement leads to wastage of memory space and less allocation of memory \n",
        "also leads to a problem.\n",
        "\n",
        "Q3. Describe the main differences between the array and numpy packages.\n",
        "\n",
        "Ans : The array package doesn't provide any help with numerical calculation with the items insdie it in number form while NumPy give you a wide variety of numerical operations. An array is a single dimensional entity which hold the numerical data, while numpy can have more than 1 dimension.In case of array, item can be accessed by its index position and it is easy task while in numpy item is accessed by its column and row index, which makes it slightly time taking. Same goes with appending operation.In case of array we do not form a tabular structure, while in numpy it forms a tabular structure."
      ],
      "metadata": {
        "id": "sG8ODxGC3ahs"
      }
    },
    {
      "cell_type": "markdown",
      "source": [
        "Q4. Explain the distinctions between the empty, ones, and zeros functions.\n",
        "\n",
        "Ans :Empty function: An empty function is a function that does not contain any statement within its body. If you try to write a function definition without any statement in python ,it will return an error. To avoid this,we use pass statement. pass is a special statement in Python that does nothing. It only works as a dummy statement ones: This function returns a new array of given shape and data type, where the element’s value is 1.zeros: This function returns a new array of given shape and data type, where the element’s value is 0\n",
        "\n",
        "Q5. In the fromfunction function, which is used to construct new arrays, what is the role of the callable argument?\n",
        "\n",
        "Ans : Its function is to execute the function over each coordinate and the resulting array. The function is called with N parameters, where N is the rank of shape. Each parameter represents the coordinates of the array varying along a specific axis.\n",
        "\n",
        "Q6. What happens when a numpy array is combined with a single-value operand (a scalar, such as an int or a floating-point value) through addition, as in the expression A + n?"
      ],
      "metadata": {
        "id": "EnzkfVIT7ZYI"
      }
    },
    {
      "cell_type": "code",
      "source": [
        "# Ans : If any scaler value such as integer is added to the numpy array then all the elements inside the array \n",
        "#       will add that value in it.\n",
        "#       Example :\n",
        "import numpy as np\n",
        "a=np.arange(9).reshape(3,3)\n",
        "print(a)\n",
        "print()\n",
        "print(a+1)"
      ],
      "metadata": {
        "colab": {
          "base_uri": "https://localhost:8080/"
        },
        "id": "gkxNIVYw4mlo",
        "outputId": "b981058e-fd33-451d-bed8-43e2a6cf5370"
      },
      "execution_count": 1,
      "outputs": [
        {
          "output_type": "stream",
          "name": "stdout",
          "text": [
            "[[0 1 2]\n",
            " [3 4 5]\n",
            " [6 7 8]]\n",
            "\n",
            "[[1 2 3]\n",
            " [4 5 6]\n",
            " [7 8 9]]\n"
          ]
        }
      ]
    },
    {
      "cell_type": "markdown",
      "source": [
        "Q7. Can array-to-scalar operations use combined operation-assign operators (such as += or *=)? What is the outcome?\n",
        "\n",
        "Ans : It will do the operation as per operators. Like if we use + operand it will update the current array by adding and when we use '*', it will update by multiplying."
      ],
      "metadata": {
        "id": "snJxxoDq49VQ"
      }
    },
    {
      "cell_type": "code",
      "source": [
        "#      Example :\n",
        "print(a)"
      ],
      "metadata": {
        "colab": {
          "base_uri": "https://localhost:8080/"
        },
        "id": "6PXjgLxJ5Kal",
        "outputId": "dea660a8-99b7-42f2-a0aa-69de2e18802a"
      },
      "execution_count": 2,
      "outputs": [
        {
          "output_type": "stream",
          "name": "stdout",
          "text": [
            "[[0 1 2]\n",
            " [3 4 5]\n",
            " [6 7 8]]\n"
          ]
        }
      ]
    },
    {
      "cell_type": "code",
      "source": [
        "a+=1\n",
        "print(a)"
      ],
      "metadata": {
        "colab": {
          "base_uri": "https://localhost:8080/"
        },
        "id": "eBX5YzuR5XWL",
        "outputId": "3e957168-7eb1-4c20-c80e-9623b2b1288f"
      },
      "execution_count": 4,
      "outputs": [
        {
          "output_type": "stream",
          "name": "stdout",
          "text": [
            "[[ 2  3  4]\n",
            " [ 5  6  7]\n",
            " [ 8  9 10]]\n"
          ]
        }
      ]
    },
    {
      "cell_type": "code",
      "source": [
        "a*=2\n",
        "print(a)"
      ],
      "metadata": {
        "colab": {
          "base_uri": "https://localhost:8080/"
        },
        "id": "-gqFgKaT5fUt",
        "outputId": "88e83c35-7334-49fe-acb4-26bab467adf3"
      },
      "execution_count": 5,
      "outputs": [
        {
          "output_type": "stream",
          "name": "stdout",
          "text": [
            "[[ 4  6  8]\n",
            " [10 12 14]\n",
            " [16 18 20]]\n"
          ]
        }
      ]
    },
    {
      "cell_type": "code",
      "source": [
        "#Q8. Does a numpy array contain fixed-length strings? What happens if you allocate a longer string to one of these arrays?\n",
        "# Ans : Yes it is possible that we can include a string of fixed length in numpy array. The dtype of any numpy array \n",
        "#       containing string values is the maximum length of any string present in the array.\n",
        "#       Once set, it will only be able to store new string having length not more than the maximum length at the time \n",
        "#       of the creation. If we try to reassign some another string value having length greater than the maximum length\n",
        "#       of the existing elements, it simply discards all the values beyond the maximum length accept upto those values \n",
        "#       which are under the limit.\n",
        "import numpy as np\n",
        "name = np.array(['ram', 'mohan', 'shiva'])\n",
        "name"
      ],
      "metadata": {
        "colab": {
          "base_uri": "https://localhost:8080/"
        },
        "id": "BBSSRneK5ndt",
        "outputId": "237ab931-36c1-4279-e0bd-2795f2cefb84"
      },
      "execution_count": 6,
      "outputs": [
        {
          "output_type": "stream",
          "name": "stdout",
          "text": [
            "Object `arrays` not found.\n"
          ]
        },
        {
          "output_type": "execute_result",
          "data": {
            "text/plain": [
              "array(['ram', 'mohan', 'shiva'], dtype='<U5')"
            ]
          },
          "metadata": {},
          "execution_count": 6
        }
      ]
    },
    {
      "cell_type": "code",
      "source": [
        "#Q9. What happens when you combine two numpy arrays using an operation like addition (+) or multiplication (*)? What are the conditions for combining two numpy arrays?\n",
        "# Ans : It will simply add or multiply element to element at same position.The only requirement which must be met are:\n",
        "#      1)Data type should be same.\n",
        "#      2) Shape of the two matrices must be same\n",
        "#      Example is as follows :\n",
        "a1=a\n",
        "a1"
      ],
      "metadata": {
        "colab": {
          "base_uri": "https://localhost:8080/"
        },
        "id": "5BFrNomS5zAb",
        "outputId": "15821482-53a1-41b9-b627-9e9426ff6570"
      },
      "execution_count": 7,
      "outputs": [
        {
          "output_type": "execute_result",
          "data": {
            "text/plain": [
              "array([[ 4,  6,  8],\n",
              "       [10, 12, 14],\n",
              "       [16, 18, 20]])"
            ]
          },
          "metadata": {},
          "execution_count": 7
        }
      ]
    },
    {
      "cell_type": "code",
      "source": [
        "a2=a+2\n",
        "a2"
      ],
      "metadata": {
        "colab": {
          "base_uri": "https://localhost:8080/"
        },
        "id": "WJcmPZ5J57eM",
        "outputId": "af4665f7-a9bb-47a7-ca7d-eabf2e555221"
      },
      "execution_count": 8,
      "outputs": [
        {
          "output_type": "execute_result",
          "data": {
            "text/plain": [
              "array([[ 6,  8, 10],\n",
              "       [12, 14, 16],\n",
              "       [18, 20, 22]])"
            ]
          },
          "metadata": {},
          "execution_count": 8
        }
      ]
    },
    {
      "cell_type": "code",
      "source": [
        "a1+a2"
      ],
      "metadata": {
        "colab": {
          "base_uri": "https://localhost:8080/"
        },
        "id": "7_F8ju1f6AMj",
        "outputId": "060fe515-6f48-4656-9782-c3163708f88d"
      },
      "execution_count": 9,
      "outputs": [
        {
          "output_type": "execute_result",
          "data": {
            "text/plain": [
              "array([[10, 14, 18],\n",
              "       [22, 26, 30],\n",
              "       [34, 38, 42]])"
            ]
          },
          "metadata": {},
          "execution_count": 9
        }
      ]
    },
    {
      "cell_type": "code",
      "source": [
        "a1*a2"
      ],
      "metadata": {
        "colab": {
          "base_uri": "https://localhost:8080/"
        },
        "id": "GAqSUm_B6Gw3",
        "outputId": "e7cc8901-f39b-4c02-e6b1-ad263fdaeecd"
      },
      "execution_count": 10,
      "outputs": [
        {
          "output_type": "execute_result",
          "data": {
            "text/plain": [
              "array([[ 24,  48,  80],\n",
              "       [120, 168, 224],\n",
              "       [288, 360, 440]])"
            ]
          },
          "metadata": {},
          "execution_count": 10
        }
      ]
    },
    {
      "cell_type": "code",
      "source": [
        "a1+a2.reshape(9,1)"
      ],
      "metadata": {
        "colab": {
          "base_uri": "https://localhost:8080/",
          "height": 166
        },
        "id": "4bohWFgF6KSk",
        "outputId": "2b939d6f-802a-4c06-d44f-d32ed05dcd11"
      },
      "execution_count": 11,
      "outputs": [
        {
          "output_type": "error",
          "ename": "ValueError",
          "evalue": "ignored",
          "traceback": [
            "\u001b[0;31m---------------------------------------------------------------------------\u001b[0m",
            "\u001b[0;31mValueError\u001b[0m                                Traceback (most recent call last)",
            "\u001b[0;32m<ipython-input-11-f24d236b5a9f>\u001b[0m in \u001b[0;36m<module>\u001b[0;34m\u001b[0m\n\u001b[0;32m----> 1\u001b[0;31m \u001b[0ma1\u001b[0m\u001b[0;34m+\u001b[0m\u001b[0ma2\u001b[0m\u001b[0;34m.\u001b[0m\u001b[0mreshape\u001b[0m\u001b[0;34m(\u001b[0m\u001b[0;36m9\u001b[0m\u001b[0;34m,\u001b[0m\u001b[0;36m1\u001b[0m\u001b[0;34m)\u001b[0m\u001b[0;34m\u001b[0m\u001b[0;34m\u001b[0m\u001b[0m\n\u001b[0m",
            "\u001b[0;31mValueError\u001b[0m: operands could not be broadcast together with shapes (3,3) (9,1) "
          ]
        }
      ]
    },
    {
      "cell_type": "code",
      "source": [
        "a1*a2.reshape(9,1)"
      ],
      "metadata": {
        "colab": {
          "base_uri": "https://localhost:8080/",
          "height": 166
        },
        "id": "vcWrIOUb6Uq1",
        "outputId": "30b0d8a2-6667-4f9a-b945-5b32c0e76ca9"
      },
      "execution_count": 12,
      "outputs": [
        {
          "output_type": "error",
          "ename": "ValueError",
          "evalue": "ignored",
          "traceback": [
            "\u001b[0;31m---------------------------------------------------------------------------\u001b[0m",
            "\u001b[0;31mValueError\u001b[0m                                Traceback (most recent call last)",
            "\u001b[0;32m<ipython-input-12-4ba0754c30f9>\u001b[0m in \u001b[0;36m<module>\u001b[0;34m\u001b[0m\n\u001b[0;32m----> 1\u001b[0;31m \u001b[0ma1\u001b[0m\u001b[0;34m*\u001b[0m\u001b[0ma2\u001b[0m\u001b[0;34m.\u001b[0m\u001b[0mreshape\u001b[0m\u001b[0;34m(\u001b[0m\u001b[0;36m9\u001b[0m\u001b[0;34m,\u001b[0m\u001b[0;36m1\u001b[0m\u001b[0;34m)\u001b[0m\u001b[0;34m\u001b[0m\u001b[0;34m\u001b[0m\u001b[0m\n\u001b[0m",
            "\u001b[0;31mValueError\u001b[0m: operands could not be broadcast together with shapes (3,3) (9,1) "
          ]
        }
      ]
    },
    {
      "cell_type": "code",
      "source": [
        "#Q10. What is the best way to use a Boolean array to mask another array?\n",
        "# Ans : \n",
        "# Ans : \n",
        "y = np.array([True,True,False,True])          \n",
        "x = np.array([1,2,3,4])         \n",
        "m = np.ma.masked_where(x>2,y)  \n",
        "print(list(m))\n",
        "print(m.ndim)"
      ],
      "metadata": {
        "colab": {
          "base_uri": "https://localhost:8080/"
        },
        "id": "B2zvVspP6Zii",
        "outputId": "2b5a4784-9821-465e-b0aa-3b1ab6388f5a"
      },
      "execution_count": 14,
      "outputs": [
        {
          "output_type": "stream",
          "name": "stdout",
          "text": [
            "[True, True, masked, masked]\n",
            "1\n"
          ]
        }
      ]
    },
    {
      "cell_type": "code",
      "source": [
        "#Q11. What are three different ways to get the standard deviation of a wide collection of data using both standard Python and its packages? Sort the three of them by how quickly they execute.\n",
        "# Ans : Standard deviation can be calculated in amny ways. If wee see the formula of SD, it says \n",
        "#       std= Square Root of [ Summation of [square of (x-mean)/number of observation] ] .So this can be achive by:\n",
        "#       1)Using math module :\n",
        "import math\n",
        "N = 1\n",
        "avg=a\n",
        "total=N\n",
        "x=[1,2]\n",
        "SD=math.sqrt((1-a)**2+(2-a)**2/N)"
      ],
      "metadata": {
        "id": "VSzcVAeu6xx1"
      },
      "execution_count": null,
      "outputs": []
    },
    {
      "cell_type": "code",
      "source": [
        "#       2)Using Numpy Array package\n",
        "import numpy as np\n",
        "SD=np.std(x)"
      ],
      "metadata": {
        "id": "k9kehNy87Kte"
      },
      "execution_count": null,
      "outputs": []
    },
    {
      "cell_type": "code",
      "source": [
        "#       3) General calculation without using any package\n",
        "SD= (((1-avg)**2 + (2-avg)**2)/N)**1/2"
      ],
      "metadata": {
        "id": "rdkba4or7Nqf"
      },
      "execution_count": null,
      "outputs": []
    }
  ]
}