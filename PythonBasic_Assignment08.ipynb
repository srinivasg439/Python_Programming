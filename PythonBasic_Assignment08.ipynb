{
  "nbformat": 4,
  "nbformat_minor": 0,
  "metadata": {
    "colab": {
      "provenance": []
    },
    "kernelspec": {
      "name": "python3",
      "display_name": "Python 3"
    },
    "language_info": {
      "name": "python"
    }
  },
  "cells": [
    {
      "cell_type": "code",
      "execution_count": null,
      "metadata": {
        "id": "dO1WvzlUeiJt"
      },
      "outputs": [],
      "source": []
    },
    {
      "cell_type": "markdown",
      "source": [
        "1. Is the Python Standard Library included with PyInputPlus?\n",
        "No. PyInputPlus is a third-party module and doesn’t come with the Python Standard Library.\n",
        "\n",
        "2. Why is PyInputPlus commonly imported with import pyinputplus as pypi?\n",
        "This optionally makes your code shorter to type: you can type pyip.inputStr() instead of pyinputplus.inputStr().\n",
        "\n",
        "3. How do you distinguish between inputInt() and inputFloat()?\n",
        "The inputInt() function returns an int value, while the inputFloat() function returns a float value. This is the difference between returning 4 and 4.0.\n",
        "\n",
        "4. Using PyInputPlus, how do you ensure that the user enters a whole number between 0 and 99?\n",
        "Call pyip.inputint(min=0, max=99).\n",
        "\n",
        "5. What is transferred to the keyword arguments allowRegexes and blockRegexes?\n",
        "\n",
        "A list of regex strings that are either explicitly allowed or denied\n",
        "\n",
        "6. If a blank input is entered three times, what does inputStr(limit=3) do?\n",
        "A list of regex strings that are either explicitly allowed or denied\n",
        "\n",
        "7. If blank input is entered three times, what does inputStr(limit=3, default='hello') do?\n",
        "The function returns the value 'hello'."
      ],
      "metadata": {
        "id": "WqeYXJAZfULk"
      }
    }
  ]
}