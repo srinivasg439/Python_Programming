{
  "nbformat": 4,
  "nbformat_minor": 0,
  "metadata": {
    "colab": {
      "provenance": []
    },
    "kernelspec": {
      "name": "python3",
      "display_name": "Python 3"
    },
    "language_info": {
      "name": "python"
    }
  },
  "cells": [
    {
      "cell_type": "markdown",
      "source": [
        "Q1. Is an assignment operator like += only for show? Is it possible that it would lead to faster results at the runtime?\n",
        "+= is fatser and easy to write for us. runtime of a += 5 is slightly less than a = a + 5 but, the difference is really minor.\n",
        "\n",
        "Q2. What is the smallest number of statements you'd have to write in most programming languages to replace the Python expression a, b = a + b, a?\n",
        "Two\n",
        "\n",
        "Q3. In Python, what is the most effective way to set a list of 100 integers to 0?"
      ],
      "metadata": {
        "id": "O-L8Frixq4OT"
      }
    },
    {
      "cell_type": "code",
      "execution_count": 1,
      "metadata": {
        "colab": {
          "base_uri": "https://localhost:8080/"
        },
        "id": "49MHFN8xYpiA",
        "outputId": "0c98a4e6-6cfa-4552-ee7d-101dbae61081"
      },
      "outputs": [
        {
          "output_type": "stream",
          "name": "stdout",
          "text": [
            "[0, 0, 0, 0, 0, 0, 0, 0, 0, 0, 0, 0, 0, 0, 0, 0, 0, 0, 0, 0, 0, 0, 0, 0, 0, 0, 0, 0, 0, 0, 0, 0, 0, 0, 0, 0, 0, 0, 0, 0, 0, 0, 0, 0, 0, 0, 0, 0, 0, 0, 0, 0, 0, 0, 0, 0, 0, 0, 0, 0, 0, 0, 0, 0, 0, 0, 0, 0, 0, 0, 0, 0, 0, 0, 0, 0, 0, 0, 0, 0, 0, 0, 0, 0, 0, 0, 0, 0, 0, 0, 0, 0, 0, 0, 0, 0, 0, 0, 0, 0]\n"
          ]
        }
      ],
      "source": [
        "l = [0] * 100\n",
        "\n",
        "print(l)"
      ]
    },
    {
      "cell_type": "markdown",
      "source": [
        "Q4. What is the most effective way to initialise a list of 99 integers that repeats the sequence 1, 2, 3? S If necessary, show step-by-step instructions on how to accomplish this."
      ],
      "metadata": {
        "id": "4AQ272HjrbXC"
      }
    },
    {
      "cell_type": "code",
      "source": [
        "l1 = [1,2,3] # create a list containing 1,2,3\n",
        "\n",
        "count = int(101/len(l1)) # repeat count\n",
        "\n",
        "l =  l1 * count # * operator is used to repeat the list\n",
        "\n",
        "print(l)"
      ],
      "metadata": {
        "colab": {
          "base_uri": "https://localhost:8080/"
        },
        "id": "pK3mGDAurcTc",
        "outputId": "f6da305b-e841-4cc1-89f6-afaeb5f9348f"
      },
      "execution_count": 2,
      "outputs": [
        {
          "output_type": "stream",
          "name": "stdout",
          "text": [
            "[1, 2, 3, 1, 2, 3, 1, 2, 3, 1, 2, 3, 1, 2, 3, 1, 2, 3, 1, 2, 3, 1, 2, 3, 1, 2, 3, 1, 2, 3, 1, 2, 3, 1, 2, 3, 1, 2, 3, 1, 2, 3, 1, 2, 3, 1, 2, 3, 1, 2, 3, 1, 2, 3, 1, 2, 3, 1, 2, 3, 1, 2, 3, 1, 2, 3, 1, 2, 3, 1, 2, 3, 1, 2, 3, 1, 2, 3, 1, 2, 3, 1, 2, 3, 1, 2, 3, 1, 2, 3, 1, 2, 3, 1, 2, 3, 1, 2, 3]\n"
          ]
        }
      ]
    },
    {
      "cell_type": "markdown",
      "source": [
        "Q5. If you're using IDLE to run a Python application, explain how to print a multidimensional list as efficiently?\n",
        "We can print multidimentional list by simply writing the name of the variable in a cell"
      ],
      "metadata": {
        "id": "VAo7ZAJfrmew"
      }
    },
    {
      "cell_type": "code",
      "source": [
        "l = [[1,2,3,4],['A','B'],[5,6,7,8]]\n",
        "\n",
        "l"
      ],
      "metadata": {
        "colab": {
          "base_uri": "https://localhost:8080/"
        },
        "id": "pwBtyKD_rvjP",
        "outputId": "8c929adb-9cd3-47b5-91f5-cd0a2e191a39"
      },
      "execution_count": 3,
      "outputs": [
        {
          "output_type": "execute_result",
          "data": {
            "text/plain": [
              "[[1, 2, 3, 4], ['A', 'B'], [5, 6, 7, 8]]"
            ]
          },
          "metadata": {},
          "execution_count": 3
        }
      ]
    },
    {
      "cell_type": "markdown",
      "source": [
        "Q6. Is it possible to use list comprehension with a string? If so, how can you go about doing it?\n",
        "Yes, it is possible as string is an iterable object. Explained below::"
      ],
      "metadata": {
        "id": "PLUhjUTzr1jQ"
      }
    },
    {
      "cell_type": "code",
      "source": [
        "s = 'akash'\n",
        "\n",
        "[i*2 for i in s]"
      ],
      "metadata": {
        "colab": {
          "base_uri": "https://localhost:8080/"
        },
        "id": "aov5ZeJpr4jO",
        "outputId": "10dafd2e-29ab-4334-f6c2-858b26ed5fb6"
      },
      "execution_count": 4,
      "outputs": [
        {
          "output_type": "execute_result",
          "data": {
            "text/plain": [
              "['aa', 'kk', 'aa', 'ss', 'hh']"
            ]
          },
          "metadata": {},
          "execution_count": 4
        }
      ]
    },
    {
      "cell_type": "markdown",
      "source": [
        "Q7. From the command line, how do you get support with a user-written Python programme? Is this possible from inside IDLE?\n",
        "Steps for command line:\n",
        "\n",
        "    1. Open command prompt.\n",
        "    2. Go to the directory containing python program file(.py)\n",
        "    3. Type \"python file_name.py\", press enter to run the file.\n",
        "\n",
        "Steps for python IDLE:\n",
        "\n",
        "    1. Open python IDLE.\n",
        "    2. Click on file>open>file_name.py\n",
        "    3. Press F5 key to run the program.\n",
        "Q8. Functions are said to be “first-class objects” in Python but not in most other languages, such as C++ or Java. What can you do in Python with a function (callable object) that you can't do in C or C++?\n",
        "In Python, functions are like any other object, such as an int or a list. That means that you can use functions as arguments to other functions, store functions as dictionary values, or return a function from another function. This leads to many powerful ways to use functions.\n",
        "\n",
        "Q9. How do you distinguish between a wrapper, a wrapped feature, and a decorator?\n",
        "A wrapper, a wrapped feature, and a decorator are all same. They can be thought of as functions which modify the functionality of another function. They help to make your code shorter and more \"Pythonic\".\n",
        "\n",
        "Q10. If a function is a generator function, what does it return?\n",
        "If a function is a generator function, it does not return any values, instead, it return an iterator object, which we can iterate through to get values.\n",
        "\n",
        "Q11. What is the one improvement that must be made to a function in order for it to become a generator function in the Python language?\n",
        "We can use \"yield\" keyword instead of \"return\" to make function a generator."
      ],
      "metadata": {
        "id": "MfjXGiBgsG4m"
      }
    },
    {
      "cell_type": "code",
      "source": [
        "def even_nos(n):\n",
        "    for i in range(n):\n",
        "        if i % 2 == 0:\n",
        "            yield i\n",
        "\n",
        "for i in even_nos(10):\n",
        "    print(i)\n"
      ],
      "metadata": {
        "colab": {
          "base_uri": "https://localhost:8080/"
        },
        "id": "paQmaecisilN",
        "outputId": "26fe18ff-2512-434e-98f5-f8059d7449e6"
      },
      "execution_count": 8,
      "outputs": [
        {
          "output_type": "stream",
          "name": "stdout",
          "text": [
            "0\n",
            "2\n",
            "4\n",
            "6\n",
            "8\n"
          ]
        }
      ]
    },
    {
      "cell_type": "markdown",
      "source": [
        "Q12. Identify at least one benefit of generators.\n",
        "The main advantage here is that instead of having to compute an entire series of values up front, the generator computes one value and then suspends its activity awaiting the next instruction. This feature is known as state suspension.\n",
        "\n",
        "Generators are memory efficient."
      ],
      "metadata": {
        "id": "6HOxNPkptCob"
      }
    }
  ]
}