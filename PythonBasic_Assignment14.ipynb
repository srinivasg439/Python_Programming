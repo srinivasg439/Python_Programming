{
  "nbformat": 4,
  "nbformat_minor": 0,
  "metadata": {
    "colab": {
      "provenance": []
    },
    "kernelspec": {
      "name": "python3",
      "display_name": "Python 3"
    },
    "language_info": {
      "name": "python"
    }
  },
  "cells": [
    {
      "cell_type": "markdown",
      "source": [
        "1. What does RGBA stand for?\n",
        "\n",
        "An RGBA value is a tuple of 4 integers, each ranging from 0 to 255. The four integers correspond to the amount of red, green, blue, and alpha (transparency) in the color.\n",
        "\n",
        "2. From the Pillow module, how do you get the RGBA value of any images?\n",
        "\n",
        "A function call to ImageColor.getcolor('CornflowerBlue', 'RGBA') will return (100, 149, 237, 255), the RGBA value for that color.\n",
        "\n",
        "3. What is a box tuple, and how does it work?\n",
        "\n",
        "A box tuple is a tuple value of four integers: the left-edge x-coordinate, the top-edge y-coordinate, the width, and the height, respectively.\n",
        "\n",
        "4. Use your image and load in notebook then, How can you find out the width and height of an Image object?\n",
        "\n",
        "imageObj.size is a tuple of two integers, the width and the height.\n",
        "\n",
        "5. What method would you call to get Image object for a 100×100 image, excluding the lower-left quarter of it?\n",
        "\n",
        "imageObj.crop((0, 50, 50, 50)). Notice that you are passing a box tuple to crop(), not four separate integer arguments.\n",
        "\n",
        "6. After making changes to an Image object, how could you save it as an image file?\n",
        "\n",
        "Call the imageObj.save('new_filename.png') method of the Image object.\n",
        "\n",
        "7. What module contains Pillow’s shape-drawing code?\n",
        "\n",
        "The ImageDraw module contains code to draw on images.\n",
        "\n",
        "8. Image objects do not have drawing methods. What kind of object does? How do you get this kind of object?\n",
        "\n",
        "ImageDraw objects have shape-drawing methods such as point(), line(), or rectangle(). They are returned by passing the Image object to the ImageDraw.Draw() function."
      ],
      "metadata": {
        "id": "98E2_lp9LqHs"
      }
    }
  ]
}