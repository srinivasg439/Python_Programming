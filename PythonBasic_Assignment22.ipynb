{
  "nbformat": 4,
  "nbformat_minor": 0,
  "metadata": {
    "colab": {
      "provenance": []
    },
    "kernelspec": {
      "name": "python3",
      "display_name": "Python 3"
    },
    "language_info": {
      "name": "python"
    }
  },
  "cells": [
    {
      "cell_type": "markdown",
      "source": [
        "1. What is the result of the code, and explain?"
      ],
      "metadata": {
        "id": "w6XEy2E2hg4x"
      }
    },
    {
      "cell_type": "code",
      "source": [
        "X = 'iNeuron'\n",
        "def func():\n",
        "    print(X)\n",
        "func()"
      ],
      "metadata": {
        "colab": {
          "base_uri": "https://localhost:8080/"
        },
        "id": "c5I-T7smhkKg",
        "outputId": "96d31d71-4308-4fab-e631-977aec19f55d"
      },
      "execution_count": 1,
      "outputs": [
        {
          "output_type": "stream",
          "name": "stdout",
          "text": [
            "iNeuron\n"
          ]
        }
      ]
    },
    {
      "cell_type": "markdown",
      "source": [
        "2. What is the result of the code, and explain?"
      ],
      "metadata": {
        "id": "iTuSZy0Gh29Z"
      }
    },
    {
      "cell_type": "code",
      "source": [
        "X = 'iNeuron'\n",
        "def func():\n",
        "    X = 'NI!'\n",
        "func()\n",
        "print(X)"
      ],
      "metadata": {
        "colab": {
          "base_uri": "https://localhost:8080/"
        },
        "id": "AhiB0ANsh4Vp",
        "outputId": "2b17fef6-d0c9-4901-c57d-ad21eece17be"
      },
      "execution_count": 2,
      "outputs": [
        {
          "output_type": "stream",
          "name": "stdout",
          "text": [
            "iNeuron\n"
          ]
        }
      ]
    },
    {
      "cell_type": "markdown",
      "source": [
        "Here when func() is called it will execute the statement written inside it which only initialize value of x='NI' but it doesnot return anything(None).So it comes out of the block and doesnot print anything. Again when print(x) is executed it prints the value of X = 'iNeuron'."
      ],
      "metadata": {
        "id": "vitnONTyiQ3u"
      }
    },
    {
      "cell_type": "markdown",
      "source": [
        "3. What does this code print, and why?"
      ],
      "metadata": {
        "id": "bJmAa4oiiSU8"
      }
    },
    {
      "cell_type": "code",
      "source": [
        "X = 'iNeuron'\n",
        "def func():\n",
        "    X = 'NI'\n",
        "    print(X)\n",
        "func()"
      ],
      "metadata": {
        "colab": {
          "base_uri": "https://localhost:8080/"
        },
        "id": "8wIM1XSiiasu",
        "outputId": "ac8b93ca-a229-4631-9992-4753d60a3fe2"
      },
      "execution_count": 3,
      "outputs": [
        {
          "output_type": "stream",
          "name": "stdout",
          "text": [
            "NI\n"
          ]
        }
      ]
    },
    {
      "cell_type": "code",
      "source": [
        "print(X)"
      ],
      "metadata": {
        "colab": {
          "base_uri": "https://localhost:8080/"
        },
        "id": "nGV1s8aKiubG",
        "outputId": "3c9bca50-8cec-40ac-f33c-52fe5485918d"
      },
      "execution_count": 4,
      "outputs": [
        {
          "output_type": "stream",
          "name": "stdout",
          "text": [
            "iNeuron\n"
          ]
        }
      ]
    },
    {
      "cell_type": "markdown",
      "source": [
        "Here when func() is called it will execute the statement written inside it which initialize value of x='NI' and subsequently print the value of X.The scope of X = 'NI'is within the block func(). But when a print statement i.e print(X) is executed it prints x value as iNeuron.(X is treated as global variable)"
      ],
      "metadata": {
        "id": "GkvW9v0qi8v8"
      }
    },
    {
      "cell_type": "markdown",
      "source": [
        "4. What output does this code produce? Why?"
      ],
      "metadata": {
        "id": "eS9XGBEhi-6W"
      }
    },
    {
      "cell_type": "code",
      "source": [
        "X = 'iNeuron'\n",
        "def func():\n",
        "    global X\n",
        "    X = 'NI'\n",
        "func()\n",
        "print(X)"
      ],
      "metadata": {
        "colab": {
          "base_uri": "https://localhost:8080/"
        },
        "id": "3DprREDTjD77",
        "outputId": "017f8cdb-faa7-4f5d-8b06-82475520a165"
      },
      "execution_count": 5,
      "outputs": [
        {
          "output_type": "stream",
          "name": "stdout",
          "text": [
            "NI\n"
          ]
        }
      ]
    },
    {
      "cell_type": "markdown",
      "source": [
        "Here in func() we have declared X as global variable hence it's previous value i.e 'iNeuron' is overrided and when print(x) is executed it prints latest updated value i.e 'NI'."
      ],
      "metadata": {
        "id": "0yaAZ0enjr0x"
      }
    },
    {
      "cell_type": "markdown",
      "source": [
        "5. What about this code—what’s the output, and why?"
      ],
      "metadata": {
        "id": "RwLB5gVEj2cW"
      }
    },
    {
      "cell_type": "code",
      "source": [
        "X = 'iNeuron'\n",
        "def func():\n",
        "    X = 'NI'\n",
        "def nested():\n",
        "    print(X)\n",
        "nested()"
      ],
      "metadata": {
        "colab": {
          "base_uri": "https://localhost:8080/"
        },
        "id": "ars3VvXpj5wF",
        "outputId": "ee26d07d-0d3b-463a-d9b0-d83e76373d0c"
      },
      "execution_count": 6,
      "outputs": [
        {
          "output_type": "stream",
          "name": "stdout",
          "text": [
            "iNeuron\n"
          ]
        }
      ]
    },
    {
      "cell_type": "code",
      "source": [
        "func()\n",
        "X"
      ],
      "metadata": {
        "colab": {
          "base_uri": "https://localhost:8080/",
          "height": 35
        },
        "id": "flcpbWZAkTxQ",
        "outputId": "bd67ecfc-e438-4553-cbac-668ce4b519ee"
      },
      "execution_count": 9,
      "outputs": [
        {
          "output_type": "execute_result",
          "data": {
            "text/plain": [
              "'iNeuron'"
            ],
            "application/vnd.google.colaboratory.intrinsic+json": {
              "type": "string"
            }
          },
          "metadata": {},
          "execution_count": 9
        }
      ]
    },
    {
      "cell_type": "markdown",
      "source": [
        "Here when nested() is called it prints X = 'iNeuron'(Global variable). In func(), X = 'NI' the scope of X is within func() as it is a local variable."
      ],
      "metadata": {
        "id": "ot5m45VokvGV"
      }
    },
    {
      "cell_type": "markdown",
      "source": [
        "6. How about this code: what is its output in Python 3, and explain?"
      ],
      "metadata": {
        "id": "BTiyK7H2kxD-"
      }
    },
    {
      "cell_type": "code",
      "source": [
        "def func():\n",
        "    X = 'NI'\n",
        "def nested():\n",
        "    nonlocal X\n",
        "    X = 'Spam'\n",
        "nested()\n",
        "print(X)"
      ],
      "metadata": {
        "colab": {
          "base_uri": "https://localhost:8080/",
          "height": 131
        },
        "id": "HhPlc-RRk4kX",
        "outputId": "8c8f17ed-dc5a-4a07-e3c7-b997bc8a483a"
      },
      "execution_count": 10,
      "outputs": [
        {
          "output_type": "error",
          "ename": "SyntaxError",
          "evalue": "ignored",
          "traceback": [
            "\u001b[0;36m  File \u001b[0;32m\"<ipython-input-10-03f6651bb102>\"\u001b[0;36m, line \u001b[0;32m4\u001b[0m\n\u001b[0;31m    nonlocal X\u001b[0m\n\u001b[0m    ^\u001b[0m\n\u001b[0;31mSyntaxError\u001b[0m\u001b[0;31m:\u001b[0m no binding for nonlocal 'X' found\n"
          ]
        }
      ]
    },
    {
      "cell_type": "code",
      "source": [
        "func()"
      ],
      "metadata": {
        "id": "2qjmFlholBek"
      },
      "execution_count": 11,
      "outputs": []
    },
    {
      "cell_type": "markdown",
      "source": [
        "A variable if we want to access outside the block as well as within the block should be declared as global."
      ],
      "metadata": {
        "id": "l7j0HKrAlHkx"
      }
    }
  ]
}