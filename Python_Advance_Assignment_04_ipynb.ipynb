{
  "nbformat": 4,
  "nbformat_minor": 0,
  "metadata": {
    "colab": {
      "provenance": []
    },
    "kernelspec": {
      "name": "python3",
      "display_name": "Python 3"
    },
    "language_info": {
      "name": "python"
    }
  },
  "cells": [
    {
      "cell_type": "code",
      "execution_count": null,
      "metadata": {
        "id": "ACLj0GF01bWo"
      },
      "outputs": [],
      "source": [
        "#1.Which two operator overloading methods can you use in your classes to support iteration?\n"
      ]
    },
    {
      "cell_type": "markdown",
      "source": [
        "add() and mul() methods can be used for both integers and string data objects. String is iterable object. When two strings are passed to + operator, it will return concatenated string. When * (number) is preceeded by string, then that string is repeated those many number of time."
      ],
      "metadata": {
        "id": "5nLv7k8G1xZB"
      }
    },
    {
      "cell_type": "code",
      "source": [
        "print(\"sri\" + 'nivas')\n",
        "\n",
        "print(\"pqr\" * 5)"
      ],
      "metadata": {
        "colab": {
          "base_uri": "https://localhost:8080/"
        },
        "id": "x7v4tVK910He",
        "outputId": "a07511b4-661f-4519-ed59-65f2da759a54"
      },
      "execution_count": 1,
      "outputs": [
        {
          "output_type": "stream",
          "name": "stdout",
          "text": [
            "srinivas\n",
            "pqrpqrpqrpqrpqr\n"
          ]
        }
      ]
    },
    {
      "cell_type": "code",
      "source": [
        "#2.In what contexts do the two operator overloading methods manage printing?\n",
        "It depends on the input parameter result is printed. Example, If both inputs are string function will print string output."
      ],
      "metadata": {
        "id": "zt1_phdA2Gxx"
      },
      "execution_count": null,
      "outputs": []
    },
    {
      "cell_type": "code",
      "source": [
        "#3.In a class, how do you intercept slice operations?\n",
        "import profile\n",
        "import sys\n",
        "\n",
        "\n",
        "\n",
        "class InterceptedList2(list):\n",
        "\n",
        "    def __setitem__(self, key, value):\n",
        "        print ('saving')\n",
        "        list.__setitem__(self, key, value)\n",
        "\n",
        "    def __delitem__(self, key):\n",
        "        print ('saving')\n",
        "        list.__delitem__(self, key)\n",
        "\n",
        "\n",
        "\n",
        "l2 = InterceptedList2()\n",
        "l2.extend([1,2,3,4])\n",
        "profile.run(\"l2[3:] = [5]\")\n",
        "profile.run(\"l2[2:6] = [12,4]\")\n",
        "profile.run(\"l2[-1:] = [42]\")\n",
        "profile.run(\"l2[::2] = [6,6]\")"
      ],
      "metadata": {
        "colab": {
          "base_uri": "https://localhost:8080/"
        },
        "id": "mO8X3UAm2bdP",
        "outputId": "6e6f95be-7994-4b23-dca5-e7ceec7bc5c4"
      },
      "execution_count": 3,
      "outputs": [
        {
          "output_type": "stream",
          "name": "stdout",
          "text": [
            "saving\n",
            "         40 function calls in 0.001 seconds\n",
            "\n",
            "   Ordered by: standard name\n",
            "\n",
            "   ncalls  tottime  percall  cumtime  percall filename:lineno(function)\n",
            "        3    0.000    0.000    0.000    0.000 :0(acquire)\n",
            "        3    0.000    0.000    0.000    0.000 :0(append)\n",
            "        1    0.000    0.000    0.000    0.000 :0(exec)\n",
            "        2    0.000    0.000    0.000    0.000 :0(getpid)\n",
            "        2    0.000    0.000    0.000    0.000 :0(isinstance)\n",
            "        1    0.000    0.000    0.000    0.000 :0(print)\n",
            "        1    0.000    0.000    0.000    0.000 :0(setprofile)\n",
            "        1    0.000    0.000    0.000    0.000 <ipython-input-3-dbc152ef807f>:9(__setitem__)\n",
            "        1    0.000    0.000    0.000    0.000 <string>:1(<module>)\n",
            "        3    0.000    0.000    0.000    0.000 iostream.py:197(schedule)\n",
            "        2    0.000    0.000    0.000    0.000 iostream.py:310(_is_master_process)\n",
            "        2    0.000    0.000    0.000    0.000 iostream.py:323(_schedule_flush)\n",
            "        2    0.000    0.000    0.000    0.000 iostream.py:386(write)\n",
            "        3    0.000    0.000    0.000    0.000 iostream.py:93(_event_pipe)\n",
            "        1    0.000    0.000    0.001    0.001 profile:0(l2[3:] = [5])\n",
            "        0    0.000             0.000          profile:0(profiler)\n",
            "        3    0.000    0.000    0.000    0.000 socket.py:543(send)\n",
            "        3    0.000    0.000    0.000    0.000 threading.py:1017(_wait_for_tstate_lock)\n",
            "        3    0.000    0.000    0.000    0.000 threading.py:1071(is_alive)\n",
            "        3    0.000    0.000    0.000    0.000 threading.py:513(is_set)\n",
            "\n",
            "\n",
            "saving\n",
            "         32 function calls in 0.000 seconds\n",
            "\n",
            "   Ordered by: standard name\n",
            "\n",
            "   ncalls  tottime  percall  cumtime  percall filename:lineno(function)\n",
            "        2    0.000    0.000    0.000    0.000 :0(acquire)\n",
            "        2    0.000    0.000    0.000    0.000 :0(append)\n",
            "        1    0.000    0.000    0.000    0.000 :0(exec)\n",
            "        2    0.000    0.000    0.000    0.000 :0(getpid)\n",
            "        2    0.000    0.000    0.000    0.000 :0(isinstance)\n",
            "        1    0.000    0.000    0.000    0.000 :0(print)\n",
            "        1    0.000    0.000    0.000    0.000 :0(setprofile)\n",
            "        1    0.000    0.000    0.000    0.000 <ipython-input-3-dbc152ef807f>:9(__setitem__)\n",
            "        1    0.000    0.000    0.000    0.000 <string>:1(<module>)\n",
            "        2    0.000    0.000    0.000    0.000 iostream.py:197(schedule)\n",
            "        2    0.000    0.000    0.000    0.000 iostream.py:310(_is_master_process)\n",
            "        2    0.000    0.000    0.000    0.000 iostream.py:323(_schedule_flush)\n",
            "        2    0.000    0.000    0.000    0.000 iostream.py:386(write)\n",
            "        2    0.000    0.000    0.000    0.000 iostream.py:93(_event_pipe)\n",
            "        1    0.000    0.000    0.000    0.000 profile:0(l2[2:6] = [12,4])\n",
            "        0    0.000             0.000          profile:0(profiler)\n",
            "        2    0.000    0.000    0.000    0.000 socket.py:543(send)\n",
            "        2    0.000    0.000    0.000    0.000 threading.py:1017(_wait_for_tstate_lock)\n",
            "        2    0.000    0.000    0.000    0.000 threading.py:1071(is_alive)\n",
            "        2    0.000    0.000    0.000    0.000 threading.py:513(is_set)\n",
            "\n",
            "\n",
            "saving\n",
            "         32 function calls in 0.000 seconds\n",
            "\n",
            "   Ordered by: standard name\n",
            "\n",
            "   ncalls  tottime  percall  cumtime  percall filename:lineno(function)\n",
            "        2    0.000    0.000    0.000    0.000 :0(acquire)\n",
            "        2    0.000    0.000    0.000    0.000 :0(append)\n",
            "        1    0.000    0.000    0.000    0.000 :0(exec)\n",
            "        2    0.000    0.000    0.000    0.000 :0(getpid)\n",
            "        2    0.000    0.000    0.000    0.000 :0(isinstance)\n",
            "        1    0.000    0.000    0.000    0.000 :0(print)\n",
            "        1    0.000    0.000    0.000    0.000 :0(setprofile)\n",
            "        1    0.000    0.000    0.000    0.000 <ipython-input-3-dbc152ef807f>:9(__setitem__)\n",
            "        1    0.000    0.000    0.000    0.000 <string>:1(<module>)\n",
            "        2    0.000    0.000    0.000    0.000 iostream.py:197(schedule)\n",
            "        2    0.000    0.000    0.000    0.000 iostream.py:310(_is_master_process)\n",
            "        2    0.000    0.000    0.000    0.000 iostream.py:323(_schedule_flush)\n",
            "        2    0.000    0.000    0.000    0.000 iostream.py:386(write)\n",
            "        2    0.000    0.000    0.000    0.000 iostream.py:93(_event_pipe)\n",
            "        1    0.000    0.000    0.000    0.000 profile:0(l2[-1:] = [42])\n",
            "        0    0.000             0.000          profile:0(profiler)\n",
            "        2    0.000    0.000    0.000    0.000 socket.py:543(send)\n",
            "        2    0.000    0.000    0.000    0.000 threading.py:1017(_wait_for_tstate_lock)\n",
            "        2    0.000    0.000    0.000    0.000 threading.py:1071(is_alive)\n",
            "        2    0.000    0.000    0.000    0.000 threading.py:513(is_set)\n",
            "\n",
            "\n",
            "saving\n",
            "         32 function calls in 0.000 seconds\n",
            "\n",
            "   Ordered by: standard name\n",
            "\n",
            "   ncalls  tottime  percall  cumtime  percall filename:lineno(function)\n",
            "        2    0.000    0.000    0.000    0.000 :0(acquire)\n",
            "        2    0.000    0.000    0.000    0.000 :0(append)\n",
            "        1    0.000    0.000    0.000    0.000 :0(exec)\n",
            "        2    0.000    0.000    0.000    0.000 :0(getpid)\n",
            "        2    0.000    0.000    0.000    0.000 :0(isinstance)\n",
            "        1    0.000    0.000    0.000    0.000 :0(print)\n",
            "        1    0.000    0.000    0.000    0.000 :0(setprofile)\n",
            "        1    0.000    0.000    0.000    0.000 <ipython-input-3-dbc152ef807f>:9(__setitem__)\n",
            "        1    0.000    0.000    0.000    0.000 <string>:1(<module>)\n",
            "        2    0.000    0.000    0.000    0.000 iostream.py:197(schedule)\n",
            "        2    0.000    0.000    0.000    0.000 iostream.py:310(_is_master_process)\n",
            "        2    0.000    0.000    0.000    0.000 iostream.py:323(_schedule_flush)\n",
            "        2    0.000    0.000    0.000    0.000 iostream.py:386(write)\n",
            "        2    0.000    0.000    0.000    0.000 iostream.py:93(_event_pipe)\n",
            "        1    0.000    0.000    0.000    0.000 profile:0(l2[::2] = [6,6])\n",
            "        0    0.000             0.000          profile:0(profiler)\n",
            "        2    0.000    0.000    0.000    0.000 socket.py:543(send)\n",
            "        2    0.000    0.000    0.000    0.000 threading.py:1017(_wait_for_tstate_lock)\n",
            "        2    0.000    0.000    0.000    0.000 threading.py:1071(is_alive)\n",
            "        2    0.000    0.000    0.000    0.000 threading.py:513(is_set)\n",
            "\n",
            "\n"
          ]
        }
      ]
    },
    {
      "cell_type": "markdown",
      "source": [
        "4. in a class, how do you capture in-place addition?\n",
        "Python in its definition provides methods to perform inplace operations, i.e doing assignment and computation in a single statement using “operator” module. For example,\n",
        "\n",
        "x += y is equivalent to x = operator.iadd(x, y)\n",
        "\n",
        "iadd() function is used to assign and add the current value. This operation does “a+=b” operation. Assigning is not performed in case of immutable containers, such as strings, numbers and tuples."
      ],
      "metadata": {
        "id": "rTVGUPvXK9tK"
      }
    },
    {
      "cell_type": "code",
      "source": [
        "import operator\n",
        "\n",
        "x = 2\n",
        "y = 3\n",
        "\n",
        "x = operator.iadd(x,y)\n",
        "\n",
        "print(x) "
      ],
      "metadata": {
        "colab": {
          "base_uri": "https://localhost:8080/"
        },
        "id": "jPQ5k5iqLGdP",
        "outputId": "79bd98e8-8427-4a45-93cb-65a3d4c6bb5f"
      },
      "execution_count": 4,
      "outputs": [
        {
          "output_type": "stream",
          "name": "stdout",
          "text": [
            "5\n"
          ]
        }
      ]
    },
    {
      "cell_type": "markdown",
      "source": [
        "5. When is it appropriate to use operator overloading?\n",
        "\n",
        "When we have two objects which are a physical representation of a class (user-defined data type) and we have to add two objects with binary ‘+’ operator it throws an error, because compiler don’t know how to add two objects. So we define a method for an operator and that process is called operator overloading."
      ],
      "metadata": {
        "id": "JieQ0D59LjxY"
      }
    }
  ]
}