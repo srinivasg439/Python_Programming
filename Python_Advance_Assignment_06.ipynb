{
  "nbformat": 4,
  "nbformat_minor": 0,
  "metadata": {
    "colab": {
      "provenance": []
    },
    "kernelspec": {
      "name": "python3",
      "display_name": "Python 3"
    },
    "language_info": {
      "name": "python"
    }
  },
  "cells": [
    {
      "cell_type": "code",
      "execution_count": 2,
      "metadata": {
        "colab": {
          "base_uri": "https://localhost:8080/"
        },
        "id": "IFKsxYCcVpny",
        "outputId": "750bb81d-9755-4989-92ac-5dc92f479eb1"
      },
      "outputs": [
        {
          "output_type": "stream",
          "name": "stdout",
          "text": [
            "Enter a:2\n",
            "Enter b:0\n",
            "division by zero\n",
            "can't divide by zero\n"
          ]
        }
      ],
      "source": [
        "#Q1. Describe three applications for exception processing.\n",
        "#Sol. Exceptions are raised when the program is syntactically correct, but the code resulted in an error. This error does not stop the execution of the program, however, it changes the normal flow of the program.\n",
        "\n",
        "def div(a,b):   \n",
        "    try: \n",
        "        # code executes here        \n",
        "        c = a/b  \n",
        "        print(\"a/b = \",c)    \n",
        "        # Using exception object with the except statement  \n",
        "    except Exception as e:    \n",
        "        print(e)  \n",
        "        return \"can't divide by zero\"\n",
        "    else:    \n",
        "        return \"This is else block and executed when code in try excetues without any exception\"\n",
        "        \n",
        "a = int(input(\"Enter a:\"))    \n",
        "b = int(input(\"Enter b:\"))           \n",
        "print(div(a,b))"
      ]
    },
    {
      "cell_type": "code",
      "source": [
        "try:\n",
        "    f = open('sample.txt','r')\n",
        "except Exception as e:\n",
        "    print(e)\n",
        "else:\n",
        "    print(\"File opened successfully\")\n",
        "    f.close()\n",
        "    \n",
        "print('Program is not interrupted')    \n",
        "\n",
        "\n",
        "# If we dont use try except else blocks, normal execution of program will be interrupted.\n",
        "\n",
        "# with try except, exception is caught when file is not found but program continues execution"
      ],
      "metadata": {
        "colab": {
          "base_uri": "https://localhost:8080/"
        },
        "id": "Td8aJv8eXVQR",
        "outputId": "b67e1f79-803d-4e50-be99-fa6598a7980a"
      },
      "execution_count": 3,
      "outputs": [
        {
          "output_type": "stream",
          "name": "stdout",
          "text": [
            "[Errno 2] No such file or directory: 'sample.txt'\n",
            "Program is not interrupted\n"
          ]
        }
      ]
    },
    {
      "cell_type": "code",
      "source": [
        "try:\n",
        "    raise NameError('Sri')\n",
        "except NameError as e:\n",
        "    print(\"Excepton!!\")"
      ],
      "metadata": {
        "colab": {
          "base_uri": "https://localhost:8080/"
        },
        "id": "QoYFAG7QaDtP",
        "outputId": "6b4d1245-0c24-4863-ac04-f74d0fdbedab"
      },
      "execution_count": 4,
      "outputs": [
        {
          "output_type": "stream",
          "name": "stdout",
          "text": [
            "Excepton!!\n"
          ]
        }
      ]
    },
    {
      "cell_type": "markdown",
      "source": [
        "Q2. What happens if you don't do something extra to treat an exception?\n",
        "Whenever an exception occurs, the program stops the execution, and thus the further code is not executed. Therefore, an exception is the run-time errors that are unable to handle to Python script. An exception is a Python object that represents an error"
      ],
      "metadata": {
        "id": "5-9Wgge2aWhC"
      }
    },
    {
      "cell_type": "code",
      "source": [
        "#Q3. What are your options for recovering from an exception in your script?\n",
        "#In except block, we write a code to handle exception and next set of actions.\n",
        "\n",
        "def askint():\n",
        "    while True:\n",
        "        try:\n",
        "            a = int(input('Enter an integer value::'))\n",
        "        except Exception as e:\n",
        "            print(e)\n",
        "            print('Please enter an integer value')\n",
        "            continue\n",
        "        else:\n",
        "            print(f'Yes you have entered an ineger {a}')\n",
        "            break\n",
        "        finally:\n",
        "            print('Yes i always executes!!')\n",
        "        \n",
        "askint()   "
      ],
      "metadata": {
        "colab": {
          "base_uri": "https://localhost:8080/"
        },
        "id": "HcksNYFqaXsG",
        "outputId": "73c67693-6a83-4952-fcd6-13f3ea78e644"
      },
      "execution_count": 5,
      "outputs": [
        {
          "output_type": "stream",
          "name": "stdout",
          "text": [
            "Enter an integer value::yes\n",
            "invalid literal for int() with base 10: 'yes'\n",
            "Please enter an integer value\n",
            "Yes i always executes!!\n",
            "Enter an integer value::2\n",
            "Yes you have entered an ineger 2\n",
            "Yes i always executes!!\n"
          ]
        }
      ]
    },
    {
      "cell_type": "markdown",
      "source": [
        "Q4. Describe two methods for triggering exceptions in your script?\n",
        "Try statement – This method throws the exceptions when the code within try is executed.\n",
        "\n",
        "Raise – Triggers an exception manually using custom exceptions.\n",
        "\n",
        "Examples are already explained above.\n",
        "\n",
        "Q5. Identify two methods for specifying actions to be executed at termination time, regardless of whether or not an exception exists.\n",
        "In else block, code is written to handle if no exception is raised by code in try block.\n",
        "\n",
        "In finally block, code executes regardless of whether or not an exception exists."
      ],
      "metadata": {
        "id": "_zvjT8Z0bJIr"
      }
    }
  ]
}