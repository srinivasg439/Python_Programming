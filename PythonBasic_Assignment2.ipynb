{
  "nbformat": 4,
  "nbformat_minor": 0,
  "metadata": {
    "colab": {
      "name": "PythonBasic_Assignment2.ipynb",
      "provenance": []
    },
    "kernelspec": {
      "name": "python3",
      "display_name": "Python 3"
    },
    "language_info": {
      "name": "python"
    }
  },
  "cells": [
    {
      "cell_type": "code",
      "metadata": {
        "id": "SB7RiPOyrIUz"
      },
      "source": [
        "#1.What are the two values of the Boolean data type? How do you write them?\n",
        "Sol:True and False are two values in Boolean data type\n",
        "Ex: bool1 = True and bool2 = False."
      ],
      "execution_count": null,
      "outputs": []
    },
    {
      "cell_type": "code",
      "metadata": {
        "id": "K8tl0kWw2x8I"
      },
      "source": [
        "#2. What are the three different types of Boolean operators?\n",
        "Sol:There are three logical operators that are used to compare values. They evaluate expressions down to Boolean values, returning either True or False . \n",
        "These operators are and , or , 'and' not."
      ],
      "execution_count": null,
      "outputs": []
    },
    {
      "cell_type": "code",
      "metadata": {
        "id": "gemmiJKY8mBh"
      },
      "source": [
        "#3. Make a list of each Boolean operator's truth tables (i.e. every possible combination of Boolean values for the operator and what it evaluate ).\n",
        "Sol:\n",
        "True and True is True.\n",
        "True and False is False.\n",
        "False and True is False.\n",
        "False and False is False.\n",
        "True or True is True.\n",
        "True or False is True.\n",
        "False or True is True.\n",
        "False or False is False.\n",
        "not True is False.\n",
        "not False is True"
      ],
      "execution_count": null,
      "outputs": []
    },
    {
      "cell_type": "code",
      "metadata": {
        "colab": {
          "base_uri": "https://localhost:8080/"
        },
        "id": "JYkbx5fW953g",
        "outputId": "6969e115-8017-4237-dd3c-eda5a4067955"
      },
      "source": [
        "#4. What are the values of the following expressions?\n",
        "(5 > 4) and (3 == 5)"
      ],
      "execution_count": 24,
      "outputs": [
        {
          "output_type": "execute_result",
          "data": {
            "text/plain": [
              "False"
            ]
          },
          "metadata": {},
          "execution_count": 24
        }
      ]
    },
    {
      "cell_type": "code",
      "metadata": {
        "colab": {
          "base_uri": "https://localhost:8080/"
        },
        "id": "pWBM6RpQ-PHC",
        "outputId": "96c3dc06-9bea-422f-bbe8-4b10d79ecd8d"
      },
      "source": [
        "not (5 > 4)"
      ],
      "execution_count": 25,
      "outputs": [
        {
          "output_type": "execute_result",
          "data": {
            "text/plain": [
              "False"
            ]
          },
          "metadata": {},
          "execution_count": 25
        }
      ]
    },
    {
      "cell_type": "code",
      "metadata": {
        "colab": {
          "base_uri": "https://localhost:8080/"
        },
        "id": "ohFZPrsZ-WcN",
        "outputId": "2aca7a55-2988-4e86-e6ee-05df82a4a05e"
      },
      "source": [
        "(5 > 4) or (3 == 5)"
      ],
      "execution_count": 26,
      "outputs": [
        {
          "output_type": "execute_result",
          "data": {
            "text/plain": [
              "True"
            ]
          },
          "metadata": {},
          "execution_count": 26
        }
      ]
    },
    {
      "cell_type": "code",
      "metadata": {
        "colab": {
          "base_uri": "https://localhost:8080/"
        },
        "id": "8UJLYbF1-gL0",
        "outputId": "ee3ce8f4-6cfd-4e69-d4a6-4e69bc13fc3f"
      },
      "source": [
        "not ((5 > 4) or (3 == 5))"
      ],
      "execution_count": 27,
      "outputs": [
        {
          "output_type": "execute_result",
          "data": {
            "text/plain": [
              "False"
            ]
          },
          "metadata": {},
          "execution_count": 27
        }
      ]
    },
    {
      "cell_type": "code",
      "metadata": {
        "colab": {
          "base_uri": "https://localhost:8080/"
        },
        "id": "ikoL2FF7-mUI",
        "outputId": "656fc4e2-f52b-4a38-d303-e38e9a2a55eb"
      },
      "source": [
        "(True and True) and (True == False)"
      ],
      "execution_count": 28,
      "outputs": [
        {
          "output_type": "execute_result",
          "data": {
            "text/plain": [
              "False"
            ]
          },
          "metadata": {},
          "execution_count": 28
        }
      ]
    },
    {
      "cell_type": "code",
      "metadata": {
        "colab": {
          "base_uri": "https://localhost:8080/"
        },
        "id": "_4MZR4Pe-vgU",
        "outputId": "851d3def-c2a5-4c0f-8b4d-c6cef72d8f24"
      },
      "source": [
        "(not False) or (not True)"
      ],
      "execution_count": 29,
      "outputs": [
        {
          "output_type": "execute_result",
          "data": {
            "text/plain": [
              "True"
            ]
          },
          "metadata": {},
          "execution_count": 29
        }
      ]
    },
    {
      "cell_type": "code",
      "metadata": {
        "id": "7rAwsJoe-4A9"
      },
      "source": [
        "#5. What are the six comparison operators?\n",
        "Sol:There are six main comparison operators: equal to(=), not equal to(!=), greater than(>), greater than or equal to(>=), less than(<), and less than or equal to(<=)"
      ],
      "execution_count": null,
      "outputs": []
    },
    {
      "cell_type": "code",
      "metadata": {
        "id": "4GIJgQPM_n6z"
      },
      "source": [
        "#6. How do you tell the difference between the equal to and assignment operators?Describe a condition and when you would use one.\n",
        "sol: == is the equal operator to operator that compares two values and evaluates to a Boolean, while = is the assignment operator that stores a value in a variable."
      ],
      "execution_count": null,
      "outputs": []
    },
    {
      "cell_type": "code",
      "metadata": {
        "colab": {
          "base_uri": "https://localhost:8080/"
        },
        "id": "MYnDVqEpAEzp",
        "outputId": "8573fce5-6bed-46ce-acc8-1d050ccf810a"
      },
      "source": [
        "#7. Identify the three blocks in this code:\n",
        "spam = 0\n",
        "#Block1\n",
        "if spam == 10:\n",
        "  print('eggs')\n",
        "#Block2\n",
        "if spam > 5:\n",
        "  print('bacon')\n",
        "#Block3\n",
        "else:\n",
        "  print('ham')\n",
        "  print('spam')\n",
        "  print('spam')\n"
      ],
      "execution_count": 32,
      "outputs": [
        {
          "output_type": "stream",
          "name": "stdout",
          "text": [
            "ham\n",
            "spam\n",
            "spam\n"
          ]
        }
      ]
    },
    {
      "cell_type": "code",
      "metadata": {
        "colab": {
          "base_uri": "https://localhost:8080/"
        },
        "id": "xXAJB7D2A426",
        "outputId": "ce60beed-cbe7-442c-ea85-7943aacb4420"
      },
      "source": [
        "#8. Write code that prints Hello if 1 is stored in spam, prints Howdy if 2 is stored in spam, and prints Greetings! if anything else is stored in spam.\n",
        "spam = 'ineuron'\n",
        "if spam == 1:\n",
        "  print('Hello')\n",
        "elif spam == 2:\n",
        "  print('Howdy')\n",
        "else:\n",
        "  print('Greetings!')"
      ],
      "execution_count": 49,
      "outputs": [
        {
          "output_type": "stream",
          "name": "stdout",
          "text": [
            "Greetings!\n"
          ]
        }
      ]
    },
    {
      "cell_type": "code",
      "metadata": {
        "id": "4bo5mypgBUG3"
      },
      "source": [
        "#9.If your programme is stuck in an endless loop, what keys you’ll press?\n",
        "Sol:An infinite loop occurs when a program keeps executing within one loop, never leaving it. To exit out of infinite loops on the command line, press CTRL + C."
      ],
      "execution_count": null,
      "outputs": []
    },
    {
      "cell_type": "code",
      "metadata": {
        "id": "JFDq9qoXBvW-"
      },
      "source": [
        "#10. How can you tell the difference between break and continue?\n",
        "Sol:The Python break statement stops the loop in which the statement is placed. A Python continue statement skips a single iteration in a loop"
      ],
      "execution_count": null,
      "outputs": []
    },
    {
      "cell_type": "code",
      "metadata": {
        "id": "Czi4ayFMCKMF"
      },
      "source": [
        "#11. In a for loop, what is the difference between range(10), range(0, 10), and range(0, 10, 1)?\n",
        "Sol:They all do the same thing.\n",
        "    range(10) is not the values of 0 to 10, but the values 0 to 9\n",
        "    range(0,10) which means explicitly tells the loop to start at 0 (but not including 10)\n",
        "    range(0,10,1) which means explicitly tells the loop to increase the variable by 1 on each iteration(default is 1)."
      ],
      "execution_count": null,
      "outputs": []
    },
    {
      "cell_type": "code",
      "metadata": {
        "colab": {
          "base_uri": "https://localhost:8080/"
        },
        "id": "19-8XHiTFpKF",
        "outputId": "56c9c1fe-b279-4906-95c2-f26f415515a8"
      },
      "source": [
        "#12. Write a short program that prints the numbers 1 to 10 using a for loop. Then write an equivalent program that prints the numbers 1 to 10 using a while loop.\n",
        "for i in range(1,11):\n",
        "  print(i)\n"
      ],
      "execution_count": 36,
      "outputs": [
        {
          "output_type": "stream",
          "name": "stdout",
          "text": [
            "1\n",
            "2\n",
            "3\n",
            "4\n",
            "5\n",
            "6\n",
            "7\n",
            "8\n",
            "9\n",
            "10\n"
          ]
        }
      ]
    },
    {
      "cell_type": "code",
      "metadata": {
        "colab": {
          "base_uri": "https://localhost:8080/"
        },
        "id": "H8hexumHHfcU",
        "outputId": "a37e92ac-51a3-4142-adf3-0f47564469af"
      },
      "source": [
        "i = 1\n",
        "while (i<=10):\n",
        "  print(i)\n",
        "  i += 1"
      ],
      "execution_count": 38,
      "outputs": [
        {
          "output_type": "stream",
          "name": "stdout",
          "text": [
            "1\n",
            "2\n",
            "3\n",
            "4\n",
            "5\n",
            "6\n",
            "7\n",
            "8\n",
            "9\n",
            "10\n"
          ]
        }
      ]
    },
    {
      "cell_type": "code",
      "metadata": {
        "id": "FKrgvmb1IBlY"
      },
      "source": [
        "#13. If you had a function named bacon() inside a module named spam, how would you call it after importing spam?\n",
        "sol:This function can be called with spam.bacon().\n"
      ],
      "execution_count": null,
      "outputs": []
    }
  ]
}