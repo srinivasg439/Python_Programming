{
  "nbformat": 4,
  "nbformat_minor": 0,
  "metadata": {
    "colab": {
      "provenance": []
    },
    "kernelspec": {
      "name": "python3",
      "display_name": "Python 3"
    },
    "language_info": {
      "name": "python"
    }
  },
  "cells": [
    {
      "cell_type": "markdown",
      "source": [
        "1. A robot has been given a list of movement instructions. Each instruction is either left, right, up or down, followed by a distance to move. The robot starts at [0, 0]. You want to calculate where the robot will end up and return its final position as a list.\n",
        "To illustrate, if the robot is given the following instructions:\n",
        "\n",
        "[\"right 10\", \"up 50\", \"left 30\", \"down 10\"]\n",
        "\n",
        "It will end up 20 left and 40 up from where it started, so we return [-20, 40].\n",
        "\n",
        "Examples\n",
        "\n",
        "track_robot([\"right 10\", \"up 50\", \"left 30\", \"down 10\"]) ➞ [-20, 40]\n",
        "\n",
        "track_robot([]) ➞ [0, 0] // If there are no instructions, the robot doesn't move.\n",
        "\n",
        "track_robot([\"right 100\", \"right 100\", \"up 500\", \"up 10000\"]) ➞ [200, 10500]"
      ],
      "metadata": {
        "id": "kiAX_bJDhT9l"
      }
    },
    {
      "cell_type": "code",
      "execution_count": 1,
      "metadata": {
        "colab": {
          "base_uri": "https://localhost:8080/"
        },
        "id": "5JdqjAa_gbeS",
        "outputId": "6a083188-c5e8-432b-e186-1ec44e44e412"
      },
      "outputs": [
        {
          "output_type": "stream",
          "name": "stdout",
          "text": [
            "[-20, 40]\n",
            "[0, 0]\n",
            "[200, 10500]\n"
          ]
        }
      ],
      "source": [
        "def track_robot(l):\n",
        "    l1 = []\n",
        "    count_l =0\n",
        "    count_r =0\n",
        "    count_u =0\n",
        "    count_d =0\n",
        "    \n",
        "    for i in l:\n",
        "        if \"left\" in i:\n",
        "            count_l += int(i.split(' ')[1])\n",
        "        if \"right\" in i:\n",
        "            count_r += int(i.split(' ')[1])\n",
        "        if \"up\" in i:\n",
        "            count_u += int(i.split(' ')[1])\n",
        "        if \"down\" in i:\n",
        "            count_d += int(i.split(' ')[1])\n",
        "              \n",
        "    l1.append(count_r - count_l)\n",
        "    l1.append(count_u - count_d)\n",
        "    \n",
        "    return l1\n",
        "\n",
        "print(track_robot([\"right 10\", \"up 50\", \"left 30\", \"down 10\"]))\n",
        "print(track_robot([]))\n",
        "print(track_robot([\"right 100\", \"right 100\", \"up 500\", \"up 10000\"]) )"
      ]
    },
    {
      "cell_type": "markdown",
      "source": [
        "2. Write a function that will return the longest word in a sentence. In cases where more than one word is found, return the first one.\n",
        "Examples\n",
        "\n",
        "find_longest(\"A thing of beauty is a joy forever.\") ➞ \"forever\"\n",
        "\n",
        "find_longest(\"Forgetfulness is by all means powerless!\") ➞ \"forgetfulness\"\n",
        "\n",
        "find_longest(\"\"Strengths\" is the longest and most commonly used word that contains only a single vowel.\") ➞ \"strengths\""
      ],
      "metadata": {
        "id": "-TUVIxITlW1V"
      }
    },
    {
      "cell_type": "code",
      "source": [
        "def find_longest(s):\n",
        "    longest = 0\n",
        "    for word in s.split():\n",
        "        if len(word) > longest:\n",
        "            longest = len(word)\n",
        "            longest_word = word   \n",
        "    return longest_word.strip('.')\n",
        "\n",
        "print(find_longest(\"A thing of beauty is a joy forever.\"))\n",
        "print(find_longest(\"Forgetfulness is by all means powerless!\")   )\n",
        "print(find_longest('\"Strengths\" is the longest and most commonly used word that contains only a single vowel.') )"
      ],
      "metadata": {
        "colab": {
          "base_uri": "https://localhost:8080/"
        },
        "id": "gqH5htNIlnif",
        "outputId": "d972ed8c-8a7e-4a97-e711-245ec11dc30f"
      },
      "execution_count": 2,
      "outputs": [
        {
          "output_type": "stream",
          "name": "stdout",
          "text": [
            "forever\n",
            "Forgetfulness\n",
            "\"Strengths\"\n"
          ]
        }
      ]
    },
    {
      "cell_type": "markdown",
      "source": [
        "3. Create a function to check if a candidate is qualified in an imaginary coding interview of an imaginary tech startup.\n",
        "The criteria for a candidate to be qualified in the coding interview is:\n",
        "\n",
        "The candidate should have complete all the questions.\n",
        "The maximum time given to complete the interview is 120 minutes.\n",
        "The maximum time given for very easy questions is 5 minutes each.\n",
        "The maximum time given for easy questions is 10 minutes each.\n",
        "The maximum time given for medium questions is 15 minutes each.\n",
        "The maximum time given for hard questions is 20 minutes each.\n",
        "If all the above conditions are satisfied, return \"qualified\", else return \"disqualified\".\n",
        "\n",
        "You will be given a list of time taken by a candidate to solve a particular question and the total time taken by the candidate to complete the interview.\n",
        "\n",
        "Given a list , in a true condition will always be in the format [very easy, very easy, easy, easy, medium, medium, hard, hard].\n",
        "\n",
        "The maximum time to complete the interview includes a buffer time of 20 minutes.\n",
        "\n",
        "Examples\n",
        "\n",
        "interview([5, 5, 10, 10, 15, 15, 20, 20], 120) ➞ \"qualified\"\n",
        "\n",
        "interview([2, 3, 8, 6, 5, 12, 10, 18], 64) ➞ \"qualified\"\n",
        "\n",
        "interview([5, 5, 10, 10, 25, 15, 20, 20], 120) ➞ \"disqualified\"\n",
        "\n",
        "Exceeded the time limit for a medium question.\n",
        "interview([5, 5, 10, 10, 15, 15, 20], 120) ➞ \"disqualified\"\n",
        "\n",
        "Did not complete all the questions.\n",
        "interview([5, 5, 10, 10, 15, 15, 20, 20], 130) ➞ \"disqualified\"\n",
        "\n",
        "Solved all the questions in their respected time limits but exceeded the total time limit of the interview."
      ],
      "metadata": {
        "id": "MQ1tDPbTmq3V"
      }
    },
    {
      "cell_type": "code",
      "source": [
        "def interview(l,total_time):\n",
        "    if total_time <= 120 and len(l) == 8:\n",
        "        for i in l[0:2]:\n",
        "            if i > 5:\n",
        "                return \"disqualified\"\n",
        "        for i in l[2:4]:\n",
        "            if i > 10:\n",
        "                return \"disqualified\"\n",
        "        for i in l[4:6]:\n",
        "            if i > 15:\n",
        "                return \"disqualified\"\n",
        "        for i in l[6:8]:\n",
        "            if i > 20:\n",
        "                return \"disqualified\"\n",
        "    else:\n",
        "        return \"disqualified\"\n",
        "    \n",
        "    return 'qualified'\n",
        "\n",
        "print(interview([5, 5, 10, 10, 15, 15, 20, 20], 120) )\n",
        "print(interview([2, 3, 8, 6, 5, 12, 10, 18], 64) )\n",
        "print(interview([5, 5, 10, 10, 25, 15, 20, 20], 120) )\n",
        "print(interview([5, 5, 10, 10, 15, 15, 20], 120))\n",
        "print(interview([5, 5, 10, 10, 15, 15, 20, 20], 130) )"
      ],
      "metadata": {
        "colab": {
          "base_uri": "https://localhost:8080/"
        },
        "id": "3MpZP0JKm714",
        "outputId": "15c84543-1026-4d0f-985d-9c466150d296"
      },
      "execution_count": 3,
      "outputs": [
        {
          "output_type": "stream",
          "name": "stdout",
          "text": [
            "qualified\n",
            "qualified\n",
            "disqualified\n",
            "disqualified\n",
            "disqualified\n"
          ]
        }
      ]
    },
    {
      "cell_type": "markdown",
      "source": [
        "4. Write a function that divides a list into chunks of size n, where n is the length of each chunk.\n",
        "Examples\n",
        "\n",
        "chunkify([2, 3, 4, 5], 2) ➞ [[2, 3], [4, 5]]\n",
        "\n",
        "chunkify([2, 3, 4, 5, 6], 2) ➞ [[2, 3], [4, 5], [6]]\n",
        "\n",
        "chunkify([2, 3, 4, 5, 6, 7], 3) ➞ [[2, 3, 4], [5, 6, 7]]\n",
        "\n",
        "chunkify([2, 3, 4, 5, 6, 7], 1) ➞ [[2], [3], [4], [5], [6], [7]]\n",
        "\n",
        "chunkify([2, 3, 4, 5, 6, 7], 7) ➞ [[2, 3, 4, 5, 6, 7]]"
      ],
      "metadata": {
        "id": "abN89KK9qkoi"
      }
    },
    {
      "cell_type": "code",
      "source": [
        "def chunkify(lst, size):\n",
        "  return [lst[i:i + size] for i in range(0,len(lst),size)]\n",
        "\n",
        "print(chunkify([2, 3, 4, 5], 2))\n",
        "print(chunkify([2, 3, 4, 5, 6], 2))\n",
        "print(chunkify([2, 3, 4, 5, 6, 7], 3))\n",
        "print(chunkify([2, 3, 4, 5, 6, 7], 1))\n",
        "print(chunkify([2, 3, 4, 5, 6, 7], 7))"
      ],
      "metadata": {
        "colab": {
          "base_uri": "https://localhost:8080/"
        },
        "id": "0IGUiyOWqnvK",
        "outputId": "03ebdfdc-b4a4-409d-ebb1-d90411a310b7"
      },
      "execution_count": 4,
      "outputs": [
        {
          "output_type": "stream",
          "name": "stdout",
          "text": [
            "[[2, 3], [4, 5]]\n",
            "[[2, 3], [4, 5], [6]]\n",
            "[[2, 3, 4], [5, 6, 7]]\n",
            "[[2], [3], [4], [5], [6], [7]]\n",
            "[[2, 3, 4, 5, 6, 7]]\n"
          ]
        }
      ]
    },
    {
      "cell_type": "markdown",
      "source": [
        "5. You are given a list of strings consisting of grocery items, with prices in\n",
        "parentheses. Return a list of prices in float format.\n",
        "\n",
        "Examples get_prices([\"salad (➞\n",
        "1.99)&quot;, &quot;rotiserrie chicken (\n",
        "0.75)\" ]) ➞ [1.99, 5.99, 0.75] get_prices([ \"ice cream (5.99)&quot;, &quot;banana (\n",
        "0.20)\", \"sandwich (8.50)&quot;, &quot;soup (\n",
        "1.99)\" ]) ➞ [5.99, 0.2, 8.50, 1.99]"
      ],
      "metadata": {
        "id": "awqAvUQKrrL-"
      }
    },
    {
      "cell_type": "code",
      "source": [
        "def get_prices(l):\n",
        "    l1 = []\n",
        "    for i in l:\n",
        "        l1.append(i.split(' ')[-1].replace('($', '').replace(')',''))\n",
        "    return list(map(float,l1))\n",
        "\n",
        "print(get_prices(l = [\n",
        "  \"artichokes ($1.99)\",\n",
        "  \"rotiserrie chicken ($5.99)\",\n",
        "  \"gum ($0.75)\"\n",
        "]))\n",
        "\n",
        "print(get_prices([\n",
        "  \"ice cream ($5.99)\",\n",
        "  \"banana ($0.20)\",\n",
        "  \"sandwich ($8.50)\",\n",
        "  \"soup ($1.99)\"\n",
        "])\n",
        ")\n",
        "print(get_prices([\"salad ($4.99)\"]))"
      ],
      "metadata": {
        "colab": {
          "base_uri": "https://localhost:8080/"
        },
        "id": "rZoXeHNJr51i",
        "outputId": "394c8ab9-68a2-4bea-842d-651db8cc366a"
      },
      "execution_count": 6,
      "outputs": [
        {
          "output_type": "stream",
          "name": "stdout",
          "text": [
            "[1.99, 5.99, 0.75]\n",
            "[5.99, 0.2, 8.5, 1.99]\n",
            "[4.99]\n"
          ]
        }
      ]
    }
  ]
}