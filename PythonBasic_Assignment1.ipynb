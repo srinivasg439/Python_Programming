{
  "nbformat": 4,
  "nbformat_minor": 0,
  "metadata": {
    "colab": {
      "name": "PythonBasic_Assignment1.ipynb",
      "provenance": []
    },
    "kernelspec": {
      "name": "python3",
      "display_name": "Python 3"
    },
    "language_info": {
      "name": "python"
    }
  },
  "cells": [
    {
      "cell_type": "code",
      "metadata": {
        "id": "JPsmXjuQg14y"
      },
      "source": [
        "#1. In the below elements which of them are values or an expression? eg:- values can be integer or string and expressions will be mathematical operators.\n",
        "* --------->Expression\n",
        "'hello'---->Value\n",
        "-87.8------>Value\n",
        "- --------->Expression\n",
        "/ --------->Expression\n",
        "+---------->Expression\n",
        "6---------->Value"
      ],
      "execution_count": null,
      "outputs": []
    },
    {
      "cell_type": "code",
      "metadata": {
        "id": "Hy4RglBTfL3v"
      },
      "source": [
        "#2. What is the difference between string and variable?\n",
        "A. String is a collection of one or more characters inside single quotes or double codes. OR A string is values inside the quotes.\n",
        " Variable is basically name of the location in the primary memory of our computer and it can be stores values like string,numbers...etc Ex: name = 'inueron'"
      ],
      "execution_count": null,
      "outputs": []
    },
    {
      "cell_type": "code",
      "metadata": {
        "id": "_ll4zWScJPee"
      },
      "source": [
        "#3. Describe three different data types.\n",
        "Sol:Integer:In python integers are zero,positive or nagative whole numbers without a fractional part and having unlimited precetions\n",
        "EX: 0,10,-100. The followings are valid integer literls in Python. Integers can be binary,octal and hexadecemal values.All integer literls or variables are \n",
        "objects of the the int class.\n",
        "\n",
        "Collection Data Type:There are four collection data type in python programming language\n",
        "List:It is a collection which is ordered and changeble.\n",
        "Tuple:It is a collection which is ordered and unchangeble.\n",
        "Set:It is a collection which is unordered ,unchangeble and unindexed.\n",
        "Dictionary:It is a collection which is ordered and changeble.\n",
        "\n",
        "Complex Data Type:Complex numbers are written in the form of X+Yj where X is the real part and Y is the imaginary part.\n"
      ],
      "execution_count": null,
      "outputs": []
    },
    {
      "cell_type": "code",
      "metadata": {
        "id": "ZeUdDFT2abZh"
      },
      "source": [
        "#4. What is an expression made up of? What do all expressions do?\n",
        "Sol:An expression is a combination of values, variables, operators, and calls to functions. Expressions need to be evaluated. \n",
        "If you ask Python to print an expression then interpreter evaluates the expression and displays the result."
      ],
      "execution_count": null,
      "outputs": []
    },
    {
      "cell_type": "code",
      "metadata": {
        "id": "bL7KdKSKcjro"
      },
      "source": [
        "#5. This assignment statements, like spam = 10. What is the difference between an expression and a statement?\n",
        "Sol:Expression: In programming language terminology, an “expression” is a combination of values and functions that are combined and interpreted by the compiler \n",
        "to create a new value.\n",
        "Statement: A “statement” which is just a standalone unit of execution and doesn't return anything.\n"
      ],
      "execution_count": null,
      "outputs": []
    },
    {
      "cell_type": "code",
      "metadata": {
        "colab": {
          "base_uri": "https://localhost:8080/"
        },
        "id": "diTMGEZXdUlT",
        "outputId": "c1e76080-aa78-461a-de81-cdf6e5e9f811"
      },
      "source": [
        "#6. After running the following code, what does the variable bacon contain?\n",
        "bacon = 22\n",
        "bacon + 1\n",
        "\n"
      ],
      "execution_count": 3,
      "outputs": [
        {
          "output_type": "execute_result",
          "data": {
            "text/plain": [
              "23"
            ]
          },
          "metadata": {},
          "execution_count": 3
        }
      ]
    },
    {
      "cell_type": "code",
      "metadata": {
        "colab": {
          "base_uri": "https://localhost:8080/",
          "height": 35
        },
        "id": "M3Ds2pTLcb77",
        "outputId": "df1bc086-9df6-4afc-d0e0-4f8b8ca5d28c"
      },
      "source": [
        "#7. What should the values of the following two terms be?\n",
        "'spam' + 'spamspam'\n",
        "'spam' * 3\n"
      ],
      "execution_count": 4,
      "outputs": [
        {
          "output_type": "execute_result",
          "data": {
            "application/vnd.google.colaboratory.intrinsic+json": {
              "type": "string"
            },
            "text/plain": [
              "'spamspamspam'"
            ]
          },
          "metadata": {},
          "execution_count": 4
        }
      ]
    },
    {
      "cell_type": "code",
      "metadata": {
        "id": "rIoWUPLghycj"
      },
      "source": [
        "#8. Why is eggs a valid variable name while 100 is invalid?\n",
        "Sol:Variable name always start with alphabetic letters or undersqure(_). Variable name should not start with numeric value.\n",
        "that is the reason 100 is a invalid as variable name."
      ],
      "execution_count": null,
      "outputs": []
    },
    {
      "cell_type": "code",
      "metadata": {
        "id": "J66VVkMCll8e"
      },
      "source": [
        "#9. What three functions can be used to get the integer, floating-point number, or string version of a value?\n",
        "Sol:The int() , float() , and str( ) functions will evaluate to the integer, floating-point number, and string versions of the value passed to them."
      ],
      "execution_count": null,
      "outputs": []
    },
    {
      "cell_type": "code",
      "metadata": {
        "id": "5VKytrbclgZJ"
      },
      "source": [
        "#10. Why does this expression cause an error? How can you fix it?\n",
        "'I have eaten ' + 99 + ' burritos.'\n",
        "Sol:Above senario getting error due we are trying to concatenate the string type and integer type. we can only concatenate string to string \n",
        "#After fixing error code will be like below\n",
        "'I have eaten ' + '99' + ' burritos.'"
      ],
      "execution_count": null,
      "outputs": []
    }
  ]
}