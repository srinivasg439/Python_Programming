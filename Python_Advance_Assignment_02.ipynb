{
  "nbformat": 4,
  "nbformat_minor": 0,
  "metadata": {
    "colab": {
      "provenance": []
    },
    "kernelspec": {
      "name": "python3",
      "display_name": "Python 3"
    },
    "language_info": {
      "name": "python"
    }
  },
  "cells": [
    {
      "cell_type": "code",
      "execution_count": null,
      "metadata": {
        "id": "NYHMjcfQKJgX"
      },
      "outputs": [],
      "source": [
        "#1. What is the relationship between classes and modules?\n",
        "\"\"\"Modules are about providing methods that you can use across multiple classes. Modules are about functions. You dont instantiate modules(e.g. Math module) you just use methods in them.Module is like library of methods. \n",
        "Classes are about objects; it can hold its state (by keeping track of instance variables) and be duplicated as many times as you want. \"\"\""
      ]
    },
    {
      "cell_type": "code",
      "source": [
        "#2.What is the relationship between classes and modules?\n",
        "\"\"\"Modules are about providing methods that you can use across multiple classes. Modules are about functions. You dont instantiate modules(e.g. Math module) you just use methods in them.Module is like library of methods. \n",
        "Classes are about objects; it can hold its state (by keeping track of instance variables) and be duplicated as many times as you want. \"\"\"\n",
        "\n",
        "class Student:\n",
        "    def __init__(self,name):\n",
        "        self.name = name\n",
        "    \n",
        "    def __str__(self):\n",
        "        return f\"This is {self.name} (an instance of a class Student)\"\n",
        "    \n",
        "student1 = Student(\"Srinivas\")       \n",
        "print(student1)"
      ],
      "metadata": {
        "colab": {
          "base_uri": "https://localhost:8080/"
        },
        "id": "a-IZXtCdKUJz",
        "outputId": "eece5524-a7d1-44a9-a919-e3b971e0306b"
      },
      "execution_count": 3,
      "outputs": [
        {
          "output_type": "stream",
          "name": "stdout",
          "text": [
            "This is Srinivas (an instance of a class Student)\n"
          ]
        }
      ]
    },
    {
      "cell_type": "code",
      "source": [
        "#3. Where and how should be class attributes created?\n",
        "#Sol\n",
        "Class attributes belong to the class itself they will be shared by all the instances. Such attributes are defined in the class body parts usually at the top, for legibility.\n",
        "class Student:\n",
        "    class_teacher = 'Johnson' # class attribute\n",
        "    \n",
        "    def __init__(self,name, roll_no): # to bind attributes to class when object is created\n",
        "        self.name = name \n",
        "        self.roll_no = roll_no\n",
        "    \n",
        "    def __str__(self):\n",
        "        return f\"This is {self.name} (an instance of a class Student)\"\n",
        "    \n",
        "student1 = Student(\"Srinivas\",22)  \n",
        "\n",
        "print(student1.class_teacher) \n",
        "\n"
      ],
      "metadata": {
        "colab": {
          "base_uri": "https://localhost:8080/"
        },
        "id": "hpr3t4MVLxhs",
        "outputId": "be987cb3-2359-4737-f59e-ff11526f7421"
      },
      "execution_count": 3,
      "outputs": [
        {
          "output_type": "stream",
          "name": "stdout",
          "text": [
            "Johnson\n"
          ]
        }
      ]
    },
    {
      "cell_type": "code",
      "source": [
        "#4.Where and how are instance attributes created?\n",
        "#Unlike class attributes, instance attributes are not shared by objects. Every object has its own copy of the instance attribute. They are created in init method. How they are created is Explained below::\n",
        "class Student:\n",
        "    def __init__(self,name, roll_no): # to bind attributes to class when object is created\n",
        "        self.name = name \n",
        "        self.roll_no = roll_no\n",
        "    \n",
        "    def __str__(self):\n",
        "        return f\"This is {self.name} (an instance of a class Student)\"\n",
        "    \n",
        "student1 = Student(\"Srinivas\",22)  \n",
        "\n",
        "print(student1.name) # attributes are accessed by objects\n",
        "print(student1.roll_no)"
      ],
      "metadata": {
        "colab": {
          "base_uri": "https://localhost:8080/"
        },
        "id": "NrlPX-72o-D5",
        "outputId": "58f20e5e-0245-4c29-a05c-a65c1538707e"
      },
      "execution_count": 6,
      "outputs": [
        {
          "output_type": "stream",
          "name": "stdout",
          "text": [
            "Srinivas\n",
            "22\n"
          ]
        }
      ]
    },
    {
      "cell_type": "code",
      "source": [
        "#5.What does the term \"self\" in a Python class mean?\n",
        "Self represents the instance of the class. By using the “self” keyword we can access the attributes and methods of the class in python. \n",
        "It binds the attributes with the given arguments.The reason you need to use self. is because Python does not use the @ syntax to refer to instance attributes. \n",
        "Python decided to do methods in a way that makes the instance to which the method belongs be passed automatically, but not received automatically: \n",
        "the first parameter of methods is the instance the method is called on."
      ],
      "metadata": {
        "id": "o2UaDVROpmHV"
      },
      "execution_count": null,
      "outputs": []
    },
    {
      "cell_type": "code",
      "source": [
        "#6.How does a Python class handle operator overloading?\n",
        "Operator Overloading means giving extended meaning beyond their predefined operational meaning. For example operator + is used to add two integers as well as join two strings and merge two lists. \n",
        "It is achievable because ‘+’ operator is overloaded by int class and str class.\n",
        "\n",
        "# + and * operator is used for different purpose\n",
        "\n",
        "print(1 + 2)\n",
        " \n",
        "# concatenate two strings\n",
        "print(\"abcd\"+\"efg\")\n",
        " \n",
        "# Product two numbers\n",
        "print(13 * 3)\n",
        " \n",
        "# Repeat the String\n",
        "print(\"Ineuron\"*4)"
      ],
      "metadata": {
        "colab": {
          "base_uri": "https://localhost:8080/"
        },
        "id": "5yEhwM2_p7Q3",
        "outputId": "3dfcc200-3295-4895-ba65-3c56dc2c08eb"
      },
      "execution_count": 7,
      "outputs": [
        {
          "output_type": "stream",
          "name": "stdout",
          "text": [
            "3\n",
            "abcdefg\n",
            "39\n",
            "IneuronIneuronIneuronIneuron\n"
          ]
        }
      ]
    },
    {
      "cell_type": "code",
      "source": [
        "#7.When do you consider allowing operator overloading of your classes?\n",
        "#Let us assumewe have an object called string1 which is a string object as defined below. Now, when we try to add a string to this string object, the compiler will throw an error. This is because the compiler doesn't know how to add them.\n",
        "# declare our own string class\n",
        "class String:\n",
        "    def __init__(self, string):\n",
        "            self.string = string         \n",
        "    def __repr__(self):\n",
        "        return 'Object: {}'.format(self.string)\n",
        "\n",
        "string1 = String('Hello')    \n",
        "\n",
        "# concatenate String object and a string\n",
        "print(string1 +' world')"
      ],
      "metadata": {
        "colab": {
          "base_uri": "https://localhost:8080/",
          "height": 201
        },
        "id": "Afq948YyrlHz",
        "outputId": "b725ecaa-f3d3-4930-c92d-e012175ae385"
      },
      "execution_count": 8,
      "outputs": [
        {
          "output_type": "error",
          "ename": "TypeError",
          "evalue": "ignored",
          "traceback": [
            "\u001b[0;31m---------------------------------------------------------------------------\u001b[0m",
            "\u001b[0;31mTypeError\u001b[0m                                 Traceback (most recent call last)",
            "\u001b[0;32m<ipython-input-8-52abdd1c919f>\u001b[0m in \u001b[0;36m<module>\u001b[0;34m\u001b[0m\n\u001b[1;32m     11\u001b[0m \u001b[0;34m\u001b[0m\u001b[0m\n\u001b[1;32m     12\u001b[0m \u001b[0;31m# concatenate String object and a string\u001b[0m\u001b[0;34m\u001b[0m\u001b[0;34m\u001b[0m\u001b[0;34m\u001b[0m\u001b[0m\n\u001b[0;32m---> 13\u001b[0;31m \u001b[0mprint\u001b[0m\u001b[0;34m(\u001b[0m\u001b[0mstring1\u001b[0m \u001b[0;34m+\u001b[0m\u001b[0;34m' world'\u001b[0m\u001b[0;34m)\u001b[0m\u001b[0;34m\u001b[0m\u001b[0;34m\u001b[0m\u001b[0m\n\u001b[0m",
            "\u001b[0;31mTypeError\u001b[0m: unsupported operand type(s) for +: 'String' and 'str'"
          ]
        }
      ]
    },
    {
      "cell_type": "code",
      "source": [
        "#This error can be avoided by adding the __ add__ method to the String class. This way, we are overloading the + operator to concatenate a string object with a string.\n",
        "# declare our own string class\n",
        "class String:\n",
        "    def __init__(self, string):\n",
        "            self.string = string         \n",
        "                \n",
        "    def __add__(self, other):\n",
        "          return self.string + other\n",
        "            \n",
        "    def __repr__(self):\n",
        "        return 'Object: {}'.format(self.string)\n",
        "\n",
        "string1 = String('Hello')    \n",
        "\n",
        "# concatenate String object and a string\n",
        "print(string1 +' world')"
      ],
      "metadata": {
        "colab": {
          "base_uri": "https://localhost:8080/"
        },
        "id": "siOjaI1ttIkx",
        "outputId": "c7b572ae-9331-4965-a734-542e163120fd"
      },
      "execution_count": 9,
      "outputs": [
        {
          "output_type": "stream",
          "name": "stdout",
          "text": [
            "Hello world\n"
          ]
        }
      ]
    },
    {
      "cell_type": "code",
      "source": [
        "#8.What is the most popular form of operator overloading?\n",
        "I feel, most popular form of operator overloading is of addition (+) operator. When two integers are passed to + operator, it will return the sum of two integers. When two strings are passed to + operator, it will return concatenation of two strings."
      ],
      "metadata": {
        "id": "7yXRIIHet4DI"
      },
      "execution_count": null,
      "outputs": []
    },
    {
      "cell_type": "code",
      "source": [
        "#9.What are the two most important concepts to grasp in order to comprehend Python OOP code?\n",
        "Inheritance.\n",
        "Polymorphism."
      ],
      "metadata": {
        "id": "_EQdWSbJuTJC"
      },
      "execution_count": null,
      "outputs": []
    }
  ]
}