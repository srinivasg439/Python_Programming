{
  "nbformat": 4,
  "nbformat_minor": 0,
  "metadata": {
    "colab": {
      "provenance": []
    },
    "kernelspec": {
      "name": "python3",
      "display_name": "Python 3"
    },
    "language_info": {
      "name": "python"
    }
  },
  "cells": [
    {
      "cell_type": "code",
      "execution_count": 2,
      "metadata": {
        "colab": {
          "base_uri": "https://localhost:8080/"
        },
        "id": "rrjA3fFYlnqf",
        "outputId": "c396c196-286f-417e-908e-402e29abfd82"
      },
      "outputs": [
        {
          "output_type": "stream",
          "name": "stdout",
          "text": [
            "[1, 2, 3, 4]\n"
          ]
        }
      ],
      "source": [
        "\"\"\"1.Create a function that takes a list of strings and integers, and filters out the list so that it\n",
        "returns a list of integers only.\n",
        "Examples\n",
        "filter_list([1, 2, 3, &quot;a&quot;, &quot;b&quot;, 4]) ➞ [1, 2, 3, 4]\n",
        "filter_list([&quot;A&quot;, 0, &quot;Edabit&quot;, 1729, &quot;Python&quot;, &quot;1729&quot;]) ➞ [0, 1729]\n",
        "filter_list([&quot;Nothing&quot;, &quot;here&quot;]) ➞ []  \"\"\"\n",
        "#Sol.\n",
        "lst = [1, 2, 3, 'a', 'b', 4]\n",
        "def filter_list(lst):\n",
        "    intLst = []\n",
        "    for i in lst:\n",
        "        if type(i) == int:\n",
        "            intLst.append(i)\n",
        "    return intLst  \n",
        "print(filter_list(lst))\n"
      ]
    },
    {
      "cell_type": "code",
      "source": [
        "\"\"\"2. Given a list of numbers, create a function which returns the list but with each element's\n",
        "index in the list added to itself. This means you add 0 to the number at index 0, add 1 to the\n",
        "number at index 1, etc...\n",
        "Examples\n",
        "add_indexes([0, 0, 0, 0, 0]) ➞ [0, 1, 2, 3, 4]\n",
        "add_indexes([1, 2, 3, 4, 5]) ➞ [1, 3, 5, 7, 9]\n",
        "add_indexes([5, 4, 3, 2, 1]) ➞ [5, 5, 5, 5, 5]\n",
        "\"\"\"\n",
        "def add_indexes(lst):\n",
        "    ind = 0\n",
        "    index = []\n",
        "    for i in lst:\n",
        "        index.append(lst.index(i,ind) + i)\n",
        "        ind+=1\n",
        "    return index\n",
        "lst = [0,0,0,0]\n",
        "print(add_indexes(lst))"
      ],
      "metadata": {
        "colab": {
          "base_uri": "https://localhost:8080/"
        },
        "id": "2R5q8bxLmpK3",
        "outputId": "c496e5b4-b509-43fb-d189-05375cb76026"
      },
      "execution_count": 3,
      "outputs": [
        {
          "output_type": "stream",
          "name": "stdout",
          "text": [
            "[0, 1, 2, 3]\n"
          ]
        }
      ]
    },
    {
      "cell_type": "code",
      "source": [
        "\"\"\"3.Create a function that takes the height and radius of a cone as arguments and returns the\n",
        "volume of the cone rounded to the nearest hundredth. See the resources tab for the formula.\n",
        "\n",
        "Examples\n",
        "cone_volume(3, 2) ➞ 12.57\n",
        "\n",
        "cone_volume(15, 6) ➞ 565.49\n",
        "cone_volume(18, 0) ➞ 0  \"\"\"\n",
        "#Sol.\n",
        "import math\n",
        "pi = math.pi\n",
        " \n",
        "# Function to calculate Volume of Cone\n",
        "def cone_volume(r, h):\n",
        "    return round((1 / 3) * pi * r * r * h)\n",
        " \n",
        "\n",
        "# Driver Code\n",
        "radius = float(5)\n",
        "height = float(12)\n",
        "\n",
        "print( \"Volume Of Cone : \", cone_volume(radius, height) )"
      ],
      "metadata": {
        "colab": {
          "base_uri": "https://localhost:8080/"
        },
        "id": "EribeNnWrgGY",
        "outputId": "28fbcd1b-4649-47fe-b978-3e1cd2b9f585"
      },
      "execution_count": 5,
      "outputs": [
        {
          "output_type": "stream",
          "name": "stdout",
          "text": [
            "Volume Of Cone :  314\n"
          ]
        }
      ]
    },
    {
      "cell_type": "code",
      "source": [
        "\"\"\"4.This Triangular Number Sequence is generated from a pattern of dots that form a triangle.\n",
        "The first 5 numbers of the sequence, or dots, are:\n",
        "1, 3, 6, 10, 15\n",
        "This means that the first triangle has just one dot, the second one has three dots, the third one\n",
        "has 6 dots and so on.\n",
        "Write a function that gives the number of dots with its corresponding triangle number of the\n",
        "sequence.\n",
        "Examples\n",
        "triangle(1) ➞ 1\n",
        "triangle(6) ➞ 21\n",
        "triangle(215) ➞ 23220\n",
        "\n",
        "A Rule\n",
        "We can make a \"Rule\" so we can calculate any triangular number.\n",
        "\n",
        "First, rearrange the dots like this:\n",
        "\n",
        "triangular numbers 1 to 5\n",
        "\n",
        "Then double the number of dots, and form them into a rectangle:\n",
        "\n",
        "triangular numbers when doubled become n by n+1 rectangles\n",
        "\n",
        "Now it is easy to work out how many dots: just multiply n by n+1\n",
        "\n",
        "Dots in rectangle = n(n+1)\n",
        "\n",
        "But remember we doubled the number of dots, so\n",
        "Dots in triangle = n(n+1)/2\n",
        "\n",
        "We can use xn to mean \"dots in triangle n\", so we get the rule:\n",
        "\n",
        "Rule: xn = n(n+1)/2  \"\"\"\n",
        "\n",
        "#Sol.\n",
        "\n",
        "def triangle(n):\n",
        "    return n*(n+1)*0.5\n",
        "\n",
        "n = int(input('Enter the trinalge number :'))\n",
        "print(\"The {}th triangle has {} dots \".format(n,int(triangle(n))))"
      ],
      "metadata": {
        "colab": {
          "base_uri": "https://localhost:8080/"
        },
        "id": "3K-Se4K9rtFY",
        "outputId": "145a0224-0412-414d-b554-90760d93295f"
      },
      "execution_count": 6,
      "outputs": [
        {
          "output_type": "stream",
          "name": "stdout",
          "text": [
            "Enter the trinalge number :234\n",
            "The 234th triangle has 27495 dots \n"
          ]
        }
      ]
    },
    {
      "cell_type": "code",
      "source": [
        "\"\"\"5.Create a function that takes a list of numbers between 1 and 10 (excluding one number) and\n",
        "returns the missing number.\n",
        "Examples\n",
        "missing_num([1, 2, 3, 4, 6, 7, 8, 9, 10]) ➞ 5\n",
        "missing_num([7, 2, 3, 6, 5, 9, 1, 4, 8]) ➞ 10\n",
        "missing_num([10, 5, 1, 2, 4, 6, 8, 3, 9]) ➞ 7 \"\"\"\n",
        "#Sol.\n",
        "def missing_num(lst):\n",
        "    total = sum([x for x in range(11)])\n",
        "    sum_Of_list = sum(lst)\n",
        "    return total - sum_Of_list\n",
        "\n",
        "print(missing_num([1, 2, 3, 4, 6, 7, 8, 9, 10]))"
      ],
      "metadata": {
        "colab": {
          "base_uri": "https://localhost:8080/"
        },
        "id": "cKJHKkkIsROu",
        "outputId": "6e0a6b4b-db31-4fff-83c8-832c25ddf1ff"
      },
      "execution_count": 7,
      "outputs": [
        {
          "output_type": "stream",
          "name": "stdout",
          "text": [
            "5\n"
          ]
        }
      ]
    }
  ]
}