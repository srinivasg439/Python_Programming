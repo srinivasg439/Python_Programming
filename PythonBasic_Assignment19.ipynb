{
  "nbformat": 4,
  "nbformat_minor": 0,
  "metadata": {
    "colab": {
      "provenance": []
    },
    "kernelspec": {
      "name": "python3",
      "display_name": "Python 3"
    },
    "language_info": {
      "name": "python"
    }
  },
  "cells": [
    {
      "cell_type": "markdown",
      "source": [
        "1. Make a class called Thing with no contents and print it. Then, create an object called example from this class and also print it. Are the printed values the same or different?"
      ],
      "metadata": {
        "id": "TEiw45_uLW7H"
      }
    },
    {
      "cell_type": "code",
      "execution_count": 3,
      "metadata": {
        "colab": {
          "base_uri": "https://localhost:8080/"
        },
        "id": "8eqPfYt1JSzm",
        "outputId": "68d67e33-835d-499e-b938-d2da7fbec845"
      },
      "outputs": [
        {
          "output_type": "stream",
          "name": "stdout",
          "text": [
            "<class '__main__.Thing'>\n",
            "<__main__.Thing object at 0x7f9a6f0ca9a0>\n"
          ]
        }
      ],
      "source": [
        "class Thing:\n",
        "    pass\n",
        "print(Thing)\n",
        "\n",
        "example = Thing()\n",
        "print(example)"
      ]
    },
    {
      "cell_type": "markdown",
      "source": [
        "2. Create a new class called Thing2 and add the value 'abc' to the letters class attribute. Letters should be printed."
      ],
      "metadata": {
        "id": "SMhipBeGMB85"
      }
    },
    {
      "cell_type": "code",
      "source": [
        "class Thing2:\n",
        "        letters = 'abc'\n",
        "print(Thing2.letters)"
      ],
      "metadata": {
        "colab": {
          "base_uri": "https://localhost:8080/"
        },
        "id": "zY0JtQWKMDME",
        "outputId": "0ea2cd5b-26d9-4cf5-eb72-031c9c3bb68f"
      },
      "execution_count": 4,
      "outputs": [
        {
          "output_type": "stream",
          "name": "stdout",
          "text": [
            "abc\n"
          ]
        }
      ]
    },
    {
      "cell_type": "markdown",
      "source": [
        "3. Make yet another class called, of course, Thing3. This time, assign the value 'xyz' to an instance (object) attribute called letters. Print letters. Do you need to make an object from the class to do this?"
      ],
      "metadata": {
        "id": "BpTAhwd-M9WZ"
      }
    },
    {
      "cell_type": "code",
      "source": [
        "class Thing3:\n",
        "        def __init__(self):\n",
        "            self.letters = 'xyz'\n",
        "print(Thing3.letters)"
      ],
      "metadata": {
        "colab": {
          "base_uri": "https://localhost:8080/",
          "height": 201
        },
        "id": "x0nMbAARNAJs",
        "outputId": "5ca15fb1-fb7d-4bdc-8c57-3d0a54e21450"
      },
      "execution_count": 5,
      "outputs": [
        {
          "output_type": "error",
          "ename": "AttributeError",
          "evalue": "ignored",
          "traceback": [
            "\u001b[0;31m---------------------------------------------------------------------------\u001b[0m",
            "\u001b[0;31mAttributeError\u001b[0m                            Traceback (most recent call last)",
            "\u001b[0;32m<ipython-input-5-ee90a3ef44e6>\u001b[0m in \u001b[0;36m<module>\u001b[0;34m\u001b[0m\n\u001b[1;32m      2\u001b[0m         \u001b[0;32mdef\u001b[0m \u001b[0m__init__\u001b[0m\u001b[0;34m(\u001b[0m\u001b[0mself\u001b[0m\u001b[0;34m)\u001b[0m\u001b[0;34m:\u001b[0m\u001b[0;34m\u001b[0m\u001b[0;34m\u001b[0m\u001b[0m\n\u001b[1;32m      3\u001b[0m             \u001b[0mself\u001b[0m\u001b[0;34m.\u001b[0m\u001b[0mletters\u001b[0m \u001b[0;34m=\u001b[0m \u001b[0;34m'xyz'\u001b[0m\u001b[0;34m\u001b[0m\u001b[0;34m\u001b[0m\u001b[0m\n\u001b[0;32m----> 4\u001b[0;31m \u001b[0mprint\u001b[0m\u001b[0;34m(\u001b[0m\u001b[0mThing3\u001b[0m\u001b[0;34m.\u001b[0m\u001b[0mletters\u001b[0m\u001b[0;34m)\u001b[0m\u001b[0;34m\u001b[0m\u001b[0;34m\u001b[0m\u001b[0m\n\u001b[0m",
            "\u001b[0;31mAttributeError\u001b[0m: type object 'Thing3' has no attribute 'letters'"
          ]
        }
      ]
    },
    {
      "cell_type": "code",
      "source": [
        "something = Thing3()\n",
        "print(something.letters)"
      ],
      "metadata": {
        "colab": {
          "base_uri": "https://localhost:8080/"
        },
        "id": "A7WBqEhPN306",
        "outputId": "5d203b80-8428-46b6-dd7a-7d86957c64d0"
      },
      "execution_count": 6,
      "outputs": [
        {
          "output_type": "stream",
          "name": "stdout",
          "text": [
            "xyz\n"
          ]
        }
      ]
    },
    {
      "cell_type": "markdown",
      "source": [
        "4. Create an Element class with the instance attributes name, symbol, and number. Create a class object with the values 'Hydrogen,' 'H,' and 1."
      ],
      "metadata": {
        "id": "fjkobI4qOL7z"
      }
    },
    {
      "cell_type": "code",
      "source": [
        "class Element:\n",
        "        def __init__(self, name, symbol, number):\n",
        "            self.name = name\n",
        "            self.symbol = symbol\n",
        "            self.number = number\n",
        "hydrogen = Element('Hydrogen', 'H', 1)"
      ],
      "metadata": {
        "id": "TSh_i715OReN"
      },
      "execution_count": 6,
      "outputs": []
    },
    {
      "cell_type": "markdown",
      "source": [
        "5. Make a dictionary with these keys and values: 'name': 'Hydrogen', 'symbol': 'H', 'number': 1. Then, create an object called hydrogen from class Element using this dictionary."
      ],
      "metadata": {
        "id": "aI25T7txO16H"
      }
    },
    {
      "cell_type": "code",
      "source": [
        "el_dict = {'name': 'Hydrogen', 'symbol': 'H', 'number': 1}\n",
        "\n",
        "hydrogen = Element(el_dict['name'], el_dict['symbol'], el_dict['number'])\n",
        "\n",
        "hydrogen.name"
      ],
      "metadata": {
        "colab": {
          "base_uri": "https://localhost:8080/",
          "height": 35
        },
        "id": "UvG_wq5yO4Xe",
        "outputId": "38edf7da-a28a-4343-8714-20c021d59da3"
      },
      "execution_count": 7,
      "outputs": [
        {
          "output_type": "execute_result",
          "data": {
            "text/plain": [
              "'Hydrogen'"
            ],
            "application/vnd.google.colaboratory.intrinsic+json": {
              "type": "string"
            }
          },
          "metadata": {},
          "execution_count": 7
        }
      ]
    },
    {
      "cell_type": "code",
      "source": [
        "hydrogen = Element(**el_dict)\n",
        "hydrogen.name"
      ],
      "metadata": {
        "colab": {
          "base_uri": "https://localhost:8080/",
          "height": 35
        },
        "id": "OQfcdQlKPWd7",
        "outputId": "5f3c7ca1-2e3f-4264-ab7b-5dae522094d0"
      },
      "execution_count": 8,
      "outputs": [
        {
          "output_type": "execute_result",
          "data": {
            "text/plain": [
              "'Hydrogen'"
            ],
            "application/vnd.google.colaboratory.intrinsic+json": {
              "type": "string"
            }
          },
          "metadata": {},
          "execution_count": 8
        }
      ]
    },
    {
      "cell_type": "markdown",
      "source": [
        "6. For the Element class, define a method called dump() that prints the values of the object’s attributes (name, symbol, and number). Create the hydrogen object from this new definition and use dump() to print its attributes."
      ],
      "metadata": {
        "id": "EXc2AyZdPjZ8"
      }
    },
    {
      "cell_type": "code",
      "source": [
        "class Element:\n",
        "        def __init__(self, name, symbol, number):\n",
        "            self.name = name\n",
        "            self.symbol = symbol\n",
        "            self.number = number\n",
        "        def dump(self):\n",
        "            print('name=%s, symbol=%s, number=%s' %\n",
        "                (self.name, self.symbol, self.number))\n",
        "hydrogen = Element(**el_dict)\n",
        "hydrogen.dump()"
      ],
      "metadata": {
        "colab": {
          "base_uri": "https://localhost:8080/"
        },
        "id": "pr-h3fhePmWF",
        "outputId": "e5356e84-123e-4ff7-df39-d8654e08e229"
      },
      "execution_count": 9,
      "outputs": [
        {
          "output_type": "stream",
          "name": "stdout",
          "text": [
            "name=Hydrogen, symbol=H, number=1\n"
          ]
        }
      ]
    },
    {
      "cell_type": "markdown",
      "source": [
        "7. Call print(hydrogen). In the definition of Element, change the name of method dump to str, create a new hydrogen object, and call print(hydrogen) again."
      ],
      "metadata": {
        "id": "l3J4wK-gqglE"
      }
    },
    {
      "cell_type": "code",
      "source": [
        "print(hydrogen)\n"
      ],
      "metadata": {
        "colab": {
          "base_uri": "https://localhost:8080/"
        },
        "id": "JTYZNCQqrsXx",
        "outputId": "ef081991-51cd-41ad-d0ff-6f202ed895fe"
      },
      "execution_count": 10,
      "outputs": [
        {
          "output_type": "stream",
          "name": "stdout",
          "text": [
            "<__main__.Element object at 0x7f9a6d8441c0>\n"
          ]
        }
      ]
    },
    {
      "cell_type": "code",
      "source": [
        "class Element:\n",
        "        def __init__(self, name, symbol, number):\n",
        "            self.name = name\n",
        "            self.symbol = symbol\n",
        "            self.number = number\n",
        "        def __str__(self):\n",
        "            return ('name=%s, symbol=%s, number=%s' %\n",
        "                (self.name, self.symbol, self.number))"
      ],
      "metadata": {
        "id": "3e5b6OEFr19Q"
      },
      "execution_count": 11,
      "outputs": []
    },
    {
      "cell_type": "code",
      "source": [
        "hydrogen = Element(**el_dict)\n",
        "print(hydrogen)"
      ],
      "metadata": {
        "colab": {
          "base_uri": "https://localhost:8080/"
        },
        "id": "DFc3KKXzr8CX",
        "outputId": "534a83e7-4c13-4f39-857f-85a45e5bad71"
      },
      "execution_count": 12,
      "outputs": [
        {
          "output_type": "stream",
          "name": "stdout",
          "text": [
            "name=Hydrogen, symbol=H, number=1\n"
          ]
        }
      ]
    },
    {
      "cell_type": "markdown",
      "source": [
        "8. Modify Element to make the attributes name, symbol, and number private. Define a getter property for each to return its value."
      ],
      "metadata": {
        "id": "5-MTDqGSt2N_"
      }
    },
    {
      "cell_type": "code",
      "source": [
        "class Element:\n",
        "        def __init__(self, name, symbol, number):\n",
        "            self.__name = name\n",
        "            self.__symbol = symbol\n",
        "            self.__number = number\n",
        "        @property\n",
        "        def name(self):\n",
        "            return self.__name\n",
        "        @property\n",
        "        def symbol(self):\n",
        "            return self.__symbol\n",
        "        @property\n",
        "        def number(self):\n",
        "            return self.__number"
      ],
      "metadata": {
        "id": "y9nLXU2Tt468"
      },
      "execution_count": null,
      "outputs": []
    },
    {
      "cell_type": "code",
      "source": [
        "hydrogen = Element('Hydrogen', 'H', 1)\n",
        "hydrogen.name"
      ],
      "metadata": {
        "id": "XG-kBJoRuL7K",
        "outputId": "26da6653-f401-4f8b-b376-6ddb55d021ea",
        "colab": {
          "base_uri": "https://localhost:8080/",
          "height": 35
        }
      },
      "execution_count": 13,
      "outputs": [
        {
          "output_type": "execute_result",
          "data": {
            "text/plain": [
              "'Hydrogen'"
            ],
            "application/vnd.google.colaboratory.intrinsic+json": {
              "type": "string"
            }
          },
          "metadata": {},
          "execution_count": 13
        }
      ]
    },
    {
      "cell_type": "code",
      "source": [
        "hydrogen.symbol"
      ],
      "metadata": {
        "id": "A0vKxcOQuS2a",
        "outputId": "3c6b82a4-2de3-4cad-8c59-1089ae6dc8d2",
        "colab": {
          "base_uri": "https://localhost:8080/",
          "height": 35
        }
      },
      "execution_count": 15,
      "outputs": [
        {
          "output_type": "execute_result",
          "data": {
            "text/plain": [
              "'H'"
            ],
            "application/vnd.google.colaboratory.intrinsic+json": {
              "type": "string"
            }
          },
          "metadata": {},
          "execution_count": 15
        }
      ]
    },
    {
      "cell_type": "code",
      "source": [
        "hydrogen.number"
      ],
      "metadata": {
        "id": "U559YifOubHt",
        "outputId": "bc9fec6b-6a98-4d1c-8696-193e43f8e4a1",
        "colab": {
          "base_uri": "https://localhost:8080/"
        }
      },
      "execution_count": 16,
      "outputs": [
        {
          "output_type": "execute_result",
          "data": {
            "text/plain": [
              "1"
            ]
          },
          "metadata": {},
          "execution_count": 16
        }
      ]
    },
    {
      "cell_type": "markdown",
      "source": [
        "9. Define three classes: Bear, Rabbit, and Octothorpe. For each, define only one method: eats(). This should return 'berries' (Bear), 'clover' (Rabbit), or 'campers' (Octothorpe). Create one object from each and print what it eats."
      ],
      "metadata": {
        "id": "QZJ3M1_wuv1H"
      }
    },
    {
      "cell_type": "code",
      "source": [
        "class Bear:\n",
        "        def eats(self):\n",
        "            return 'berries'\n",
        "class Rabbit:\n",
        "     def eats(self):\n",
        "        return 'clover'\n",
        "class Octothorpe:\n",
        "     def eats(self):\n",
        "            return 'campers'\n",
        "b = Bear()\n",
        "r = Rabbit()\n",
        "o = Octothorpe()"
      ],
      "metadata": {
        "id": "0cJ599wtuy1U"
      },
      "execution_count": 17,
      "outputs": []
    },
    {
      "cell_type": "code",
      "source": [
        "print(b.eats())"
      ],
      "metadata": {
        "id": "sgBz91pvvBZ-",
        "outputId": "8630144c-a69b-4874-d17c-bf02abbc27c7",
        "colab": {
          "base_uri": "https://localhost:8080/"
        }
      },
      "execution_count": 18,
      "outputs": [
        {
          "output_type": "stream",
          "name": "stdout",
          "text": [
            "berries\n"
          ]
        }
      ]
    },
    {
      "cell_type": "code",
      "source": [
        "print(r.eats())"
      ],
      "metadata": {
        "id": "p6Ty62CgvJEc",
        "outputId": "386bda08-512e-4667-ce84-e6ae2dd900a4",
        "colab": {
          "base_uri": "https://localhost:8080/"
        }
      },
      "execution_count": 19,
      "outputs": [
        {
          "output_type": "stream",
          "name": "stdout",
          "text": [
            "clover\n"
          ]
        }
      ]
    },
    {
      "cell_type": "code",
      "source": [
        "\n",
        "print(o.eats())"
      ],
      "metadata": {
        "id": "_0crwU32vN8f",
        "outputId": "5fa32ece-fcae-459e-afec-05dacebd3b53",
        "colab": {
          "base_uri": "https://localhost:8080/"
        }
      },
      "execution_count": 20,
      "outputs": [
        {
          "output_type": "stream",
          "name": "stdout",
          "text": [
            "campers\n"
          ]
        }
      ]
    },
    {
      "cell_type": "markdown",
      "source": [
        "10. Define these classes: Laser, Claw, and SmartPhone. Each has only one method: does(). This returns 'disintegrate' (Laser), 'crush' (Claw), or 'ring' (SmartPhone). Then, define the class Robot that has one instance (object) of each of these. Define a does() method for the Robot that prints what its component objects do."
      ],
      "metadata": {
        "id": "wyv8xSM0vgwG"
      }
    },
    {
      "cell_type": "code",
      "source": [
        "class Laser:\n",
        "    def does(self):\n",
        "             return 'disintegrate'\n",
        "class Claw:\n",
        "     def does(self):\n",
        "            return 'crush'\n",
        "\n",
        "class SmartPhone:\n",
        "     def does(self):\n",
        "            return 'ring'\n",
        "\n",
        "class Robot:\n",
        "    def __init__(self):\n",
        "            self.laser = Laser()\n",
        "            self.claw = Claw()\n",
        "            self.smartphone = SmartPhone()\n",
        "    def does(self):\n",
        "            return '''I have many attachments:\n",
        "            My laser, to %s.\n",
        "            My claw, to %s.\n",
        "            My smartphone, to %s.''' % (\n",
        "            self.laser.does(),\n",
        "            self.claw.does(),\n",
        "            self.smartphone.does() )"
      ],
      "metadata": {
        "id": "gylDATwXvjPw"
      },
      "execution_count": 21,
      "outputs": []
    },
    {
      "cell_type": "code",
      "source": [
        "robbie = Robot()\n",
        "print(robbie.does())"
      ],
      "metadata": {
        "id": "WUUu93KJwErG",
        "outputId": "833ba1c8-e94b-44a3-98c6-0e4041854b8d",
        "colab": {
          "base_uri": "https://localhost:8080/"
        }
      },
      "execution_count": 22,
      "outputs": [
        {
          "output_type": "stream",
          "name": "stdout",
          "text": [
            "I have many attachments:\n",
            "            My laser, to disintegrate.\n",
            "            My claw, to crush.\n",
            "            My smartphone, to ring.\n"
          ]
        }
      ]
    }
  ]
}