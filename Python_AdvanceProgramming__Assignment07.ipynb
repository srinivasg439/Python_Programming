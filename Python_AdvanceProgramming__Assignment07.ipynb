{
  "nbformat": 4,
  "nbformat_minor": 0,
  "metadata": {
    "colab": {
      "provenance": []
    },
    "kernelspec": {
      "name": "python3",
      "display_name": "Python 3"
    },
    "language_info": {
      "name": "python"
    }
  },
  "cells": [
    {
      "cell_type": "markdown",
      "source": [
        "1. Write a function that counts how many concentric layers a rug.\n",
        "Examples\n",
        "\n",
        "count_layers([ \"AAAA\", \"ABBA\", \"AAAA\" ]) ➞ 2\n",
        "\n",
        "count_layers([ \"AAAAAAAAA\", \"ABBBBBBBA\", \"ABBAAABBA\", \"ABBBBBBBA\", \"AAAAAAAAA\" ]) ➞ 3\n",
        "\n",
        "count_layers([ \"AAAAAAAAAAA\", \"AABBBBBBBAA\", \"AABCCCCCBAA\", \"AABCAAACBAA\", \"AABCADACBAA\", \"AABCAAACBAA\", \"AABCCCCCBAA\", \"AABBBBBBBAA\", \"AAAAAAAAAAA\" ]) ➞ 5"
      ],
      "metadata": {
        "id": "2ORqaNLfjk8y"
      }
    },
    {
      "cell_type": "code",
      "execution_count": 3,
      "metadata": {
        "colab": {
          "base_uri": "https://localhost:8080/"
        },
        "id": "iLKqlXQ2tFSQ",
        "outputId": "42494f1a-2cc9-4ae1-d030-899b92d3744e"
      },
      "outputs": [
        {
          "output_type": "stream",
          "name": "stdout",
          "text": [
            "2\n",
            "3\n",
            "5\n"
          ]
        }
      ],
      "source": [
        "import numpy as np\n",
        "\n",
        "def count_layers(arr):\n",
        "    arr1 = np.unique(arr)\n",
        "    return arr1.size\n",
        "\n",
        "print(count_layers([ \"AAAA\", \"ABBA\", \"AAAA\" ]))\n",
        "print(count_layers([ \"AAAAAAAAA\", \"ABBBBBBBA\", \"ABBAAABBA\", \"ABBBBBBBA\", \"AAAAAAAAA\" ]) )\n",
        "print(count_layers([ \"AAAAAAAAAAA\", \"AABBBBBBBAA\", \"AABCCCCCBAA\", \"AABCAAACBAA\", \"AABCADACBAA\", \"AABCAAACBAA\", \"AABCCCCCBAA\", \"AABBBBBBBAA\", \"AAAAAAAAAAA\" ]))"
      ]
    },
    {
      "cell_type": "markdown",
      "source": [
        "2. There are many different styles of music and many albums exhibit multiple styles. Create a function that takes a list of musical styles from albums and returns how many styles are unique.\n",
        "Examples\n",
        "\n",
        "unique_styles([ \"Dub,Dancehall\", \"Industrial,Heavy Metal\", \"Techno,Dubstep\", \"Synth-pop,Euro-Disco\", \"Industrial,Techno,Minimal\" ]) ➞ 9\n",
        "\n",
        "unique_styles([ \"Soul\", \"House,Folk\", \"Trance,Downtempo,Big Beat,House\", \"Deep House\", \"Soul\" ]) ➞ 7"
      ],
      "metadata": {
        "id": "21qxpFXflDLS"
      }
    },
    {
      "cell_type": "code",
      "source": [
        "import numpy as np\n",
        "\n",
        "def unique_styles(l):\n",
        "    l1 = []\n",
        "    for item in l:\n",
        "        item = item.split(',')\n",
        "        for j in item:\n",
        "            l1.append(j) \n",
        "    \n",
        "    return len(set(l1))\n",
        "        \n",
        "        \n",
        "print(unique_styles([ \"Dub,Dancehall\", \"Industrial,Heavy Metal\", \"Techno,Dubstep\", \"Synth-pop,Euro-Disco\", \"Industrial,Techno,Minimal\" ]))\n",
        "print(unique_styles([ \"Soul\", \"House,Folk\", \"Trance,Downtempo,Big Beat,House\", \"Deep House\", \"Soul\" ]) )"
      ],
      "metadata": {
        "colab": {
          "base_uri": "https://localhost:8080/"
        },
        "id": "LyijT2jjlI3D",
        "outputId": "1d99437c-d725-420b-ac8d-166a588b2aec"
      },
      "execution_count": 4,
      "outputs": [
        {
          "output_type": "stream",
          "name": "stdout",
          "text": [
            "9\n",
            "7\n"
          ]
        }
      ]
    },
    {
      "cell_type": "markdown",
      "source": [
        "3. Create a function that finds a target number in a list of prime numbers. Implement a binary search algorithm in your function. The target number will be from 2 through 97. If the target is prime then return \"yes\" else return \"no\".\n",
        "Examples\n",
        "\n",
        "primes = [2, 3, 5, 7, 11, 13, 17, 19, 23, 29, 31, 37, 41, 43, 47, 53, 59, 61, 67, 71, 73, 79, 83, 89, 97]\n",
        "\n",
        "is_prime(primes, 3) ➞ \"yes\"\n",
        "\n",
        "is_prime(primes, 4) ➞ \"no\"\n",
        "\n",
        "is_prime(primes, 67) ➞ \"yes\"\n",
        "\n",
        "is_prime(primes, 36) ➞ \"no\""
      ],
      "metadata": {
        "id": "GcNIKL2xnbSC"
      }
    },
    {
      "cell_type": "code",
      "source": [
        "def bin_search(l,low, high,key):\n",
        "\n",
        "    if high >= low:\n",
        "        mid = int ((low + high) / 2)\n",
        "    \n",
        "        if key == l[mid]:\n",
        "            return mid\n",
        "    \n",
        "        if l[mid] > key:\n",
        "            return bin_search(l,low,mid - 1, key)\n",
        "        \n",
        "        else:\n",
        "            return bin_search(l, mid+1,high, key)\n",
        "        \n",
        "    else:\n",
        "        return -1\n",
        " \n",
        "def is_prime(primes,n):\n",
        "    if n in range(2,97):\n",
        "        result = bin_search(sorted(primes), 0, len(primes), n)\n",
        "        \n",
        "        if result > 0:\n",
        "            return 'yes'\n",
        "        else:\n",
        "            return 'no'\n",
        "    else:\n",
        "        return 'Elemnet is not in the list primes'\n",
        "primes = [2, 3, 5, 7, 11, 13, 17, 19, 23, 29, 31, 37, 41, 43, 47, 53, 59, 61, 67, 71, 73, 79, 83, 89, 97]\n",
        "\n",
        "print(is_prime(primes, 3))\n",
        "print(is_prime(primes, 4))\n",
        "print(is_prime(primes, 1))\n",
        "print(is_prime(primes, 36))"
      ],
      "metadata": {
        "colab": {
          "base_uri": "https://localhost:8080/"
        },
        "id": "xGbPDR-nn8Fu",
        "outputId": "5087db5f-b46a-4234-b8a8-b5096c9ee740"
      },
      "execution_count": 7,
      "outputs": [
        {
          "output_type": "stream",
          "name": "stdout",
          "text": [
            "yes\n",
            "no\n",
            "Elemnet is not in the list primes\n",
            "no\n"
          ]
        }
      ]
    },
    {
      "cell_type": "markdown",
      "source": [
        "4. Create a function that takes in n, a, b and returns the number of positive values raised to the nth power that lie in the range [a, b], inclusive.\n",
        "Examples\n",
        "\n",
        "power_ranger(2, 49, 65) ➞ 2\n",
        "\n",
        "2 squares (n^2) lie between 49 and 65, 49 (7^2) and 64 (8^2)\n",
        "power_ranger(3, 1, 27) ➞ 3\n",
        "\n",
        "3 cubes (n^3) lie between 1 and 27, 1 (1^3), 8 (2^3) and 27 (3^3)\n",
        "power_ranger(10, 1, 5) ➞ 1\n",
        "\n",
        "1 value raised to the 10th power lies between 1 and 5, 1 (1^10)\n",
        "power_ranger(5, 31, 33) ➞ 1\n",
        "\n",
        "power_ranger(4, 250, 1300) ➞ 3"
      ],
      "metadata": {
        "id": "2E5tI30jqMSq"
      }
    },
    {
      "cell_type": "code",
      "source": [
        "def power_ranger(n,a,b):\n",
        "    count = 0\n",
        "    a1 = int(a**(1/n))\n",
        "    b1 = int(b**(1/n))\n",
        "    for i in range(a1,b1+1):\n",
        "        if i**n in range(a,b+1):\n",
        "            count += 1\n",
        "    return count\n",
        "\n",
        "print(power_ranger(2,49,65))\n",
        "print(power_ranger(3, 1, 27))\n",
        "print(power_ranger(10, 1, 5))\n",
        "print(power_ranger(5,31,33))    \n",
        "print(power_ranger(4,250,1300))    "
      ],
      "metadata": {
        "colab": {
          "base_uri": "https://localhost:8080/"
        },
        "id": "3Zj370UaqaR8",
        "outputId": "4172c741-b4bf-4e03-b78b-fa529b757266"
      },
      "execution_count": 8,
      "outputs": [
        {
          "output_type": "stream",
          "name": "stdout",
          "text": [
            "2\n",
            "3\n",
            "1\n",
            "1\n",
            "3\n"
          ]
        }
      ]
    },
    {
      "cell_type": "markdown",
      "source": [
        "5. Given a number, return the difference between the maximum and minimum numbers that can be formed when the digits are rearranged.\n",
        "Examples\n",
        "\n",
        "rearranged_difference(972882) ➞ 760833\n",
        "\n",
        "988722 - 227889 = 760833\n",
        "rearranged_difference(3320707) ➞ 7709823\n",
        "\n",
        "7733200 - 23377 = 7709823\n",
        "rearranged_difference(90010) ➞ 90981\n",
        "\n",
        "91000 - 19 = 90981"
      ],
      "metadata": {
        "id": "GP1L1ibX1j-g"
      }
    },
    {
      "cell_type": "code",
      "source": [
        "def rearranged_difference(n):\n",
        "    n = str(n)\n",
        "    nl,nh = '', ''\n",
        "   \n",
        "    n_high = sorted(n, reverse = True)\n",
        "    n_low = sorted(n)\n",
        "    \n",
        "    for i in n_low:\n",
        "        nl += ''.join(i)\n",
        "    for j in n_high:\n",
        "        nh += ''.join(j)\n",
        "    return int(nh) - int(nl)\n",
        "    \n",
        "print(rearranged_difference(972882))\n",
        "print(rearranged_difference(3320707))\n",
        "print(rearranged_difference(90010))"
      ],
      "metadata": {
        "colab": {
          "base_uri": "https://localhost:8080/"
        },
        "id": "SX5bhIhH1mv7",
        "outputId": "6b309ab1-4515-46ff-bfa0-4c411201c462"
      },
      "execution_count": 9,
      "outputs": [
        {
          "output_type": "stream",
          "name": "stdout",
          "text": [
            "760833\n",
            "7709823\n",
            "90981\n"
          ]
        }
      ]
    }
  ]
}