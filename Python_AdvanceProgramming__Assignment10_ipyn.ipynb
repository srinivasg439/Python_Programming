{
  "nbformat": 4,
  "nbformat_minor": 0,
  "metadata": {
    "colab": {
      "provenance": []
    },
    "kernelspec": {
      "name": "python3",
      "display_name": "Python 3"
    },
    "language_info": {
      "name": "python"
    }
  },
  "cells": [
    {
      "cell_type": "markdown",
      "source": [
        "1. Create a function that takes the width, height and character and returns a picture frame as a 2D list.\n",
        "Examples\n",
        "\n",
        "get_frame(4, 5, \"#\") ➞ [ [\"####\"], [\"# #\"], [\"# #\"], [\"# #\"], [\"####\"] ]\n",
        "\n",
        "Frame is 4 characters wide and 5 characters tall.\n",
        "get_frame(10, 3, \"\") ➞ [ [\"*******\"], [\"* *\"], [\"********\"] ]\n",
        "\n",
        "Frame is 10 characters and wide and 3 characters tall.\n",
        "get_frame(2, 5, \"0\") ➞ \"invalid\"\n",
        "\n",
        "Frame's width is not more than 2."
      ],
      "metadata": {
        "id": "ufBlySZHHkEI"
      }
    },
    {
      "cell_type": "code",
      "execution_count": 1,
      "metadata": {
        "id": "AVD-iV8hlUdf",
        "colab": {
          "base_uri": "https://localhost:8080/"
        },
        "outputId": "9fca13c0-0cf0-4f98-fa24-9812c5c2dd5a"
      },
      "outputs": [
        {
          "output_type": "stream",
          "name": "stdout",
          "text": [
            "[['####'], ['#  #'], ['#  #'], ['#  #'], ['####']]\n",
            "[['**********'], ['*        *'], ['**********']]\n",
            "[['++++++'], ['+    +'], ['+    +'], ['+    +'], ['+    +'], ['+    +'], ['++++++']]\n",
            "Invalid\n"
          ]
        }
      ],
      "source": [
        "def get_frame(w,t,char):\n",
        "    l = []\n",
        "    if w > 2:\n",
        "        for i in range(t):\n",
        "            l1 = []\n",
        "            if i == 0 or i == t-1:\n",
        "                l1.append(char*w)\n",
        "            else:\n",
        "                pattern = char + ' ' * (w-2) + char\n",
        "                l1.append(pattern)\n",
        "            l.append(l1)                \n",
        "        return l\n",
        "    else:\n",
        "        return 'Invalid'\n",
        "            \n",
        "print(get_frame(4,5,'#')) \n",
        "print(get_frame(10,3,'*'))\n",
        "print(get_frame(6,7,'+'))\n",
        "print(get_frame(2,5,'0'))"
      ]
    },
    {
      "cell_type": "markdown",
      "source": [
        "2. Write three functions:\n",
        "boolean_and\n",
        "boolean_or\n",
        "boolean_xor\n",
        "These functions should evaluate a list of True and False values, starting from the leftmost element and evaluating pairwise.\n",
        "\n",
        "Examples\n",
        "\n",
        "boolean_and([True, True, False, True]) ➞ False\n",
        "\n",
        "[True, True, False, True] => [True, False, True] => [False, True] => False\n",
        "boolean_or([True, True, False, False]) ➞ True\n",
        "\n",
        "[True, True, False, True] => [True, False, False] => [True, False] => True\n",
        "boolean_xor([True, True, False, False]) ➞ False\n",
        "\n",
        "[True, True, False, False] => [False, False, False] => [False, False] => False"
      ],
      "metadata": {
        "id": "z-xgeA1IbIzC"
      }
    },
    {
      "cell_type": "code",
      "source": [
        "def boolean_and(l):\n",
        "    res = True\n",
        "    i = 0\n",
        "    while i < len(l):\n",
        "        res = res and l[i]\n",
        "        l.pop(i)\n",
        "        l[0] = res\n",
        "        length = len(l)\n",
        "        i += 1\n",
        "    return l[0] and l[1]\n",
        "\n",
        "def boolean_or(l):\n",
        "    res = False\n",
        "    i = 0\n",
        "    while i < len(l):\n",
        "        res = res or l[i]\n",
        "        l.pop(i)\n",
        "        l[0] = res\n",
        "        length = len(l)\n",
        "        i += 1\n",
        "    return l[0] or l[1]\n",
        "\n",
        "def boolean_xor(l):\n",
        "    res = True\n",
        "    i = 0\n",
        "    while i < len(l):\n",
        "        res = res ^ l[i]\n",
        "        l.pop(i)\n",
        "        l[0] = res\n",
        "        length = len(l)\n",
        "        i += 1\n",
        "    return l[0] ^ l[1]\n",
        "\n",
        "print(boolean_and([False, True, False, True]) )        \n",
        "print(boolean_or([True, True, False, False])) \n",
        "print(boolean_xor([True, True, False, False]))"
      ],
      "metadata": {
        "colab": {
          "base_uri": "https://localhost:8080/"
        },
        "id": "9ocZZS5Ob-pK",
        "outputId": "41d21672-df1e-4fae-eb95-a3e08e1ded94"
      },
      "execution_count": 1,
      "outputs": [
        {
          "output_type": "stream",
          "name": "stdout",
          "text": [
            "False\n",
            "True\n",
            "False\n"
          ]
        }
      ]
    },
    {
      "cell_type": "markdown",
      "source": [
        "3. Create a function that creates a box based on dimension n.\n",
        "Examples\n",
        "\n",
        "make_box(5) ➞ [ \"#####\", \"# #\", \"# #\", \"# #\", \"#####\" ]\n",
        "\n",
        "make_box(3) ➞ [ \"###\", \"# #\", \"###\" ]\n",
        "\n",
        "make_box(2) ➞ [ \"##\", \"##\" ]\n",
        "\n",
        "make_box(1) ➞ [ \"#\" ]"
      ],
      "metadata": {
        "id": "lm2dZJ6Cevhy"
      }
    },
    {
      "cell_type": "code",
      "source": [
        "def make_box(n):\n",
        "    l = []\n",
        "    print('Output is::')\n",
        "    for i in range(n):\n",
        "        pattern = ''\n",
        "        if i == 0 or i == n-1:\n",
        "            pattern += '#'*n\n",
        "        else:\n",
        "            pattern += '#' + ' ' * (n-2) + '#'\n",
        "        l.append(pattern)    \n",
        "    return l\n",
        "\n",
        "print(make_box(5))\n",
        "print(make_box(3))\n",
        "print(make_box(2))\n",
        "print(make_box(1))"
      ],
      "metadata": {
        "colab": {
          "base_uri": "https://localhost:8080/"
        },
        "id": "kqO2Tnr9e48j",
        "outputId": "fd56fd5c-81a4-4666-8f5c-bc4d2bd95263"
      },
      "execution_count": 2,
      "outputs": [
        {
          "output_type": "stream",
          "name": "stdout",
          "text": [
            "Output is::\n",
            "['#####', '#   #', '#   #', '#   #', '#####']\n",
            "Output is::\n",
            "['###', '# #', '###']\n",
            "Output is::\n",
            "['##', '##']\n",
            "Output is::\n",
            "['#']\n"
          ]
        }
      ]
    },
    {
      "cell_type": "markdown",
      "source": [
        "4. Given a common phrase, return False if any individual word in the phrase contains duplicate letters. Return True otherwise.\n",
        "Examples\n",
        "\n",
        "no_duplicate_letters(\"Fortune favours the bold.\") ➞ True\n",
        "\n",
        "no_duplicate_letters(\"You can lead a horse to water, but you can't make him drink.\") ➞ True\n",
        "\n",
        "no_duplicate_letters(\"Look before you leap.\") ➞ False\n",
        "\n",
        "Duplicate letters in \"Look\" and \"before\".\n",
        "no_duplicate_letters(\"An apple a day keeps the doctor away.\") ➞ False\n",
        "\n",
        "Duplicate letters in \"apple\", \"keeps\", \"doctor\", and \"away\"."
      ],
      "metadata": {
        "id": "JPz4Ht1rfyz8"
      }
    },
    {
      "cell_type": "code",
      "source": [
        "def no_duplicate_letters(s):\n",
        "    words = s.split()\n",
        "    for word in words:\n",
        "        for letter in word:\n",
        "            if word.count(letter) > 1:\n",
        "                return False\n",
        "\n",
        "    return True\n",
        "        \n",
        "print(no_duplicate_letters(\"Fortune favours the bold.\"))\n",
        "print(no_duplicate_letters(\"You can lead a horse to water, but you can't make him drink.\"))\n",
        "print(no_duplicate_letters(\"Look before you leap.\"))\n",
        "print(no_duplicate_letters(\"An apple a day keeps the doctor away.\"))"
      ],
      "metadata": {
        "colab": {
          "base_uri": "https://localhost:8080/"
        },
        "id": "6C3Dw9Rpf025",
        "outputId": "f33ce8b1-4cb0-4742-fb5c-5dba75b4ec52"
      },
      "execution_count": 3,
      "outputs": [
        {
          "output_type": "stream",
          "name": "stdout",
          "text": [
            "True\n",
            "True\n",
            "False\n",
            "False\n"
          ]
        }
      ]
    },
    {
      "cell_type": "markdown",
      "source": [
        "5. Write a regular expression that will match the states that voted yes to President Trump's impeachment. You must use RegEx positive lookahead.\n",
        "Example\n",
        "\n",
        "txt = \"Texas = no, California = yes, Florida = yes, Michigan = no\" pattern = \"yourregularexpressionhere\"\n",
        "\n",
        "re.findall(pattern, txt) ➞ [\"California\", \"Florida\"]"
      ],
      "metadata": {
        "id": "Ivfa81HYmpoM"
      }
    },
    {
      "cell_type": "code",
      "source": [
        "import re\n",
        "\n",
        "txt = \"Texas = no, California = yes, Florida = yes, Michigan = no\" \n",
        "\n",
        "pattern = r'[a-zA-Z]+(?= = yes)'\n",
        "\n",
        "match = re.findall(pattern, txt)\n",
        "\n",
        "print(match)"
      ],
      "metadata": {
        "colab": {
          "base_uri": "https://localhost:8080/"
        },
        "id": "TjjJVhQymtLs",
        "outputId": "20804759-5fc1-49e0-fb10-3e9cce0a359e"
      },
      "execution_count": 4,
      "outputs": [
        {
          "output_type": "stream",
          "name": "stdout",
          "text": [
            "['California', 'Florida']\n"
          ]
        }
      ]
    }
  ]
}