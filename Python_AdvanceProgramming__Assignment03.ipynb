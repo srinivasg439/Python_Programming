{
  "nbformat": 4,
  "nbformat_minor": 0,
  "metadata": {
    "colab": {
      "provenance": []
    },
    "kernelspec": {
      "name": "python3",
      "display_name": "Python 3"
    },
    "language_info": {
      "name": "python"
    }
  },
  "cells": [
    {
      "cell_type": "markdown",
      "source": [
        "1. Create a function to perform basic arithmetic operations that includes addition, subtraction, multiplication and division on a string number (e.g. \"12 + 24\" or \"23 - 21\" or \"12 // 12\" or \"12 * 21\").\n",
        "Here, we have 1 followed by a space, operator followed by another space and 2. For the challenge, we are going to have only two numbers between 1 valid operator. The return value should be a number. eval() is not allowed. In case of division, whenever the second number equals \"0\" return -1.\n",
        "\n",
        "For example:\n",
        "\n",
        "\"15 // 0\" ➞ -1\n",
        "\n",
        "Examples\n",
        "\n",
        "arithmetic_operation(\"12 + 12\") ➞ 24 // 12 + 12 = 24\n",
        "\n",
        "arithmetic_operation(\"12 - 12\") ➞ 24 // 12 - 12 = 0\n",
        "\n",
        "arithmetic_operation(\"12 * 12\") ➞ 144 // 12 * 12 = 144\n",
        "\n",
        "arithmetic_operation(\"12 // 0\") ➞ -1 // 12 / 0 = -1"
      ],
      "metadata": {
        "id": "4KeJSH8b48yM"
      }
    },
    {
      "cell_type": "code",
      "execution_count": 1,
      "metadata": {
        "colab": {
          "base_uri": "https://localhost:8080/"
        },
        "id": "sOd6hRZyKTqR",
        "outputId": "22be4382-d67f-48ee-defd-d951d0b4f114"
      },
      "outputs": [
        {
          "output_type": "stream",
          "name": "stdout",
          "text": [
            "24\n",
            "0\n",
            "144\n",
            "1.0\n",
            "-1\n"
          ]
        }
      ],
      "source": [
        "def arithmetic_operation(s):\n",
        "    l = s.split()\n",
        "    l1 = list(map(int,l[0:3:2]))\n",
        "    if l[1] == '+':\n",
        "         return l1[0] + l1[1]\n",
        "    elif l[1] == '-':\n",
        "         return l1[0] - l1[1]\n",
        "    elif l[1] == '*':\n",
        "         return l1[0] * l1[1]\n",
        "    else:\n",
        "        if l1[1] == 0:\n",
        "            return -1\n",
        "        else:\n",
        "            return l1[0] / l1[1]\n",
        "            \n",
        "\n",
        "print(arithmetic_operation(\"12 + 12\"))\n",
        "print(arithmetic_operation(\"12 - 12\"))\n",
        "print(arithmetic_operation(\"12 * 12\"))\n",
        "print(arithmetic_operation(\"12 / 12\"))\n",
        "print(arithmetic_operation(\"12 / 0\"))"
      ]
    },
    {
      "cell_type": "markdown",
      "source": [
        "2. Write a function that takes the coordinates of three points in the form of a 2d array and returns the perimeter of the triangle. The given points are the vertices of a triangle on a two-dimensional plane.\n",
        "Examples\n",
        "\n",
        "perimeter( [ [15, 7], [5, 22], [11, 1] ] ) ➞ 47.08\n",
        "\n",
        "perimeter( [ [0, 0], [0, 1], [1, 0] ] ) ➞ 3.42\n",
        "\n",
        "perimeter( [ [-10, -10], [10, 10 ], [-10, 10] ] ) ➞ 68.28"
      ],
      "metadata": {
        "id": "gRkd6VX17cuY"
      }
    },
    {
      "cell_type": "code",
      "source": [
        "import math\n",
        "def distance(xA,yA,xB,yB):\n",
        "    return math.sqrt((xA-xB)*(xA-xB)+(yA-yB)*(yA-yB))\n",
        "\n",
        "def perimeter(l):\n",
        "    return round(distance(l[0][0],l[0][1],l[1][0],l[1][1])+distance(l[0][0],l[0][1],l[2][0],l[2][1])+distance(l[2][0],l[2][1],l[1][0],l[1][1]),2)\n",
        "\n",
        "print(perimeter( [ [15, 7], [5, 22], [11, 1] ] ))\n",
        "print(perimeter(  [ [0, 0], [0, 1], [1, 0] ] ))\n",
        "print(perimeter([[-10, -10],[10, 10 ],[-10, 10]]))"
      ],
      "metadata": {
        "colab": {
          "base_uri": "https://localhost:8080/"
        },
        "id": "HvgmRiWW7fWq",
        "outputId": "c7b6e84a-0224-4bc9-95a6-6d1b6472777b"
      },
      "execution_count": 1,
      "outputs": [
        {
          "output_type": "stream",
          "name": "stdout",
          "text": [
            "47.08\n",
            "3.41\n",
            "68.28\n"
          ]
        }
      ]
    },
    {
      "cell_type": "markdown",
      "source": [
        "3. A city skyline can be represented as a 2-D list with 1s representing buildings. In the example below, the height of the tallest building is 4 (second-most right column).\n",
        "[[0, 0, 0, 0, 0, 0], [0, 0, 0, 0, 1, 0], [0, 0, 1, 0, 1, 0], [0, 1, 1, 1, 1, 0], [1, 1, 1, 1, 1, 1]]\n",
        "\n",
        "Create a function that takes a skyline (2-D list of 0's and 1's) and returns the height of the tallest skyscraper.\n",
        "\n",
        "Examples\n",
        "\n",
        "tallest_skyscraper([ [0, 0, 0, 0], [0, 1, 0, 0], [0, 1, 1, 0], [1, 1, 1, 1] ]) ➞ 3\n",
        "\n",
        "tallest_skyscraper([ [0, 1, 0, 0], [0, 1, 0, 0], [0, 1, 1, 0], [1, 1, 1, 1] ]) ➞ 4\n",
        "\n",
        "tallest_skyscraper([ [0, 0, 0, 0], [0, 0, 0, 0], [1, 1, 1, 0], [1, 1, 1, 1] ]) ➞ 2"
      ],
      "metadata": {
        "id": "ekXZarjl8OKl"
      }
    },
    {
      "cell_type": "code",
      "source": [
        "import numpy as np\n",
        "\n",
        "def tallest_skyscraper(l):\n",
        "    arr = np.array(l)\n",
        "    height =[]\n",
        "    for i in range(len(arr)):\n",
        "        height.append((arr[:,i] == 1).sum())\n",
        "    \n",
        "    return max(height)\n",
        "print(tallest_skyscraper([ [0, 0, 0, 0], [0, 1, 0, 0], [0, 1, 1, 0], [1, 1, 1, 1] ]))\n",
        "print(tallest_skyscraper([ [0, 1, 0, 0], [0, 1, 0, 0], [0, 1, 1, 0], [1, 1, 1, 1] ]))\n",
        "\n",
        "print(tallest_skyscraper([\n",
        "  [0, 0, 0, 0],\n",
        "  [0, 0, 0, 0],\n",
        "  [1, 1, 1, 0],\n",
        "  [1, 1, 1, 1]\n",
        "]))"
      ],
      "metadata": {
        "colab": {
          "base_uri": "https://localhost:8080/"
        },
        "id": "g3k72Y3R8Q7t",
        "outputId": "e711fc90-39e4-4a88-9a81-fc6d429df368"
      },
      "execution_count": 2,
      "outputs": [
        {
          "output_type": "stream",
          "name": "stdout",
          "text": [
            "3\n",
            "4\n",
            "2\n"
          ]
        }
      ]
    },
    {
      "cell_type": "markdown",
      "source": [
        "4. A financial institution provides professional services to banks and claims charges from the customers based on the number of man-days provided. Internally, it has set a scheme to motivate and reward staff to meet and exceed targeted billable utilization and revenues by paying a bonus for each day claimed from customers in excess of a threshold target.\n",
        "This quarterly scheme is calculated with a threshold target of 32 days per quarter, and the incentive payment for each billable day in excess of such threshold target is shown as follows:\n",
        "\n",
        "Days Bonus\n",
        "\n",
        "0 to 32 days Zero\n",
        "\n",
        "33 to 40 days SGD$325 per billable day\n",
        "\n",
        "41 to 48 days SGD$550 per billable day\n",
        "\n",
        "Greater than 48 days SGD$600 per billable day\n",
        "\n",
        "Please note that incentive payment is calculated progressively. As an example, if an employee reached total billable days of 45 in a quarter, his/her incentive payment is computed as follows:\n",
        "\n",
        "32 * 0 + 8 * 325 + 5 * 550 = 5350\n",
        "\n",
        "Write a function to read the billable days of an employee and return the bonus he/she has obtained in that quarter.\n",
        "\n",
        "Examples\n",
        "\n",
        "bonus(15) ➞ 0\n",
        "\n",
        "bonus(37) ➞ 1625\n",
        "\n",
        "bonus(50) ➞ 8200"
      ],
      "metadata": {
        "id": "bh9XuEcr-NGQ"
      }
    },
    {
      "cell_type": "code",
      "source": [
        "def bonus(days):\n",
        "    if days < 32:\n",
        "        return 0\n",
        "    \n",
        "    elif days > 32 and days < 41:\n",
        "        return (days-32) * 325\n",
        "    \n",
        "    elif days > 40 and days < 49:\n",
        "        return 8 * 325 + (days - 40) * 550\n",
        "    \n",
        "    elif days > 48:\n",
        "        return 8 * 325 + 8 * 550 + (days - 48) * 600\n",
        "    \n",
        "print(bonus(15))\n",
        "print(bonus(37))\n",
        "print(bonus(50))    "
      ],
      "metadata": {
        "colab": {
          "base_uri": "https://localhost:8080/"
        },
        "id": "qxgHmCGv-f6C",
        "outputId": "78282728-2514-43a1-d8d7-be0592a54420"
      },
      "execution_count": 3,
      "outputs": [
        {
          "output_type": "stream",
          "name": "stdout",
          "text": [
            "0\n",
            "1625\n",
            "8200\n"
          ]
        }
      ]
    },
    {
      "cell_type": "markdown",
      "source": [
        "5. A number is said to be Disarium if the sum of its digits raised to their respective positions is the number itself.\n",
        "Create a function that determines whether a number is a Disarium or not.\n",
        "\n",
        "Examples\n",
        "\n",
        "is_disarium(75) ➞ False 7^1 + 5^2 = 7 + 25 = 32\n",
        "\n",
        "is_disarium(135) ➞ True 1^1 + 3^2 + 5^3 = 1 + 9 + 125 = 135\n",
        "\n",
        "is_disarium(544) ➞ False\n",
        "\n",
        "is_disarium(518) ➞ True\n",
        "\n",
        "is_disarium(466) ➞ False\n",
        "\n",
        "is_disarium(8) ➞ True"
      ],
      "metadata": {
        "id": "R7szdP-k_z8H"
      }
    },
    {
      "cell_type": "code",
      "source": [
        "def is_disarium(n):\n",
        "    sum1 = 0 \n",
        "    l = list(map(int,str(n)))\n",
        "    for i in range(0,len(l)):\n",
        "        sum1 += l[i]**(i+1)\n",
        "\n",
        "    if sum1 == n:\n",
        "        return True\n",
        "    else:\n",
        "        return False\n",
        "    \n",
        "print(is_disarium(75))\n",
        "print(is_disarium(135))\n",
        "print(is_disarium(544))\n",
        "print(is_disarium(518))\n",
        "print(is_disarium(466))\n",
        "print(is_disarium(8))"
      ],
      "metadata": {
        "colab": {
          "base_uri": "https://localhost:8080/"
        },
        "id": "xjnkXvUa_6oU",
        "outputId": "42607600-56f3-40f4-a67b-3bd30dc77ddb"
      },
      "execution_count": 4,
      "outputs": [
        {
          "output_type": "stream",
          "name": "stdout",
          "text": [
            "False\n",
            "True\n",
            "False\n",
            "True\n",
            "False\n",
            "True\n"
          ]
        }
      ]
    }
  ]
}