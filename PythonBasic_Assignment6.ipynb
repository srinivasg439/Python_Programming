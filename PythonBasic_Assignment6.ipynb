{
  "nbformat": 4,
  "nbformat_minor": 0,
  "metadata": {
    "colab": {
      "name": "PythonBasic_Assignment6.ipynb",
      "provenance": []
    },
    "kernelspec": {
      "name": "python3",
      "display_name": "Python 3"
    },
    "language_info": {
      "name": "python"
    }
  },
  "cells": [
    {
      "cell_type": "code",
      "execution_count": null,
      "metadata": {
        "id": "aod2gsGOFZL5"
      },
      "outputs": [],
      "source": [
        "#1. What are escape characters, and how do you use them?\n",
        "Sol. Escape characters represent characters in string values that would otherwise be difficult or impossible to type into code.\n",
        "It is used in representing certain whitespace characters: “\\t” is a tab, “\\n” is a new line, and “\\r” is a carriage return."
      ]
    },
    {
      "cell_type": "code",
      "source": [
        "#2. What do the escape characters n and t stand for?\n",
        "Sol. “\\t” is a tab, “\\n” is a new line"
      ],
      "metadata": {
        "id": "nQ0ossmfGVlF"
      },
      "execution_count": null,
      "outputs": []
    },
    {
      "cell_type": "code",
      "source": [
        "#3. What is the way to include backslash characters in a string?\n",
        "Sol.The \\\\ escape character will represent a backslash character."
      ],
      "metadata": {
        "id": "mBr-GopdGhyj"
      },
      "execution_count": null,
      "outputs": []
    },
    {
      "cell_type": "code",
      "source": [
        "#4. The string \"Howl's Moving Castle\" is a correct value. Why isn't the single quote character in the word Howl's not escaped a problem?\n",
        "Sol.The single quote in Howl's is fine because you've used double quotes to mark the beginning and end of the string.\n"
      ],
      "metadata": {
        "id": "8Dj81NBZJeL5"
      },
      "execution_count": null,
      "outputs": []
    },
    {
      "cell_type": "code",
      "source": [
        "#5. How do you write a string of newlines if you don't want to use the n character?\n",
        "Sol.Multiline strings allow you to use newlines in strings without the \\n escape character."
      ],
      "metadata": {
        "id": "IZpdjJ-ILQAX"
      },
      "execution_count": null,
      "outputs": []
    },
    {
      "cell_type": "code",
      "source": [
        "#6. What are the values of the given expressions?\n",
        "'Hello, world!'[1]"
      ],
      "metadata": {
        "colab": {
          "base_uri": "https://localhost:8080/",
          "height": 35
        },
        "id": "bIB6UtvRL9nQ",
        "outputId": "1672a288-a69a-4ca5-accb-eee80889dc2c"
      },
      "execution_count": 4,
      "outputs": [
        {
          "output_type": "execute_result",
          "data": {
            "application/vnd.google.colaboratory.intrinsic+json": {
              "type": "string"
            },
            "text/plain": [
              "'e'"
            ]
          },
          "metadata": {},
          "execution_count": 4
        }
      ]
    },
    {
      "cell_type": "code",
      "source": [
        "'Hello, world!'[0:5]"
      ],
      "metadata": {
        "colab": {
          "base_uri": "https://localhost:8080/",
          "height": 35
        },
        "id": "BDD_ITq8MYwv",
        "outputId": "03e8d5b3-13c0-48e5-dd26-483e7360e8db"
      },
      "execution_count": 5,
      "outputs": [
        {
          "output_type": "execute_result",
          "data": {
            "application/vnd.google.colaboratory.intrinsic+json": {
              "type": "string"
            },
            "text/plain": [
              "'Hello'"
            ]
          },
          "metadata": {},
          "execution_count": 5
        }
      ]
    },
    {
      "cell_type": "code",
      "source": [
        "'Hello, world!'[:5]"
      ],
      "metadata": {
        "colab": {
          "base_uri": "https://localhost:8080/",
          "height": 35
        },
        "id": "SdyWTUYiMblf",
        "outputId": "b3b7d04d-0961-4c42-a677-d601fa9e6521"
      },
      "execution_count": 6,
      "outputs": [
        {
          "output_type": "execute_result",
          "data": {
            "application/vnd.google.colaboratory.intrinsic+json": {
              "type": "string"
            },
            "text/plain": [
              "'Hello'"
            ]
          },
          "metadata": {},
          "execution_count": 6
        }
      ]
    },
    {
      "cell_type": "code",
      "source": [
        "'Hello, world!'[3:]"
      ],
      "metadata": {
        "colab": {
          "base_uri": "https://localhost:8080/",
          "height": 35
        },
        "id": "2FeyH3gyMeNf",
        "outputId": "9ac694ec-74ca-4e69-887b-44e8e2d830f4"
      },
      "execution_count": 7,
      "outputs": [
        {
          "output_type": "execute_result",
          "data": {
            "application/vnd.google.colaboratory.intrinsic+json": {
              "type": "string"
            },
            "text/plain": [
              "'lo, world!'"
            ]
          },
          "metadata": {},
          "execution_count": 7
        }
      ]
    },
    {
      "cell_type": "code",
      "source": [
        "#7. What are the values of the following expressions?\n",
        "'Hello'.upper()"
      ],
      "metadata": {
        "colab": {
          "base_uri": "https://localhost:8080/",
          "height": 35
        },
        "id": "fdOMhTzQMxOW",
        "outputId": "e4f57c15-dd0d-434b-9afb-d0235d6c95f9"
      },
      "execution_count": 8,
      "outputs": [
        {
          "output_type": "execute_result",
          "data": {
            "application/vnd.google.colaboratory.intrinsic+json": {
              "type": "string"
            },
            "text/plain": [
              "'HELLO'"
            ]
          },
          "metadata": {},
          "execution_count": 8
        }
      ]
    },
    {
      "cell_type": "code",
      "source": [
        "'Hello'.upper().isupper()"
      ],
      "metadata": {
        "colab": {
          "base_uri": "https://localhost:8080/"
        },
        "id": "1-HLz6csM4Bf",
        "outputId": "5a6e2532-e8f9-4c5a-a583-63db221fe70e"
      },
      "execution_count": 9,
      "outputs": [
        {
          "output_type": "execute_result",
          "data": {
            "text/plain": [
              "True"
            ]
          },
          "metadata": {},
          "execution_count": 9
        }
      ]
    },
    {
      "cell_type": "code",
      "source": [
        "'Hello'.upper().lower()"
      ],
      "metadata": {
        "colab": {
          "base_uri": "https://localhost:8080/",
          "height": 35
        },
        "id": "l2huBLtWNASW",
        "outputId": "59a6d032-0f1f-4d1a-f67d-9a151bfebec5"
      },
      "execution_count": 10,
      "outputs": [
        {
          "output_type": "execute_result",
          "data": {
            "application/vnd.google.colaboratory.intrinsic+json": {
              "type": "string"
            },
            "text/plain": [
              "'hello'"
            ]
          },
          "metadata": {},
          "execution_count": 10
        }
      ]
    },
    {
      "cell_type": "code",
      "source": [
        "#8. What are the values of the following expressions?\n",
        "'Remember, remember, the fifth of July.'.split()"
      ],
      "metadata": {
        "colab": {
          "base_uri": "https://localhost:8080/"
        },
        "id": "zPy_sYxdND77",
        "outputId": "8da4456a-0dd0-4e30-c8aa-0f7d5d2a8d77"
      },
      "execution_count": 11,
      "outputs": [
        {
          "output_type": "execute_result",
          "data": {
            "text/plain": [
              "['Remember,', 'remember,', 'the', 'fifth', 'of', 'July.']"
            ]
          },
          "metadata": {},
          "execution_count": 11
        }
      ]
    },
    {
      "cell_type": "code",
      "source": [
        "'-'.join('There can only one.'.split())"
      ],
      "metadata": {
        "colab": {
          "base_uri": "https://localhost:8080/",
          "height": 35
        },
        "id": "KqE9_-XDMIP2",
        "outputId": "90b4cc4f-5d04-412b-f22b-7485fdb9d0c3"
      },
      "execution_count": 12,
      "outputs": [
        {
          "output_type": "execute_result",
          "data": {
            "application/vnd.google.colaboratory.intrinsic+json": {
              "type": "string"
            },
            "text/plain": [
              "'There-can-only-one.'"
            ]
          },
          "metadata": {},
          "execution_count": 12
        }
      ]
    },
    {
      "cell_type": "code",
      "source": [
        "#9. What are the methods for right-justifying, left-justifying, and centering a string?\n",
        "Sol.The rjust(), ljust(), and center() string methods, respectively"
      ],
      "metadata": {
        "id": "0o-3ose3OUbz"
      },
      "execution_count": null,
      "outputs": []
    },
    {
      "cell_type": "code",
      "source": [
        "#10. What is the best way to remove whitespace characters from the start or end?\n",
        "Sol.The lstrip() and rstrip() methods remove whitespace from the left and right ends of a string, respectively."
      ],
      "metadata": {
        "id": "nAR-WgtcOgxC"
      },
      "execution_count": null,
      "outputs": []
    }
  ]
}