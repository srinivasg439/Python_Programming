{
  "nbformat": 4,
  "nbformat_minor": 0,
  "metadata": {
    "colab": {
      "provenance": []
    },
    "kernelspec": {
      "name": "python3",
      "display_name": "Python 3"
    },
    "language_info": {
      "name": "python"
    }
  },
  "cells": [
    {
      "cell_type": "markdown",
      "source": [
        "1. Given a sentence, return the number of words which have the same first and last letter.\n",
        "Examples\n",
        "\n",
        "count_same_ends(\"Pop! goes the balloon\") ➞ 1\n",
        "\n",
        "count_same_ends(\"And the crowd goes wild!\") ➞ 0\n",
        "\n",
        "count_same_ends(\"No I am not in a gang.\") ➞ 1"
      ],
      "metadata": {
        "id": "6UhpyXX0v0QU"
      }
    },
    {
      "cell_type": "code",
      "execution_count": 2,
      "metadata": {
        "colab": {
          "base_uri": "https://localhost:8080/"
        },
        "id": "Y8cPUxGvvzLK",
        "outputId": "bee23936-5dbd-493f-edc2-c3a362724fba"
      },
      "outputs": [
        {
          "output_type": "execute_result",
          "data": {
            "text/plain": [
              "1"
            ]
          },
          "metadata": {},
          "execution_count": 2
        }
      ],
      "source": [
        "# Ans : \n",
        "def only_alpha(string):\n",
        "    new=\"\"\n",
        "    for i in string:\n",
        "        if i.isalpha():\n",
        "            new +=i\n",
        "    return new\n",
        "def count_same_ends(s):\n",
        "    s=s.lower()\n",
        "    s=s.split(\" \")\n",
        "    count=0\n",
        "    s=[only_alpha(i) for i in s]\n",
        "    for i in s:\n",
        "        if i[0]==i[-1]:\n",
        "            if len(i) > 1:\n",
        "                count+=1\n",
        "    return count\n",
        "\n",
        "count_same_ends(\"Pop! goes the balloon\")"
      ]
    },
    {
      "cell_type": "code",
      "source": [
        "count_same_ends(\"And the crowd goes wild!\")\n"
      ],
      "metadata": {
        "colab": {
          "base_uri": "https://localhost:8080/"
        },
        "id": "rswPBBDOxq7u",
        "outputId": "6a3bb58f-1dcd-444a-8825-54e425f473ab"
      },
      "execution_count": 3,
      "outputs": [
        {
          "output_type": "execute_result",
          "data": {
            "text/plain": [
              "0"
            ]
          },
          "metadata": {},
          "execution_count": 3
        }
      ]
    },
    {
      "cell_type": "code",
      "source": [
        "count_same_ends(\"No I am not in a gang.\")"
      ],
      "metadata": {
        "colab": {
          "base_uri": "https://localhost:8080/"
        },
        "id": "2KhoX70Exvoe",
        "outputId": "5f5ae46f-b2f8-4a37-d9ed-4341d7f4b482"
      },
      "execution_count": 4,
      "outputs": [
        {
          "output_type": "execute_result",
          "data": {
            "text/plain": [
              "1"
            ]
          },
          "metadata": {},
          "execution_count": 4
        }
      ]
    },
    {
      "cell_type": "markdown",
      "source": [
        "2. The Atbash cipher is an encryption method in which each letter of a word is replaced with its \"mirror\" letter in the alphabet: A <=> Z; B <=> Y; C <=> X; etc. Create a function that takes a string and applies the Atbash cipher to it.\n",
        "Examples\n",
        "\n",
        "atbash(\"apple\") ➞ \"zkkov\"\n",
        "\n",
        "atbash(\"Hello world!\") ➞ \"Svool dliow!\"\n",
        "\n",
        "atbash(\"Christmas is the 25th of December\") ➞ \"Xsirhgnzh rh gsv 25gs lu Wvxvnyvi\""
      ],
      "metadata": {
        "id": "3_OKcgnCx09W"
      }
    },
    {
      "cell_type": "code",
      "source": [
        "# Ans : \n",
        "def atbash(string):\n",
        "    n = ord('z') + ord('a')\n",
        "    N = ord('A') + ord('Z')\n",
        "    ans=''\n",
        "    string=string.split(\" \")\n",
        "    for s in string:\n",
        "        for i in s:\n",
        "            if i.isalpha(): \n",
        "                if i.isupper():\n",
        "                    ans+=(chr(N-ord(i)))\n",
        "                else:\n",
        "                    ans+=(chr(n-ord(i)))\n",
        "            \n",
        "            else:\n",
        "                ans+=i\n",
        "        ans+=\" \"\n",
        "    ans=ans[:-1]\n",
        "    return ans"
      ],
      "metadata": {
        "id": "H7H7bD42x3Q5"
      },
      "execution_count": 5,
      "outputs": []
    },
    {
      "cell_type": "code",
      "source": [
        "atbash(\"apple\")"
      ],
      "metadata": {
        "colab": {
          "base_uri": "https://localhost:8080/",
          "height": 35
        },
        "id": "CTKV80fux_kW",
        "outputId": "ee06d392-76fe-4340-faab-f42150b3ec0b"
      },
      "execution_count": 6,
      "outputs": [
        {
          "output_type": "execute_result",
          "data": {
            "text/plain": [
              "'zkkov'"
            ],
            "application/vnd.google.colaboratory.intrinsic+json": {
              "type": "string"
            }
          },
          "metadata": {},
          "execution_count": 6
        }
      ]
    },
    {
      "cell_type": "code",
      "source": [
        "atbash(\"Hello world!\")"
      ],
      "metadata": {
        "colab": {
          "base_uri": "https://localhost:8080/",
          "height": 35
        },
        "id": "nrOHqrScyFJ1",
        "outputId": "a335ebfd-186a-4c15-cd74-0f40703a1cce"
      },
      "execution_count": 7,
      "outputs": [
        {
          "output_type": "execute_result",
          "data": {
            "text/plain": [
              "'Svool dliow!'"
            ],
            "application/vnd.google.colaboratory.intrinsic+json": {
              "type": "string"
            }
          },
          "metadata": {},
          "execution_count": 7
        }
      ]
    },
    {
      "cell_type": "code",
      "source": [
        "atbash(\"Christmas is the 25th of December\")"
      ],
      "metadata": {
        "colab": {
          "base_uri": "https://localhost:8080/",
          "height": 35
        },
        "id": "cBmUROHCyK-4",
        "outputId": "e4e9b08e-39c1-4dc4-9f12-d41f892c0e11"
      },
      "execution_count": 8,
      "outputs": [
        {
          "output_type": "execute_result",
          "data": {
            "text/plain": [
              "'Xsirhgnzh rh gsv 25gs lu Wvxvnyvi'"
            ],
            "application/vnd.google.colaboratory.intrinsic+json": {
              "type": "string"
            }
          },
          "metadata": {},
          "execution_count": 8
        }
      ]
    },
    {
      "cell_type": "markdown",
      "source": [
        "3. Create a class Employee that will take a full name as argument, as well as a set of none, one or more keywords. Each instance should have a name and a lastname attributes plus one more attribute for each of the keywords, if any.\n",
        "Examples\n",
        "\n",
        "john = Employee(\"John Doe\") mary = Employee(\"Mary Major\", salary=120000) richard = Employee(\"Richard Roe\", salary=110000, height=178) giancarlo = Employee(\"Giancarlo Rossi\", salary=115000, height=182, nationality=\"Italian\")\n",
        "\n",
        "john.name ➞ \"John\" mary.lastname ➞ \"Major\" richard.height ➞ 178 giancarlo.nationality ➞ \"Italian\""
      ],
      "metadata": {
        "id": "yNlrCeH6yVsp"
      }
    },
    {
      "cell_type": "code",
      "source": [
        "# Ans : \n",
        "class Employee:\n",
        "    def __init__(self, full_name, **kwargs):\n",
        "        self.name = full_name.split(' ')[0]\n",
        "        self.lastname = full_name.split(' ')[-1] \n",
        "#         print(kwargs)\n",
        "        for var in kwargs:\n",
        "            if isinstance(kwargs[var], str):\n",
        "                exec(\"self.{0} = '{1}'\".format(var,kwargs[var]))\n",
        "            else:\n",
        "                exec(\"self.{0} = {1}\".format(var,kwargs[var]))"
      ],
      "metadata": {
        "id": "dM0OpGTQyZI7"
      },
      "execution_count": 9,
      "outputs": []
    },
    {
      "cell_type": "code",
      "source": [
        "john = Employee(\"John Doe\")\n",
        "mary = Employee(\"Mary Major\", salary=120000)\n",
        "richard = Employee(\"Richard Roe\", salary=110000, height=178)\n",
        "giancarlo = Employee(\"Giancarlo Rossi\", salary=115000, height=182, nationality=\"Italian\")"
      ],
      "metadata": {
        "id": "5iEEZvoLykQb"
      },
      "execution_count": 10,
      "outputs": []
    },
    {
      "cell_type": "code",
      "source": [
        "john.name"
      ],
      "metadata": {
        "colab": {
          "base_uri": "https://localhost:8080/",
          "height": 35
        },
        "id": "Tqr97uF-ypWf",
        "outputId": "7521444c-95d3-4717-8d53-112ef705492b"
      },
      "execution_count": 11,
      "outputs": [
        {
          "output_type": "execute_result",
          "data": {
            "text/plain": [
              "'John'"
            ],
            "application/vnd.google.colaboratory.intrinsic+json": {
              "type": "string"
            }
          },
          "metadata": {},
          "execution_count": 11
        }
      ]
    },
    {
      "cell_type": "code",
      "source": [
        "mary.lastname"
      ],
      "metadata": {
        "colab": {
          "base_uri": "https://localhost:8080/",
          "height": 35
        },
        "id": "mQc4DeIPytME",
        "outputId": "3af4bca8-adb8-4f3b-a5a4-e680b283c06d"
      },
      "execution_count": 12,
      "outputs": [
        {
          "output_type": "execute_result",
          "data": {
            "text/plain": [
              "'Major'"
            ],
            "application/vnd.google.colaboratory.intrinsic+json": {
              "type": "string"
            }
          },
          "metadata": {},
          "execution_count": 12
        }
      ]
    },
    {
      "cell_type": "code",
      "source": [
        "richard.height"
      ],
      "metadata": {
        "colab": {
          "base_uri": "https://localhost:8080/"
        },
        "id": "IewQ6l6Oyz-k",
        "outputId": "69c82717-ec0e-4acc-bed7-58ba02f4c31b"
      },
      "execution_count": 13,
      "outputs": [
        {
          "output_type": "execute_result",
          "data": {
            "text/plain": [
              "178"
            ]
          },
          "metadata": {},
          "execution_count": 13
        }
      ]
    },
    {
      "cell_type": "code",
      "source": [
        "giancarlo.nationality"
      ],
      "metadata": {
        "colab": {
          "base_uri": "https://localhost:8080/",
          "height": 35
        },
        "id": "CKeoii7ry4WB",
        "outputId": "05015524-14f5-4b14-c0c2-c58b2d8e7a85"
      },
      "execution_count": 14,
      "outputs": [
        {
          "output_type": "execute_result",
          "data": {
            "text/plain": [
              "'Italian'"
            ],
            "application/vnd.google.colaboratory.intrinsic+json": {
              "type": "string"
            }
          },
          "metadata": {},
          "execution_count": 14
        }
      ]
    },
    {
      "cell_type": "markdown",
      "source": [
        "4. Create a function that determines whether each seat can \"see\" the front-stage. A number can \"see\" the front-stage if it is strictly greater than the number before it.\n",
        "Everyone can see the front-stage in the example below:\n",
        "\n",
        "FRONT STAGE [[1, 2, 3, 2, 1, 1], [2, 4, 4, 3, 2, 2], [5, 5, 5, 5, 4, 4], [6, 6, 7, 6, 5, 5]]\n",
        "\n",
        "Starting from the left, the 6 > 5 > 2 > 1, so all numbers can see. 6 > 5 > 4 > 2 - so all numbers can see, etc.\n",
        "\n",
        "Not everyone can see the front-stage in the example below:\n",
        "\n",
        "FRONT STAGE [[1, 2, 3, 2, 1, 1], [2, 4, 4, 3, 2, 2], [5, 5, 5, 10, 4, 4], [6, 6, 7, 6, 5, 5]]\n",
        "\n",
        "The 10 is directly in front of the 6 and blocking its view.\n",
        "\n",
        "The function should return True if every number can see the front-stage, and False if even a single number cannot.\n",
        "\n",
        "Examples\n",
        "\n",
        "can_see_stage([ [1, 2, 3], [4, 5, 6], [7, 8, 9] ]) ➞ True\n",
        "\n",
        "can_see_stage([ [0, 0, 0], [1, 1, 1], [2, 2, 2] ]) ➞ True\n",
        "\n",
        "can_see_stage([ [2, 0, 0], [1, 1, 1], [2, 2, 2] ]) ➞ False\n",
        "\n",
        "can_see_stage([ [1, 0, 0], [1, 1, 1], [2, 2, 2] ]) ➞ False\n",
        "\n",
        "Number must be strictly smaller than the number directly behind it."
      ],
      "metadata": {
        "id": "mJQtUfuey-hO"
      }
    },
    {
      "cell_type": "code",
      "source": [
        "# Ans : \n",
        "def can_see_stage(mat):\n",
        "    for i in range(len(mat[0])):\n",
        "        new = True\n",
        "        for j in range(len(mat)-1,-1,-1):\n",
        "            if new == True:\n",
        "                max = mat[j][i]\n",
        "                new = False\n",
        "            elif (max<=mat[j][i]):\n",
        "                return False\n",
        "            else:\n",
        "                max = mat[j][i]\n",
        "            if j == 0:\n",
        "                new = True\n",
        "\n",
        "    return True"
      ],
      "metadata": {
        "id": "9Y3kBzMzzJWv"
      },
      "execution_count": 15,
      "outputs": []
    },
    {
      "cell_type": "code",
      "source": [
        "can_see_stage([\n",
        "  [1, 2, 3],\n",
        "  [4, 5, 6],\n",
        "  [7, 8, 9]\n",
        "])"
      ],
      "metadata": {
        "colab": {
          "base_uri": "https://localhost:8080/"
        },
        "id": "wgQjXSmVzP0k",
        "outputId": "d55224e4-5ce0-4cb4-96a6-93aa29080473"
      },
      "execution_count": 16,
      "outputs": [
        {
          "output_type": "execute_result",
          "data": {
            "text/plain": [
              "True"
            ]
          },
          "metadata": {},
          "execution_count": 16
        }
      ]
    },
    {
      "cell_type": "code",
      "source": [
        "can_see_stage([\n",
        "  [0, 0, 0],\n",
        "  [1, 1, 1],\n",
        "  [2, 2, 2]\n",
        "])"
      ],
      "metadata": {
        "colab": {
          "base_uri": "https://localhost:8080/"
        },
        "id": "ilMcK89xzUFh",
        "outputId": "563db6d3-1cdf-49f9-8de4-7ab37d260e81"
      },
      "execution_count": 17,
      "outputs": [
        {
          "output_type": "execute_result",
          "data": {
            "text/plain": [
              "True"
            ]
          },
          "metadata": {},
          "execution_count": 17
        }
      ]
    },
    {
      "cell_type": "code",
      "source": [
        "can_see_stage([\n",
        "  [2, 0, 0], \n",
        "  [1, 1, 1], \n",
        "  [2, 2, 2]\n",
        "])"
      ],
      "metadata": {
        "colab": {
          "base_uri": "https://localhost:8080/"
        },
        "id": "yUNGXOXszYjO",
        "outputId": "b000e461-9017-4b09-ea0a-c93a082902f6"
      },
      "execution_count": 18,
      "outputs": [
        {
          "output_type": "execute_result",
          "data": {
            "text/plain": [
              "False"
            ]
          },
          "metadata": {},
          "execution_count": 18
        }
      ]
    },
    {
      "cell_type": "code",
      "source": [
        "can_see_stage([\n",
        "  [1, 0, 0],\n",
        "  [1, 1, 1],\n",
        "  [2, 2, 2]\n",
        "])"
      ],
      "metadata": {
        "colab": {
          "base_uri": "https://localhost:8080/"
        },
        "id": "1cVAhaEzzety",
        "outputId": "e59974bb-c6fc-4922-da1d-46c13c02fc11"
      },
      "execution_count": 19,
      "outputs": [
        {
          "output_type": "execute_result",
          "data": {
            "text/plain": [
              "False"
            ]
          },
          "metadata": {},
          "execution_count": 19
        }
      ]
    },
    {
      "cell_type": "markdown",
      "source": [
        "5. Create a Pizza class with the attributes order_number and ingredients (which is given as a list). Only the ingredients will be given as input.\n",
        "You should also make it so that its possible to choose a ready made pizza flavour rather than typing out the ingredients manually! As well as creating this Pizza class, hard-code the following pizza flavours.\n",
        "\n",
        "Name Ingredients hawaiian ham, pineapple meat_festival beef, meatball, bacon garden_feast spinach, olives, mushroom\n",
        "\n",
        "Examples\n",
        "\n",
        "p1 = Pizza([\"bacon\", \"parmesan\", \"ham\"]) # order 1 p2 = Pizza.garden_feast() # order 2\n",
        "\n",
        "p1.ingredients ➞ [\"bacon\", \"parmesan\", \"ham\"]\n",
        "\n",
        "p2.ingredients ➞ [\"spinach\", \"olives\", \"mushroom\"]\n",
        "\n",
        "p1.order_number ➞ 1\n",
        "\n",
        "p2.order_number ➞ 2"
      ],
      "metadata": {
        "id": "0UPEJbZ9zllV"
      }
    },
    {
      "cell_type": "code",
      "source": [
        "# Ans : \n",
        "order_number = 0\n",
        "class Pizza:\n",
        "    def __init__(self, *ingrd):\n",
        "        global order_number\n",
        "        order_number += 1\n",
        "        self.order_number = order_number\n",
        "        self.ingredients = ingrd[0]\n",
        "        \n",
        "    @classmethod\n",
        "    def garden_feast(self):\n",
        "        global order_number\n",
        "        order_number += 1\n",
        "        self.order_number = order_number\n",
        "        self.ingredients = [\"spinach\", \"olives\", \"mushroom\"]\n",
        "        return self\n",
        "        \n",
        "    @classmethod\n",
        "    def meat_festival(self):\n",
        "        global order_number\n",
        "        order_number += 1\n",
        "        self.order_number = order_number\n",
        "        self.ingredients = ['beef', 'meatball', 'bacon']\n",
        "        return self\n",
        "    \n",
        "    @classmethod    \n",
        "    def hawaiian(self):\n",
        "        global order_number\n",
        "        order_number += 1\n",
        "        self.order_number = order_number\n",
        "        self.ingredients = ['ham', 'pineapple']\n",
        "        return self"
      ],
      "metadata": {
        "id": "idcAPdvSzyzA"
      },
      "execution_count": 21,
      "outputs": []
    },
    {
      "cell_type": "code",
      "source": [
        "p1 = Pizza([\"bacon\", \"parmesan\", \"ham\"])    # order 1\n",
        "p2 = Pizza.garden_feast() "
      ],
      "metadata": {
        "id": "ZNEMHhi8z7Un"
      },
      "execution_count": 22,
      "outputs": []
    },
    {
      "cell_type": "code",
      "source": [
        "p1.ingredients"
      ],
      "metadata": {
        "colab": {
          "base_uri": "https://localhost:8080/"
        },
        "id": "RADdKYad0B2J",
        "outputId": "70c2d102-a139-4395-e79d-950e5893bcd0"
      },
      "execution_count": 23,
      "outputs": [
        {
          "output_type": "execute_result",
          "data": {
            "text/plain": [
              "['bacon', 'parmesan', 'ham']"
            ]
          },
          "metadata": {},
          "execution_count": 23
        }
      ]
    },
    {
      "cell_type": "code",
      "source": [
        "p2.ingredients"
      ],
      "metadata": {
        "colab": {
          "base_uri": "https://localhost:8080/"
        },
        "id": "7D3xK4uQ0Fke",
        "outputId": "19dfa150-cb4c-4a1d-f422-171419d3fb57"
      },
      "execution_count": 24,
      "outputs": [
        {
          "output_type": "execute_result",
          "data": {
            "text/plain": [
              "['spinach', 'olives', 'mushroom']"
            ]
          },
          "metadata": {},
          "execution_count": 24
        }
      ]
    },
    {
      "cell_type": "code",
      "source": [
        "p1.order_number"
      ],
      "metadata": {
        "colab": {
          "base_uri": "https://localhost:8080/"
        },
        "id": "h5CC3pi30Jzl",
        "outputId": "f53b682e-a6d3-423a-9aac-eb1c9dccf229"
      },
      "execution_count": 25,
      "outputs": [
        {
          "output_type": "execute_result",
          "data": {
            "text/plain": [
              "1"
            ]
          },
          "metadata": {},
          "execution_count": 25
        }
      ]
    },
    {
      "cell_type": "code",
      "source": [
        "p2.order_number"
      ],
      "metadata": {
        "colab": {
          "base_uri": "https://localhost:8080/"
        },
        "id": "hpelX8hN0Or6",
        "outputId": "54afdddc-a6c8-411c-b998-d3078881c7a7"
      },
      "execution_count": 26,
      "outputs": [
        {
          "output_type": "execute_result",
          "data": {
            "text/plain": [
              "2"
            ]
          },
          "metadata": {},
          "execution_count": 26
        }
      ]
    }
  ]
}