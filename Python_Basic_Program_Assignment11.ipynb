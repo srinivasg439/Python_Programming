{
  "nbformat": 4,
  "nbformat_minor": 0,
  "metadata": {
    "colab": {
      "name": "Python_Basic_Program_Assignment11.ipynb",
      "provenance": []
    },
    "kernelspec": {
      "name": "python3",
      "display_name": "Python 3"
    },
    "language_info": {
      "name": "python"
    }
  },
  "cells": [
    {
      "cell_type": "code",
      "execution_count": 4,
      "metadata": {
        "colab": {
          "base_uri": "https://localhost:8080/"
        },
        "id": "O-CICH7BV64j",
        "outputId": "087a5a7c-afd7-478d-effa-c70f3288a442"
      },
      "outputs": [
        {
          "output_type": "stream",
          "name": "stdout",
          "text": [
            "['python', 'good', 'programming', 'language']\n"
          ]
        }
      ],
      "source": [
        "#1.\tWrite a Python program to find words which are greater than given length k?\n",
        "\n",
        "def string_k(k, str):\n",
        "     \n",
        "    # create the empty string\n",
        "    string = []\n",
        "     \n",
        "    # split the string where space is comes\n",
        "    text = str.split(\" \")\n",
        "     \n",
        "    # iterate the loop till every substring\n",
        "    for x in text:\n",
        "         \n",
        "        # if length of current sub string\n",
        "        # is greater than k then\n",
        "        if len(x) > k:\n",
        "             # append this sub string in\n",
        "            # string list\n",
        "            string.append(x)\n",
        "             \n",
        "     # return string list\n",
        "    return string\n",
        " \n",
        " \n",
        "# Driver Program    \n",
        "k = 3\n",
        "str =\"python is a good programming language\"\n",
        "print(string_k(k, str))"
      ]
    },
    {
      "cell_type": "code",
      "source": [
        "#2.\tWrite a Python program for removing i-th character from a string?\n",
        "def remove(string, i): \n",
        "  \n",
        "    for j in range(len(string)):\n",
        "        if j == i:\n",
        "            string = string.replace(string[i], \"\", 1)\n",
        "    return string\n",
        "      \n",
        "# Driver Code\n",
        "if __name__ == '__main__':\n",
        "      \n",
        "    string = \"programming\"\n",
        "      \n",
        "    # Remove nth index element\n",
        "    i = 5\n",
        "    \n",
        "    # Print the new string\n",
        "    print(remove(string, i))"
      ],
      "metadata": {
        "colab": {
          "base_uri": "https://localhost:8080/"
        },
        "id": "bt61QS9px7Z1",
        "outputId": "0e1f04ff-7a2c-4e6e-fecb-09f56f93908e"
      },
      "execution_count": 5,
      "outputs": [
        {
          "output_type": "stream",
          "name": "stdout",
          "text": [
            "progrmming\n"
          ]
        }
      ]
    },
    {
      "cell_type": "code",
      "source": [
        "#3.\tWrite a Python program to split and join a string?\n",
        "def split_string(string):\n",
        "  \n",
        "    # Split the string based on space delimiter\n",
        "    list_string = string.split(' ')\n",
        "      \n",
        "    return list_string\n",
        "  \n",
        "def join_string(list_string):\n",
        "  \n",
        "    # Join the string based on '-' delimiter\n",
        "    string = '-'.join(list_string)\n",
        "      \n",
        "    return string\n",
        "  \n",
        "# Driver Function\n",
        "if __name__ == '__main__':\n",
        "    string = 'Python Programming Language'\n",
        "      \n",
        "    # Splitting a string\n",
        "    list_string = split_string(string)\n",
        "    print(list_string)\n",
        "    # Join list of strings into one\n",
        "    new_string = join_string(list_string)\n",
        "    print(new_string)"
      ],
      "metadata": {
        "colab": {
          "base_uri": "https://localhost:8080/"
        },
        "id": "HrI0rlGEyR8E",
        "outputId": "831e123d-170b-4fd7-b299-36c525b9fa46"
      },
      "execution_count": 6,
      "outputs": [
        {
          "output_type": "stream",
          "name": "stdout",
          "text": [
            "['Python', 'Programming', 'Language']\n",
            "Python-Programming-Language\n"
          ]
        }
      ]
    },
    {
      "cell_type": "code",
      "source": [
        "#4.\tWrite a Python to check if a given string is binary string or not?\n",
        "def check(string) :\n",
        " \n",
        "    # set function convert string\n",
        "    # into set of characters .\n",
        "    p = set(string)\n",
        " \n",
        "    # declare set of '0', '1' .\n",
        "    s = {'0', '1'}\n",
        " \n",
        "\n",
        "    if s == p or p == {'0'} or p == {'1'}:\n",
        "        print(\"Yes\")\n",
        "    else :\n",
        "        print(\"No\")\n",
        "    # driver code\n",
        "if __name__ == \"__main__\" :\n",
        " \n",
        "    string = \"101010000111\"\n",
        " \n",
        "    # function calling\n",
        "    check(string)"
      ],
      "metadata": {
        "colab": {
          "base_uri": "https://localhost:8080/"
        },
        "id": "eQdG6Z-1zQtG",
        "outputId": "965aa395-b00e-478d-a5c4-0e87579ad36b"
      },
      "execution_count": 18,
      "outputs": [
        {
          "output_type": "stream",
          "name": "stdout",
          "text": [
            "Yes\n"
          ]
        }
      ]
    },
    {
      "cell_type": "code",
      "source": [
        "#5.\tWrite a Python program to find uncommon words from two Strings?\n",
        "def UncommonWords(A, B):\n",
        "  \n",
        "    # count will contain all the word counts\n",
        "    count = {}\n",
        "      \n",
        "    # insert words of string A to hash\n",
        "    for word in A.split():\n",
        "        count[word] = count.get(word, 0) + 1\n",
        "      \n",
        "    # insert words of string B to hash\n",
        "    for word in B.split():\n",
        "        count[word] = count.get(word, 0) + 1\n",
        "  \n",
        "    # return required list of words\n",
        "    return [word for word in count if count[word] == 1]\n",
        "  \n",
        "# Driver Code\n",
        "A = \"welcome to python programming\"\n",
        "B = \"welcome python language\"\n",
        "\n",
        "print(UncommonWords(A, B))"
      ],
      "metadata": {
        "colab": {
          "base_uri": "https://localhost:8080/"
        },
        "id": "mn0wTzar8wN5",
        "outputId": "10283b25-c6f1-4646-da90-7abc9515c589"
      },
      "execution_count": 10,
      "outputs": [
        {
          "output_type": "stream",
          "name": "stdout",
          "text": [
            "['to', 'programming', 'language']\n"
          ]
        }
      ]
    },
    {
      "cell_type": "code",
      "source": [
        "#6.\tWrite a Python to find all duplicate characters in string?\n",
        "## initializing string\n",
        "string = \"pythonprogramminglanguage\"\n",
        "## initializing a list to append all the duplicate characters\n",
        "duplicates = []\n",
        "for char in string:\n",
        "   ## checking whether the character have a duplicate or not\n",
        "   ## str.count(char) returns the frequency of a char in the str\n",
        "   if string.count(char) > 1:\n",
        "   ## appending to the list if it's already not present\n",
        "    if char not in duplicates:\n",
        "      duplicates.append(char)\n",
        "print(*duplicates)"
      ],
      "metadata": {
        "colab": {
          "base_uri": "https://localhost:8080/"
        },
        "id": "g00aUUYV-N99",
        "outputId": "79d231af-c8e1-4647-e844-72d5d7cd41fb"
      },
      "execution_count": 15,
      "outputs": [
        {
          "output_type": "stream",
          "name": "stdout",
          "text": [
            "p o n r g a m\n"
          ]
        }
      ]
    },
    {
      "cell_type": "code",
      "source": [
        "#7.\tWrite a Python Program to check if a string contains any special character?\n",
        "import re\n",
        "  \n",
        "# Function checks if the string\n",
        "# contains any special character\n",
        "def run(string):\n",
        "  \n",
        "    # Make own character set and pass \n",
        "    # this as argument in compile method\n",
        "    regex = re.compile('[@_!#$%^&*()<>?/\\|}{~:]')\n",
        "      \n",
        "    # Pass the string in search \n",
        "    # method of regex object.    \n",
        "    if(regex.search(string) == None):\n",
        "      print(\"String is accepted\")\n",
        "          \n",
        "    else:\n",
        "        print(\"String is not accepted.\")\n",
        "      \n",
        "  \n",
        "# Driver Code\n",
        "if __name__ == '__main__' :\n",
        "      \n",
        "    # Enter the string\n",
        "    string = \"python@program$language\"\n",
        "      \n",
        "    # calling run function \n",
        "    run(string)"
      ],
      "metadata": {
        "colab": {
          "base_uri": "https://localhost:8080/"
        },
        "id": "Zx_Pnl8K-zzt",
        "outputId": "bcf3ec9a-e420-4341-abb8-57673dc17346"
      },
      "execution_count": 17,
      "outputs": [
        {
          "output_type": "stream",
          "name": "stdout",
          "text": [
            "String is not accepted.\n"
          ]
        }
      ]
    }
  ]
}