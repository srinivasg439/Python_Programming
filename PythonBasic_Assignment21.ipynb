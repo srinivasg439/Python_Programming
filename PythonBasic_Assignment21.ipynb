{
  "nbformat": 4,
  "nbformat_minor": 0,
  "metadata": {
    "colab": {
      "provenance": []
    },
    "kernelspec": {
      "name": "python3",
      "display_name": "Python 3"
    },
    "language_info": {
      "name": "python"
    }
  },
  "cells": [
    {
      "cell_type": "markdown",
      "source": [
        "1. Add the current date to the text file today.txt as a string."
      ],
      "metadata": {
        "id": "QSj6u1mgq8JI"
      }
    },
    {
      "cell_type": "code",
      "execution_count": 14,
      "metadata": {
        "id": "ytufH3TtWOfq"
      },
      "outputs": [],
      "source": [
        "from datetime import date\n",
        "\n",
        "now = date.today()\n",
        "\n",
        "nowstr = now.isoformat()\n",
        "\n",
        "with open('today','wt') as output:\n",
        "  print(nowstr,file = output)\n"
      ]
    },
    {
      "cell_type": "markdown",
      "source": [
        "2. Read the text file today.txt into the string today_string"
      ],
      "metadata": {
        "id": "uyKiRCeQtl4t"
      }
    },
    {
      "cell_type": "code",
      "source": [
        "with open('today','rt') as textfile:\n",
        "  today_string = textfile.read()\n",
        "print(today_string)"
      ],
      "metadata": {
        "colab": {
          "base_uri": "https://localhost:8080/"
        },
        "id": "c96HWa_xtpLe",
        "outputId": "7d80c2a0-50f8-44e4-9057-444337977632"
      },
      "execution_count": 15,
      "outputs": [
        {
          "output_type": "stream",
          "name": "stdout",
          "text": [
            "2023-01-29\n",
            "\n"
          ]
        }
      ]
    },
    {
      "cell_type": "markdown",
      "source": [
        "3. Parse the date from today_string."
      ],
      "metadata": {
        "id": "Hd3bBV4_usOK"
      }
    },
    {
      "cell_type": "code",
      "source": [
        "fmt ='%Y-%m-%d\\n'"
      ],
      "metadata": {
        "id": "EMtgB9q9uvzQ"
      },
      "execution_count": null,
      "outputs": []
    },
    {
      "cell_type": "markdown",
      "source": [
        "datetime.strptime(today_string, fmt)"
      ],
      "metadata": {
        "id": "8e1TNXghyBh4"
      }
    },
    {
      "cell_type": "markdown",
      "source": [
        "4. List the files in your current directory"
      ],
      "metadata": {
        "id": "4JI1xmx7yDIl"
      }
    },
    {
      "cell_type": "code",
      "source": [
        "import os\n",
        "os.listdir('.')"
      ],
      "metadata": {
        "colab": {
          "base_uri": "https://localhost:8080/"
        },
        "id": "T0hJN-ufyIPD",
        "outputId": "01803ac1-8e55-45dc-dfce-ec02ae6eefe9"
      },
      "execution_count": 23,
      "outputs": [
        {
          "output_type": "execute_result",
          "data": {
            "text/plain": [
              "['.config', 'today', 'sample_data']"
            ]
          },
          "metadata": {},
          "execution_count": 23
        }
      ]
    },
    {
      "cell_type": "markdown",
      "source": [
        "5. Create a list of all of the files in your parent directory (minimum five files should be available)."
      ],
      "metadata": {
        "id": "ysfYwkW-7mHX"
      }
    },
    {
      "cell_type": "code",
      "source": [
        "import os\n",
        "os.listdir('..')"
      ],
      "metadata": {
        "colab": {
          "base_uri": "https://localhost:8080/"
        },
        "id": "ovzZ0fJJ7qcz",
        "outputId": "1cce0937-0b5f-40d9-d1ee-6d999fbd139d"
      },
      "execution_count": 25,
      "outputs": [
        {
          "output_type": "execute_result",
          "data": {
            "text/plain": [
              "['dev',\n",
              " 'etc',\n",
              " 'root',\n",
              " 'boot',\n",
              " 'mnt',\n",
              " 'tmp',\n",
              " 'lib64',\n",
              " 'opt',\n",
              " 'var',\n",
              " 'bin',\n",
              " 'sbin',\n",
              " 'run',\n",
              " 'libx32',\n",
              " 'lib',\n",
              " 'proc',\n",
              " 'usr',\n",
              " 'home',\n",
              " 'sys',\n",
              " 'media',\n",
              " 'lib32',\n",
              " 'srv',\n",
              " 'content',\n",
              " '.dockerenv',\n",
              " 'datalab',\n",
              " 'tools',\n",
              " 'NGC-DL-CONTAINER-LICENSE']"
            ]
          },
          "metadata": {},
          "execution_count": 25
        }
      ]
    },
    {
      "cell_type": "markdown",
      "source": [
        "6. Use multiprocessing to create three separate processes. Make each one wait a random number of seconds between one and five, print the current time, and then exit.\n",
        "\n",
        "import multiprocessing\n",
        "\n",
        "def now(seconds): from datetime import datetime from time import sleep sleep(seconds) print('wait', seconds, 'seconds, time is', datetime.utcnow())\n",
        "\n",
        "if name == 'main': import random for n in range(3): seconds = random.random() proc = multiprocessing.Process(target=now, args=(seconds,)) proc.start()"
      ],
      "metadata": {
        "id": "x76tGhT08G8A"
      }
    },
    {
      "cell_type": "markdown",
      "source": [
        "7. Create a date object of your day of birth."
      ],
      "metadata": {
        "id": "yCuYiAZs8XFh"
      }
    },
    {
      "cell_type": "code",
      "source": [
        "my_day = date(1988, 9, 22)\n",
        "my_day"
      ],
      "metadata": {
        "colab": {
          "base_uri": "https://localhost:8080/"
        },
        "id": "-KerPOdl8Ygn",
        "outputId": "fda87346-c495-435b-d9fd-cf65b1c2f837"
      },
      "execution_count": 27,
      "outputs": [
        {
          "output_type": "execute_result",
          "data": {
            "text/plain": [
              "datetime.date(1988, 9, 22)"
            ]
          },
          "metadata": {},
          "execution_count": 27
        }
      ]
    },
    {
      "cell_type": "markdown",
      "source": [
        "8. What day of the week was your day of birth?"
      ],
      "metadata": {
        "id": "ZmrF9aNE94rA"
      }
    },
    {
      "cell_type": "code",
      "source": [
        "my_day.weekday()"
      ],
      "metadata": {
        "colab": {
          "base_uri": "https://localhost:8080/"
        },
        "id": "Ft-JDfev96B4",
        "outputId": "254a4a19-ea83-4153-a2d1-ce81cb5c438d"
      },
      "execution_count": 28,
      "outputs": [
        {
          "output_type": "execute_result",
          "data": {
            "text/plain": [
              "3"
            ]
          },
          "metadata": {},
          "execution_count": 28
        }
      ]
    },
    {
      "cell_type": "code",
      "source": [
        "my_day.isoweekday()"
      ],
      "metadata": {
        "colab": {
          "base_uri": "https://localhost:8080/"
        },
        "id": "TQIOpppl-QBN",
        "outputId": "c7832775-9dbc-4e1d-d608-9ea5a97f16d8"
      },
      "execution_count": 29,
      "outputs": [
        {
          "output_type": "execute_result",
          "data": {
            "text/plain": [
              "4"
            ]
          },
          "metadata": {},
          "execution_count": 29
        }
      ]
    },
    {
      "cell_type": "markdown",
      "source": [
        "With weekday(), Monday is 0 and Sunday is 6. With isoweekday(), Monday is 1 and Sunday is 7. Therefore, this date was a Saturday."
      ],
      "metadata": {
        "id": "eXljwE9L-wq2"
      }
    },
    {
      "cell_type": "markdown",
      "source": [
        "9. When will you be (or when were you) 10,000 days old?"
      ],
      "metadata": {
        "id": "cTKFTj1D-4E-"
      }
    },
    {
      "cell_type": "code",
      "source": [
        "from datetime import timedelta\n",
        "party_day = my_day + timedelta(days=10000)\n",
        "party_day"
      ],
      "metadata": {
        "colab": {
          "base_uri": "https://localhost:8080/"
        },
        "id": "-S0xj6Sv-514",
        "outputId": "466303ef-3ba3-4142-b291-ae03cf955584"
      },
      "execution_count": 32,
      "outputs": [
        {
          "output_type": "execute_result",
          "data": {
            "text/plain": [
              "datetime.date(2016, 2, 8)"
            ]
          },
          "metadata": {},
          "execution_count": 32
        }
      ]
    }
  ]
}