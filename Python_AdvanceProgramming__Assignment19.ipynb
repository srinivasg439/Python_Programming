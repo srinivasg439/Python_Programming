{
  "nbformat": 4,
  "nbformat_minor": 0,
  "metadata": {
    "colab": {
      "provenance": []
    },
    "kernelspec": {
      "name": "python3",
      "display_name": "Python 3"
    },
    "language_info": {
      "name": "python"
    }
  },
  "cells": [
    {
      "cell_type": "markdown",
      "source": [
        "1. Create a checker board generator, which takes as inputs n and 2 elements to generate an n x n checkerboard with those two elements as alternating squares.\n",
        "Examples\n",
        "\n",
        "checker_board(2, 7, 6) ➞ [ [7, 6], [6, 7] ]\n",
        "\n",
        "checker_board(3, \"A\", \"B\") ➞ [ [\"A\", \"B\", \"A\"], [\"B\", \"A\", \"B\"], [\"A\", \"B\", \"A\"] ]\n",
        "\n",
        "checker_board(4, \"c\", \"d\") ➞ [ [\"c\", \"d\", \"c\", \"d\"], [\"d\", \"c\", \"d\", \"c\"], [\"c\", \"d\", \"c\", \"d\"], [\"d\", \"c\", \"d\", \"c\"] ]\n",
        "\n",
        "checker_board(4, \"c\", \"c\") ➞ \"invalid\""
      ],
      "metadata": {
        "id": "KVD4g-6QBcf-"
      }
    },
    {
      "cell_type": "code",
      "execution_count": 1,
      "metadata": {
        "colab": {
          "base_uri": "https://localhost:8080/"
        },
        "id": "jVvuySsttTN-",
        "outputId": "456e91da-d2ba-4046-ba2c-00799f0234a5"
      },
      "outputs": [
        {
          "output_type": "stream",
          "name": "stdout",
          "text": [
            "[[7, 6], [6, 7]]\n",
            "[['A', 'B', 'A'], ['B', 'A', 'B'], ['A', 'B', 'A']]\n",
            "[['c', 'd', 'c', 'd'], ['d', 'c', 'd', 'c'], ['c', 'd', 'c', 'd'], ['d', 'c', 'd', 'c']]\n",
            "invalid\n"
          ]
        }
      ],
      "source": [
        "import numpy as np\n",
        "\n",
        "def checker_board(n,e1,e2):\n",
        "    if e1 != e2:\n",
        "        l = []\n",
        "        for i in range(n):\n",
        "            l1 = []\n",
        "\n",
        "            for j in range(n):\n",
        "                if i % 2 == 0:\n",
        "                    if j % 2 == 0:\n",
        "                        l1.append(e1) \n",
        "                    else:\n",
        "                        l1.append(e2)\n",
        "                else:\n",
        "                    if j % 2 == 0:\n",
        "                        l1.append(e2) \n",
        "                    else:\n",
        "                        l1.append(e1) \n",
        "\n",
        "            l.append(l1)\n",
        "        return l\n",
        "    else:\n",
        "        return \"invalid\"\n",
        "\n",
        "print(checker_board(2,7,6))\n",
        "print(checker_board(3, \"A\", \"B\"))\n",
        "print(checker_board(4, \"c\", \"d\"))\n",
        "print(checker_board(4, \"c\", \"c\"))"
      ]
    },
    {
      "cell_type": "markdown",
      "source": [
        "2. A string is an almost-palindrome if, by changing only one character, you can make it a palindrome. Create a function that returns True if a string is an almost-palindrome and False otherwise.\n",
        "Examples\n",
        "\n",
        "almost_palindrome(\"abcdcbg\") ➞ True\n",
        "\n",
        "Transformed to \"abcdcba\" by changing \"g\" to \"a\".\n",
        "almost_palindrome(\"abccia\") ➞ True\n",
        "\n",
        "Transformed to \"abccba\" by changing \"i\" to \"b\".\n",
        "almost_palindrome(\"abcdaaa\") ➞ False\n",
        "\n",
        "Can't be transformed to a palindrome in exactly 1 turn."
      ],
      "metadata": {
        "id": "8Z-rJ4VTCCyA"
      }
    },
    {
      "cell_type": "code",
      "source": [
        "def almost_palindrome(s):\n",
        "    count = 0 \n",
        "    s1 = s[0:int(len(s)/2)+1]\n",
        "    s2 = s[-1:int(len(s)/2)-1:-1]\n",
        "    for i in range(len(s1)):\n",
        "        if s1[i] != s2[i]:\n",
        "            count += 1                \n",
        "    if count == 1:\n",
        "        return True\n",
        "    else:\n",
        "        return False\n",
        "    \n",
        "print(almost_palindrome(\"abcdcbg\"))\n",
        "print(almost_palindrome(\"abcacia\"))\n",
        "print(almost_palindrome(\"abcdaaa\"))"
      ],
      "metadata": {
        "colab": {
          "base_uri": "https://localhost:8080/"
        },
        "id": "-0h_bhGuCFqk",
        "outputId": "6183dcd4-0a6d-4791-d287-cfd2843e6b04"
      },
      "execution_count": 2,
      "outputs": [
        {
          "output_type": "stream",
          "name": "stdout",
          "text": [
            "True\n",
            "True\n",
            "False\n"
          ]
        }
      ]
    },
    {
      "cell_type": "markdown",
      "source": [
        "3. Create a function that finds how many prime numbers there are, up to the given integer.\n",
        "Examples\n",
        "\n",
        "prime_numbers(10) ➞ 4\n",
        "\n",
        "2, 3, 5 and 7\n",
        "prime_numbers(20) ➞ 8\n",
        "\n",
        "2, 3, 5, 7, 11, 13, 17 and 19\n",
        "prime_numbers(30) ➞ 10\n",
        "\n",
        "2, 3, 5, 7, 11, 13, 17, 19, 23 and 29"
      ],
      "metadata": {
        "id": "5-iYwayaCSUg"
      }
    },
    {
      "cell_type": "code",
      "source": [
        "def prime_numbers(n):\n",
        "    l = [2]\n",
        "    for i in range(3,n,2):\n",
        "        for j in range(2,i):\n",
        "            if i % j == 0:                \n",
        "                break\n",
        "        else:\n",
        "            l.append(i)\n",
        "    return len(l),l\n",
        "\n",
        "prime_numbers(30)"
      ],
      "metadata": {
        "colab": {
          "base_uri": "https://localhost:8080/"
        },
        "id": "TLI3gW0sCZx9",
        "outputId": "3d4951ed-3ce9-43b9-b3e5-78fce311e6bd"
      },
      "execution_count": 3,
      "outputs": [
        {
          "output_type": "execute_result",
          "data": {
            "text/plain": [
              "(10, [2, 3, 5, 7, 11, 13, 17, 19, 23, 29])"
            ]
          },
          "metadata": {},
          "execution_count": 3
        }
      ]
    },
    {
      "cell_type": "markdown",
      "source": [
        "4. If today was Monday, in two days, it would be Wednesday.\n",
        "Create a function that takes in a list of days as input and the number of days to increment by. Return a list of days after n number of days has passed.\n",
        "\n",
        "Examples\n",
        "\n",
        "after_n_days([\"Thursday\", \"Monday\"], 4) ➞ [\"Monday\", \"Friday\"]\n",
        "\n",
        "after_n_days([\"Sunday\", \"Sunday\", \"Sunday\"], 1) ➞ [\"Monday\", \"Monday\", \"Monday\"]\n",
        "\n",
        "after_n_days([\"Monday\", \"Tuesday\", \"Friday\"], 1) ➞ [\"Tuesday\", \"Wednesday\", \"Saturday\"]"
      ],
      "metadata": {
        "id": "VI6vnRsbFcaT"
      }
    },
    {
      "cell_type": "code",
      "source": [
        "def after_n_days(l,n):\n",
        "    days_of_the_week = [\"Monday\", \"Tuesday\",\"Wednesday\",\"Thursday\", \"Friday\", \"Saturday\",\"Sunday\"]\n",
        "    \n",
        "    for i in range(len(l)):\n",
        "        if days_of_the_week.index(l[i]) + n < len(days_of_the_week):\n",
        "            l[i] = days_of_the_week[days_of_the_week.index(l[i])+n]\n",
        "        else:\n",
        "            l[i] = days_of_the_week[days_of_the_week.index(l[i])+n-len(days_of_the_week)]\n",
        "            \n",
        "    return l\n",
        "\n",
        "print(after_n_days([\"Thursday\", \"Monday\"], 4))\n",
        "print(after_n_days([\"Sunday\", \"Sunday\", \"Sunday\"], 1))\n",
        "print(after_n_days([\"Monday\", \"Tuesday\", \"Friday\"], 1) )"
      ],
      "metadata": {
        "colab": {
          "base_uri": "https://localhost:8080/"
        },
        "id": "zptOCJ7LFevM",
        "outputId": "2c1c937b-c01a-4a70-e895-16fd3b04dc3e"
      },
      "execution_count": 4,
      "outputs": [
        {
          "output_type": "stream",
          "name": "stdout",
          "text": [
            "['Monday', 'Friday']\n",
            "['Monday', 'Monday', 'Monday']\n",
            "['Tuesday', 'Wednesday', 'Saturday']\n"
          ]
        }
      ]
    },
    {
      "cell_type": "markdown",
      "source": [
        "5. You are in the process of creating a chat application and want to add an anonymous name feature. This anonymous name feature will create an alias that consists of two capitalized words beginning with the same letter as the users first name.\n",
        "Create a function that determines if the list of users is mapped to a list of anonymous names correctly.\n",
        "\n",
        "Examples\n",
        "\n",
        "is_correct_aliases([\"Adrian M.\", \"Harriet S.\", \"Mandy T.\"], [\"Amazing Artichoke\", \"Hopeful Hedgehog\", \"Marvelous Mouse\"]) ➞ True\n",
        "\n",
        "is_correct_aliases([\"Rachel F.\", \"Pam G.\", \"Fred Z.\", \"Nancy K.\"], [\"Reassuring Rat\", \"Peaceful Panda\", \"Fantastic Frog\", \"Notable Nickel\"]) ➞ True\n",
        "\n",
        "is_correct_aliases([\"Beth T.\"], [\"Brandishing Mimosa\"]) ➞ False\n",
        "\n",
        "Both words in \"Brandishing Mimosa\" should begin with a \"B\" - \"Brandishing Beaver\" would do the trick."
      ],
      "metadata": {
        "id": "rwB8tC-jFr-V"
      }
    },
    {
      "cell_type": "code",
      "source": [
        "def is_correct_aliases(l1,l2):\n",
        "    for i in range(len(l1)):\n",
        "        if l1[i][0] == l2[i][0] and l1[i][0] == l2[i].split()[1][0]:\n",
        "            return True\n",
        "        else:\n",
        "            return False\n",
        "        \n",
        "        \n",
        "print(is_correct_aliases([\"Adrian M.\", \"Harriet S.\", \"Mandy T.\"], [\"Amazing Artichoke\", \"Hopeful Hedgehog\", \"Marvelous Mouse\"]))\n",
        "print(is_correct_aliases([\"Rachel F.\", \"Pam G.\", \"Fred Z.\", \"Nancy K.\"], [\"Reassuring Rat\", \"Peaceful Panda\", \"Fantastic Frog\", \"Notable Nickel\"]))\n",
        "print(is_correct_aliases([\"Beth T.\"], [\"Brandishing Mimosa\"]) )"
      ],
      "metadata": {
        "colab": {
          "base_uri": "https://localhost:8080/"
        },
        "id": "iQtBkoHWFwL_",
        "outputId": "00b86251-48ce-450f-966d-d33d9b53693e"
      },
      "execution_count": 5,
      "outputs": [
        {
          "output_type": "stream",
          "name": "stdout",
          "text": [
            "True\n",
            "True\n",
            "False\n"
          ]
        }
      ]
    }
  ]
}