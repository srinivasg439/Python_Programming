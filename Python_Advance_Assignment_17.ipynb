{
  "nbformat": 4,
  "nbformat_minor": 0,
  "metadata": {
    "colab": {
      "provenance": []
    },
    "kernelspec": {
      "name": "python3",
      "display_name": "Python 3"
    },
    "language_info": {
      "name": "python"
    }
  },
  "cells": [
    {
      "cell_type": "markdown",
      "source": [
        "Q1. Explain the difference between greedy and non-greedy syntax with visual terms in as few words as possible. What is the bare minimum effort required to transform a greedy pattern into a non-greedy one? What characters or characters can you introduce or change?"
      ],
      "metadata": {
        "id": "-jPZMmbaJgdP"
      }
    },
    {
      "cell_type": "code",
      "execution_count": 1,
      "metadata": {
        "colab": {
          "base_uri": "https://localhost:8080/",
          "height": 52
        },
        "id": "5OAFgh8gHj83",
        "outputId": "123a5632-352f-420c-ef64-0aa48b9bcd23"
      },
      "outputs": [
        {
          "output_type": "stream",
          "name": "stdout",
          "text": [
            "<Robot is the latest addition to the tech items> <Robot is very advanced> <Robot is a machine>\n"
          ]
        },
        {
          "output_type": "execute_result",
          "data": {
            "text/plain": [
              "'<Robot is the latest addition to the tech items>'"
            ],
            "application/vnd.google.colaboratory.intrinsic+json": {
              "type": "string"
            }
          },
          "metadata": {},
          "execution_count": 1
        }
      ],
      "source": [
        "# Ans : Greedy version, Python matches the longest possible string\n",
        "import re\n",
        "text = \"<Robot is the latest addition to the tech items> <Robot is very advanced> <Robot is a machine>\"\n",
        "greedyregobj=re.compile(r'<.*>')\n",
        "match=greedyregobj.search(text)\n",
        "print(match.group())\n",
        "\n",
        "#the Non-greedy version of the regex, Python matches the shortest possible string\n",
        "\n",
        "nongreedyregobj=re.compile(r'<Ro.*?>')\n",
        "match1=nongreedyregobj.search(text)\n",
        "match1.group()"
      ]
    },
    {
      "cell_type": "markdown",
      "source": [
        "Q2. When exactly does greedy versus non-greedy make a difference? What if you're looking for a non-greedy match but the only one available is greedy?\n",
        "\n",
        "Ans :: In the non-greedy version of the regex, Python matches the shortest possible string. In the greedy version, \n",
        "Python matches the longest possible string. If only non greedy match is available, we can use other filtering \n",
        "or pattern matching methods of regex and further identify the required pattern."
      ],
      "metadata": {
        "id": "KnNrY483J0aD"
      }
    },
    {
      "cell_type": "code",
      "source": [
        "# Ans : \n",
        "import re\n",
        "phoneNumRegex = re.compile(r'\\d\\d\\d')\n",
        "mo = phoneNumRegex.search('My number is 415-555-4242.')\n",
        "print('Phone number found: ' + mo.group()) # non tagged group\n",
        "print('Phone number found: ' + mo.group(0))"
      ],
      "metadata": {
        "colab": {
          "base_uri": "https://localhost:8080/"
        },
        "id": "83hvydIHMGOg",
        "outputId": "5c27dd7f-ec6e-4427-b607-8801cd651255"
      },
      "execution_count": 2,
      "outputs": [
        {
          "output_type": "stream",
          "name": "stdout",
          "text": [
            "Phone number found: 415\n",
            "Phone number found: 415\n"
          ]
        }
      ]
    },
    {
      "cell_type": "markdown",
      "source": [
        "Q4. Describe a scenario in which using a nontagged category would have a significant impact on the program's outcomes."
      ],
      "metadata": {
        "id": "A4rfvz4hMNB_"
      }
    },
    {
      "cell_type": "code",
      "source": [
        "# Ans : Non tagged category :\n",
        "import re\n",
        "text='135.135'\n",
        "pattern=r'(\\d+)(?:.)(\\d+)'\n",
        "regobj=re.compile(pattern)\n",
        "matobj=regobj.search(text)\n",
        "matobj.groups()\n",
        "#  Here the '.' decimal is not tagged or captured.\n",
        "#  It will useful in scenarios where the separator of value in a string is of no use and we need to capture only the\n",
        "#  values."
      ],
      "metadata": {
        "colab": {
          "base_uri": "https://localhost:8080/"
        },
        "id": "KNrIi0AfMRMa",
        "outputId": "48895c2c-117d-4221-e6f9-c6f0ce6101e6"
      },
      "execution_count": 3,
      "outputs": [
        {
          "output_type": "execute_result",
          "data": {
            "text/plain": [
              "('135', '135')"
            ]
          },
          "metadata": {},
          "execution_count": 3
        }
      ]
    },
    {
      "cell_type": "markdown",
      "source": [
        "Q5. Unlike a normal regex pattern, a look-ahead condition does not consume the characters it examines. Describe a situation in which this could make a difference in the results of your programme.\n",
        "\n",
        "Ans : While counting the number of multiple lines or mulytiple sentence in a string the positive look ahead makes a \n",
        "difference, without which we wont get the correct count of lines or sentences in a string."
      ],
      "metadata": {
        "id": "n4O9PSmiM86Y"
      }
    },
    {
      "cell_type": "markdown",
      "source": [
        "Q6. In standard expressions, what is the difference between positive look-ahead and negative look-ahead?\n"
      ],
      "metadata": {
        "id": "DCbTqqcGNMct"
      }
    },
    {
      "cell_type": "markdown",
      "source": [
        "Ans : Positive look ahead is an assertion continuing the search and extending the string e.g.pattern= r'abc(?=[A-Z])''. \n",
        "Here after 'abc', ? is extending the search and says that in the remaining string, first identify the next \n",
        "charater should be capitalized character between A and Z, but doesnt consume it.\n",
        "Example of Positive lookahead"
      ],
      "metadata": {
        "id": "1wd-P3pAQyrS"
      }
    },
    {
      "cell_type": "code",
      "source": [
        "import re\n",
        "pat=r'abc(?=[A-Z])'\n",
        "text=\"abcABCEF\"\n",
        "regobj=re.compile(pat)\n",
        "matobj=regobj.findall(text)\n",
        "print(\"Positive lookahead:\",matobj)"
      ],
      "metadata": {
        "colab": {
          "base_uri": "https://localhost:8080/"
        },
        "id": "5IB7QZGPNRTP",
        "outputId": "f795f0ec-fcc1-439e-ec3b-ec9045fa1f8f"
      },
      "execution_count": 4,
      "outputs": [
        {
          "output_type": "stream",
          "name": "stdout",
          "text": [
            "Positive lookahead: ['abc']\n"
          ]
        }
      ]
    },
    {
      "cell_type": "markdown",
      "source": [
        "import re\n",
        "pat=r'abc(?=[A-Z])'\n",
        "text=\"abcABCEF\"\n",
        "regobj=re.compile(pat)\n",
        "matobj=regobj.findall(text)\n",
        "print(\"Positive lookahead:\",matobj)"
      ],
      "metadata": {
        "id": "vs6-23bVRH8a"
      }
    },
    {
      "cell_type": "markdown",
      "source": [
        "Negative look head is also an assertion to exclude certain patterns e.g. pattern = r'abc(?!abc)', means \n",
        "identify a substring containing \n",
        "'abc' which is not followed by another 'abc'\n",
        "Example of Negative lookahead"
      ],
      "metadata": {
        "id": "dq592W9hRfc7"
      }
    },
    {
      "cell_type": "code",
      "source": [
        "import re\n",
        "pat1=r'abc(?!abc)'\n",
        "text1=\"aeiouabcabc\"\n",
        "regobj1=re.compile(pat1)\n",
        "matobj1=regobj1.findall(text)\n",
        "print(\"Negative look ahead:\",matobj1) "
      ],
      "metadata": {
        "colab": {
          "base_uri": "https://localhost:8080/"
        },
        "id": "oQ6zGJBYRV9t",
        "outputId": "51e4a2e0-1a0a-45c2-968c-fd2baec835d0"
      },
      "execution_count": 5,
      "outputs": [
        {
          "output_type": "stream",
          "name": "stdout",
          "text": [
            "Negative look ahead: ['abc']\n"
          ]
        }
      ]
    },
    {
      "cell_type": "markdown",
      "source": [
        "Q7. What is the benefit of referring to groups by name rather than by number in a standard expression?\n",
        "\n",
        "Ans : The benifit of referring to the groups by name is that\n",
        "1)The code is clear\n",
        "2)It is easier to maimtain the code."
      ],
      "metadata": {
        "id": "N0P4umYTSIL2"
      }
    },
    {
      "cell_type": "code",
      "source": [
        "# Ans : \n",
        "import re\n",
        "text = \"The cow jumped over the moon\"\n",
        "regobj=re.compile(r'(?P<w1>The)',re.I)\n",
        "regobj.findall(text)"
      ],
      "metadata": {
        "colab": {
          "base_uri": "https://localhost:8080/"
        },
        "id": "EI7AD_CRSkFS",
        "outputId": "94cbbf9d-2a2e-4ee2-bed2-e113295c1e44"
      },
      "execution_count": 6,
      "outputs": [
        {
          "output_type": "execute_result",
          "data": {
            "text/plain": [
              "['The', 'the']"
            ]
          },
          "metadata": {},
          "execution_count": 6
        }
      ]
    },
    {
      "cell_type": "markdown",
      "source": [
        "Q9. When parsing a string, what is at least one thing that the Scanner interface does for you that the re.findall feature does not?\n",
        "\n",
        "Ans : re.search() method either returns None (if the pattern doesn’t match), or a re.MatchObject that contains\n",
        "information about the matching part of the string. This method stops after the first match, so this is best\n",
        "suited for testing a regular expression more than extracting data,whereas\n",
        "Return all non-overlapping matches of pattern in string, as a list of strings. The string is scanned \n",
        "left to right, and matches are returned in the order found."
      ],
      "metadata": {
        "id": "9WnKpN5rSvfc"
      }
    },
    {
      "cell_type": "markdown",
      "source": [
        "Q10. Does a scanner object have to be named scanner?\n",
        "\n",
        "Ans : The scanner object need not be named scanner. It may have any name."
      ],
      "metadata": {
        "id": "x7j1UhoBTQ2H"
      }
    }
  ]
}