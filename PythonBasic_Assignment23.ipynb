{
  "nbformat": 4,
  "nbformat_minor": 0,
  "metadata": {
    "colab": {
      "provenance": []
    },
    "kernelspec": {
      "name": "python3",
      "display_name": "Python 3"
    },
    "language_info": {
      "name": "python"
    }
  },
  "cells": [
    {
      "cell_type": "markdown",
      "source": [
        "1. What is the result of the code, and why?"
      ],
      "metadata": {
        "id": "y4QrRFVjXY2e"
      }
    },
    {
      "cell_type": "code",
      "execution_count": 1,
      "metadata": {
        "colab": {
          "base_uri": "https://localhost:8080/"
        },
        "id": "cIqB0mmrDm-G",
        "outputId": "44f907c5-eb3a-46a4-85a5-470a9b672d3f"
      },
      "outputs": [
        {
          "output_type": "stream",
          "name": "stdout",
          "text": [
            "1 2 8\n"
          ]
        }
      ],
      "source": [
        "def func(a, b=6, c=8):\n",
        "    print(a, b, c)\n",
        "func(1, 2)"
      ]
    },
    {
      "cell_type": "markdown",
      "source": [
        "Here as we have hardcoded and sent 2 values therefore preference is given to the input user gives. so a=1,b=2,c as by default argument 8."
      ],
      "metadata": {
        "id": "C0gSIlvaXpKZ"
      }
    },
    {
      "cell_type": "markdown",
      "source": [
        "2. What is the result of this code, and why?"
      ],
      "metadata": {
        "id": "SOgEEWBDXxqO"
      }
    },
    {
      "cell_type": "code",
      "source": [
        "def func(a, b, c=5):\n",
        "    print(a, b, c)\n",
        "func(1, c=3, b=2)"
      ],
      "metadata": {
        "colab": {
          "base_uri": "https://localhost:8080/"
        },
        "id": "W_ZXi15GYnov",
        "outputId": "423907e8-50b3-4f07-8150-88e4464d823e"
      },
      "execution_count": 2,
      "outputs": [
        {
          "output_type": "stream",
          "name": "stdout",
          "text": [
            "1 2 3\n"
          ]
        }
      ]
    },
    {
      "cell_type": "markdown",
      "source": [
        "here a=1,b=2(hardcoded by user),c=3(hardcoded by user). position doesnt matter as long as we have mentioned the variable to which value is assigned."
      ],
      "metadata": {
        "id": "UW6C4FDJY845"
      }
    },
    {
      "cell_type": "markdown",
      "source": [
        "here a=1,b=2(hardcoded by user),c=3(hardcoded by user). position doesnt matter as long as we have mentioned the variable to which value is assigned."
      ],
      "metadata": {
        "id": "ERBiFt46Y_Az"
      }
    },
    {
      "cell_type": "code",
      "source": [
        "def func(a, *pargs):\n",
        "    print(a, pargs)\n",
        "func(1, 2, 3)"
      ],
      "metadata": {
        "colab": {
          "base_uri": "https://localhost:8080/"
        },
        "id": "WumzRfQQZT9F",
        "outputId": "acb3d6d6-5b2c-4fd9-8c9a-1042429671eb"
      },
      "execution_count": 3,
      "outputs": [
        {
          "output_type": "stream",
          "name": "stdout",
          "text": [
            "1 (2, 3)\n"
          ]
        }
      ]
    },
    {
      "cell_type": "markdown",
      "source": [
        "Here a=1. *pargs returns as many argument user gives as input in form of tuples"
      ],
      "metadata": {
        "id": "rtYZii-IZkuC"
      }
    },
    {
      "cell_type": "markdown",
      "source": [
        "4. What does this code print, and why?"
      ],
      "metadata": {
        "id": "G0IHiAKmZ9TH"
      }
    },
    {
      "cell_type": "code",
      "source": [
        "def func(a, **kargs):\n",
        "    print(a, kargs)\n",
        "func(a=1, c=3, b=2)"
      ],
      "metadata": {
        "colab": {
          "base_uri": "https://localhost:8080/"
        },
        "id": "H0dccx5vZ_4p",
        "outputId": "264e9647-337c-45c5-97dd-c557accd4fb9"
      },
      "execution_count": 4,
      "outputs": [
        {
          "output_type": "stream",
          "name": "stdout",
          "text": [
            "1 {'c': 3, 'b': 2}\n"
          ]
        }
      ]
    },
    {
      "cell_type": "markdown",
      "source": [
        "Here a=1. **kargs returns as many argument user gives as input in form of dictionary"
      ],
      "metadata": {
        "id": "KGi1C74LaQoy"
      }
    },
    {
      "cell_type": "markdown",
      "source": [
        "5. What gets printed by this, and explain?"
      ],
      "metadata": {
        "id": "zt_FjBbMaTN-"
      }
    },
    {
      "cell_type": "code",
      "source": [
        "def func(a, b, c=8, d=5):\n",
        "    print(a, b, c, d)\n",
        "func(1, *(5, 6))"
      ],
      "metadata": {
        "colab": {
          "base_uri": "https://localhost:8080/"
        },
        "id": "C_OlRamlaip4",
        "outputId": "cefe93d4-db4d-421d-996e-ce834928044f"
      },
      "execution_count": 5,
      "outputs": [
        {
          "output_type": "stream",
          "name": "stdout",
          "text": [
            "1 5 6 5\n"
          ]
        }
      ]
    },
    {
      "cell_type": "markdown",
      "source": [
        "Here a=1. User input is given in the form of kargs. So as many variable is present that many times the value passed as kargs input will get printed.So here a=1,b=5,c=6,d=again 5."
      ],
      "metadata": {
        "id": "8rfEE4xza0Yl"
      }
    },
    {
      "cell_type": "markdown",
      "source": [
        "6. what is the result of this, and explain?"
      ],
      "metadata": {
        "id": "wUounzOMa11F"
      }
    },
    {
      "cell_type": "code",
      "source": [
        "def func(a, b, c):\n",
        "    a = 2; b[0] = 'x'; c['a'] = 'y'"
      ],
      "metadata": {
        "id": "RSKWG967bVDV"
      },
      "execution_count": 6,
      "outputs": []
    },
    {
      "cell_type": "code",
      "source": [
        "l=1; m=[1]; n={'a':0}"
      ],
      "metadata": {
        "id": "Ey2LlzZ7bhfR"
      },
      "execution_count": 7,
      "outputs": []
    },
    {
      "cell_type": "code",
      "source": [
        "func(l, m, n)"
      ],
      "metadata": {
        "id": "_flinaktboWA"
      },
      "execution_count": 8,
      "outputs": []
    },
    {
      "cell_type": "code",
      "source": [
        "l, m, n"
      ],
      "metadata": {
        "colab": {
          "base_uri": "https://localhost:8080/"
        },
        "id": "F3-o-CpjbsoN",
        "outputId": "305df563-b380-44a0-e297-87b1e2e9ebf6"
      },
      "execution_count": 9,
      "outputs": [
        {
          "output_type": "execute_result",
          "data": {
            "text/plain": [
              "(1, ['x'], {'a': 'y'})"
            ]
          },
          "metadata": {},
          "execution_count": 9
        }
      ]
    },
    {
      "cell_type": "markdown",
      "source": [
        "Here in func(l,m,n) we passed l=1(user input), m is passed as list contain 1 element i.e 'x', n is passed as dictionary i.e {'a':'y'}"
      ],
      "metadata": {
        "id": "UJfFhDA3b5GV"
      }
    }
  ]
}