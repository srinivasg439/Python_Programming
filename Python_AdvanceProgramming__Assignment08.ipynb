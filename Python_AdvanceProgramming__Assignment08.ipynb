{
  "nbformat": 4,
  "nbformat_minor": 0,
  "metadata": {
    "colab": {
      "provenance": []
    },
    "kernelspec": {
      "name": "python3",
      "display_name": "Python 3"
    },
    "language_info": {
      "name": "python"
    }
  },
  "cells": [
    {
      "cell_type": "code",
      "execution_count": null,
      "metadata": {
        "id": "de9YYWxf2LiH"
      },
      "outputs": [],
      "source": [
        "1. Given a sentence as txt, return True if any two adjacent words have this property: One word ends with a vowel, \n",
        "while the word immediately after begins with a vowel (a e i o u).\n",
        "Examples\n",
        "\n",
        "vowel_links(\"a very large appliance\") ➞ True\n",
        "\n",
        "vowel_links(\"go to edabit\") ➞ True\n",
        "\n",
        "vowel_links(\"an open fire\") ➞ False\n",
        "\n",
        "vowel_links(\"a sudden applause\") ➞ False"
      ]
    },
    {
      "cell_type": "code",
      "source": [
        "def vowel_links(s):\n",
        "    l = s.split()\n",
        "    for i in range(len(l)-1):\n",
        "        if (l[i][-1] in [\"a\",\"i\",\"e\",\"o\",\"u\"]) and (l[i+1][0] in [\"a\",\"i\",\"e\",\"o\",\"u\"]):\n",
        "            return True\n",
        "    else:\n",
        "        return False        \n",
        "        \n",
        "print(vowel_links(\"a very large appliance\"))\n",
        "print(vowel_links(\"go to edabit\"))\n",
        "print(vowel_links(\"an open fire\"))\n",
        "print(vowel_links(\"a sudden applause\"))"
      ],
      "metadata": {
        "colab": {
          "base_uri": "https://localhost:8080/"
        },
        "id": "_Yip22jQ4D5R",
        "outputId": "5b79c5d2-9688-4731-f6f6-a04e6d691eb1"
      },
      "execution_count": 1,
      "outputs": [
        {
          "output_type": "stream",
          "name": "stdout",
          "text": [
            "True\n",
            "True\n",
            "False\n",
            "False\n"
          ]
        }
      ]
    },
    {
      "cell_type": "markdown",
      "source": [
        "2. You are given three inputs: a string, one letter, and a second letter.\n",
        "Write a function that returns True if every instance of the first letter occurs before every instance of the second letter.\n",
        "\n",
        "Examples\n",
        "\n",
        "first_before_second(\"a rabbit jumps joyfully\", \"a\", \"j\") ➞ True\n",
        "\n",
        "Every instance of \"a\" occurs before every instance of \"j\".\n",
        "first_before_second(\"knaves knew about waterfalls\", \"k\", \"w\") ➞ True\n",
        "\n",
        "first_before_second(\"happy birthday\", \"a\", \"y\") ➞ False\n",
        "\n",
        "The \"a\" in \"birthday\" occurs after the \"y\" in \"happy\".\n",
        "first_before_second(\"precarious kangaroos\", \"k\", \"a\") ➞ False"
      ],
      "metadata": {
        "id": "V141To91ATxI"
      }
    },
    {
      "cell_type": "code",
      "source": [
        "def first_before_second(s,first_letter,second_letter):\n",
        "    if s.rfind(first_letter) < s.find(second_letter):\n",
        "        return True\n",
        "    else:\n",
        "        return False\n",
        "    \n",
        "print(first_before_second(\"a rabbit jumps joyfully\",\"a\",\"j\"))\n",
        "print(first_before_second(\"knaves knew about waterfalls\", \"k\", \"w\"))\n",
        "print(first_before_second(\"happy birthday\", \"a\", \"y\"))\n",
        "print(first_before_second(\"precarious kangaroos\", \"k\", \"a\"))"
      ],
      "metadata": {
        "colab": {
          "base_uri": "https://localhost:8080/"
        },
        "id": "LCSBQX_MA6nf",
        "outputId": "36c575df-f19f-4da4-d23f-ccfacbc3eac2"
      },
      "execution_count": 2,
      "outputs": [
        {
          "output_type": "stream",
          "name": "stdout",
          "text": [
            "True\n",
            "True\n",
            "False\n",
            "False\n"
          ]
        }
      ]
    },
    {
      "cell_type": "markdown",
      "source": [
        "3. Create a function that returns the characters from a list or string r on odd or even positions, depending on the specifier s. The specifier will be \"odd\" for items on odd positions (1, 3, 5, ...) and \"even\" for items on even positions (2, 4, 6, ...).\n",
        "Examples\n",
        "\n",
        "char_at_pos([2, 4, 6, 8, 10], \"even\") ➞ [4, 8]\n",
        "\n",
        "4 & 8 occupy the 2nd & 4th positions\n",
        "char_at_pos(\"EDABIT\", \"odd\") ➞ \"EAI\"\n",
        "\n",
        "\"E\", \"A\" and \"I\" occupy the 1st, 3rd and 5th positions\n",
        "char_at_pos([\"A\", \"R\", \"B\", \"I\", \"T\", \"R\", \"A\", \"R\", \"I\", \"L\", \"Y\"], \"odd\") ➞ [\"A\", \"B\", \"T\", \"A\", \"I\", \"Y\"]"
      ],
      "metadata": {
        "id": "55KPslaBBdW2"
      }
    },
    {
      "cell_type": "code",
      "source": [
        "def char_at_pos(l,s):\n",
        "    if s == 'even':\n",
        "        return [l[i] for i in range(len(l)) if (i+1) % 2 == 0]\n",
        "    elif s == 'odd':\n",
        "        return [l[i] for i in range(len(l)) if (i+1) % 2 != 0]\n",
        "\n",
        "print(char_at_pos([2, 4, 6, 8, 10], \"even\"))   \n",
        "print(char_at_pos(\"EDABIT\", \"odd\"))\n",
        "print(char_at_pos([\"A\", \"R\", \"B\", \"I\", \"T\", \"R\", \"A\", \"R\", \"I\", \"L\", \"Y\"], \"odd\"))"
      ],
      "metadata": {
        "colab": {
          "base_uri": "https://localhost:8080/"
        },
        "id": "H1H70VpGB4yA",
        "outputId": "1bcb3db0-efc6-4fc4-bd66-af2dabf422aa"
      },
      "execution_count": 3,
      "outputs": [
        {
          "output_type": "stream",
          "name": "stdout",
          "text": [
            "[4, 8]\n",
            "['E', 'A', 'I']\n",
            "['A', 'B', 'T', 'A', 'I', 'Y']\n"
          ]
        }
      ]
    },
    {
      "cell_type": "markdown",
      "source": [
        "4. Write a function that returns the greatest common divisor of all list elements. If the greatest common divisor is 1, return 1.\n",
        "Examples\n",
        "\n",
        "GCD([10, 20, 40]) ➞ 10\n",
        "\n",
        "GCD([1, 2, 3, 100]) ➞ 1\n",
        "\n",
        "GCD([1024, 192, 2048, 512]) ➞ 64"
      ],
      "metadata": {
        "id": "vcPNnvwuCTQA"
      }
    },
    {
      "cell_type": "code",
      "source": [
        "import math \n",
        "\n",
        "def GCD(numbers):\n",
        "    res = numbers[0]\n",
        "    for i in range(1,len(numbers)):\n",
        "        res = math.gcd(numbers[i],res)\n",
        "    return res\n",
        "\n",
        "print(GCD([10, 20, 40]))\n",
        "print(GCD([1, 2, 3, 100]))\n",
        "print(GCD([1024, 192, 2048, 512]))"
      ],
      "metadata": {
        "colab": {
          "base_uri": "https://localhost:8080/"
        },
        "id": "QLDwoGEQCbsu",
        "outputId": "334ae401-d280-4c4e-c993-11d65f578555"
      },
      "execution_count": 4,
      "outputs": [
        {
          "output_type": "stream",
          "name": "stdout",
          "text": [
            "10\n",
            "1\n",
            "64\n"
          ]
        }
      ]
    },
    {
      "cell_type": "markdown",
      "source": [
        "5. A number/string is a palindrome if the digits/characters are the same when read both forward and backward. Examples include \"racecar\" and 12321. Given a positive number n, check if n or the binary representation of n is palindromic. Return the following:\n",
        "\"Decimal only.\" if only n is a palindrome.\n",
        "\"Binary only.\" if only the binary representation of n is a palindrome.\n",
        "\"Decimal and binary.\" if both are palindromes.\n",
        "\"Neither!\" if neither are palindromes.\n",
        "Examples\n",
        "\n",
        "palindrome_type(1306031) ➞ \"Decimal only.\"\n",
        "\n",
        "decimal = 1306031\n",
        "binary = \"100111110110110101111\"\n",
        "palindrome_type(427787) ➞ \"Binary only.\"\n",
        "\n",
        "decimal = 427787\n",
        "\n",
        "binary = \"1101000011100001011\"\n",
        "palindrome_type(313) ➞ \"Decimal and binary.\"\n",
        "\n",
        "decimal = 313\n",
        "binary = 100111001\n",
        "palindrome_type(934) ➞ \"Neither!\"\n",
        "\n",
        "decimal = 934\n",
        "binary = \"1110100110\""
      ],
      "metadata": {
        "id": "Pw6k1tEkDkAb"
      }
    },
    {
      "cell_type": "code",
      "source": [
        "def palindrome_type(n):\n",
        "    type1 = '' \n",
        "    if bin(n).lstrip('0b') == bin(n).lstrip('0b')[::-1]:\n",
        "        type1 += \"Binary only\"\n",
        "    if str(n) == str(n)[::-1]:\n",
        "        type1 += \"Decimal only\"\n",
        "    \n",
        "    if type1 == \"Binary onlyDecimal only\":\n",
        "        return  \"Decimal and binary.\"\n",
        "    elif type1 == '':\n",
        "        return \"Neither!\"\n",
        "    else:\n",
        "        return type1\n",
        "    \n",
        "print(palindrome_type(1306031))\n",
        "print(palindrome_type(427787))\n",
        "print(palindrome_type(313))\n",
        "print(palindrome_type(934))"
      ],
      "metadata": {
        "colab": {
          "base_uri": "https://localhost:8080/"
        },
        "id": "sTv9bmewDrYz",
        "outputId": "fbd8fa25-3b1e-4c12-e4de-7e4673507964"
      },
      "execution_count": 5,
      "outputs": [
        {
          "output_type": "stream",
          "name": "stdout",
          "text": [
            "Decimal only\n",
            "Binary only\n",
            "Decimal and binary.\n",
            "Neither!\n"
          ]
        }
      ]
    }
  ]
}