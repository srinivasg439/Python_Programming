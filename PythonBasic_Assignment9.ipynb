{
  "nbformat": 4,
  "nbformat_minor": 0,
  "metadata": {
    "colab": {
      "name": "PythonBasic_Assignment9.ipynb",
      "provenance": []
    },
    "kernelspec": {
      "name": "python3",
      "display_name": "Python 3"
    },
    "language_info": {
      "name": "python"
    }
  },
  "cells": [
    {
      "cell_type": "code",
      "execution_count": null,
      "metadata": {
        "id": "5VPA_Ujs88X7"
      },
      "outputs": [],
      "source": [
        "#1. To what does a relative path refer?\n",
        "Sol.Relative paths are relative to the current working directory."
      ]
    },
    {
      "cell_type": "code",
      "source": [
        "#2. What does an absolute path start with your operating system?\n",
        "Sol.Absolute paths start with the root folder, such as / or C:\\."
      ],
      "metadata": {
        "id": "Mu7w4q8_G_KG"
      },
      "execution_count": null,
      "outputs": []
    },
    {
      "cell_type": "code",
      "source": [
        "#3. What do the functions os.getcwd() and os.chdir() do?\n",
        "The os.getcwd() function returns the current working directory. The os.chdir() function changes the current working directory."
      ],
      "metadata": {
        "id": "9sEnszEDHeVK"
      },
      "execution_count": null,
      "outputs": []
    },
    {
      "cell_type": "code",
      "source": [
        "# 4. What are the . and .. folders?\n",
        "Sol.The . folder is the current folder, and .. is the parent folder."
      ],
      "metadata": {
        "id": "QF6neTAzaA7M"
      },
      "execution_count": null,
      "outputs": []
    },
    {
      "cell_type": "code",
      "source": [
        "#5. In C:\\bacon\\eggs\\spam.txt, which part is the dir name, and which part is the base name?\n",
        "Sol.C:\\bacon\\eggs is the dir name, while spam.txt is the base name."
      ],
      "metadata": {
        "id": "NPao2tePa_Ln"
      },
      "execution_count": null,
      "outputs": []
    },
    {
      "cell_type": "code",
      "source": [
        "#6. What are the three “mode” arguments that can be passed to the open() function?\n",
        "Sol.bThe string 'r' for read mode, 'w' for write mode, and 'a' for append mode."
      ],
      "metadata": {
        "id": "jfpxgW7-cHvY"
      },
      "execution_count": null,
      "outputs": []
    },
    {
      "cell_type": "code",
      "source": [
        "#7. What happens if an existing file is opened in write mode?\n",
        "Sol.An existing file opened in write mode is erased and completely overwritten."
      ],
      "metadata": {
        "id": "iDFRU_qDcXfo"
      },
      "execution_count": null,
      "outputs": []
    },
    {
      "cell_type": "code",
      "source": [
        "#8. How do you tell the difference between read() and readlines()?\n",
        "Sol.The read() method returns the file's entire contents as a single string value. The readlines() method returns a list of strings, \n",
        "where each string is a line from the file's contents."
      ],
      "metadata": {
        "id": "cnBpasRccj94"
      },
      "execution_count": null,
      "outputs": []
    },
    {
      "cell_type": "code",
      "source": [
        "#9. What data structure does a shelf value resemble?\n",
        "Sol.A shelf value resembles a dictionary value; it has keys and values, along with keys() and values() methods that work similarly to the dictionary methods of the same names."
      ],
      "metadata": {
        "id": "6cX02UsfczFh"
      },
      "execution_count": null,
      "outputs": []
    }
  ]
}