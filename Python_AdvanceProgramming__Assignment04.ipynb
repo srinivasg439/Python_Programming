{
  "nbformat": 4,
  "nbformat_minor": 0,
  "metadata": {
    "colab": {
      "provenance": []
    },
    "kernelspec": {
      "name": "python3",
      "display_name": "Python 3"
    },
    "language_info": {
      "name": "python"
    }
  },
  "cells": [
    {
      "cell_type": "markdown",
      "source": [
        "1. In mathematics, the Fibonacci numbers, commonly denoted Fn, form a sequence, called the Fibonacci sequence, such that each number is the sum of the two preceding ones, starting from 0 and 1:\n",
        "F0=0,F1=1\n",
        "and\n",
        "Fn=Fn-1 + Fn-2\n",
        "for n>1\n",
        "\n",
        "The beginning of the sequence is this:\n",
        "\n",
        "0, 1, 1, 2, 3, 5, 8, 13, 21, 34, 55, 89, 144, ...\n",
        "\n",
        "The function fastFib(num) returns the fibonacci number Fn, of the given num as an argument.\n",
        "\n",
        "Examples\n",
        "\n",
        "fib_fast(5) ➞ 5\n",
        "\n",
        "fib_fast(10) ➞ 55\n",
        "\n",
        "fib_fast(20) ➞ 6765\n"
      ],
      "metadata": {
        "id": "cZIi8g5uStLN"
      }
    },
    {
      "cell_type": "code",
      "execution_count": 6,
      "metadata": {
        "colab": {
          "base_uri": "https://localhost:8080/"
        },
        "id": "rEmf35nnB-M0",
        "outputId": "95d4c2ea-a3ed-41f9-e44b-b0bd65ae942c"
      },
      "outputs": [
        {
          "output_type": "stream",
          "name": "stdout",
          "text": [
            "5\n",
            "55\n",
            "6765\n"
          ]
        }
      ],
      "source": [
        "def fact_fast(n):\n",
        "  if n == 0:\n",
        "    return 0\n",
        "  if n == 1 or n==2:\n",
        "    return 1\n",
        "  if n > 1:\n",
        "    return fact_fast(n-1)+fact_fast(n-2)\n",
        "\n",
        "print(fact_fast(5)) \n",
        "print(fact_fast(10))\n",
        "print(fact_fast(20))\n",
        "\n"
      ]
    },
    {
      "cell_type": "markdown",
      "source": [
        "2. Create a function that takes a strings characters as ASCII and returns each characters hexadecimal value as a string.\n",
        "Examples\n",
        "\n",
        "convert_to_hex(\"hello world\") ➞ \"68 65 6c 6c 6f 20 77 6f 72 6c 64\"\n",
        "\n",
        "convert_to_hex(\"Big Boi\") ➞ \"42 69 67 20 42 6f 69\"\n",
        "\n",
        "convert_to_hex(\"Marty Poppinson\") ➞ \"4d 61 72 74 79 20 50 6f 70 70 69 6e 73 6f 6e\""
      ],
      "metadata": {
        "id": "udlbmcVzjFYq"
      }
    },
    {
      "cell_type": "markdown",
      "source": [
        "1. In mathematics, the Fibonacci numbers, commonly denoted Fn, form a sequence, called the Fibonacci sequence, such that each number is the sum of the two preceding ones, starting from 0 and 1:\n",
        "\n",
        "\n",
        "F0 = 0,F1 = 1 and Fn = Fn-1 + Fn-2 for n > 1\n",
        "\n",
        "The beginning of the sequence is this:\n",
        "\n",
        "0, 1, 1, 2, 3, 5, 8, 13, 21, 34, 55, 89, 144, ...\n",
        "\n",
        "The function fastFib(num) returns the fibonacci number Fn, of the given num as an argument.\n",
        "\n",
        "Examples\n",
        "\n",
        "fib_fast(5) ➞ 5\n",
        "\n",
        "fib_fast(10) ➞ 55\n",
        "\n",
        "fib_fast(20) ➞ 6765\n"
      ],
      "metadata": {
        "id": "EWFEWTESkFfa"
      }
    },
    {
      "cell_type": "code",
      "source": [
        "def fib_fast(n):\n",
        "    if n == 0:\n",
        "        return 0\n",
        "    if n == 1 or n == 2:\n",
        "        return 1\n",
        "    if n > 1:\n",
        "        return fib_fast(n-1) + fib_fast(n-2)\n",
        "    \n",
        "print(fib_fast(5))\n",
        "print(fib_fast(10))\n",
        "print(fib_fast(20))"
      ],
      "metadata": {
        "colab": {
          "base_uri": "https://localhost:8080/"
        },
        "id": "3RAUFkq8jPlx",
        "outputId": "5fff5234-0c95-4853-c59a-581661c6252a"
      },
      "execution_count": 7,
      "outputs": [
        {
          "output_type": "stream",
          "name": "stdout",
          "text": [
            "5\n",
            "55\n",
            "6765\n"
          ]
        }
      ]
    },
    {
      "cell_type": "markdown",
      "source": [
        "2. Create a function that takes a strings characters as ASCII and returns each characters hexadecimal value as a string.\n",
        "Examples\n",
        "\n",
        "convert_to_hex(\"hello world\") ➞ \"68 65 6c 6c 6f 20 77 6f 72 6c 64\"\n",
        "\n",
        "convert_to_hex(\"Big Boi\") ➞ \"42 69 67 20 42 6f 69\"\n",
        "\n",
        "convert_to_hex(\"Marty Poppinson\") ➞ \"4d 61 72 74 79 20 50 6f 70 70 69 6e 73 6f 6e\""
      ],
      "metadata": {
        "id": "HNQXWbQjkDGW"
      }
    },
    {
      "cell_type": "code",
      "source": [
        "def convert_to_hex(s):\n",
        "    s = s.encode('utf-8')\n",
        "    return s.hex(' ')\n",
        "\n",
        "print(convert_to_hex(\"hello world\"))\n",
        "print(convert_to_hex(\"Big Boi\"))\n",
        "print(convert_to_hex(\"Marty Poppinson\"))"
      ],
      "metadata": {
        "colab": {
          "base_uri": "https://localhost:8080/"
        },
        "id": "8680Rt_3km1O",
        "outputId": "074b5eac-b38c-4232-b82b-e8d4fbfbfaf3"
      },
      "execution_count": 8,
      "outputs": [
        {
          "output_type": "stream",
          "name": "stdout",
          "text": [
            "68 65 6c 6c 6f 20 77 6f 72 6c 64\n",
            "42 69 67 20 42 6f 69\n",
            "4d 61 72 74 79 20 50 6f 70 70 69 6e 73 6f 6e\n"
          ]
        }
      ]
    },
    {
      "cell_type": "markdown",
      "source": [
        "3. Someone has attempted to censor my strings by replacing every vowel with a , lk* th*s. Luckily, I've been able to find the vowels that were removed.\n",
        "Given a censored string and a string of the censored vowels, return the original uncensored string.\n",
        "\n",
        "Example\n",
        "\n",
        "uncensor(\"Whr dd my vwls g?\", \"eeioeo\") ➞ \"Where did my vowels go?\"\n",
        "\n",
        "uncensor(\"abcd\", \"\") ➞ \"abcd\"\n",
        "\n",
        "uncensor(\"PPRCS\", \"UEAE\") ➞ \"UPPERCASE\""
      ],
      "metadata": {
        "id": "vSkYgsRqmd5w"
      }
    },
    {
      "cell_type": "code",
      "source": [
        "def uncensor(s,s1):\n",
        "    i = 0 \n",
        "    \n",
        "    for letter in s:\n",
        "        if letter == '*':\n",
        "            s = s.replace('*', s1[i],1)\n",
        "            i += 1\n",
        "    return s\n",
        "\n",
        "print(uncensor(\"Wh*r* d*d my v*w*ls g*?\", \"eeioeo\"))\n",
        "print(uncensor(\"abcd\", \"\"))\n",
        "print(uncensor(\"*PP*RC*S*\", \"UEAE\"))"
      ],
      "metadata": {
        "colab": {
          "base_uri": "https://localhost:8080/"
        },
        "id": "Tsxe8hMkmpPY",
        "outputId": "92650f73-998b-4044-c376-cb79470e6d7e"
      },
      "execution_count": 11,
      "outputs": [
        {
          "output_type": "stream",
          "name": "stdout",
          "text": [
            "Where did my vowels go?\n",
            "abcd\n",
            "UPPERCASE\n"
          ]
        }
      ]
    },
    {
      "cell_type": "markdown",
      "source": [
        "4. Write a function that takes an IP address and returns the domain name using PTR DNS records.\n",
        "Example\n",
        "\n",
        "get_domain(\"8.8.8.8\") ➞ \"dns.google\"\n",
        "\n",
        "get_domain(\"8.8.4.4\") ➞ \"dns.google\""
      ],
      "metadata": {
        "id": "VZpoVnMQp-hG"
      }
    },
    {
      "cell_type": "code",
      "source": [
        "import socket\n",
        "\n",
        "def get_domain(ip_address):\n",
        "    return socket.gethostbyaddr(ip_address)[0]\n",
        "\n",
        "print(get_domain(\"8.8.8.8\"))\n",
        "print(get_domain(\"8.8.4.4\"))\n",
        "print(get_domain(\"172.105.51.234\"))"
      ],
      "metadata": {
        "colab": {
          "base_uri": "https://localhost:8080/"
        },
        "id": "j_HlDZYEp_2O",
        "outputId": "56ab1a5f-1668-4a26-b5df-7f0c4b6c3efe"
      },
      "execution_count": 12,
      "outputs": [
        {
          "output_type": "stream",
          "name": "stdout",
          "text": [
            "dns.google\n",
            "dns.google\n",
            "ineuron.interactivedns.com\n"
          ]
        }
      ]
    },
    {
      "cell_type": "markdown",
      "source": [
        "5. Create a function that takes an integer n and returns the factorial of factorials. See below examples for a better understanding:\n",
        "Examples\n",
        "\n",
        "fact_of_fact(4) ➞ 288\n",
        "\n",
        "4! * 3! * 2! * 1! = 288\n",
        "fact_of_fact(5) ➞ 34560\n",
        "\n",
        "fact_of_fact(6) ➞ 24883200"
      ],
      "metadata": {
        "id": "M41QMh1kql5I"
      }
    },
    {
      "cell_type": "code",
      "source": [
        "def fact(n):\n",
        "    if n == 0 or n == 1:\n",
        "        return 1\n",
        "    \n",
        "    else:\n",
        "        return n * fact(n-1)\n",
        "    \n",
        "def fact_of_fact(n):\n",
        "    result = 1\n",
        "    while n > 1:\n",
        "        result *= fact(n)\n",
        "        n -= 1\n",
        "    return result   \n",
        "\n",
        "print(fact_of_fact(4)) \n",
        "print(fact_of_fact(5))\n",
        "print(fact_of_fact(6))"
      ],
      "metadata": {
        "colab": {
          "base_uri": "https://localhost:8080/"
        },
        "id": "UivcW8sZqoF4",
        "outputId": "fe7cec10-a220-4503-f7e0-ee843a756a9c"
      },
      "execution_count": 13,
      "outputs": [
        {
          "output_type": "stream",
          "name": "stdout",
          "text": [
            "288\n",
            "34560\n",
            "24883200\n"
          ]
        }
      ]
    }
  ]
}