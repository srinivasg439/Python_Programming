{
  "nbformat": 4,
  "nbformat_minor": 0,
  "metadata": {
    "colab": {
      "name": "PythonBasic_Assignment4.ipynb",
      "provenance": []
    },
    "kernelspec": {
      "name": "python3",
      "display_name": "Python 3"
    },
    "language_info": {
      "name": "python"
    }
  },
  "cells": [
    {
      "cell_type": "code",
      "execution_count": null,
      "metadata": {
        "id": "WX3Q4FbOk82s"
      },
      "outputs": [],
      "source": [
        "#1. What exactly is []?\n",
        "Sol.The empty list value, which is a list value that contains no items. This is similar to how '' is the empty string value."
      ]
    },
    {
      "cell_type": "code",
      "source": [
        "#2. In a list of values stored in a variable called spam, how would you assign the value 'hello' as the third value? (Assume [2, 4, 6, 8, 10] are in spam.)\n",
        "Sol.spam[2] = 'hello' (Notice that the third value in a list is at index 2 because the first index is 0.)"
      ],
      "metadata": {
        "id": "oCEW5R7YqjNy"
      },
      "execution_count": null,
      "outputs": []
    },
    {
      "cell_type": "code",
      "source": [
        "#3. What is the value of spam[int(int('3' * 2) / 11)]?\n",
        "Sol.'d' (Note that '3' * 2 is the string '33', which is passed to int() before being divided by 11. This eventually evaluates to 3. \n",
        "Expressions can be used wherever values are used.)\n",
        "spam = ['a','b','c','d']\n",
        "spam[int(int('3' * 2) / 11)]\n"
      ],
      "metadata": {
        "colab": {
          "base_uri": "https://localhost:8080/",
          "height": 35
        },
        "id": "HvmzNsSvtyf0",
        "outputId": "bbfd1e90-cb2e-481e-cfc3-02206098c46f"
      },
      "execution_count": 3,
      "outputs": [
        {
          "output_type": "execute_result",
          "data": {
            "application/vnd.google.colaboratory.intrinsic+json": {
              "type": "string"
            },
            "text/plain": [
              "'d'"
            ]
          },
          "metadata": {},
          "execution_count": 3
        }
      ]
    },
    {
      "cell_type": "code",
      "source": [
        "#4. What is the value of spam[-1]?\n",
        "spam = ['a','b','c','d']\n",
        "spam[-1]"
      ],
      "metadata": {
        "colab": {
          "base_uri": "https://localhost:8080/",
          "height": 35
        },
        "id": "m7odAT3au63q",
        "outputId": "8aec3af0-eb76-4ea8-d0dc-c9ef6cec0bd4"
      },
      "execution_count": 4,
      "outputs": [
        {
          "output_type": "execute_result",
          "data": {
            "application/vnd.google.colaboratory.intrinsic+json": {
              "type": "string"
            },
            "text/plain": [
              "'d'"
            ]
          },
          "metadata": {},
          "execution_count": 4
        }
      ]
    },
    {
      "cell_type": "code",
      "source": [
        "#5. What is the value of spam[:2]?\n",
        "spam = ['a','b','c','d']\n",
        "spam[:2]"
      ],
      "metadata": {
        "colab": {
          "base_uri": "https://localhost:8080/"
        },
        "id": "71f1LXgWvK3A",
        "outputId": "b2db8ab9-cd5b-44cc-c9ae-1e0c32eed49a"
      },
      "execution_count": 10,
      "outputs": [
        {
          "output_type": "execute_result",
          "data": {
            "text/plain": [
              "['a', 'b']"
            ]
          },
          "metadata": {},
          "execution_count": 10
        }
      ]
    },
    {
      "cell_type": "code",
      "source": [
        "#6. What is the value of bacon.index('cat')?\n",
        "bacon = [3.14,'cat',11,'cat',True]\n",
        "bacon.index('cat')\n"
      ],
      "metadata": {
        "colab": {
          "base_uri": "https://localhost:8080/"
        },
        "id": "ANHKHavmvXuQ",
        "outputId": "4b0dab6c-95f0-404f-873e-4ed72eab2e61"
      },
      "execution_count": 6,
      "outputs": [
        {
          "output_type": "execute_result",
          "data": {
            "text/plain": [
              "1"
            ]
          },
          "metadata": {},
          "execution_count": 6
        }
      ]
    },
    {
      "cell_type": "code",
      "source": [
        "#7. How does bacon.append(99) change the look of the list value in bacon?\n",
        "bacon = [3.14,'cat',11,'cat',True]\n",
        "bacon.append(99)\n",
        "bacon"
      ],
      "metadata": {
        "colab": {
          "base_uri": "https://localhost:8080/"
        },
        "id": "96Rd4QLiv_c8",
        "outputId": "944a4a60-bd02-48b6-ebb7-daa04a907540"
      },
      "execution_count": 9,
      "outputs": [
        {
          "output_type": "execute_result",
          "data": {
            "text/plain": [
              "[3.14, 'cat', 11, 'cat', True, 99]"
            ]
          },
          "metadata": {},
          "execution_count": 9
        }
      ]
    },
    {
      "cell_type": "code",
      "source": [
        "#8. How does bacon.remove('cat') change the look of the list in bacon?\n",
        "bacon = [3.14,'cat',11,'cat',True]\n",
        "bacon.remove('cat')\n",
        "bacon\n"
      ],
      "metadata": {
        "colab": {
          "base_uri": "https://localhost:8080/"
        },
        "id": "jCUmOi6ewgxm",
        "outputId": "421d7e11-8155-4175-f31c-dae82938bb01"
      },
      "execution_count": 11,
      "outputs": [
        {
          "output_type": "execute_result",
          "data": {
            "text/plain": [
              "[3.14, 11, 'cat', True]"
            ]
          },
          "metadata": {},
          "execution_count": 11
        }
      ]
    },
    {
      "cell_type": "code",
      "source": [
        "#9. What are the list concatenation and list replication operators?\n",
        "sol.The operator for list concatenation is +, while the operator for replication is *."
      ],
      "metadata": {
        "id": "KMqzFbXkxE6N"
      },
      "execution_count": null,
      "outputs": []
    },
    {
      "cell_type": "code",
      "source": [
        "#10. What is difference between the list methods append() and insert()?\n",
        "Sol.The difference is that with append, you just add a new entry at the end of the list. With insert(position, new_entry) you can create a new entry exactly \n",
        "in the position you want.The append method adds a new item to the end of a list."
      ],
      "metadata": {
        "id": "wTjWH_orxUf1"
      },
      "execution_count": null,
      "outputs": []
    },
    {
      "cell_type": "code",
      "source": [
        "#11. What are the two methods for removing items from a list?\n",
        "Sol.There are three ways in which you can Remove elements from List:\n",
        "\n",
        "Using the remove() method.\n",
        "Using the list object's pop() method.\n",
        "Using the del operator."
      ],
      "metadata": {
        "id": "WjIohyjRx-uC"
      },
      "execution_count": null,
      "outputs": []
    },
    {
      "cell_type": "code",
      "source": [
        "#12. Describe how list values and string values are identical.?\n",
        "Sol.The values that make up a list are called its elements. ... Lists are similar to strings, which are ordered collections of characters, \n",
        "except that the elements of a list can have any type and for any one list, the items can be of different types."
      ],
      "metadata": {
        "id": "QKeEKEgDyciK"
      },
      "execution_count": null,
      "outputs": []
    },
    {
      "cell_type": "code",
      "source": [
        "#13. What's the difference between tuples and lists?\n",
        "Sol.List and Tuple in Python are the class of data structure. The list is dynamic, whereas the tuple has static characteristics. \n",
        "Lists need not be homogeneous always which makes it the most powerful tool in Python. In Python, the list is a type of container in Data Structures,\n",
        "which is used to store multiple data at the same time. Lists are a useful tool for preserving a sequence of data and further iterating over it. \n",
        "Syntax: \n",
        "\n",
        "list_data = ['an', 'example', 'of', 'a', 'list']\n",
        "\n",
        "Tuple is also a sequence data type that can contain elements of different data types, but these are immutable in nature. In other words, \n",
        "a tuple is a collection of Python objects separated by commas. The tuple is faster than the list because of static in nature. \n",
        "Syntax:  \n",
        "tuple_data = ('this', 'is', 'an', 'example', 'of', 'tuple')"
      ],
      "metadata": {
        "id": "gzqGcQdWzECh"
      },
      "execution_count": null,
      "outputs": []
    },
    {
      "cell_type": "code",
      "source": [
        "#14. How do you type a tuple value that only contains the integer 42?\n",
        "Sol.(42,) (The trailing comma is mandatory.)\n",
        "Ex.\n",
        "    tuple_data = (42,)\n",
        "    type(tuple_data)"
      ],
      "metadata": {
        "colab": {
          "base_uri": "https://localhost:8080/"
        },
        "id": "0MdZ6ySF0t2e",
        "outputId": "7e251737-03a7-4918-dae9-e04c2463769a"
      },
      "execution_count": 14,
      "outputs": [
        {
          "output_type": "execute_result",
          "data": {
            "text/plain": [
              "tuple"
            ]
          },
          "metadata": {},
          "execution_count": 14
        }
      ]
    },
    {
      "cell_type": "code",
      "source": [
        "#15. How do you get a list value's tuple form? How do you get a tuple value's list form?\n",
        "Sol.The tuple() and list() functions, respectively"
      ],
      "metadata": {
        "id": "eSxYnaoH3FWz"
      },
      "execution_count": null,
      "outputs": []
    },
    {
      "cell_type": "code",
      "source": [
        "#16. Variables that \"contain\" list values are not necessarily lists themselves. Instead, what do they contain?\n",
        "Sol.They contain references to list values."
      ],
      "metadata": {
        "id": "K_018Evu3WQy"
      },
      "execution_count": null,
      "outputs": []
    },
    {
      "cell_type": "code",
      "source": [
        "#17. How do you distinguish between copy.copy() and copy.deepcopy()?\n",
        "Sol.The copy.copy() function will do a shallow copy of a list, while the copy.deepcopy() function will do a deep copy of a list. \n",
        "That is, only copy.deepcopy() will duplicate any lists inside the list."
      ],
      "metadata": {
        "id": "NM41RL7r3pa5"
      },
      "execution_count": null,
      "outputs": []
    }
  ]
}