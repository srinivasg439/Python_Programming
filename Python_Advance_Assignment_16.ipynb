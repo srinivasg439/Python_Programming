{
  "nbformat": 4,
  "nbformat_minor": 0,
  "metadata": {
    "colab": {
      "provenance": []
    },
    "kernelspec": {
      "name": "python3",
      "display_name": "Python 3"
    },
    "language_info": {
      "name": "python"
    }
  },
  "cells": [
    {
      "cell_type": "markdown",
      "source": [
        "Q1. What is the benefit of regular expressions?\n",
        "\n",
        "Regular expression let us search the piece of text that matches the given pattern. The main benefit of using them is, it saves lot of time and are very eeficient to use.\n",
        "\n",
        "Q2. Describe the difference between the effects of \"(ab)c+\" and \"a(bc)+.\" Which of these, if any, is the unqualified pattern \"abc+\"?\n",
        "Pattern (ab)c+ will search for at only one occurence of \"ab\" and one or more occurances of c.\n",
        "\n",
        "\n",
        "Pattern a(bc)+ will search for at only one occurence of \"a\" and one or more occurances of bc.\n",
        "\n",
        "pattern (ab)c+ can be unqualified pattern \"abc+\""
      ],
      "metadata": {
        "id": "eyTK52MREYM4"
      }
    },
    {
      "cell_type": "code",
      "execution_count": 1,
      "metadata": {
        "colab": {
          "base_uri": "https://localhost:8080/"
        },
        "id": "WPbWkDynEFlr",
        "outputId": "360d8ee8-d592-43dc-8d5b-90b126d2577a"
      },
      "outputs": [
        {
          "output_type": "stream",
          "name": "stdout",
          "text": [
            "abcccccc\n",
            "abcbc\n"
          ]
        }
      ],
      "source": [
        "import re\n",
        "\n",
        "match1 = re.search(r'(ab)c+',\"abcccccc\")\n",
        "match2 = re.search(r'a(bc)+',\"abcbc\")\n",
        "\n",
        "print(match1.group())\n",
        "\n",
        "print(match2.group())"
      ]
    },
    {
      "cell_type": "markdown",
      "source": [
        "Q3. How much do you need to use the following sentence while using regular expressions?\n",
        "\n",
        "import re\n",
        "\n",
        "We have to use it everytime we use functions of the module re.\n",
        "\n",
        "Q4. Which characters have special significance in square brackets when expressing a range, and under what circumstances?\n",
        "\n",
        "\\ (backslash) : general escape character, is usd when you use character class metacharacters as literals inside a character class only.\n",
        "\n",
        "^ (circumflex anchor) : negate the class, if this is the first character in the brackets(If ^ is not the first, it is not a metacharacter.)\n",
        "\n",
        "Q5. How does compiling a regular-expression object benefit you?\n",
        "\n",
        "It is faster compared to using pattern ad other re functions.\n",
        "\n",
        "Q6. What are some examples of how to use the match object returned by re.match and re.search?\n",
        "\n",
        "\n",
        "re.search() searches for the whole string even if the string contains multi-lines and tries to find a match of the substring in all the lines of string\n",
        "\n",
        "re.match() searches only from the beginning of the string and return match object if found. But if a match of substring is found somewhere in the middle of the string, it returns none.\n",
        "\n",
        "But, both search() and match() returns only the first occurance of pattern."
      ],
      "metadata": {
        "id": "zCLvnKOTFLzK"
      }
    },
    {
      "cell_type": "code",
      "source": [
        "import re\n",
        "\n",
        "pattern = 'ineuron'\n",
        "\n",
        "search = re.search(pattern,\"Ineuron is the best coaching class ineuron!\",re.IGNORECASE)\n",
        "\n",
        "print(search)\n",
        "\n",
        "match = re.match(pattern,\"The best coaching class is Ineuron!\",re.IGNORECASE)\n",
        "\n",
        "print(match)"
      ],
      "metadata": {
        "colab": {
          "base_uri": "https://localhost:8080/"
        },
        "id": "Ukj_3dZsFfYH",
        "outputId": "61850d3a-2fc6-4c12-80b2-eec570d56999"
      },
      "execution_count": 2,
      "outputs": [
        {
          "output_type": "stream",
          "name": "stdout",
          "text": [
            "<re.Match object; span=(0, 7), match='Ineuron'>\n",
            "None\n"
          ]
        }
      ]
    },
    {
      "cell_type": "markdown",
      "source": [
        "Q7. What is the difference between using a vertical bar (|) as an alteration and using square brackets as a character set?\n",
        "\n",
        "| : is regex or. It will check either of any string is present in search string.\n",
        "\n",
        "[] : This will search for any character is present in string"
      ],
      "metadata": {
        "id": "Fe4tNwIaF-fY"
      }
    },
    {
      "cell_type": "code",
      "source": [
        "import re\n",
        "\n",
        "print(re.findall(\"She|he\", \"She is a great human!\"))\n",
        "\n",
        "print(re.findall(r'[^\\d]+',\"she is great human!\"))"
      ],
      "metadata": {
        "colab": {
          "base_uri": "https://localhost:8080/"
        },
        "id": "FJdopfbvGAZc",
        "outputId": "c8f1a53a-d35f-4401-c59b-0804f9bd3aad"
      },
      "execution_count": 3,
      "outputs": [
        {
          "output_type": "stream",
          "name": "stdout",
          "text": [
            "['She']\n",
            "['she is great human!']\n"
          ]
        }
      ]
    },
    {
      "cell_type": "markdown",
      "source": [
        "Q8. In regular-expression search patterns, why is it necessary to use the raw-string indicator (r)? In replacement strings?\n",
        "\n",
        "r indicates raw string means that the characters ahead are individual charachers not escape characters. It changes how the string literal is interpreted. Such literals are stored as they appear."
      ],
      "metadata": {
        "id": "RVSUzXU6GgNA"
      }
    }
  ]
}