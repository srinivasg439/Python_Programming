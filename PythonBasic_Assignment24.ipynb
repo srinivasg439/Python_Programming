{
  "nbformat": 4,
  "nbformat_minor": 0,
  "metadata": {
    "colab": {
      "provenance": []
    },
    "kernelspec": {
      "name": "python3",
      "display_name": "Python 3"
    },
    "language_info": {
      "name": "python"
    }
  },
  "cells": [
    {
      "cell_type": "markdown",
      "source": [
        "1. What is the relationship between def statements and lambda expressions ?\n",
        "Keyword def that marks the start of the function header. A function name to uniquely identify the function. \n",
        "Function naming follows the same rules of writing identifiers in Python\n",
        "\n",
        "lambdas are one-line methods without a name.\n",
        "They work practically the same as any other method in Python\n",
        "Lambdas differ from normal Python methods because they can have only one expression,\n",
        "can't contain any statements and their return type is a function object\n",
        "2. What is the benefit of lambda?\n",
        "Fewer Lines of Code\n",
        "Lambda functions are inline functions and thus execute comparatively faster\n",
        "Many times lambda functions make code much more readable by avoiding the logical jumps caused by function calls\n",
        "\n",
        "3. Compare and contrast map, filter, and reduce.\n",
        "map applies as a transformation to an element.\n",
        "The map() function iterates through all items in the given iterable and executes the function we \n",
        "passed as an argument on each of them.\n",
        "Syntax : map(function, iterable(s))\n",
        "\n",
        "\n",
        "filter accumulates only elements matching a condition.\n",
        "filter() forms a new list that contains only elements that satisfy a certain condition, i.e. the function we \n",
        "passed returns True\n",
        "Syntax : filter(function, iterable(s))\n",
        "\n",
        "reduce accumulates all elements to a single value, by using immutable values\n",
        "reduce() works by calling the function we passed for the first two items in the sequence. The result returned by \n",
        "the function is used in another call to function alongside with the next (third in this case), element\n",
        "Syntax : reduce(function, sequence[, initial])"
      ],
      "metadata": {
        "id": "ev8qE53JqN5-"
      }
    },
    {
      "cell_type": "code",
      "execution_count": 1,
      "metadata": {
        "colab": {
          "base_uri": "https://localhost:8080/"
        },
        "id": "LvPdOfs5mP0-",
        "outputId": "3b527807-fe5c-44bc-9ed8-38ce84ac1ba7"
      },
      "outputs": [
        {
          "output_type": "stream",
          "name": "stdout",
          "text": [
            "True\n",
            "False\n",
            "False\n",
            "True\n",
            "False\n"
          ]
        }
      ],
      "source": [
        "### Map functions\n",
        "fruit = [\"Apple\", \"Banana\", \"Pear\", \"Apricot\", \"Orange\"]\n",
        "map_object = map(lambda s: s[0] == \"A\", fruit)\n",
        "\n",
        "#print(list(map_object))\n",
        "for i in map_object:\n",
        "    print(i)"
      ]
    },
    {
      "cell_type": "code",
      "source": [
        "### Filter functions\n",
        "fruit = [\"Apple\", \"Banana\", \"Pear\", \"Apricot\", \"Orange\"]\n",
        "filter_object = filter(lambda s: s[0] == \"A\", fruit)\n",
        "\n",
        "for i in filter_object:\n",
        "    print(i)"
      ],
      "metadata": {
        "colab": {
          "base_uri": "https://localhost:8080/"
        },
        "id": "NRNWwCOMqpOz",
        "outputId": "2864f219-7f61-47fa-db66-3590297fba45"
      },
      "execution_count": 2,
      "outputs": [
        {
          "output_type": "stream",
          "name": "stdout",
          "text": [
            "Apple\n",
            "Apricot\n"
          ]
        }
      ]
    },
    {
      "cell_type": "code",
      "source": [
        "### Reduce function\n",
        "from functools import reduce\n",
        "\n",
        "list = [2, 4, 7, 3]\n",
        "print(reduce(lambda x, y: x + y, list))\n",
        "print(\"With an initial value: \" + str(reduce(lambda x, y: x + y, list, 10)))"
      ],
      "metadata": {
        "colab": {
          "base_uri": "https://localhost:8080/"
        },
        "id": "rO3P-7NhqwWZ",
        "outputId": "1af2e4f6-fd46-4fbd-a30f-baf9f653ea58"
      },
      "execution_count": 3,
      "outputs": [
        {
          "output_type": "stream",
          "name": "stdout",
          "text": [
            "16\n",
            "With an initial value: 26\n"
          ]
        }
      ]
    },
    {
      "cell_type": "code",
      "source": [
        "### Reduce function\n",
        "from functools import reduce\n",
        "\n",
        "def add(x, y):\n",
        "    return x + y\n",
        "\n",
        "list = [2, 4, 7, 3]\n",
        "print(reduce(add, list))"
      ],
      "metadata": {
        "colab": {
          "base_uri": "https://localhost:8080/"
        },
        "id": "2Nn75DIcq1Wp",
        "outputId": "cbec1a05-23a4-465b-c40c-a8bb09aec7bc"
      },
      "execution_count": 4,
      "outputs": [
        {
          "output_type": "stream",
          "name": "stdout",
          "text": [
            "16\n"
          ]
        }
      ]
    },
    {
      "cell_type": "markdown",
      "source": [
        "4. What are function annotations, and how are they used?\n",
        "Function annotation is the standard way to access the metadata with the arguments and the return value of the function.\n",
        "These are nothing but some random and optional Python expressions that get allied to different parts of the function.\n",
        "They get evaluated only during the compile-time and have no significance during the run-time of the code.\n",
        "They do not have any significance or meaning associated with them until accessed by some third-party libraries.\n",
        "They are used to type check the functions by declaring the type of the parameters and the return value for the functions.\n",
        "The string-based annotations help us to improve the help messages.\n",
        "\n",
        "Syntax :\n",
        "    def func(a: 'int') -> 'int':\n",
        "        pass\n",
        "\n",
        "Annotations for simple parameters:\n",
        "    def func(x: 'float'=10.8, y: 'argument2'):\n",
        "        In the above code the argument, ‘x’ of the function func, \n",
        "        has been annotated to float data type and the argument ‘y’ \n",
        "        has a string-based annotation. The argument can also be \n",
        "        assigned to a default value using a ‘=’ symbol followed \n",
        "        by the default value. These default values are optional to the code.\n",
        "\n",
        "Annotations for return values:\n",
        "    def func(a: expression) -> 'int':\n",
        "        The annotations for the return value is written after the ‘->’ symbol.\n"
      ],
      "metadata": {
        "id": "v78jkg0rq-l_"
      }
    },
    {
      "cell_type": "code",
      "source": [
        "def fib(n:'float', b:'int')-> 'result': \n",
        "    pass\n",
        "print(fib.__annotations__)"
      ],
      "metadata": {
        "colab": {
          "base_uri": "https://localhost:8080/"
        },
        "id": "uKal1OourGwh",
        "outputId": "8023c0ae-5525-4a68-b00e-cb3f2fdb41e9"
      },
      "execution_count": 5,
      "outputs": [
        {
          "output_type": "stream",
          "name": "stdout",
          "text": [
            "{'n': 'float', 'b': 'int', 'return': 'result'}\n"
          ]
        }
      ]
    },
    {
      "cell_type": "markdown",
      "source": [
        "5. What are recursive functions, and how are they used?\n",
        "A recursive function is a function that calls itself during its execution. \n",
        "This means that the function will continue to call itself and repeat its behavior until some condition is met to return \n",
        "a result"
      ],
      "metadata": {
        "id": "G4SAzO4UrL0Z"
      }
    },
    {
      "cell_type": "code",
      "source": [
        "# example\n",
        "def fact(x):\n",
        "    if x == 1 :\n",
        "        return 1\n",
        "    else :\n",
        "        return x * fact(x-1) # recurtion\n",
        "    \n",
        "fact(3)"
      ],
      "metadata": {
        "id": "C8l-BD_drNUz"
      },
      "execution_count": null,
      "outputs": []
    },
    {
      "cell_type": "markdown",
      "source": [
        "6. What are some general design guidelines for coding functions?\n",
        "\n",
        "1. Use 4-space indentation and no tabs.\n",
        "2. Use docstrings\n",
        "3. Wrap linethat they don’t exceed 79 characters\n",
        "4. Use of regular and updated comments are valuable to both the coders and users\n",
        "5. Use of trailing commas : in case of tuple -> ('good',)\n",
        "6. Use Python’s default UTF-8 or ASCII encodings and not any fancy encodings\n",
        "7. Naming Conventions\n",
        "8.Characters that should not be used for identifiers :\n",
        "    ‘l’ (lowercase letter el), \n",
        "    ‘O’ (uppercase letter oh), \n",
        "    ‘I’ (uppercase letter eye) as single character variable names as these are similar to the numerals one and zero.\n",
        "9. Don’t use non-ASCII characters in identifiers\n",
        "10. Name your classes and functions consistently\n",
        "11. While naming of function of methods always use self for the first argument\n",
        "\n",
        "\n",
        "7. Name three or more ways that functions can communicate results to a caller.\n",
        "\n",
        "1. Function can return single value\n",
        "2. Can return multiple values, tuple\n",
        "3. can return list,dictionary\n",
        "4. can return function object\n",
        "5. can return class object"
      ],
      "metadata": {
        "id": "YXgBLejdrXKq"
      }
    },
    {
      "cell_type": "markdown",
      "source": [
        "1. What is the relationship between def statements and lambda expressions ?\n",
        "Keyword def that marks the start of the function header. A function name to uniquely identify the function. \n",
        "Function naming follows the same rules of writing identifiers in Python\n",
        "\n",
        "lambdas are one-line methods without a name.\n",
        "They work practically the same as any other method in Python\n",
        "Lambdas differ from normal Python methods because they can have only one expression,\n",
        "can't contain any statements and their return type is a function object\n",
        "2. What is the benefit of lambda?\n",
        "Fewer Lines of Code\n",
        "Lambda functions are inline functions and thus execute comparatively faster\n",
        "Many times lambda functions make code much more readable by avoiding the logical jumps caused by function calls\n",
        "\n",
        "3. Compare and contrast map, filter, and reduce.\n",
        "map applies as a transformation to an element.\n",
        "The map() function iterates through all items in the given iterable and executes the function we \n",
        "passed as an argument on each of them.\n",
        "Syntax : map(function, iterable(s))\n",
        "\n",
        "\n",
        "filter accumulates only elements matching a condition.\n",
        "filter() forms a new list that contains only elements that satisfy a certain condition, i.e. the function we \n",
        "passed returns True\n",
        "Syntax : filter(function, iterable(s))\n",
        "\n",
        "1. What is the relationship between def statements and lambda expressions ?\n",
        "Keyword def that marks the start of the function header. A function name to uniquely identify the function. \n",
        "Function naming follows the same rules of writing identifiers in Python\n",
        "\n",
        "lambdas are one-line methods without a name.\n",
        "They work practically the same as any other method in Python\n",
        "Lambdas differ from normal Python methods because they can have only one expression,\n",
        "can't contain any statements and their return type is a function object\n",
        "2. What is the benefit of lambda?\n",
        "Fewer Lines of Code\n",
        "Lambda functions are inline functions and thus execute comparatively faster\n",
        "Many times lambda functions make code much more readable by avoiding the logical jumps caused by function calls\n",
        "\n",
        "3. Compare and contrast map, filter, and reduce.\n",
        "map applies as a transformation to an element.\n",
        "The map() function iterates through all items in the given iterable and executes the function we \n",
        "passed as an argument on each of them.\n",
        "Syntax : map(function, iterable(s))\n",
        "\n",
        "\n",
        "filter accumulates only elements matching a condition.\n",
        "filter() forms a new list that contains only elements that satisfy a certain condition, i.e. the function we \n",
        "passed returns True\n",
        "Syntax : filter(function, iterable(s))"
      ],
      "metadata": {
        "id": "QjUwKGECWy5U"
      }
    },
    {
      "cell_type": "code",
      "source": [
        "### Map functions\n",
        "fruit = [\"Apple\", \"Banana\", \"Pear\", \"Apricot\", \"Orange\"]\n",
        "map_object = map(lambda s: s[0] == \"A\", fruit)\n",
        "\n",
        "#print(list(map_object))\n",
        "for i in map_object:\n",
        "    print(i)"
      ],
      "metadata": {
        "colab": {
          "base_uri": "https://localhost:8080/"
        },
        "id": "EqV7GDWKrfd1",
        "outputId": "63b16cb7-4506-4ee0-c6ac-10b3c310f62d"
      },
      "execution_count": 1,
      "outputs": [
        {
          "output_type": "stream",
          "name": "stdout",
          "text": [
            "True\n",
            "False\n",
            "False\n",
            "True\n",
            "False\n"
          ]
        }
      ]
    },
    {
      "cell_type": "code",
      "source": [
        "### Filter functions\n",
        "fruit = [\"Apple\", \"Banana\", \"Pear\", \"Apricot\", \"Orange\"]\n",
        "filter_object = filter(lambda s: s[0] == \"A\", fruit)\n",
        "\n",
        "for i in filter_object:\n",
        "    print(i)"
      ],
      "metadata": {
        "colab": {
          "base_uri": "https://localhost:8080/"
        },
        "id": "ZvVJdCAkZ7ZD",
        "outputId": "4c713ac4-8a36-4cbe-b279-1b0b3b0016b0"
      },
      "execution_count": 2,
      "outputs": [
        {
          "output_type": "stream",
          "name": "stdout",
          "text": [
            "Apple\n",
            "Apricot\n"
          ]
        }
      ]
    },
    {
      "cell_type": "code",
      "source": [
        "### Reduce function\n",
        "from functools import reduce\n",
        "\n",
        "list = [2, 4, 7, 3]\n",
        "print(reduce(lambda x, y: x + y, list))\n",
        "print(\"With an initial value: \" + str(reduce(lambda x, y: x + y, list, 10)))"
      ],
      "metadata": {
        "colab": {
          "base_uri": "https://localhost:8080/"
        },
        "id": "QgN_eN12aLfR",
        "outputId": "05f27d0c-6696-4310-b620-7e4e838a4550"
      },
      "execution_count": 3,
      "outputs": [
        {
          "output_type": "stream",
          "name": "stdout",
          "text": [
            "16\n",
            "With an initial value: 26\n"
          ]
        }
      ]
    },
    {
      "cell_type": "code",
      "source": [
        "### Reduce function\n",
        "from functools import reduce\n",
        "\n",
        "def add(x, y):\n",
        "    return x + y\n",
        "\n",
        "list = [2, 4, 7, 3]\n",
        "print(reduce(add, list))"
      ],
      "metadata": {
        "colab": {
          "base_uri": "https://localhost:8080/"
        },
        "id": "zYvtHvaHaUfm",
        "outputId": "97da4fa2-5c31-42fd-d4a9-d3b9a32c03b9"
      },
      "execution_count": 4,
      "outputs": [
        {
          "output_type": "stream",
          "name": "stdout",
          "text": [
            "16\n"
          ]
        }
      ]
    },
    {
      "cell_type": "code",
      "source": [],
      "metadata": {
        "id": "K-rqZiWobB1M"
      },
      "execution_count": null,
      "outputs": []
    },
    {
      "cell_type": "markdown",
      "source": [
        "4. What are function annotations, and how are they used?\n",
        "Function annotation is the standard way to access the metadata with the arguments and the return value of the function.\n",
        "These are nothing but some random and optional Python expressions that get allied to different parts of the function.\n",
        "They get evaluated only during the compile-time and have no significance during the run-time of the code.\n",
        "They do not have any significance or meaning associated with them until accessed by some third-party libraries.\n",
        "They are used to type check the functions by declaring the type of the parameters and the return value for the functions.\n",
        "The string-based annotations help us to improve the help messages.\n",
        "\n",
        "Syntax :\n",
        "    def func(a: 'int') -> 'int':\n",
        "        pass\n",
        "\n",
        "Annotations for simple parameters:\n",
        "    def func(x: 'float'=10.8, y: 'argument2'):\n",
        "        In the above code the argument, ‘x’ of the function func, \n",
        "        has been annotated to float data type and the argument ‘y’ \n",
        "        has a string-based annotation. The argument can also be \n",
        "        assigned to a default value using a ‘=’ symbol followed \n",
        "        by the default value. These default values are optional to the code.\n",
        "\n",
        "Annotations for return values:\n",
        "    def func(a: expression) -> 'int':\n",
        "        The annotations for the return value is written after the ‘->’ symbol.\n",
        "\n"
      ],
      "metadata": {
        "id": "ZYnhv48ubBYb"
      }
    },
    {
      "cell_type": "code",
      "source": [
        "def fib(n:'float', b:'int')-> 'result': \n",
        "    pass\n",
        "print(fib.__annotations__)"
      ],
      "metadata": {
        "colab": {
          "base_uri": "https://localhost:8080/"
        },
        "id": "w_RG0fCPbHzF",
        "outputId": "40b55877-977a-4303-c02d-dc8d66c867ce"
      },
      "execution_count": 5,
      "outputs": [
        {
          "output_type": "stream",
          "name": "stdout",
          "text": [
            "{'n': 'float', 'b': 'int', 'return': 'result'}\n"
          ]
        }
      ]
    },
    {
      "cell_type": "markdown",
      "source": [
        "5. What are recursive functions, and how are they used?\n",
        "A recursive function is a function that calls itself during its execution. \n",
        "This means that the function will continue to call itself and repeat its behavior until some condition is met to return \n",
        "a result"
      ],
      "metadata": {
        "id": "siycsqdwbaEi"
      }
    },
    {
      "cell_type": "code",
      "source": [
        "# example\n",
        "def fact(x):\n",
        "    if x == 1 :\n",
        "        return 1\n",
        "    else :\n",
        "        return x * fact(x-1) # recurtion\n",
        "    \n",
        "fact(3)"
      ],
      "metadata": {
        "colab": {
          "base_uri": "https://localhost:8080/"
        },
        "id": "hF_Vac9Zbcw5",
        "outputId": "0b2803f9-9820-4ca1-8c42-aa3f04f21447"
      },
      "execution_count": 6,
      "outputs": [
        {
          "output_type": "execute_result",
          "data": {
            "text/plain": [
              "6"
            ]
          },
          "metadata": {},
          "execution_count": 6
        }
      ]
    },
    {
      "cell_type": "markdown",
      "source": [
        "6. What are some general design guidelines for coding functions?\n",
        "\n",
        "1. Use 4-space indentation and no tabs.\n",
        "2. Use docstrings\n",
        "3. Wrap linethat they don’t exceed 79 characters\n",
        "4. Use of regular and updated comments are valuable to both the coders and users\n",
        "5. Use of trailing commas : in case of tuple -> ('good',)\n",
        "6. Use Python’s default UTF-8 or ASCII encodings and not any fancy encodings\n",
        "7. Naming Conventions\n",
        "8.Characters that should not be used for identifiers :\n",
        "    ‘l’ (lowercase letter el), \n",
        "    ‘O’ (uppercase letter oh), \n",
        "    ‘I’ (uppercase letter eye) as single character variable names as these are similar to the numerals one and zero.\n",
        "9. Don’t use non-ASCII characters in identifiers\n",
        "10. Name your classes and functions consistently\n",
        "11. While naming of function of methods always use self for the first argument\n",
        "\n",
        "\n",
        "\n",
        "\n",
        "\n",
        "7. Name three or more ways that functions can communicate results to a caller.\n",
        "\n",
        "1. Function can return single value\n",
        "2. Can return multiple values, tuple\n",
        "3. can return list,dictionary\n",
        "4. can return function object\n",
        "5. can return class object"
      ],
      "metadata": {
        "id": "oSwVxRS1bmTu"
      }
    },
    {
      "cell_type": "code",
      "source": [],
      "metadata": {
        "id": "YEqGyBkubpJD"
      },
      "execution_count": null,
      "outputs": []
    }
  ]
}