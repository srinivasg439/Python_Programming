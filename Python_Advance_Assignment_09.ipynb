{
  "nbformat": 4,
  "nbformat_minor": 0,
  "metadata": {
    "colab": {
      "provenance": []
    },
    "kernelspec": {
      "name": "python3",
      "display_name": "Python 3"
    },
    "language_info": {
      "name": "python"
    }
  },
  "cells": [
    {
      "cell_type": "code",
      "execution_count": null,
      "metadata": {
        "id": "itE0mSs6jAL3"
      },
      "outputs": [],
      "source": []
    },
    {
      "cell_type": "markdown",
      "source": [
        "Q1. In Python 3.X, what are the names and functions of string object types?\n",
        "In Python 3.X and later, String objects has bulit in class named as \"str\" and it is used to store characters in memory in encoded format.\n",
        "\n",
        "Q2. How do the string forms in Python 3.X vary in terms of operations?\n",
        "Python supports ASCII as a subset of Unicode. The default encoding of characters in Python is UTF-8 (Unicode Transformation Format - 8-bit).ASCII is really a 7-bit character set; it is mapped to 8-bit bytes by setting the high bit to zero. Thus, ASCII characters are unchanged in UTF-8. A non-zero high bit indicates that a character composed of multiple bytes."
      ],
      "metadata": {
        "id": "o9CY9nJyCum7"
      }
    },
    {
      "cell_type": "code",
      "source": [
        "u = 'srini'\n",
        "print(ord(u[-1]))"
      ],
      "metadata": {
        "colab": {
          "base_uri": "https://localhost:8080/"
        },
        "id": "PkuForEQCv-c",
        "outputId": "2e0f65c5-27a2-4474-9b10-4e3182c2cc45"
      },
      "execution_count": 1,
      "outputs": [
        {
          "output_type": "stream",
          "name": "stdout",
          "text": [
            "105\n"
          ]
        }
      ]
    },
    {
      "cell_type": "markdown",
      "source": [
        "Q3. In 3.X, how do you put non-ASCII Unicode characters in a string?\n",
        "As we know, there are only 127 ASCII characters in ascii table. It stores symbols, letters, whitespace characters, non printable characters, which are very less. So Python 3 has adopted unicode encoding of strings. for non ASCII u can get any value more than 127."
      ],
      "metadata": {
        "id": "17FraiMsDNMb"
      }
    },
    {
      "cell_type": "code",
      "source": [
        "s = 'Srini'\n",
        "\n",
        "s += chr(128)+chr(169)\n",
        "print(s)"
      ],
      "metadata": {
        "colab": {
          "base_uri": "https://localhost:8080/"
        },
        "id": "-aP8oUMtDOmB",
        "outputId": "bfa3a92b-79a2-494e-d1c3-ab2dcd72f1b8"
      },
      "execution_count": 2,
      "outputs": [
        {
          "output_type": "stream",
          "name": "stdout",
          "text": [
            "Srini©\n"
          ]
        }
      ]
    },
    {
      "cell_type": "markdown",
      "source": [
        "Q4. In Python 3.X, what are the key differences between text-mode and binary-mode files?\n",
        "Files opened in binary mode (appending 'b' to the mode argument) return contents as bytes objects without any decoding. In text mode (the default, or when 't' is appended to the mode argument), the contents of the file are returned as strings, the bytes having been first decoded using a platform-dependent encoding or using the specified encoding if given.\n",
        "\n",
        "Q5. How can you interpret a Unicode text file containing text encoded in a different encoding than your platform's default?\n",
        "While reading file, we can specify the encoding such as(utf16, utf32), so the file will be decoded according to that encoding and results are returned to the user."
      ],
      "metadata": {
        "id": "DJ7sEeVKDycR"
      }
    },
    {
      "cell_type": "code",
      "source": [
        "text = \"this is sample text file for understanding encoding\"\n",
        "f = open('sample.txt','w', encoding='utf16')\n",
        "f.write(text)\n",
        "f.close()\n",
        "\n",
        "f = open('sample.txt','r', encoding='utf16')\n",
        "print(f.read())"
      ],
      "metadata": {
        "colab": {
          "base_uri": "https://localhost:8080/"
        },
        "id": "IJ2xt2ciDzkf",
        "outputId": "d57f02e8-aeba-4102-b14b-62a0a3cd7316"
      },
      "execution_count": 3,
      "outputs": [
        {
          "output_type": "stream",
          "name": "stdout",
          "text": [
            "this is sample text file for understanding encoding\n"
          ]
        }
      ]
    },
    {
      "cell_type": "code",
      "source": [
        "text = 'ହୋଉ ହେଲା ଓଡ଼ିଆ | ବହୁତ୍ ଛଇ ତୁମର'\n",
        "encoded_data = text.encode(\"utf16\")\n",
        "\n",
        "file = open(\"sample1.txt\", \"wb\")\n",
        "file.write(encoded_data)\n",
        "\n",
        "file = open(\"sample1.txt\", \"r\", encoding='utf16')\n",
        "\n",
        "print(file.read())"
      ],
      "metadata": {
        "colab": {
          "base_uri": "https://localhost:8080/"
        },
        "id": "xjeMCm9jEYtM",
        "outputId": "5ec64361-8354-465e-e25e-51473cc3d0af"
      },
      "execution_count": 4,
      "outputs": [
        {
          "output_type": "stream",
          "name": "stdout",
          "text": [
            "ହୋଉ ହେଲା ଓଡ଼ିଆ | ବହୁତ୍ ଛଇ ତୁମର\n"
          ]
        }
      ]
    },
    {
      "cell_type": "markdown",
      "source": [
        "Q7. What qualifies ASCII text as a form of Unicode text?\n",
        "The first 128 Unicode code points represent the equivalent ASCII characters. They have the same meaning in both ASCII and unicode. Since UTF-8 encodes each of these characters with a single byte, any ASCII text is also a UTF-8 text. Unicode is a superset of ASCII.\n",
        "\n",
        "Q8. How much of an effect does the change in string types in Python 3.X have on your code?\n",
        "In Python 3.X and later, there is only one string type that is unicode. So no effect on the code."
      ],
      "metadata": {
        "id": "RY31cXBOExJi"
      }
    }
  ]
}