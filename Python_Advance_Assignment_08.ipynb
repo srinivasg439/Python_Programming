{
  "nbformat": 4,
  "nbformat_minor": 0,
  "metadata": {
    "colab": {
      "provenance": []
    },
    "kernelspec": {
      "name": "python3",
      "display_name": "Python 3"
    },
    "language_info": {
      "name": "python"
    }
  },
  "cells": [
    {
      "cell_type": "code",
      "execution_count": null,
      "metadata": {
        "id": "KDvdvbpbhZh8"
      },
      "outputs": [],
      "source": [
        "Q1. What are the two latest user-defined exception constraints in Python 3.X?\n",
        "raise statement - This is used to raise an inbuilt exception explicitly.\n",
        "assert statement - when condition in assert statement is true, program is executed normally. When condition is false, program gives an AssertionError.\n",
        "Q2. How are class-based exceptions that have been raised matched to handlers?\n",
        "When exceptions are raised, then the exception is handled by the same class mentioned in except statement or its base classes. \"Exception\" is the base class(Superclass) for all other exception classes.\n",
        "\n",
        "Q3. Describe two methods for attaching context information to exception artefacts.\n",
        "By using logging.exception() method, we can log log messages with level ERROR on the logger. I will store the information like type of error, line number, file name and path.\n",
        "By using raise keyword. It will also display Traceback of the recent exception raised."
      ]
    },
    {
      "cell_type": "code",
      "source": [
        "import logging\n",
        "  \n",
        "try: \n",
        "    4/0\n",
        "except Exception as e: \n",
        "    logging.exception(e)\n",
        "    raise"
      ],
      "metadata": {
        "colab": {
          "base_uri": "https://localhost:8080/",
          "height": 322
        },
        "id": "x44q7xW8hbbh",
        "outputId": "c1cd7974-bb96-4d79-928f-6cb8e0bc35de"
      },
      "execution_count": 1,
      "outputs": [
        {
          "output_type": "stream",
          "name": "stderr",
          "text": [
            "ERROR:root:division by zero\n",
            "Traceback (most recent call last):\n",
            "  File \"<ipython-input-1-ecac2bd4b516>\", line 4, in <module>\n",
            "    4/0\n",
            "ZeroDivisionError: division by zero\n"
          ]
        },
        {
          "output_type": "error",
          "ename": "ZeroDivisionError",
          "evalue": "ignored",
          "traceback": [
            "\u001b[0;31m---------------------------------------------------------------------------\u001b[0m",
            "\u001b[0;31mZeroDivisionError\u001b[0m                         Traceback (most recent call last)",
            "\u001b[0;32m<ipython-input-1-ecac2bd4b516>\u001b[0m in \u001b[0;36m<module>\u001b[0;34m\u001b[0m\n\u001b[1;32m      2\u001b[0m \u001b[0;34m\u001b[0m\u001b[0m\n\u001b[1;32m      3\u001b[0m \u001b[0;32mtry\u001b[0m\u001b[0;34m:\u001b[0m\u001b[0;34m\u001b[0m\u001b[0;34m\u001b[0m\u001b[0m\n\u001b[0;32m----> 4\u001b[0;31m     \u001b[0;36m4\u001b[0m\u001b[0;34m/\u001b[0m\u001b[0;36m0\u001b[0m\u001b[0;34m\u001b[0m\u001b[0;34m\u001b[0m\u001b[0m\n\u001b[0m\u001b[1;32m      5\u001b[0m \u001b[0;32mexcept\u001b[0m \u001b[0mException\u001b[0m \u001b[0;32mas\u001b[0m \u001b[0me\u001b[0m\u001b[0;34m:\u001b[0m\u001b[0;34m\u001b[0m\u001b[0;34m\u001b[0m\u001b[0m\n\u001b[1;32m      6\u001b[0m     \u001b[0mlogging\u001b[0m\u001b[0;34m.\u001b[0m\u001b[0mexception\u001b[0m\u001b[0;34m(\u001b[0m\u001b[0me\u001b[0m\u001b[0;34m)\u001b[0m\u001b[0;34m\u001b[0m\u001b[0;34m\u001b[0m\u001b[0m\n",
            "\u001b[0;31mZeroDivisionError\u001b[0m: division by zero"
          ]
        }
      ]
    },
    {
      "cell_type": "markdown",
      "source": [
        "Q4. Describe two methods for specifying the text of an exception object's error message.\n",
        "We can print the text of an exception, by using the object of an Exception class. We can access different attributes like messgae, args, traceback from that object.\n",
        "By using logging.error() method"
      ],
      "metadata": {
        "id": "vEEUFcYjiC2T"
      }
    },
    {
      "cell_type": "code",
      "source": [
        "try:\n",
        "    a = 'abc'\n",
        "    b = 2    \n",
        "    c = a+b\n",
        "except TypeError as e:\n",
        "    print(e)"
      ],
      "metadata": {
        "colab": {
          "base_uri": "https://localhost:8080/"
        },
        "id": "DC0J-vH3iGvM",
        "outputId": "389c81c9-6c19-4d1a-d564-a13bcf40c874"
      },
      "execution_count": 2,
      "outputs": [
        {
          "output_type": "stream",
          "name": "stdout",
          "text": [
            "can only concatenate str (not \"int\") to str\n"
          ]
        }
      ]
    },
    {
      "cell_type": "code",
      "source": [
        "try:\n",
        "    file = open('one.txt','r')\n",
        "except Exception as e:\n",
        "    logging.error(e)"
      ],
      "metadata": {
        "colab": {
          "base_uri": "https://localhost:8080/"
        },
        "id": "9LJlmlTjiWdJ",
        "outputId": "980f3015-8825-4ee4-9d1f-8a11df675755"
      },
      "execution_count": 3,
      "outputs": [
        {
          "output_type": "stream",
          "name": "stderr",
          "text": [
            "ERROR:root:[Errno 2] No such file or directory: 'one.txt'\n"
          ]
        }
      ]
    },
    {
      "cell_type": "markdown",
      "source": [
        "Q5. Why do you no longer use string-based exceptions?\n",
        "In Python versions 1.5 and earlier, Exceptions were strings and not classes. Now all exceptions are classes, derived from the superclass BaseException. With classes it is more efficiently handled as classes have many useful features."
      ],
      "metadata": {
        "id": "HAFKY8wFizTo"
      }
    }
  ]
}