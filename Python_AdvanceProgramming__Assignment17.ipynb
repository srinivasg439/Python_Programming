{
  "nbformat": 4,
  "nbformat_minor": 0,
  "metadata": {
    "colab": {
      "provenance": []
    },
    "kernelspec": {
      "name": "python3",
      "display_name": "Python 3"
    },
    "language_info": {
      "name": "python"
    }
  },
  "cells": [
    {
      "cell_type": "markdown",
      "source": [
        "1. Create a function that transposes a 2D matrix.\n",
        "Examples\n",
        "\n",
        "transpose_matrix([ [1, 1, 1], [2, 2, 2], [3, 3, 3] ]) ➞ [ [1, 2, 3], [1, 2, 3], [1, 2, 3] ]\n",
        "\n",
        "transpose_matrix([ [5, 5], [6, 7], [9, 1] ]) ➞ [ [5, 6, 9], [5, 7, 1] ]"
      ],
      "metadata": {
        "id": "ttA9yQnoM9sI"
      }
    },
    {
      "cell_type": "code",
      "execution_count": 1,
      "metadata": {
        "colab": {
          "base_uri": "https://localhost:8080/"
        },
        "id": "Q-oUAuB6Cjz_",
        "outputId": "97e4ceb6-8bc7-45f6-fad9-eb2671d4e0cf"
      },
      "outputs": [
        {
          "output_type": "stream",
          "name": "stdout",
          "text": [
            "[[1, 2, 3], [1, 2, 3], [1, 2, 3]]\n",
            "[[5, 6, 9], [5, 7, 1]]\n"
          ]
        }
      ],
      "source": [
        "def transpose_matrix(l):\n",
        "    l2 = []\n",
        "    for i in range(len(l[0])):\n",
        "        l1 = []\n",
        "        \n",
        "        for j in range(len(l)):\n",
        "            l1.append(l[j][i])\n",
        "        l2.append(l1)\n",
        "    return l2    \n",
        "        \n",
        "print(transpose_matrix([ [1, 1, 1], [2, 2, 2], [3, 3, 3]]))\n",
        "print(transpose_matrix([ [5, 5], [6, 7], [9, 1] ]))"
      ]
    },
    {
      "cell_type": "markdown",
      "source": [
        "2. Create a function that determines whether a string is a valid hex code.\n",
        "A hex code must begin with a pound key # and is exactly 6 characters in length. Each character must be a digit from 0-9 or an alphabetic character from A-F. All alphabetic characters may be uppercase or lowercase.\n",
        "\n",
        "Examples\n",
        "\n",
        "is_valid_hex_code(\"#CD5C5C\") ➞ True\n",
        "\n",
        "is_valid_hex_code(\"#EAECEE\") ➞ True\n",
        "\n",
        "is_valid_hex_code(\"#eaecee\") ➞ True\n",
        "\n",
        "is_valid_hex_code(\"#CD5C58C\") ➞ False\n",
        "\n",
        "Length exceeds 6\n",
        "is_valid_hex_code(\"#CD5C5Z\") ➞ False\n",
        "\n",
        "Not all alphabetic characters in A-F\n",
        "is_valid_hex_code(\"#CD5C&C\") ➞ False\n",
        "\n",
        "Contains unacceptable character\n",
        "is_valid_hex_code(\"CD5C5C\") ➞ False\n",
        "\n",
        "Missing"
      ],
      "metadata": {
        "id": "po6BwE92OFhm"
      }
    },
    {
      "cell_type": "code",
      "source": [
        "def is_valid_hex_code(s):\n",
        "    if len(s) == 7 and s[0] == '#':\n",
        "        for letter in s[1:]:\n",
        "            if letter.lower() not in 'abcdef' and not letter.isdigit() :\n",
        "                return False\n",
        "        return True\n",
        "    else:\n",
        "        return False\n",
        "        \n",
        "\n",
        "print(is_valid_hex_code(\"#CD5C5C\"))\n",
        "print(is_valid_hex_code(\"#EAECEE\"))\n",
        "print(is_valid_hex_code(\"#eaecee\"))                \n",
        "print(is_valid_hex_code(\"#CD5C58C\"))\n",
        "print(is_valid_hex_code(\"#CD5C5Z\"))\n",
        "print(is_valid_hex_code(\"#CD5C&C\"))\n",
        "print(is_valid_hex_code(\"CD5C5C\"))"
      ],
      "metadata": {
        "colab": {
          "base_uri": "https://localhost:8080/"
        },
        "id": "4EMxLQKYOarN",
        "outputId": "d8f3dd12-c596-40c9-de3d-5361d15da207"
      },
      "execution_count": 2,
      "outputs": [
        {
          "output_type": "stream",
          "name": "stdout",
          "text": [
            "True\n",
            "True\n",
            "True\n",
            "False\n",
            "False\n",
            "False\n",
            "False\n"
          ]
        }
      ]
    },
    {
      "cell_type": "markdown",
      "source": [
        "3. Given a list of math equations (given as strings), return the percentage of correct answers as a string. Round to the nearest whole number.\n",
        "Examples\n",
        "\n",
        "mark_maths([\"2+2=4\", \"3+2=5\", \"10-3=3\", \"5+5=10\"]) ➞ \"75%\"\n",
        "\n",
        "mark_maths([\"1-2=-2\"]), \"0%\"\n",
        "\n",
        "mark_maths([\"2+3=5\", \"4+4=9\", \"3-1=2\"]) ➞ \"67%\""
      ],
      "metadata": {
        "id": "Rxnwqdp-PUyp"
      }
    },
    {
      "cell_type": "code",
      "source": [
        "def mark_maths(l):\n",
        "    count = 0\n",
        "    for item in l:\n",
        "        item1 = item.split('=')\n",
        "        if eval(item1[0]) == int(item1[1]):\n",
        "            count += 1\n",
        "\n",
        "    return str(round((count/len(l)) * 100)) +'%'     \n",
        "\n",
        "print(mark_maths([\"2+2=4\", \"3+2=5\", \"10-3=3\", \"5+5=10\"])) \n",
        "print(mark_maths([\"1-2=-2\"]))\n",
        "print(mark_maths([\"2+3=5\", \"4+4=9\", \"3-1=2\"]))"
      ],
      "metadata": {
        "colab": {
          "base_uri": "https://localhost:8080/"
        },
        "id": "wXkO-f4nPX0r",
        "outputId": "d509fc79-908b-4ac5-beae-b0b2ecf072bd"
      },
      "execution_count": 3,
      "outputs": [
        {
          "output_type": "stream",
          "name": "stdout",
          "text": [
            "75%\n",
            "0%\n",
            "67%\n"
          ]
        }
      ]
    },
    {
      "cell_type": "markdown",
      "source": [
        "4. There are two players, Alice and Bob, each with a 3-by-3 grid. A referee tells Alice to fill out one particular row in the grid (say the second row) by putting either a 1 or a 0 in each box, such that the sum of the numbers in that row is odd. The referee tells Bob to fill out one column in the grid (say the first column) by putting either a 1 or a 0 in each box, such that the sum of the numbers in that column is even.\n",
        "Alice and Bob win the game if Alice’s numbers give an odd sum, Bob’s give an even sum, and (most important) they’ve each written down the same number in the one square where their row and column intersect.\n",
        "\n",
        "Examples\n",
        "\n",
        "magic_square_game([2, \"100\"], [1, \"101\"]) ➞ False\n",
        "\n",
        "magic_square_game([2, \"001\"], [1, \"101\"]) ➞ True\n",
        "\n",
        "magic_square_game([3, \"111\"], [2, \"011\"]) ➞ True\n",
        "\n",
        "magic_square_game([1, \"010\"], [3, \"101\"]) ➞ False\n",
        "\n",
        "Two lists, Alice [row, \"her choice\"], Bob [column, \"his choice\"]"
      ],
      "metadata": {
        "id": "EhXxzQgec1qN"
      }
    },
    {
      "cell_type": "code",
      "source": [
        "def magic_square_game(l1,l2):\n",
        "    if (sum(list(map(int,l1[1]))) % 2 != 0) and (sum(list(map(int,l2[1]))) % 2 == 0):\n",
        "        if l1[1][l2[0] - 1] == l2[1][l1[0] - 1]:\n",
        "            return True\n",
        "    return False\n",
        "\n",
        "print(magic_square_game([2, \"100\"], [1, \"101\"]))\n",
        "print(magic_square_game([2, \"001\"], [1, \"101\"]))\n",
        "print(magic_square_game([3, \"111\"], [2, \"011\"]) )\n",
        "print(magic_square_game([1, \"010\"], [3, \"101\"]))"
      ],
      "metadata": {
        "colab": {
          "base_uri": "https://localhost:8080/"
        },
        "id": "_9Io6c4QdTiJ",
        "outputId": "f033cb8f-e023-4c63-aef5-9bcd8a3bf988"
      },
      "execution_count": 4,
      "outputs": [
        {
          "output_type": "stream",
          "name": "stdout",
          "text": [
            "False\n",
            "True\n",
            "True\n",
            "False\n"
          ]
        }
      ]
    },
    {
      "cell_type": "markdown",
      "source": [
        "5. From point A, an object is moving towards point B at constant velocity va (in km/hr). From point B, another object is moving towards point A at constant velocity vb (in km/hr). Knowing this and the distance between point A and B (in km), write a function that returns how much time passes until both objects meet.\n",
        "Format the output like this:\n",
        "\n",
        "\"2h 23min 34s\"\n",
        "\n",
        "Examples\n",
        "\n",
        "lets_meet(100, 10, 30) ➞ \"2h 30min 0s\"\n",
        "\n",
        "lets_meet(280, 70, 80) ➞ \"1h 52min 0s\"\n",
        "\n",
        "lets_meet(90, 75, 65) ➞ \"0h 38min 34s\""
      ],
      "metadata": {
        "id": "7XbGoxl4df_C"
      }
    },
    {
      "cell_type": "code",
      "source": [
        "def lets_meet(d,v1,v2):\n",
        "    res =  d / (v1+v2)\n",
        "    time = res * 60\n",
        "    hours, seconds = divmod(time * 60, 3600)  # split to hours and seconds\n",
        "    minutes, seconds = divmod(seconds, 60)\n",
        "    return str(round(hours))+\"h \"+ str(round(minutes)) +\"min \"+ str(round(seconds)) +\"sec\"\n",
        "\n",
        "print(lets_meet(100, 10, 30))\n",
        "print(lets_meet(280, 70, 80))\n",
        "print(lets_meet(90, 75, 65))"
      ],
      "metadata": {
        "colab": {
          "base_uri": "https://localhost:8080/"
        },
        "id": "UInHZ6jldnaB",
        "outputId": "27eaf390-9731-4bca-d984-a6986369b278"
      },
      "execution_count": 5,
      "outputs": [
        {
          "output_type": "stream",
          "name": "stdout",
          "text": [
            "2h 30min 0sec\n",
            "1h 52min 0sec\n",
            "0h 38min 34sec\n"
          ]
        }
      ]
    }
  ]
}