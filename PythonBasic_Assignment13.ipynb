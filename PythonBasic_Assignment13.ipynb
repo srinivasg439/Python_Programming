{
  "nbformat": 4,
  "nbformat_minor": 0,
  "metadata": {
    "colab": {
      "provenance": []
    },
    "kernelspec": {
      "name": "python3",
      "display_name": "Python 3"
    },
    "language_info": {
      "name": "python"
    }
  },
  "cells": [
    {
      "cell_type": "markdown",
      "source": [
        "1. What advantages do Excel spreadsheets have over CSV spreadsheets?\n",
        "\n",
        "In Excel, spreadsheets can have values of data types other than strings; cells can have different fonts, sizes, or color settings; cells can have varying widths and heights; adjacent cells can be merged; and you can embed images and charts.\n",
        "\n",
        "2.What do you pass to csv.reader() and csv.writer() to create reader and writer objects?\n",
        "\n",
        "You pass a File object, obtained from a call to open().\n",
        "\n",
        "3. What modes do File objects for reader and writer objects need to be opened in?\n",
        "\n",
        "File objects need to be opened in read-binary ('rb') for reader objects and write-binary ('wb') for writer objects.\n",
        "\n",
        "4. What method takes a list argument and writes it to a CSV file?\n",
        "\n",
        "The writerow() method\n",
        "\n",
        "5. What do the keyword arguments delimiter and line terminator do?\n",
        "\n",
        "The delimiter argument changes the string used to separate cells in a row. The lineterminator argument changes the string used to separate rows.\n",
        "\n",
        "6. What function takes a string of JSON data and returns a Python data structure?\n",
        "\n",
        "json.loads()\n",
        "\n",
        "7. What function takes a Python data structure and returns a string of JSON data?\n",
        "\n",
        "json.dumps()"
      ],
      "metadata": {
        "id": "lkyXT27eIpgh"
      }
    },
    {
      "cell_type": "code",
      "execution_count": null,
      "metadata": {
        "id": "g0U_qijcH1FV"
      },
      "outputs": [],
      "source": []
    }
  ]
}