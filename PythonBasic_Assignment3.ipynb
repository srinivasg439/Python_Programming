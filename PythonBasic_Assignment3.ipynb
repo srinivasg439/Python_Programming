{
  "nbformat": 4,
  "nbformat_minor": 0,
  "metadata": {
    "colab": {
      "name": "PythonBasic_Assignment3.ipynb",
      "provenance": []
    },
    "kernelspec": {
      "name": "python3",
      "display_name": "Python 3"
    },
    "language_info": {
      "name": "python"
    }
  },
  "cells": [
    {
      "cell_type": "code",
      "execution_count": null,
      "metadata": {
        "id": "XvzsIavbZrVV"
      },
      "outputs": [],
      "source": [
        "#1. Why are functions advantageous to have in your programs?\n",
        "Sol:Functions reduce the need for duplicate code. This makes programs shorter, easier to read, and easier to update.\n",
        "A function call is what moves the program execution into the function,and the function call evaluates to the function's return value."
      ]
    },
    {
      "cell_type": "code",
      "source": [
        "#2. When does the code in a function run: when it's specified or when it's called?\n",
        "Sol.The code in a function executes when the function is called, not when the function is defined."
      ],
      "metadata": {
        "id": "hUqlBnk8bZ7l"
      },
      "execution_count": null,
      "outputs": []
    },
    {
      "cell_type": "code",
      "source": [
        "#3. What statement creates a function?\n",
        "Sol:The def statement defines (that is, creates) a function"
      ],
      "metadata": {
        "id": "OI5f303acCNk"
      },
      "execution_count": null,
      "outputs": []
    },
    {
      "cell_type": "code",
      "source": [
        "#4. What is the difference between a function and a function call?\n",
        "Sol:A function consists of the def statement and the code in its def clause.\n",
        "A function call is what moves the program execution into the function, and the function call evaluates to the function's return value."
      ],
      "metadata": {
        "id": "FdEr9dkmcPs4"
      },
      "execution_count": null,
      "outputs": []
    },
    {
      "cell_type": "code",
      "source": [
        "#5. How many global scopes are there in a Python program? How many local scopes?\n",
        "Sol.There is one global scope, and a local scope is created whenever a function is called."
      ],
      "metadata": {
        "id": "ar-DO23idGtX"
      },
      "execution_count": null,
      "outputs": []
    },
    {
      "cell_type": "code",
      "source": [
        "#6. What happens to variables in a local scope when the function call returns?\n",
        "Sol.When a function returns, the local scope is destroyed, and all the variables in it are forgotten."
      ],
      "metadata": {
        "id": "3AtNTFmhdSGe"
      },
      "execution_count": null,
      "outputs": []
    },
    {
      "cell_type": "code",
      "source": [
        "#7. What is the concept of a return value? Is it possible to have a return value in an expression?\n",
        "Sol.A return value is the value that a function call evalutes to. Like any value, a return value can be used as part of an expression."
      ],
      "metadata": {
        "id": "SX0XWyEqdrx1"
      },
      "execution_count": null,
      "outputs": []
    },
    {
      "cell_type": "code",
      "source": [
        "#8. If a function does not have a return statement, what is the return value of a call to that function?\n",
        "Sol.If there is no return statement for a function, its return value is None"
      ],
      "metadata": {
        "id": "w0iULAq3eCh8"
      },
      "execution_count": null,
      "outputs": []
    },
    {
      "cell_type": "code",
      "source": [
        "#9. How do you make a function variable refer to the global variable?\n",
        "Sol.A global statement will force a variable in a function to refer to the global variable."
      ],
      "metadata": {
        "id": "BkyV24e6eaw7"
      },
      "execution_count": null,
      "outputs": []
    },
    {
      "cell_type": "code",
      "source": [
        "#10. What is the data type of None?\n",
        "sol.The data type of None is NoneType."
      ],
      "metadata": {
        "id": "wZTwUNUpeuv7"
      },
      "execution_count": null,
      "outputs": []
    },
    {
      "cell_type": "code",
      "source": [
        "#11. What does the sentence import are all your pets name deric do?\n",
        "Sol."
      ],
      "metadata": {
        "id": "PVZChRxse7TL"
      },
      "execution_count": null,
      "outputs": []
    },
    {
      "cell_type": "code",
      "source": [
        "#12. If you had a bacon() feature in a spam module, what would you call it after importing spam?\n",
        "Sol.This function can be called with spam. bacon()"
      ],
      "metadata": {
        "id": "c9FK41x5gvbQ"
      },
      "execution_count": null,
      "outputs": []
    },
    {
      "cell_type": "code",
      "source": [
        "#13. What can you do to save a programme from crashing if it encounters an error?\n",
        "Sol.Prevents program from crashing if an error occurs. If an error occurs in a program, we dont want the program to unexpectedly crash on the user.\n",
        " Instead, error handling can be used to notify the user of why the error occurred and gracefully exit the process that caused the error."
      ],
      "metadata": {
        "id": "Cg8WqGSmg3vs"
      },
      "execution_count": null,
      "outputs": []
    },
    {
      "cell_type": "code",
      "source": [
        "#14. What is the purpose of the try clause? What is the purpose of the except clause?\n",
        "Sol.The try block allows you to test a block of code for errors. The except block enables you to handle the error with a user-defined response."
      ],
      "metadata": {
        "id": "CuBodR1QjG9T"
      },
      "execution_count": null,
      "outputs": []
    }
  ]
}