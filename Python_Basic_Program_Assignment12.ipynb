{
  "nbformat": 4,
  "nbformat_minor": 0,
  "metadata": {
    "colab": {
      "name": "Python_Basic_Program_Assignment12.ipynb",
      "provenance": []
    },
    "kernelspec": {
      "name": "python3",
      "display_name": "Python 3"
    },
    "language_info": {
      "name": "python"
    }
  },
  "cells": [
    {
      "cell_type": "code",
      "execution_count": 2,
      "metadata": {
        "colab": {
          "base_uri": "https://localhost:8080/"
        },
        "id": "FEtvepBWzdb_",
        "outputId": "083483a0-3fb1-4d92-a889-f6b1f3b7e1d6"
      },
      "outputs": [
        {
          "output_type": "stream",
          "name": "stdout",
          "text": [
            "The original dictionary is : {'g': [5, 6, 7, 8], 's': [10, 11, 7, 5], 'r': [6, 12, 10, 8], 'i': [1, 2, 5]}\n",
            "The unique values list is : [1, 2, 5, 6, 7, 8, 10, 11, 12]\n"
          ]
        }
      ],
      "source": [
        "#1.\tWrite a Python program to Extract Unique values dictionary values?\n",
        "# initializing dictionary\n",
        "test_dict = {'g' : [5, 6, 7, 8],\n",
        "             's' : [10, 11, 7, 5],\n",
        "             'r' : [6, 12, 10, 8],\n",
        "             'i' : [1, 2, 5]}\n",
        "  \n",
        "# printing original dictionary\n",
        "print(\"The original dictionary is : \" + str(test_dict))\n",
        "  \n",
        "# Extract Unique values dictionary values\n",
        "# Using set comprehension + values() + sorted()\n",
        "res = list(sorted({ele for val in test_dict.values() for ele in val}))\n",
        "  \n",
        "# printing result \n",
        "print(\"The unique values list is : \" + str(res)) "
      ]
    },
    {
      "cell_type": "code",
      "source": [
        "#2.\tWrite a Python program to find the sum of all items in a dictionary?\n",
        "def returnSum(myDict):\n",
        "     \n",
        "    list = []\n",
        "    for i in myDict:\n",
        "        list.append(myDict[i])\n",
        "    final = sum(list)\n",
        "     \n",
        "    return final\n",
        " \n",
        "# Driver Function\n",
        "dict = {'a': 100, 'b':200, 'c':300}\n",
        "print(\"Sum :\", returnSum(dict))"
      ],
      "metadata": {
        "colab": {
          "base_uri": "https://localhost:8080/"
        },
        "id": "wRE7w8fn0NKh",
        "outputId": "99ca52c7-1fd8-45b2-d6be-50fbf6191bac"
      },
      "execution_count": 3,
      "outputs": [
        {
          "output_type": "stream",
          "name": "stdout",
          "text": [
            "Sum : 600\n"
          ]
        }
      ]
    },
    {
      "cell_type": "code",
      "source": [
        "#3.\tWrite a Python program to Merging two Dictionaries?\n",
        "def Merge(dict1, dict2):\n",
        "    return(dict2.update(dict1))\n",
        "     \n",
        "# Driver code\n",
        "dict1 = {'a': 10, 'b': 8}\n",
        "dict2 = {'d': 6, 'c': 4}\n",
        " \n",
        "# This return None\n",
        "print(Merge(dict1, dict2))\n",
        " \n",
        "# changes made in dict2\n",
        "print(dict2)"
      ],
      "metadata": {
        "colab": {
          "base_uri": "https://localhost:8080/"
        },
        "id": "sPtttX2y1API",
        "outputId": "5f847954-225e-4ae6-cb7b-f121dfc0c651"
      },
      "execution_count": 4,
      "outputs": [
        {
          "output_type": "stream",
          "name": "stdout",
          "text": [
            "None\n",
            "{'d': 6, 'c': 4, 'a': 10, 'b': 8}\n"
          ]
        }
      ]
    },
    {
      "cell_type": "code",
      "source": [
        "#4.\tWrite a Python program to convert key-values list to flat dictionary?\n",
        "# Convert key-values list to flat dictionary\n",
        "# Using dict() + zip()\n",
        "from itertools import product\n",
        "  \n",
        "# initializing dictionary\n",
        "test_dict = {'month' : [1, 2, 3],\n",
        "             'name' : ['Jan', 'Feb', 'March']}\n",
        "  \n",
        "# printing original dictionary\n",
        "print(\"The original dictionary is : \" + str(test_dict))\n",
        "  \n",
        "# Convert key-values list to flat dictionary\n",
        "# Using dict() + zip()\n",
        "res = dict(zip(test_dict['month'], test_dict['name']))\n",
        "  \n",
        "# printing result \n",
        "print(\"Flattened dictionary : \" + str(res)) "
      ],
      "metadata": {
        "colab": {
          "base_uri": "https://localhost:8080/"
        },
        "id": "zxfk8SEX1bSw",
        "outputId": "99ca03db-ab93-4a75-f625-919ea4173904"
      },
      "execution_count": 1,
      "outputs": [
        {
          "output_type": "stream",
          "name": "stdout",
          "text": [
            "The original dictionary is : {'month': [1, 2, 3], 'name': ['Jan', 'Feb', 'March']}\n",
            "Flattened dictionary : {1: 'Jan', 2: 'Feb', 3: 'March'}\n"
          ]
        }
      ]
    },
    {
      "cell_type": "code",
      "source": [
        "#5.\tWrite a Python program to insertion at the beginning in OrderedDict?\n",
        "# insertion of items in beginning of ordered dict\n",
        "from collections import OrderedDict\n",
        " \n",
        "# initialising ordered_dict\n",
        "iniordered_dict = OrderedDict([('akshat', '1'), ('nikhil', '2')])\n",
        " \n",
        "# inserting items in starting of dict\n",
        "iniordered_dict.update({'manjeet':'3'})\n",
        "iniordered_dict.move_to_end('manjeet', last = False)\n",
        " \n",
        "# print result\n",
        "print (\"Resultant Dictionary : \"+str(iniordered_dict))"
      ],
      "metadata": {
        "colab": {
          "base_uri": "https://localhost:8080/"
        },
        "id": "ZnFY0BEX24aY",
        "outputId": "3315c6a0-4949-4cb6-91cf-834839fc9b07"
      },
      "execution_count": 8,
      "outputs": [
        {
          "output_type": "stream",
          "name": "stdout",
          "text": [
            "Resultant Dictionary : OrderedDict([('manjeet', '3'), ('akshat', '1'), ('nikhil', '2')])\n"
          ]
        }
      ]
    },
    {
      "cell_type": "code",
      "source": [
        "#6.\tWrite a Python program to check order of character in string using OrderedDict()?\n",
        "# Function to check if string follows order of \n",
        "# characters defined by a pattern \n",
        "from collections import OrderedDict \n",
        "  \n",
        "def checkOrder(input, pattern): \n",
        "      \n",
        "    # create empty OrderedDict \n",
        "    # output will be like {'a': None,'b': None, 'c': None} \n",
        "    dict = OrderedDict.fromkeys(input) \n",
        "  \n",
        "    # traverse generated OrderedDict parallel with \n",
        "    # pattern string to check if order of characters \n",
        "    # are same or not \n",
        "    ptrlen = 0\n",
        "    for key,value in dict.items(): \n",
        "        if (key == pattern[ptrlen]): \n",
        "            ptrlen = ptrlen + 1\n",
        "          \n",
        "        # check if we have traverse complete \n",
        "        # pattern string \n",
        "        if (ptrlen == (len(pattern))): \n",
        "            return 'true'\n",
        "            # if we come out from for loop that means \n",
        "    # order was mismatched \n",
        "    return 'false'\n",
        "  \n",
        "# Driver program \n",
        "if __name__ == \"__main__\": \n",
        "    input = 'engineers rock'\n",
        "    pattern = 'egr'\n",
        "    print (checkOrder(input,pattern)) "
      ],
      "metadata": {
        "colab": {
          "base_uri": "https://localhost:8080/"
        },
        "id": "btdUnt3z3BzO",
        "outputId": "e5cdf6bb-aa61-4f02-9f2d-6e4237f1d450"
      },
      "execution_count": 9,
      "outputs": [
        {
          "output_type": "stream",
          "name": "stdout",
          "text": [
            "true\n"
          ]
        }
      ]
    },
    {
      "cell_type": "code",
      "source": [
        "#7.\tWrite a Python program to sort Python Dictionaries by Key or Value?\n",
        "# Function calling\n",
        "def dictionairy():\n",
        " # Declare hash function     \n",
        " key_value ={}   \n",
        " \n",
        "# Initializing value\n",
        " key_value[2] = 56      \n",
        " key_value[1] = 2\n",
        " key_value[5] = 12\n",
        " key_value[4] = 24\n",
        " key_value[6] = 18     \n",
        " key_value[3] = 323\n",
        " \n",
        " print (\"Task 1:-\\n\")\n",
        " print (\"Keys are\")\n",
        "  \n",
        " # iterkeys() returns an iterator over the\n",
        " # dictionary’s keys.\n",
        " for i in sorted (key_value.keys()) :\n",
        "     print(i, end = \" \")\n",
        " \n",
        "def main():\n",
        "    # function calling\n",
        "    dictionairy()            \n",
        "     \n",
        "# Main function calling\n",
        "if __name__==\"__main__\":     \n",
        "    main()"
      ],
      "metadata": {
        "colab": {
          "base_uri": "https://localhost:8080/"
        },
        "id": "V8YzsEGT4DUq",
        "outputId": "c68fa33f-2847-4026-c8ea-813faab3ec1b"
      },
      "execution_count": 10,
      "outputs": [
        {
          "output_type": "stream",
          "name": "stdout",
          "text": [
            "Task 1:-\n",
            "\n",
            "Keys are\n",
            "1 2 3 4 5 6 "
          ]
        }
      ]
    }
  ]
}