{
  "nbformat": 4,
  "nbformat_minor": 0,
  "metadata": {
    "colab": {
      "provenance": []
    },
    "kernelspec": {
      "name": "python3",
      "display_name": "Python 3"
    },
    "language_info": {
      "name": "python"
    }
  },
  "cells": [
    {
      "cell_type": "code",
      "execution_count": null,
      "metadata": {
        "id": "xNGYavQwPC2J"
      },
      "outputs": [],
      "source": [
        "#1.What is the meaning of multiple inheritance?"
      ]
    },
    {
      "cell_type": "markdown",
      "source": [
        "When a class is derived from more than one base class it is called multiple Inheritance. The derived class inherits all the features of the base case.\n",
        "\n",
        "Q2. What is the concept of delegation?\n",
        "Delegation is an object oriented technique (also called a design pattern). Let's say you have an object x and want to change the behaviour of just one of its methods. You can create a new class that provides a new implementation of the method you're interested in changing and delegates all other methods to the corresponding method of x.\n",
        "\n",
        "The delegation is accomplished via the getattr method; consult the language reference for more information about controlling attribute access.\n",
        "\n",
        "Q3. What is the concept of composition?\n",
        "It is one of the fundamental concepts of Object-Oriented Programming. A class that references to one or more objects of other classes as an Instance variable. Here, by using the class name or by creating the object we can access the members of one class inside another class. It enables creating complex types by combining objects of different classes. It means that a class Composite can contain an object of another class Component. This type of relationship is known as Has-A Relation."
      ],
      "metadata": {
        "id": "SEJKtfDDPXPP"
      }
    },
    {
      "cell_type": "markdown",
      "source": [
        "Q4. What are bound methods and how do we use them?\n",
        "A bound method is the one which is dependent on the instance of the class as the first argument. It passes the instance as the first argument which is used to access the variables and functions. All functions in the class are by default bound methods."
      ],
      "metadata": {
        "id": "Ogm3wapuQiV7"
      }
    },
    {
      "cell_type": "code",
      "source": [
        "class Sample:\n",
        "    def fun(self, some_value):\n",
        "        self.some_value = some_value\n",
        "    \n",
        "s = Sample()\n",
        "\n",
        "print(s.fun)"
      ],
      "metadata": {
        "colab": {
          "base_uri": "https://localhost:8080/"
        },
        "id": "j6bPxbXfQl_x",
        "outputId": "9bd7ac05-0f09-4445-be89-9c346097bfe6"
      },
      "execution_count": 1,
      "outputs": [
        {
          "output_type": "stream",
          "name": "stdout",
          "text": [
            "<bound method Sample.fun of <__main__.Sample object at 0x7f42f63c7d30>>\n"
          ]
        }
      ]
    },
    {
      "cell_type": "markdown",
      "source": [
        "#Q5. What is the purpose of pseudoprivate attributes?\n",
        "In Python, there is no concept of \"private\" as such. When naming properties and methods at the level, some special processing is actually done to the name,\n",
        "making it inaccessible to the outside world."
      ],
      "metadata": {
        "id": "oVhYxmUVRJdF"
      }
    },
    {
      "cell_type": "code",
      "source": [
        "class Test:\n",
        "    def __init__(self, a, b, c, d):\n",
        "        self.__a = a # __ means pseudo private variable\n",
        "        self.b = b\n",
        "        self.c = c\n",
        "        self.d = d\n",
        "\n",
        "    def custom(self, v):\n",
        "        return v - self.__a\n",
        "\n",
        "t = Test(1,2,3,4)    \n",
        "print(t._Test__a) # this is the way to access Pseudo private  attribute\n",
        "print(t.b)\n",
        "print(t.custom(5))"
      ],
      "metadata": {
        "colab": {
          "base_uri": "https://localhost:8080/"
        },
        "id": "xkM3luzpRMf8",
        "outputId": "1717ace9-6a06-4081-f309-595408f66914"
      },
      "execution_count": 2,
      "outputs": [
        {
          "output_type": "stream",
          "name": "stdout",
          "text": [
            "1\n",
            "2\n",
            "4\n"
          ]
        }
      ]
    }
  ]
}