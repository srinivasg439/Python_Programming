{
  "nbformat": 4,
  "nbformat_minor": 0,
  "metadata": {
    "colab": {
      "name": "Python_Basic_Program_Assignment9.ipynb",
      "provenance": []
    },
    "kernelspec": {
      "name": "python3",
      "display_name": "Python 3"
    },
    "language_info": {
      "name": "python"
    }
  },
  "cells": [
    {
      "cell_type": "code",
      "execution_count": 1,
      "metadata": {
        "colab": {
          "base_uri": "https://localhost:8080/"
        },
        "id": "sA4LGjzGBlOF",
        "outputId": "3326d9f7-e058-4d86-832c-776e12b41f84"
      },
      "outputs": [
        {
          "output_type": "stream",
          "name": "stdout",
          "text": [
            "175 is a disarium number\n"
          ]
        }
      ],
      "source": [
        "#1.\tWrite a Python program to check if the given number is a Disarium Number?\n",
        "#calculateLength() will count the digits present in a number    \n",
        "def calculateLength(n):    \n",
        "    length = 0;    \n",
        "    while(n != 0):    \n",
        "        length = length + 1;    \n",
        "        n = n//10;    \n",
        "    return length;    \n",
        "     \n",
        "num = 175;    \n",
        "rem = sum = 0;    \n",
        "len = calculateLength(num);    \n",
        "     \n",
        "#Makes a copy of the original number num    \n",
        "n = num;    \n",
        "     \n",
        "#Calculates the sum of digits powered with their respective position    \n",
        "while(num > 0):    \n",
        "    rem = num%10;    \n",
        "    sum = sum + int(rem**len);    \n",
        "    num = num//10;    \n",
        "    len = len - 1;    \n",
        "     \n",
        "#Checks whether the sum is equal to the number itself    \n",
        "if(sum == n):    \n",
        "    print(str(n) + \" is a disarium number\");    \n",
        "else:    \n",
        "    print(str(n) + \" is not a disarium number\");    \n"
      ]
    },
    {
      "cell_type": "code",
      "source": [
        "#2.\tWrite a Python program to print all disarium numbers between 1 to 100?\n",
        "#calculateLength() will count the digits present in a number    \n",
        "def calculateLength(n):    \n",
        "    length = 0;    \n",
        "    while(n != 0):    \n",
        "        length = length + 1;    \n",
        "        n = n//10;    \n",
        "    return length;    \n",
        "     \n",
        "#sumOfDigits() will calculates the sum of digits powered with their respective position    \n",
        "def sumOfDigits(num):    \n",
        "    rem = sum = 0;    \n",
        "    len = calculateLength(num);    \n",
        "        \n",
        "    while(num > 0):    \n",
        "        rem = num%10;    \n",
        "        sum = sum + (rem**len);    \n",
        "        num = num//10;    \n",
        "        len = len - 1;    \n",
        "    return sum;    \n",
        "      \n",
        "result = 0;    \n",
        "     \n",
        "#Displays all disarium numbers between 1 and 100    \n",
        "print(\"Disarium numbers between 1 and 100 are\");    \n",
        "for i in range(1, 101):    \n",
        "    result = sumOfDigits(i);    \n",
        "        \n",
        "    if(result == i):    \n",
        "        print(i),    "
      ],
      "metadata": {
        "colab": {
          "base_uri": "https://localhost:8080/"
        },
        "id": "nkGlsPa0LzTk",
        "outputId": "8f0571d6-44ff-4042-bcdd-89a84a812390"
      },
      "execution_count": 2,
      "outputs": [
        {
          "output_type": "stream",
          "name": "stdout",
          "text": [
            "Disarium numbers between 1 and 100 are\n",
            "1\n",
            "2\n",
            "3\n",
            "4\n",
            "5\n",
            "6\n",
            "7\n",
            "8\n",
            "9\n",
            "89\n"
          ]
        }
      ]
    },
    {
      "cell_type": "code",
      "source": [
        "#3.\tWrite a Python program to check if the given number is Happy Number?\n",
        "#isHappyNumber() will determine whether a number is happy or not    \n",
        "def isHappyNumber(num):    \n",
        "    rem = sum = 0;    \n",
        "        \n",
        "    #Calculates the sum of squares of digits    \n",
        "    while(num > 0):    \n",
        "        rem = num%10;    \n",
        "        sum = sum + (rem*rem);    \n",
        "        num = num//10;    \n",
        "    return sum;    \n",
        "        \n",
        "num = 82;    \n",
        "result = num;    \n",
        "     \n",
        "while(result != 1 and result != 4):    \n",
        "    result = isHappyNumber(result);    \n",
        "     \n",
        "#Happy number always ends with 1    \n",
        "if(result == 1):    \n",
        "    print(str(num) + \" is a happy number\");    \n",
        "#Unhappy number ends in a cycle of repeating numbers which contain 4    \n",
        "elif(result == 4):    \n",
        "    print(str(num) + \" is not a happy number\");   "
      ],
      "metadata": {
        "colab": {
          "base_uri": "https://localhost:8080/"
        },
        "id": "8LJgLX9bOM6C",
        "outputId": "4fe1006c-989b-4494-e101-e6f993f7d3f8"
      },
      "execution_count": 2,
      "outputs": [
        {
          "output_type": "stream",
          "name": "stdout",
          "text": [
            "82 is a happy number\n"
          ]
        }
      ]
    },
    {
      "cell_type": "code",
      "source": [
        "#4.\tWrite a Python program to print all happy numbers between 1 and 100?\n",
        "#isHappyNumber() will determine whether a number is happy or not    \n",
        "def isHappyNumber(num):    \n",
        "    rem = sum = 0;    \n",
        "        \n",
        "    #Calculates the sum of squares of digits    \n",
        "    while(num > 0):    \n",
        "        rem = num%10;    \n",
        "        sum = sum + (rem*rem);    \n",
        "        num = num//10;    \n",
        "    return sum;    \n",
        "            \n",
        "#Displays all happy numbers between 1 and 100    \n",
        "print(\"List of happy numbers between 1 and 100: \");    \n",
        "for i in range(1, 101):    \n",
        "    result = i;    \n",
        "        \n",
        "    #Happy number always ends with 1 and     \n",
        "    #unhappy number ends in a cycle of repeating numbers which contains 4    \n",
        "    while(result != 1 and result != 4):    \n",
        "        result = isHappyNumber(result);    \n",
        "        \n",
        "    if(result == 1):    \n",
        "        print(i),    \n",
        "        print(\" \"),    "
      ],
      "metadata": {
        "id": "JBVjRV31ObT9"
      },
      "execution_count": null,
      "outputs": []
    },
    {
      "cell_type": "code",
      "source": [
        "#5.\tWrite a Python program to determine whether the given number is a Harshad Number?\n",
        "def checkHarshad( n ) :\n",
        "    sum = 0\n",
        "    temp = n\n",
        "    while temp > 0 :\n",
        "        sum = sum + temp % 10\n",
        "        temp = temp // 10\n",
        "    # Return true if sum of\n",
        "    # digits is multiple of n\n",
        "    return n % sum == 0\n",
        " \n",
        "# Driver Code\n",
        "if(checkHarshad(12)) : print(\"Yes\")\n",
        "else : print (\"No\")\n",
        " \n",
        "if (checkHarshad(15)) : print(\"Yes\")\n",
        "else : print (\"No\")\n",
        "     "
      ],
      "metadata": {
        "id": "RqcVLoqkOwHG"
      },
      "execution_count": null,
      "outputs": []
    },
    {
      "cell_type": "code",
      "source": [
        "#6.\tWrite a Python program to print all pronic numbers between 1 and 100?\n",
        "\n",
        "def isPronicNumber(num):    \n",
        "    flag = False;    \n",
        "        \n",
        "    for j in range(1, num+1):    \n",
        "        #Checks for pronic number by multiplying consecutive numbers    \n",
        "        if((j*(j+1)) == num):    \n",
        "            flag = True;    \n",
        "            break;    \n",
        "    return flag;    \n",
        "     \n",
        "#Displays pronic numbers between 1 and 100    \n",
        "print(\"Pronic numbers between 1 and 100: \");    \n",
        "for i in range(1, 101):    \n",
        "    if(isPronicNumber(i)):    \n",
        "        print(i),    \n",
        "        print(\" \"),    "
      ],
      "metadata": {
        "id": "g3rLwIIHQ5qY"
      },
      "execution_count": null,
      "outputs": []
    }
  ]
}