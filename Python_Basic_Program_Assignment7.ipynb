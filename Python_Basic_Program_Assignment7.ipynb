{
  "nbformat": 4,
  "nbformat_minor": 0,
  "metadata": {
    "colab": {
      "name": "Python_Basic_Program_Assignment7.ipynb",
      "provenance": [],
      "collapsed_sections": []
    },
    "kernelspec": {
      "name": "python3",
      "display_name": "Python 3"
    },
    "language_info": {
      "name": "python"
    }
  },
  "cells": [
    {
      "cell_type": "code",
      "execution_count": 4,
      "metadata": {
        "colab": {
          "base_uri": "https://localhost:8080/"
        },
        "id": "LJ8XwQtjisKd",
        "outputId": "fe215bd1-bbb9-4e8e-e6d7-79f6d3844131"
      },
      "outputs": [
        {
          "output_type": "stream",
          "name": "stdout",
          "text": [
            "Sum of the array is : 34\n"
          ]
        }
      ],
      "source": [
        "# 1. Write a Python Program to find sum of array?\n",
        "def _sum(arr): \n",
        "\n",
        "    sum=0\n",
        "\n",
        "    for i in arr:\n",
        "        sum = sum + i\n",
        "          \n",
        "    return(sum) \n",
        "  \n",
        "# input values to list \n",
        "arr = [12, 3, 4, 15] \n",
        "  \n",
        "result = _sum(arr) \n",
        "  \n",
        "# display sum \n",
        "print ('Sum of the array is :', result) "
      ]
    },
    {
      "cell_type": "code",
      "source": [
        "# 2. Write a Python Program to find largest element in an array?\n",
        "def largest(arr,n):\n",
        "  \n",
        "    # Initialize maximum elment\n",
        "    max = arr[0]\n",
        "  \n",
        "    # Traverse array elements \n",
        "    # and compare every element with \n",
        "    # current max\n",
        "    for i in range(n):\n",
        "        if arr[i] > max:\n",
        "            max = arr[i]\n",
        "    return max\n",
        "# Driver Code\n",
        "arr = [10000, 324, 45, 90, 9808]\n",
        "n = len(arr)\n",
        "result = largest(arr,n)\n",
        "print (\"Largest in given array is:\",result)"
      ],
      "metadata": {
        "colab": {
          "base_uri": "https://localhost:8080/"
        },
        "id": "IOQ2XQ4PlsT8",
        "outputId": "ceace354-42f0-44df-a6b5-1318371783ac"
      },
      "execution_count": 10,
      "outputs": [
        {
          "output_type": "stream",
          "name": "stdout",
          "text": [
            "Largest in given array is: 10000\n"
          ]
        }
      ]
    },
    {
      "cell_type": "code",
      "source": [
        "# 3. Write a Python Program for array rotation?\n",
        "def rotateArray(arr, n, d):\n",
        "    temp = []\n",
        "    i = 0\n",
        "    while (i < d):\n",
        "        temp.append(arr[i])\n",
        "        i = i + 1\n",
        "    i = 0\n",
        "    while (d < n):\n",
        "        arr[i] = arr[d]\n",
        "        i = i + 1\n",
        "        d = d + 1\n",
        "    arr[:] = arr[: i] + temp\n",
        "    return arr\n",
        " \n",
        " \n",
        "# Driver function to test above function\n",
        "arr = [1, 2, 3, 4, 5, 6, 7]\n",
        "print(\"Array after left rotation is: \", end=' ')\n",
        "print(rotateArray(arr, len(arr), 3))\n"
      ],
      "metadata": {
        "colab": {
          "base_uri": "https://localhost:8080/"
        },
        "id": "kTGsw94dpd59",
        "outputId": "da5af72a-68ee-41dd-8e29-bc6085d0b1b6"
      },
      "execution_count": 12,
      "outputs": [
        {
          "output_type": "stream",
          "name": "stdout",
          "text": [
            "Array after left rotation is:  [4, 5, 6, 7, 1, 2, 3]\n"
          ]
        }
      ]
    },
    {
      "cell_type": "code",
      "source": [
        "#4.\tWrite a Python Program to Split the array and add the first part to the end?\n",
        "\n",
        "def splitArr(arr, n, k): \n",
        "    for i in range(0, k): \n",
        "        x = arr[0]\n",
        "        for j in range(0, n-1):\n",
        "            arr[j] = arr[j + 1]\n",
        "          \n",
        "        arr[n-1] = x\n",
        "arr = [12, 10, 5, 6, 52, 36]\n",
        "n = len(arr)\n",
        "position = 2\n",
        "  \n",
        "splitArr(arr, n, position)\n",
        "  \n",
        "for i in range(0, n): \n",
        "    print(arr[i], end = ' ')\n"
      ],
      "metadata": {
        "colab": {
          "base_uri": "https://localhost:8080/"
        },
        "id": "Li4V1ZXtygRA",
        "outputId": "9368cde8-4097-4a11-bf03-6f3fcdb8990c"
      },
      "execution_count": 13,
      "outputs": [
        {
          "output_type": "stream",
          "name": "stdout",
          "text": [
            "5 6 52 36 12 10 "
          ]
        }
      ]
    },
    {
      "cell_type": "code",
      "source": [
        "#5.\tWrite a Python Program to check if given array is Monotonic?\n",
        "def isMonotonic(A):\n",
        "  \n",
        "    return (all(A[i] <= A[i + 1] for i in range(len(A) - 1)) or\n",
        "            all(A[i] >= A[i + 1] for i in range(len(A) - 1)))\n",
        "  \n",
        "# Driver program\n",
        "A = [6, 5, 4, 4]\n",
        "  \n",
        "print(isMonotonic(A))"
      ],
      "metadata": {
        "colab": {
          "base_uri": "https://localhost:8080/"
        },
        "id": "GRoujwGlzcF7",
        "outputId": "85403e1a-ef80-4147-fb27-2da4d62b06cd"
      },
      "execution_count": 14,
      "outputs": [
        {
          "output_type": "stream",
          "name": "stdout",
          "text": [
            "True\n"
          ]
        }
      ]
    }
  ]
}