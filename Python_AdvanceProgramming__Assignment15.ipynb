{
  "nbformat": 4,
  "nbformat_minor": 0,
  "metadata": {
    "colab": {
      "provenance": []
    },
    "kernelspec": {
      "name": "python3",
      "display_name": "Python 3"
    },
    "language_info": {
      "name": "python"
    }
  },
  "cells": [
    {
      "cell_type": "markdown",
      "source": [
        "1. Write a function that returns True if a given name can generate an array of words.\n",
        "Examples\n",
        "\n",
        "anagram(\"Justin Bieber\", [\"injures\", \"ebb\", \"it\"]) ➞ True\n",
        "\n",
        "anagram(\"Natalie Portman\", [\"ornamental\", \"pita\"]) ➞ True\n",
        "\n",
        "anagram(\"Chris Pratt\", [\"chirps\", \"rat\"]) ➞ False\n",
        "\n",
        "Not all letters are used\n",
        "anagram(\"Jeff Goldblum\", [\"jog\", \"meld\", \"bluffs\"]) ➞ False\n",
        "\n",
        "\"s\" does not exist in the original name"
      ],
      "metadata": {
        "id": "l7EdljVcaL74"
      }
    },
    {
      "cell_type": "code",
      "execution_count": 1,
      "metadata": {
        "colab": {
          "base_uri": "https://localhost:8080/"
        },
        "id": "SH8mJSOWY0B_",
        "outputId": "0cccaf89-2561-45f0-d6cc-dafa446c29bf"
      },
      "outputs": [
        {
          "output_type": "stream",
          "name": "stdout",
          "text": [
            "True\n",
            "True\n",
            "False\n",
            "False\n"
          ]
        }
      ],
      "source": [
        "def anagram(s,l):\n",
        "    for word in l:\n",
        "        for letter in word:\n",
        "            if letter not in s:\n",
        "                return False\n",
        "            return True\n",
        "\n",
        "\n",
        "print(anagram(\"Justin Bieber\", [\"injures\", \"ebb\", \"it\"]))\n",
        "print(anagram(\"Natalie Portman\", [\"ornamental\", \"pita\"]))\n",
        "print(anagram(\"Chris Pratt\", [\"chirps\", \"rat\"])) \n",
        "print(anagram(\"Jeff Goldblum\", [\"jog\", \"meld\", \"bluffs\"]))"
      ]
    },
    {
      "cell_type": "markdown",
      "source": [
        "2. Given an array of users, each defined by an object with the following properties: name, score, reputation create a function that sorts the array to form the correct leaderboard.\n",
        "The leaderboard takes into consideration the score of each user of course, but an emphasis is put on their reputation in the community, so to get the trueScore, you should add the reputation multiplied by 2 to the score.\n",
        "\n",
        "Once you know the trueScore of each user, sort the array according to it in descending order.\n",
        "\n",
        "Examples\n",
        "\n",
        "leaderboards([ { \"name\": \"a\", \"score\": 100, \"reputation\": 20 }, { \"name\": \"b\", \"score\": 90, \"reputation\": 40 }, { \"name\": \"c\", \"score\": 115, \"reputation\": 30 }, ]) ➞ [ { \"name\": \"c\", \"score\": 115, \"reputation\": 30 }, # trueScore = 175 { \"name\": \"b\", \"score\": 90, \"reputation\": 40 }, # trueScore = 170 { \"name\": \"a\", \"score\": 100, \"reputation\": 20 } # trueScore = 140 ]"
      ],
      "metadata": {
        "id": "p-noXfsGaqot"
      }
    },
    {
      "cell_type": "code",
      "source": [
        "from operator import itemgetter\n",
        "\n",
        "def leaderboard(l):\n",
        "    return sorted(l, reverse=True, key = lambda k : k['score'] + k['reputation'] * 2 )\n",
        "\n",
        "print(leaderboard([{ \"name\": \"a\", \"score\": 100, \"reputation\": 20 }, { \"name\": \"b\", \"score\": 90, \"reputation\": 40 }, { \"name\": \"c\", \"score\": 115, \"reputation\": 20}]))"
      ],
      "metadata": {
        "colab": {
          "base_uri": "https://localhost:8080/"
        },
        "id": "x1O8mKbtawCM",
        "outputId": "de97c4e1-75c4-423b-ac58-39b07890d86b"
      },
      "execution_count": 4,
      "outputs": [
        {
          "output_type": "stream",
          "name": "stdout",
          "text": [
            "[{'name': 'b', 'score': 90, 'reputation': 40}, {'name': 'c', 'score': 115, 'reputation': 20}, {'name': 'a', 'score': 100, 'reputation': 20}]\n"
          ]
        }
      ]
    },
    {
      "cell_type": "markdown",
      "source": [
        "3. Create a function that, given a phrase and a number of letters guessed, returns a string with hyphens - for every letter of the phrase not guessed, and each letter guessed in place.\n",
        "Examples\n",
        "\n",
        "hangman(\"helicopter\", [\"o\", \"e\", \"s\"]) ➞ \"-e---o--e-\"\n",
        "\n",
        "hangman(\"tree\", [\"r\", \"t\", \"e\"]) ➞ \"tree\"\n",
        "\n",
        "hangman(\"Python rules\", [\"a\", \"n\", \"p\", \"r\", \"z\"]) ➞ \"P----n r----\"\n",
        "\n",
        "hangman(\"He\"s a very naughty boy!\", [\"e\", \"a\", \"y\"]) ➞ \"-e\"- a -e-y -a----y –y!\""
      ],
      "metadata": {
        "id": "BgU8c41Z30GF"
      }
    },
    {
      "cell_type": "code",
      "source": [
        "def hangman(s,l):\n",
        "    for letter in s:\n",
        "        if letter.lower() not in l and letter != '\"':\n",
        "            s = s.replace(letter,'-')\n",
        "            \n",
        "    return s\n",
        "\n",
        "print(hangman(\"helicopter\", [\"o\", \"e\", \"s\"]))\n",
        "print(hangman(\"tree\", [\"r\", \"t\", \"e\"]) )\n",
        "print(hangman(\"Python rules\", [\"a\", \"n\", \"p\", \"r\", \"z\"]) )\n",
        "print(hangman('He\"s a very naughty boy!', [\"e\", \"a\", \"y\"]))"
      ],
      "metadata": {
        "colab": {
          "base_uri": "https://localhost:8080/"
        },
        "id": "I3E9Z87b4KBL",
        "outputId": "c0d199f7-f698-41d8-c721-7fdddde68440"
      },
      "execution_count": 1,
      "outputs": [
        {
          "output_type": "stream",
          "name": "stdout",
          "text": [
            "-e---o--e-\n",
            "tree\n",
            "P----n-r----\n",
            "-e\"--a--e-y--a----y---y-\n"
          ]
        }
      ]
    },
    {
      "cell_type": "markdown",
      "source": [
        "4. The Collatz sequence is as follows:\n",
        "Start with some given integer n.\n",
        "If it is even, the next number will be n divided by 2.\n",
        "If it is odd, multiply it by 3 and add 1 to make the next number.\n",
        "The sequence stops when it reaches 1.\n",
        "According to the Collatz conjecture, it will always reach 1. If that's true, you can construct a finite sequence following the aforementioned method for any given integer.\n",
        "\n",
        "Write a function that takes in an integer n and returns the highest integer in the corresponding Collatz sequence.\n",
        "\n",
        "Examples\n",
        "\n",
        "max_collatz(10) ➞ 16\n",
        "\n",
        "Collatz sequence: 10, 5, 16, 8, 4, 2, 1\n",
        "max_collatz(32) ➞ 32\n",
        "\n",
        "Collatz sequence: 32, 16, 8, 4, 2, 1\n",
        "max_collatz(85) ➞ 256\n",
        "\n",
        "Collatz sequence: 85, 256, 128, 64, 32, 16, 8, 4, 2, 1"
      ],
      "metadata": {
        "id": "CjDJ9y2b4sOP"
      }
    },
    {
      "cell_type": "code",
      "source": [
        "def max_collatz(n):\n",
        "    l = [n]\n",
        "    i = 0\n",
        "    while l[-1] != 1:\n",
        "        if l[i] % 2 ==0:\n",
        "            l.append(l[i] / 2)\n",
        "        else:\n",
        "            l.append(l[i] * 3 + 1)\n",
        "        i += 1    \n",
        "    return list(map(int,l))\n",
        "\n",
        "print(max_collatz(10))\n",
        "print(max_collatz(32))\n",
        "print(max_collatz(85))"
      ],
      "metadata": {
        "colab": {
          "base_uri": "https://localhost:8080/"
        },
        "id": "LCI49_tZ483N",
        "outputId": "b7840d7f-20e8-4991-9ac6-b99744f2b84c"
      },
      "execution_count": 2,
      "outputs": [
        {
          "output_type": "stream",
          "name": "stdout",
          "text": [
            "[10, 5, 16, 8, 4, 2, 1]\n",
            "[32, 16, 8, 4, 2, 1]\n",
            "[85, 256, 128, 64, 32, 16, 8, 4, 2, 1]\n"
          ]
        }
      ]
    },
    {
      "cell_type": "markdown",
      "source": [
        "5. Write a function that sorts a list of integers by their digit length in descending order, then settles ties by sorting numbers with the same digit length in ascending order.\n",
        "Examples\n",
        "\n",
        "digit_sort([77, 23, 5, 7, 101]) ➞ [101, 23, 77, 5, 7]\n",
        "\n",
        "digit_sort([1, 5, 9, 2, 789, 563, 444]) ➞ [444, 563, 789, 1, 2, 5, 9]\n",
        "\n",
        "digit_sort([53219, 3772, 564, 32, 1]) ➞ [53219, 3772, 564, 32, 1]"
      ],
      "metadata": {
        "id": "BDIon-pB5Cqm"
      }
    },
    {
      "cell_type": "code",
      "source": [
        "def digit_sort(l):\n",
        "    \n",
        "    l = list(map(str,l))\n",
        "    \n",
        "    l = sorted(l, key = len, reverse=True)\n",
        "    \n",
        "    for i in range(len(l)):\n",
        "        for j in range(i,len(l)):\n",
        "            if len(l[i]) == len(l[j]):\n",
        "                if l[j] < l[i]:\n",
        "                    temp = l[i]\n",
        "                    l[i] = l[j]\n",
        "                    l[j] = temp\n",
        "    return list(map(int,l))\n",
        "\n",
        "print(digit_sort([77,23,5,7,101]))\n",
        "print(digit_sort([1, 5, 9, 2, 789, 563, 444]))\n",
        "print(digit_sort([53219, 3772, 564, 32, 1]))"
      ],
      "metadata": {
        "colab": {
          "base_uri": "https://localhost:8080/"
        },
        "id": "vu8G3WnG5GSv",
        "outputId": "afe16487-f91b-4f39-d07d-7e2b3404b79d"
      },
      "execution_count": 3,
      "outputs": [
        {
          "output_type": "stream",
          "name": "stdout",
          "text": [
            "[101, 23, 77, 5, 7]\n",
            "[444, 563, 789, 1, 2, 5, 9]\n",
            "[53219, 3772, 564, 32, 1]\n"
          ]
        }
      ]
    }
  ]
}