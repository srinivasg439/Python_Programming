{
  "nbformat": 4,
  "nbformat_minor": 0,
  "metadata": {
    "colab": {
      "provenance": []
    },
    "kernelspec": {
      "name": "python3",
      "display_name": "Python 3"
    },
    "language_info": {
      "name": "python"
    }
  },
  "cells": [
    {
      "cell_type": "code",
      "execution_count": null,
      "metadata": {
        "id": "MgKZYtcrbiRX"
      },
      "outputs": [],
      "source": [
        "#1.What is the purpose of Python's OOP?\n",
        "#Sol.\n",
        "1. Provides a clear program structure and a clean code\n",
        "\n",
        "2. Facilitates easy maintenance and modification of existing code.\n",
        "\n",
        "3. Since the class is sharable, the code can be reused.\n",
        "\n",
        "4. Since the class is sharable, the code can be reused and many other such Advantages."
      ]
    },
    {
      "cell_type": "code",
      "source": [
        "#2.Where does an inheritance search look for an attribute?\n",
        "# Sol.\n",
        "Attribute fetches are simply tree searches. The term inheritance is applied because objects lower in a tree inherit attributes attached to objects higher in that tree.\n",
        "As the search proceeds from the bottom up, in a sense, the objects linked into a tree are the union of all the attributes defined in all their tree parents, all the way up the tree."
      ],
      "metadata": {
        "id": "fiv2UNBadksT"
      },
      "execution_count": null,
      "outputs": []
    },
    {
      "cell_type": "code",
      "source": [
        "#3.How do you distinguish between a class object and an instance object?\n",
        "Objects and Instances are almost similar and are often used interchangeably but with a small difference. Object is a generic term , it is physically present but remains undiferrentiated. Instance is something that gives them a separate identity.\n",
        "\n",
        "Object is the physical entity for which memory is allocated. Object contains many instances.\n",
        "\n",
        "Instance : An instance is also the physical manifestation of a class that occupies memory and has data members.\n",
        "\n",
        "e.g. There is Class car, when I create c = car(), c is object. When we create different object with different specifications(car name, type, company) such as i10, i20, Creta, audi7 are called as instances which actually exists."
      ],
      "metadata": {
        "id": "g4S8L0V3eUu0"
      },
      "execution_count": null,
      "outputs": []
    },
    {
      "cell_type": "code",
      "source": [
        "#4.What makes the first argument in a class’s method function special?\n",
        "Self represents the instance of the class. By using the “self” keyword we can access the attributes and methods of the class in python. \n",
        "It binds the attributes with the given arguments.The reason you need to use self. is because Python does not use the @ syntax to refer to instance attributes.\n",
        "Python decided to do methods in a way that makes the instance to which the method belongs be passed automatically, but not received automatically: \n",
        "the first parameter of methods is the instance the method is called on."
      ],
      "metadata": {
        "id": "ZAFeF8Bae8sS"
      },
      "execution_count": null,
      "outputs": []
    },
    {
      "cell_type": "code",
      "source": [
        "#5.. What is the purpose of the init method?\n",
        "The task of init method is to initialize(assign values) to the data members of the class when an object of class is created. \n",
        "It contains collection of statements that are executed at time of Object creation. It is run as soon as an object of a class is instantiated. \n",
        "The method is useful to do any initialization you want to do with your object."
      ],
      "metadata": {
        "id": "NvulQqVlfiGf"
      },
      "execution_count": null,
      "outputs": []
    },
    {
      "cell_type": "code",
      "source": [
        "#6.What is the process for creating a class instance?\n",
        "To create instances of a class, you call the class using class name and pass in whatever arguments its init method accepts."
      ],
      "metadata": {
        "id": "UszNEjyRgZim"
      },
      "execution_count": null,
      "outputs": []
    },
    {
      "cell_type": "code",
      "source": [
        "#7.What is the process for creating a class?\n",
        "The class statement creates a new class definition. The name of the class immediately follows the keyword class followed by a colon.Explained below\n"
      ],
      "metadata": {
        "id": "KgArfxZQgt6M"
      },
      "execution_count": null,
      "outputs": []
    },
    {
      "cell_type": "code",
      "source": [
        "#Example for questtion 6 & 7\n",
        "\n",
        "class Student:\n",
        "    def __init__(self,name):\n",
        "        self.name = name\n",
        "    \n",
        "    def __str__(self):\n",
        "        return f\"This is {self.name} (an instance of a class Student)\"\n",
        "    \n",
        "student1 = Student(\"Srinivas\")       \n",
        "print(student1)"
      ],
      "metadata": {
        "colab": {
          "base_uri": "https://localhost:8080/"
        },
        "id": "wmUbUvKTg7Dj",
        "outputId": "1860d333-754a-4621-ec49-6ed6451ab6c3"
      },
      "execution_count": 1,
      "outputs": [
        {
          "output_type": "stream",
          "name": "stdout",
          "text": [
            "This is Srinivas (an instance of a class Student)\n"
          ]
        }
      ]
    },
    {
      "cell_type": "code",
      "source": [
        "#8.How would you define the superclasses of a class?\n",
        "#A superclass is the class from which many subclasses can be created. The subclasses inherit the characteristics of a superclass. The superclass is also known as the parent class or base class.\n",
        "class A:\n",
        "    def method_A(self):\n",
        "        return \"this is method of class A\"\n",
        "    \n",
        "class B(A):\n",
        "    def method_B(self):\n",
        "        return \"this is method of class B\"\n",
        "\n",
        "class C(A):\n",
        "    def method_B(self):\n",
        "        return \"this is method of class C\"\n",
        "    \n",
        "class D(A):\n",
        "    def method_B(self):\n",
        "        return \"this is method of class D\"\n",
        "\n",
        "# Class B, C, D are subclasses and Class A is superclass    \n",
        "a = A()\n",
        "b = B()\n",
        "c = C()\n",
        "d = D()\n",
        "\n",
        "print(a.method_A())\n",
        "print(b.method_B())\n",
        "print(b.method_A())   # objects of class B, C and D are able to access method of class A because Class A is superclass. \n",
        "print(c.method_A())\n",
        "print(d.method_A())"
      ],
      "metadata": {
        "colab": {
          "base_uri": "https://localhost:8080/"
        },
        "id": "QXtMYTaVhRme",
        "outputId": "5557ca42-ea00-4231-dfc6-c5a566cf26ca"
      },
      "execution_count": 2,
      "outputs": [
        {
          "output_type": "stream",
          "name": "stdout",
          "text": [
            "this is method of class A\n",
            "this is method of class B\n",
            "this is method of class A\n",
            "this is method of class A\n",
            "this is method of class A\n"
          ]
        }
      ]
    }
  ]
}