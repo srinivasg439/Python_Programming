{
  "nbformat": 4,
  "nbformat_minor": 0,
  "metadata": {
    "colab": {
      "provenance": []
    },
    "kernelspec": {
      "name": "python3",
      "display_name": "Python 3"
    },
    "language_info": {
      "name": "python"
    }
  },
  "cells": [
    {
      "cell_type": "markdown",
      "source": [
        "Q1. What is the difference between getattr and getattribute?\n",
        "Normally, if we want to access the attribute of a class, we access it with instance of the class like instance.attribute_name. These attributes are already present in the class. Where as, to access the attribute of class which are not defined in the class, we use getattr() method.\n",
        "\n",
        "But if the attribute does exist, getattr won’t be invoked"
      ],
      "metadata": {
        "id": "qzogmXwYIQ48"
      }
    },
    {
      "cell_type": "code",
      "source": [
        "class Sample:\n",
        "    def __init__(self,address):\n",
        "        self.address = address\n",
        "    \n",
        "    def __getattr__(self,name):\n",
        "        return name.lower()\n",
        "    \n",
        "s =Sample('Banglore')\n",
        "print(s.address) # existing attribute\n",
        "print(s.ABCD) # ABCD is non defined in class"
      ],
      "metadata": {
        "colab": {
          "base_uri": "https://localhost:8080/"
        },
        "id": "IRxczdAyIVdb",
        "outputId": "8048ba97-cba2-4c71-d4aa-00f7aef1d575"
      },
      "execution_count": 1,
      "outputs": [
        {
          "output_type": "stream",
          "name": "stdout",
          "text": [
            "Banglore\n",
            "abcd\n"
          ]
        }
      ]
    },
    {
      "cell_type": "markdown",
      "source": [
        "getattribute will look for every attribute, doesn’t matter if the attribute exists or not."
      ],
      "metadata": {
        "id": "mvPUBQ_NJYoN"
      }
    },
    {
      "cell_type": "code",
      "source": [
        "class Dummy():\n",
        "\n",
        "    def __getattribute__(self, attr):\n",
        "        return 'New Value'\n",
        "\n",
        "d = Dummy()\n",
        "d.value = \"Old value\"\n",
        "print(d.value)  # \"YOU SEE ME?\""
      ],
      "metadata": {
        "colab": {
          "base_uri": "https://localhost:8080/"
        },
        "id": "RaZWVQ8_JaFp",
        "outputId": "db27b62e-a236-4c7e-9e36-e8d4fcb873e5"
      },
      "execution_count": 2,
      "outputs": [
        {
          "output_type": "stream",
          "name": "stdout",
          "text": [
            "New Value\n"
          ]
        }
      ]
    },
    {
      "cell_type": "markdown",
      "source": [
        "Q2. What is the difference between properties and descriptors?\n",
        "In Properties, We can bind getter, setter functions with an attribute name, using the built-in property function. In descriptor, We can bind getter, setter (and deleter) functions into a separate class. We then assign an object of this class to the attribute name.\n",
        "\n",
        "Q3. What are the key differences in functionality between getattr and getattribute, as well as properties and descriptors?\n",
        "To access the attribute of class which are not defined in the class, we use getattr() method. But if the attribute does exist, getattr won’t be invoked. getattribute will look for every attribute, doesn’t matter if the attribute exists or not.\n",
        "\n",
        "In Properties, We can bind getter, setter functions with an attribute name, using the built-in property function. In descriptor, We can bind getter, setter (and deleter) functions into a separate class. We then assign an object of this class to the attribute name."
      ],
      "metadata": {
        "id": "rYtx9lmKKDpY"
      }
    }
  ]
}