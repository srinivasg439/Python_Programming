{
  "nbformat": 4,
  "nbformat_minor": 0,
  "metadata": {
    "colab": {
      "provenance": []
    },
    "kernelspec": {
      "name": "python3",
      "display_name": "Python 3"
    },
    "language_info": {
      "name": "python"
    }
  },
  "cells": [
    {
      "cell_type": "code",
      "execution_count": null,
      "metadata": {
        "id": "xDK1Wz5LBtuu"
      },
      "outputs": [],
      "source": [
        "\"\"\"Please write a program using generator to print the numbers which can be divisible by 5 and 7 between 0 and n in comma separated form while n is input by console.\n",
        "Example:\n",
        "If the following n is given as input to the program:\n",
        "100\n",
        "Then, the output of the program should be:\n",
        "0,35,70 \"\"\"\n",
        "\n",
        "#Sol.\n",
        "def putNumbers(n): \n",
        "    i = 0 \n",
        "    while i < n:\n",
        "        j = i\n",
        "        i += 1 \n",
        "        if j % 7 == 0 and j % 5 == 0:\n",
        "            yield j\n",
        "n = int(input('enter n : '))\n",
        "num =[]\n",
        "for i in putNumbers(n): \n",
        "    num.append(str(i))\n",
        "    \n",
        "print(','.join(num))\n"
      ]
    },
    {
      "cell_type": "code",
      "source": [
        "\"\"\"2. Please write a program using generator to print the even numbers between 0 and n in comma\n",
        "separated form while n is input by console.\n",
        "Example:\n",
        "If the following n is given as input to the program:\n",
        "10\n",
        "Then, the output of the program should be:\n",
        "0,2,4,6,8,10  \"\"\"\n",
        "\n",
        "#Sol.\n",
        "def putNumbers(n): \n",
        "    i = 0 \n",
        "    while i < n:\n",
        "        j = i\n",
        "        i += 1 \n",
        "        if j % 2 == 0:\n",
        "            yield j\n",
        "n = int(input('enter n : '))\n",
        "num =[]\n",
        "for i in putNumbers(n): \n",
        "    num.append(str(i))\n",
        "    \n",
        "print(','.join(num))"
      ],
      "metadata": {
        "colab": {
          "base_uri": "https://localhost:8080/"
        },
        "id": "bGO-JFcNFWUS",
        "outputId": "aec34f70-dbc1-4fc0-fca4-5f04e153ca1d"
      },
      "execution_count": 1,
      "outputs": [
        {
          "output_type": "stream",
          "name": "stdout",
          "text": [
            "enter n : 10\n",
            "0,2,4,6,8\n"
          ]
        }
      ]
    },
    {
      "cell_type": "code",
      "source": [
        "\"\"\"3. The Fibonacci Sequence is computed based on the following formula:\n",
        "f(n)=0 if n=0\n",
        "f(n)=1 if n=1\n",
        "f(n)=f(n-1)+f(n-2) if n>1\n",
        "Please write a program using list comprehension to print the Fibonacci Sequence in comma separated form with a given n input by console.\n",
        "Example:\n",
        "If the following n is given as input to the program:\n",
        "7\n",
        "\n",
        "Then, the output of the program should be:\n",
        "0,1,1,2,3,5,8,13  \"\"\"\n",
        "\n",
        "#Sol.\n",
        "def fib(n):    \n",
        "    if n == 0: \n",
        "            return 0    \n",
        "    elif n == 1: \n",
        "            return 1    \n",
        "    else: \n",
        "            return fib(n-1)+fib(n-2)\n",
        "n=int(input('Enter a number :')) \n",
        "values = [str(fib(x)) for x in range(0, n+1)] \n",
        "print(\",\".join(values))"
      ],
      "metadata": {
        "colab": {
          "base_uri": "https://localhost:8080/"
        },
        "id": "mSr6DpVvGjHP",
        "outputId": "98d808ac-aa13-46d7-d890-293b3b6de98f"
      },
      "execution_count": 2,
      "outputs": [
        {
          "output_type": "stream",
          "name": "stdout",
          "text": [
            "Enter a number :5\n",
            "0,1,1,2,3,5\n"
          ]
        }
      ]
    },
    {
      "cell_type": "code",
      "source": [
        "#4. Assuming that we have some email addresses in the \"username@companyname.com\" format, please write program to print the user name of a given email address. Both user names and company names are composed of letters only.\n",
        "#Sol.\n",
        "email = input(\"Enter the email address : \").split('@')\n",
        "company = str(email[1]).split('.')\n",
        "print(\"User name : \",email[0])\n",
        "print(\"Company name : \",company[0])\n"
      ],
      "metadata": {
        "colab": {
          "base_uri": "https://localhost:8080/"
        },
        "id": "dHgM8gE5HgTL",
        "outputId": "90820a6b-24c0-45f2-8636-9f2267b41d2e"
      },
      "execution_count": 3,
      "outputs": [
        {
          "output_type": "stream",
          "name": "stdout",
          "text": [
            "Enter the email address : srinivas@gmail.com\n",
            "User name :  srinivas\n",
            "Company name :  gmail\n"
          ]
        }
      ]
    },
    {
      "cell_type": "code",
      "source": [
        "#5. Define a class named Shape and its subclass Square. The Square class has an init function which takes a length as argument. Both classes have a area function which can print the area of the shape where Shape's area is 0 by default.\n",
        "#sol\n",
        "class Shape(object):\n",
        "    def __init__(self):\n",
        "        pass\n",
        "\n",
        "    def area(self):\n",
        "        return 0\n",
        "\n",
        "class Square(Shape):\n",
        "    def __init__(self, l):\n",
        "        Shape.__init__(self)\n",
        "        self.length = l\n",
        "\n",
        "    def area(self):\n",
        "        return self.length*self.length\n",
        "\n",
        "objSquare= Square(5)\n",
        "print(objSquare.area())"
      ],
      "metadata": {
        "colab": {
          "base_uri": "https://localhost:8080/"
        },
        "id": "wQ1K6BBhIpRT",
        "outputId": "9cf335e1-a07b-4d81-f55a-6b38100c989b"
      },
      "execution_count": 4,
      "outputs": [
        {
          "output_type": "stream",
          "name": "stdout",
          "text": [
            "25\n"
          ]
        }
      ]
    }
  ]
}