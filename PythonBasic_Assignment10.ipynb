{
  "nbformat": 4,
  "nbformat_minor": 0,
  "metadata": {
    "colab": {
      "name": "PythonBasic_Assignment10.ipynb",
      "provenance": []
    },
    "kernelspec": {
      "name": "python3",
      "display_name": "Python 3"
    },
    "language_info": {
      "name": "python"
    }
  },
  "cells": [
    {
      "cell_type": "code",
      "execution_count": null,
      "metadata": {
        "id": "kved2PO3dTQF"
      },
      "outputs": [],
      "source": [
        "#1. How do you distinguish between shutil.copy() and shutil.copytree()?\n",
        "Sol.The shutil.copy() function will copy a single file, while shutil.copytree() will copy an entire folder, along with all its contents."
      ]
    },
    {
      "cell_type": "code",
      "source": [
        "#2. What function is used to rename files??\n",
        "Sol.The shutil.move() function is used for renaming files, as well as moving them."
      ],
      "metadata": {
        "id": "li_M8eXIko0K"
      },
      "execution_count": null,
      "outputs": []
    },
    {
      "cell_type": "code",
      "source": [
        "#3. What is the difference between the delete functions in the send2trash and shutil modules?\n",
        "Sol.The send2trash functions will move a file or folder to the recycle bin, while shutil functions will permanently delete files and folders."
      ],
      "metadata": {
        "id": "hnTiutjjkypR"
      },
      "execution_count": null,
      "outputs": []
    },
    {
      "cell_type": "code",
      "source": [
        "#4.ZipFile objects have a close() method just like File objects’ close() method. What ZipFile method is equivalent to File objects’ open() method?\n",
        "Sol.The zipfile.ZipFile() function is equivalent to the open() function; the first argument is the filename, and the second argument is the mode to open the ZIP file in (read, write, or append)."
      ],
      "metadata": {
        "id": "KpCvha3AlnGh"
      },
      "execution_count": null,
      "outputs": []
    },
    {
      "cell_type": "code",
      "source": [
        "#5. Create a programme that searches a folder tree for files with a certain file extension (such as .pdf or .jpg). Copy these files from whatever location they are in to a new folder.\n",
        "\n",
        "import os , shutil\n",
        "\n",
        "def selectCopy(folder , extensions , destfolder):\n",
        "    folder1 = os.path.abspath(folder)\n",
        "    destfolder1 = os.path.abspath(destfolder)\n",
        "    print('lookin in ' , folder1 , ' for files with extensions of ' , ' , '.join(extensions))\n",
        "    for foldername, subfolders, filenames in os.walk(folder1):\n",
        "        for filename in filenames:\n",
        "            name, extension = os.path.split(filename)\n",
        "            if extension in extensions:\n",
        "                fileabspath = foldername + os.path.sep + filename\n",
        "                print('coping', fileabspath , 'to', destfolder1)\n",
        "\n",
        "folder = 'random folder'\n",
        "extensions = ['.pdf','.jpeg']\n",
        "destfolder = 'selectivefolder'\n",
        "selectCopy(folder , extensions , destfolder)\n"
      ],
      "metadata": {
        "colab": {
          "base_uri": "https://localhost:8080/"
        },
        "id": "ZXdVCCYCmLsP",
        "outputId": "5124a81a-9174-4a13-f140-c07b9e0300fd"
      },
      "execution_count": 11,
      "outputs": [
        {
          "output_type": "stream",
          "name": "stdout",
          "text": [
            "lookin in  /content/random folder  for files with extensions of  .pdf , .jpeg\n"
          ]
        }
      ]
    }
  ]
}