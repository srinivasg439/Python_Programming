{
  "nbformat": 4,
  "nbformat_minor": 0,
  "metadata": {
    "colab": {
      "provenance": []
    },
    "kernelspec": {
      "name": "python3",
      "display_name": "Python 3"
    },
    "language_info": {
      "name": "python"
    }
  },
  "cells": [
    {
      "cell_type": "markdown",
      "source": [
        "Q1. Is it permissible to use several import statements to import the same module? What would the goal be? Can you think of a situation where it would be beneficial?\n",
        "# Ans : Yes we can use more than one import statement to import the same module more than once.\n",
        "#       This is com einto action when support we want to import some other function or class from the base \n",
        "#       class of any module for example.\n",
        "#       from sklearn.preprocessing import LabelEncoder\n",
        "#       from sklearn.linear_model import LinearRegression\n",
        "Q2. What are some of a module's characteristics? (Name at least one.)\n",
        "# Ans : name : It returns the name of the module. doc : It denotes the documentation string line written in a module \n",
        "#       code. file : It holds the name and path of the module file from which it is loaded . dict : It return a \n",
        "#       dictionary object of module attributes, functions and other definitions and their respective values.\n",
        "Q3. Circular importing, such as when two modules import each other, can lead to dependencies and bugs that aren't visible. How can you go about creating a program that avoids mutual importing?"
      ],
      "metadata": {
        "id": "FCE7TSIvaRYZ"
      }
    },
    {
      "cell_type": "markdown",
      "source": [
        "# Ans : Circular importing means importing the two modules in each other. If suppose we are wokring in MOD1.py file \n",
        "#       and it is importing some function say F2() from some other module say MOD2.PY file or we can do vice-versa. \n",
        "#       What will happen is: This will give an import error. This is because when we import F2() function from module \n",
        "#       MOD2.py, then this will execute MOD2.py file. And in MOD2.py file there is an another statement of importing\n",
        "#       MOD1.py module. This will result in endless loop. To avoid this error just do one thing- We can use if \n",
        "#       name == 'main'.In the function, you can't directly refer to the function in the program. The addition of \n",
        "#       this sentence avoids the endless loop of the program\n",
        "Q4. Why is _ all _ in Python?\n",
        "# Ans : It specifies all the modules present in the particular library and those can be called when we use import *\n",
        "Q5. In what situation is it useful to refer to the _ name _ attribute or the string '_ main _'?\n",
        "# Ans : During the time of execution of the code if we want to refer the module in which we are working on then we \n",
        "#       uses name attribute. In that case it will return the module in which we are working on. Suppose if that moudle\n",
        "#       is being imported from some other module then name will have the name of that moudle from where the current \n",
        "#       module has been imported. The current module in which we are working is refer to the string '_ main _'."
      ],
      "metadata": {
        "id": "LYkwBt6zaEKk"
      }
    },
    {
      "cell_type": "markdown",
      "source": [
        "Q6. What are some of the benefits of attaching a program counter to the RPN interpreter application, which interprets an RPN script line by line?\n",
        "# Ans : RPN saves time and keystrokes. You avoid using and keeping track of parentheses while doing calculations. \n",
        "#       The process is similar to the way you learned math on paper. You can see the intermediary results as you \n",
        "#       perform your computations rather than just the answer at the end.\n",
        "Q7. What are the minimum expressions or statements (or both) that you'd need to render a basic programming language like RPN primitive but complete— that is, capable of carrying out any computerised task theoretically possible?\n",
        "# Ans : Notations  : +-/*\n",
        "#       These are the basic notations we require to carry out a computerised task , like RPN Primitive.\n",
        "#       We also need a particular data structure for storing elements from a statements except operators"
      ],
      "metadata": {
        "id": "kXr9ShGCaefJ"
      }
    }
  ]
}