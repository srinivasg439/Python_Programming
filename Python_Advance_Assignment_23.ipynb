{
  "nbformat": 4,
  "nbformat_minor": 0,
  "metadata": {
    "colab": {
      "provenance": []
    },
    "kernelspec": {
      "name": "python3",
      "display_name": "Python 3"
    },
    "language_info": {
      "name": "python"
    }
  },
  "cells": [
    {
      "cell_type": "markdown",
      "source": [
        "Q1. If you have any, what are your choices for increasing the comparison between different figures on the same graph?\n",
        "\n",
        "Ans : Bar charts are good for comparisons, while line charts work better for trends. Scatter plot charts are good for relationships and distributions, but pie charts should be used only for simple compositions — never for comparisons or distributions.\n",
        "\n",
        "Q2. Can you explain the benefit of compound interest over a higher rate of interest that does not compound after reading this chapter?\n",
        "\n",
        "Ans : Compound interest makes your money grow faster because interest is calculated on the accumulated interest over time as well as on your original principal. Compounding can create a snowball effect, as the original investments plus the income earned from those investments grow together.\n",
        "\n",
        "Q3. What is a histogram, exactly? Name a numpy method for creating such a graph.\n",
        "\n",
        "Ans : Histogram is a type of a plot which hold the total number of counts or the percentile value in y-axis w.r.t. corresponding x-variables. When we say the number of counts it means that for a particular range in x-axis\n",
        "what will be the number of counts of the data points. When we talk about percentile it shows the probability occurrence of the x-variable or what percentage of data are below that particular percetile value w.r.t.\n",
        "particular x-variable range. Numpy has a built-in numpy. histogram() function."
      ],
      "metadata": {
        "id": "iQ7eu8uLW3dU"
      }
    },
    {
      "cell_type": "markdown",
      "source": [
        "Q4. If necessary, how do you change the aspect ratios between the X and Y axes?\n",
        "\n",
        "Ans : We can use figure(figsize=(10,8)) function inside the matplot.pyplot library which we scale down or up the graph. figure(figsize=(10,8))\n",
        "\n",
        "Q5. Compare and contrast the three types of array multiplication between two numpy arrays: dot product, outer product, and regular multiplication of two numpy arrays."
      ],
      "metadata": {
        "id": "PWhZeguMXrpG"
      }
    },
    {
      "cell_type": "code",
      "execution_count": 1,
      "metadata": {
        "colab": {
          "base_uri": "https://localhost:8080/"
        },
        "id": "YqZFIrvY8QKh",
        "outputId": "fdf26275-2e5e-4943-f71d-9c61d78c15fb"
      },
      "outputs": [
        {
          "output_type": "stream",
          "name": "stdout",
          "text": [
            "[[1 2 3]\n",
            " [4 5 6]\n",
            " [6 7 8]]\n",
            "\n",
            "[[10 20 30]\n",
            " [40 50 60]\n",
            " [60 70 80]]\n"
          ]
        }
      ],
      "source": [
        "# Ans : \n",
        "import numpy as np\n",
        "a1=np.array([[1,2,3],[4,5,6],[6,7,8]])\n",
        "a2=np.array([[10,20,30],[40,50,60],[60,70,80]])\n",
        "\n",
        "# suppose above are the two arrays of shape 3 x 3\n",
        "print(a1)\n",
        "print()\n",
        "print(a2)"
      ]
    },
    {
      "cell_type": "code",
      "source": [
        "#standard multiplication\n",
        "a1*a2"
      ],
      "metadata": {
        "colab": {
          "base_uri": "https://localhost:8080/"
        },
        "id": "2cg_YoBsYJ0f",
        "outputId": "5a31b63c-827e-47df-f314-79c720290c6f"
      },
      "execution_count": 2,
      "outputs": [
        {
          "output_type": "execute_result",
          "data": {
            "text/plain": [
              "array([[ 10,  40,  90],\n",
              "       [160, 250, 360],\n",
              "       [360, 490, 640]])"
            ]
          },
          "metadata": {},
          "execution_count": 2
        }
      ]
    },
    {
      "cell_type": "code",
      "source": [
        "# When we do standard multiplication in that case values of the same indexes in the array will get multiply. \n",
        "# Like in above example. A1(i,j) x A2(i,j)\n",
        "# dot product\n",
        "np.dot(a1,a2)"
      ],
      "metadata": {
        "colab": {
          "base_uri": "https://localhost:8080/"
        },
        "id": "5wz_87uFYNHI",
        "outputId": "19dcadaf-3dbc-4f41-d898-da33883af739"
      },
      "execution_count": 3,
      "outputs": [
        {
          "output_type": "execute_result",
          "data": {
            "text/plain": [
              "array([[ 270,  330,  390],\n",
              "       [ 600,  750,  900],\n",
              "       [ 820, 1030, 1240]])"
            ]
          },
          "metadata": {},
          "execution_count": 3
        }
      ]
    },
    {
      "cell_type": "code",
      "source": [
        "# In case of dot product vector, multiplication will take place between row of first array and column of secodn array \n",
        "# .respectively. Like first row of array a1 will be multiply by column value of array a2 one by one and then added.\n",
        "#outer multiplication\n",
        "np.outer(a1,a2)"
      ],
      "metadata": {
        "colab": {
          "base_uri": "https://localhost:8080/"
        },
        "id": "Yj2SVXlJYTqE",
        "outputId": "8375f205-f528-4fcc-d9d4-ecbf3a976255"
      },
      "execution_count": 4,
      "outputs": [
        {
          "output_type": "execute_result",
          "data": {
            "text/plain": [
              "array([[ 10,  20,  30,  40,  50,  60,  60,  70,  80],\n",
              "       [ 20,  40,  60,  80, 100, 120, 120, 140, 160],\n",
              "       [ 30,  60,  90, 120, 150, 180, 180, 210, 240],\n",
              "       [ 40,  80, 120, 160, 200, 240, 240, 280, 320],\n",
              "       [ 50, 100, 150, 200, 250, 300, 300, 350, 400],\n",
              "       [ 60, 120, 180, 240, 300, 360, 360, 420, 480],\n",
              "       [ 60, 120, 180, 240, 300, 360, 360, 420, 480],\n",
              "       [ 70, 140, 210, 280, 350, 420, 420, 490, 560],\n",
              "       [ 80, 160, 240, 320, 400, 480, 480, 560, 640]])"
            ]
          },
          "metadata": {},
          "execution_count": 4
        }
      ]
    },
    {
      "cell_type": "markdown",
      "source": [
        "In outer multiplication every element of first array a1 will be multiply by every element of other array a2 such the number of columns will be equal to the number of element in another array a2."
      ],
      "metadata": {
        "id": "MfFRjr3CYa7A"
      }
    },
    {
      "cell_type": "markdown",
      "source": [
        "Q6. Before you buy a home, which numpy function will you use to measure your monthly mortgage payment?\n",
        "\n",
        "Ans : np.pmt(rate, nper, pv) function we will be using in order to calculate monthly mortgage payment before you purchase a house\n",
        "#       rate = The periodic interest rate\n",
        "#       nper = The number of payment periods\n",
        "#       pv = The total value of the mortgage loan\n",
        "\n",
        "Q7. Can string data be stored in numpy arrays? If so, list at least one restriction that applies to this data.\n",
        "\n",
        "Ans : Yes an array can store the string.The limitation which imposed on the string data is, whenever we store the data of string dtype then it should should keep in mind that the string which is having the maximum length is the limit. The dtype value is the maximum length of a string in such data. Meaning suppose if any new string we wanted to add, then we can add only that string which have the length either equal to that dtype value or less than that. If any string which are adding and if its length is more than the dtype value then it will only accpet to maximum length and rest of the characters will not be included."
      ],
      "metadata": {
        "id": "JB9QuovVYp8h"
      }
    }
  ]
}