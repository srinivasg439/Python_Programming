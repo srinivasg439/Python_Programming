{
  "nbformat": 4,
  "nbformat_minor": 0,
  "metadata": {
    "colab": {
      "provenance": []
    },
    "kernelspec": {
      "name": "python3",
      "display_name": "Python 3"
    },
    "language_info": {
      "name": "python"
    }
  },
  "cells": [
    {
      "cell_type": "markdown",
      "source": [
        "1. For this challenge, forget how to add two numbers together. The best explanation on what to do for this function is this meme:\n",
        "Examples\n",
        "\n",
        "meme_sum(26, 39) ➞ 515 #2+3 = 5, 6+9 = 15\n",
        "\n",
        "26 + 39 = 515\n",
        "meme_sum(122, 81) ➞ 1103 #1+0 = 1, 2+8 = 10, 2+1 = 3\n",
        "\n",
        "122 + 81 = 1103\n",
        "meme_sum(1222, 30277) ➞ 31499"
      ],
      "metadata": {
        "id": "aDWK2I-NxBqg"
      }
    },
    {
      "cell_type": "code",
      "execution_count": 1,
      "metadata": {
        "colab": {
          "base_uri": "https://localhost:8080/"
        },
        "id": "etccE_FXnY74",
        "outputId": "35bb7dd9-b940-4212-814b-f5959f2645be"
      },
      "outputs": [
        {
          "output_type": "stream",
          "name": "stdout",
          "text": [
            "515\n",
            "1103\n",
            "31499\n",
            "213\n"
          ]
        }
      ],
      "source": [
        "def meme_sum(a,b):\n",
        "    a = str(a)\n",
        "    b = str(b)\n",
        "    sum1 = ''\n",
        "    \n",
        "    while True:\n",
        "        if len(a) < len(b):\n",
        "            a = '0'+a\n",
        "        elif len(b) < len(a):\n",
        "            b = '0'+b\n",
        "        else:\n",
        "            break\n",
        "    \n",
        "    for i in range(len(a)):\n",
        "        sum1 += str(int(a[i]) + int(b[i]))\n",
        "\n",
        "    return sum1\n",
        "\n",
        "print(meme_sum(26, 39))\n",
        "print(meme_sum(122,81))\n",
        "print(meme_sum(1222, 30277))\n",
        "print(meme_sum(10,203))"
      ]
    },
    {
      "cell_type": "markdown",
      "source": [
        "2. Given an integer, create a function that returns the next prime. If the number is prime, return the number itself.\n",
        "Examples\n",
        "\n",
        "next_prime(12) ➞ 13\n",
        "\n",
        "next_prime(24) ➞ 29\n",
        "\n",
        "next_prime(11) ➞ 11\n",
        "\n",
        "11 is a prime, so we return the number itself."
      ],
      "metadata": {
        "id": "MFFBYu4QyeMl"
      }
    },
    {
      "cell_type": "code",
      "source": [
        "def prime_num(n):\n",
        "    for i in range(2,n):\n",
        "        if n % i == 0:\n",
        "            break\n",
        "    else:\n",
        "        return n\n",
        "        \n",
        "def next_prime(n):\n",
        "    while True:\n",
        "        if prime_num(n) != None:\n",
        "            break\n",
        "        n = n + 1\n",
        "        prime_num(n)\n",
        "    \n",
        "    return prime_num(n)    \n",
        "            \n",
        "print(next_prime(12))\n",
        "print(next_prime(24))\n",
        "print(next_prime(11))\n",
        "print(next_prime(83))"
      ],
      "metadata": {
        "colab": {
          "base_uri": "https://localhost:8080/"
        },
        "id": "ERzNSFZVyhzi",
        "outputId": "69841c40-ef69-495d-e1bb-b2ae861e333f"
      },
      "execution_count": 2,
      "outputs": [
        {
          "output_type": "stream",
          "name": "stdout",
          "text": [
            "13\n",
            "29\n",
            "11\n",
            "83\n"
          ]
        }
      ]
    },
    {
      "cell_type": "markdown",
      "source": [
        "3. If a person traveled up a hill for 18mins at 20mph and then traveled back down the same path at 60mph then their average speed traveled was 30mph.\n",
        "Write a function that returns the average speed traveled given an uphill time, uphill rate and a downhill rate. Uphill time is given in minutes. Return the rate as an integer (mph). No rounding is necessary.\n",
        "\n",
        "Examples\n",
        "\n",
        "ave_spd(18, 20, 60) ➞ 30\n",
        "\n",
        "ave_spd(30, 10, 30) ➞ 15\n",
        "\n",
        "ave_spd(30, 8, 24) ➞ 12"
      ],
      "metadata": {
        "id": "K_6nRaPS071g"
      }
    },
    {
      "cell_type": "code",
      "source": [
        "# as distance is same, formula  is  2ab/a+b where a and b are two speeds\n",
        "\n",
        "def ave_spd(uphill_time, uphill_rate, downhill_rate):\n",
        "    return int(2 * uphill_rate * downhill_rate/ (uphill_rate + downhill_rate))\n",
        "\n",
        "print(ave_spd(18, 20, 60))\n",
        "print(ave_spd(30, 10, 30))\n",
        "print(ave_spd(30,8,24))"
      ],
      "metadata": {
        "colab": {
          "base_uri": "https://localhost:8080/"
        },
        "id": "gb1lpE2z1NyM",
        "outputId": "bfbacf97-6c62-4c62-e675-31cd834271f3"
      },
      "execution_count": 3,
      "outputs": [
        {
          "output_type": "stream",
          "name": "stdout",
          "text": [
            "30\n",
            "15\n",
            "12\n"
          ]
        }
      ]
    },
    {
      "cell_type": "markdown",
      "source": [
        "4. The Kempner Function, applied to a composite number, permits to find the smallest integer greater than zero whose factorial is exactly divided by the number.\n",
        "kempner(6) ➞ 3\n",
        "\n",
        "1! = 1 % 6 > 0 2! = 2 % 6 > 0 3! = 6 % 6 === 0\n",
        "\n",
        "kempner(10) ➞ 5\n",
        "\n",
        "1! = 1 % 10 > 0 2! = 2 % 10 > 0 3! = 6 % 10 > 0 4! = 24 % 10 > 0 5! = 120 % 10 === 0\n",
        "\n",
        "A Kempner Function applied to a prime will always return the prime itself.\n",
        "\n",
        "kempner(2) ➞ 2 kempner(5) ➞ 5\n",
        "\n",
        "Given an integer n, implement a Kempner Function.\n",
        "\n",
        "Examples\n",
        "\n",
        "kempner(6) ➞ 3\n",
        "\n",
        "kempner(10) ➞ 5\n",
        "\n",
        "kempner(2) ➞ 2"
      ],
      "metadata": {
        "id": "tEVxtAsg1eg0"
      }
    },
    {
      "cell_type": "code",
      "source": [
        "#n = 6\n",
        "\n",
        "def fact(n):\n",
        "    if n == 0 or n == 1:\n",
        "        return 1\n",
        "    else:\n",
        "        return n * fact(n-1)\n",
        "        \n",
        "def kempner(n):\n",
        "    for i in range(1,n+1):\n",
        "        if fact(i) % n == 0:\n",
        "            return i\n",
        "\n",
        "print(kempner(6))\n",
        "print(kempner(10))\n",
        "print(kempner(2))"
      ],
      "metadata": {
        "colab": {
          "base_uri": "https://localhost:8080/"
        },
        "id": "KL3xJGV81gv7",
        "outputId": "5e99f1d4-0886-4733-a793-237aea2a46f1"
      },
      "execution_count": 4,
      "outputs": [
        {
          "output_type": "stream",
          "name": "stdout",
          "text": [
            "3\n",
            "5\n",
            "2\n"
          ]
        }
      ]
    },
    {
      "cell_type": "markdown",
      "source": [
        "5. You work in a factory, and your job is to take items from a conveyor belt and pack them into boxes. Each box can hold a maximum of 10 kgs. Given a list containing the weight (in kg) of each item, how many boxes would you need to pack all of the items?\n",
        "Example\n",
        "\n",
        "boxes([2, 1, 2, 5, 4, 3, 6, 1, 1, 9, 3, 2]) ➞ 5\n",
        "\n",
        "Box 1 = [2, 1, 2, 5] (10kg)\n",
        "Box 2 = [4, 3] (7kg)\n",
        "Box 3 = [6, 1, 1] (8kg)\n",
        "Box 4 = [9] (9kg)\n",
        "Box 5 = [3, 2] (5kg)"
      ],
      "metadata": {
        "id": "tC3qntv32KYP"
      }
    },
    {
      "cell_type": "code",
      "source": [
        "def boxes(l):\n",
        "    l1 =[]\n",
        "    box =[]\n",
        "    \n",
        "    for i in l:\n",
        "        box.append(i)\n",
        "        if sum(box) > 10:\n",
        "            box.pop()\n",
        "            l1.append(box)\n",
        "            box = []\n",
        "            box.append(i)\n",
        "            \n",
        "    l1.append(box)\n",
        "    return l1    \n",
        "\n",
        "print(boxes([2, 1, 2, 5, 4, 3, 6, 1, 1, 9, 3, 2]))\n",
        "print(boxes([5,1,3,6,8,2,3,1,4,2,5,6,10]))"
      ],
      "metadata": {
        "colab": {
          "base_uri": "https://localhost:8080/"
        },
        "id": "S8pgCZNC2RiC",
        "outputId": "f159d192-16c7-4c04-b215-bc4b2d14ab0b"
      },
      "execution_count": 5,
      "outputs": [
        {
          "output_type": "stream",
          "name": "stdout",
          "text": [
            "[[2, 1, 2, 5], [4, 3], [6, 1, 1], [9], [3, 2]]\n",
            "[[5, 1, 3], [6], [8, 2], [3, 1, 4, 2], [5], [6], [10]]\n"
          ]
        }
      ]
    }
  ]
}