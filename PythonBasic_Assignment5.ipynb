{
  "nbformat": 4,
  "nbformat_minor": 0,
  "metadata": {
    "colab": {
      "name": "PythonBasic_Assignment5.ipynb",
      "provenance": []
    },
    "kernelspec": {
      "name": "python3",
      "display_name": "Python 3"
    },
    "language_info": {
      "name": "python"
    }
  },
  "cells": [
    {
      "cell_type": "code",
      "execution_count": null,
      "metadata": {
        "id": "AALkfBDa7A_x"
      },
      "outputs": [],
      "source": [
        "#1. What does an empty dictionary's code look like?\n",
        "Sol.To create an empty dictionary, the dictionary should be set to {}."
      ]
    },
    {
      "cell_type": "code",
      "source": [
        "#2. What is the value of a dictionary value with the key 'foo' and the value 42?\n",
        "Sol.{'foo': 42}"
      ],
      "metadata": {
        "id": "q0hQAwSj7K8M"
      },
      "execution_count": null,
      "outputs": []
    },
    {
      "cell_type": "code",
      "source": [
        "#3. What is the most significant distinction between a dictionary and a list?\n",
        "Sol.The items stored in a dictionary are unordered, while the items in a list are ordered"
      ],
      "metadata": {
        "id": "TOOe6GjKCfF8"
      },
      "execution_count": null,
      "outputs": []
    },
    {
      "cell_type": "code",
      "source": [
        "#4. What happens if you try to access spam['foo'] if spam is {'bar': 100}?\n",
        "Sol.You get a KeyError error"
      ],
      "metadata": {
        "id": "lAAUzGILCrzR"
      },
      "execution_count": null,
      "outputs": []
    },
    {
      "cell_type": "code",
      "source": [
        "#5. If a dictionary is stored in spam, what is the difference between the expressions 'cat' in spam and 'cat' in spam.keys()?\n",
        "Sol.There is no difference. The in operator checks whether a value exists as a key in the dictionary."
      ],
      "metadata": {
        "id": "KzpdatNPDQNa"
      },
      "execution_count": null,
      "outputs": []
    },
    {
      "cell_type": "code",
      "source": [
        "#6. If a dictionary is stored in spam, what is the difference between the expressions 'cat' in spam and 'cat' in spam.values()?\n",
        "Sol.'cat' in spam checks whether there is a 'cat' key in the dictionary, while 'cat' in spam.values() checks whether there is a value 'cat' for one of the keys in spam."
      ],
      "metadata": {
        "id": "d9tFV1t7Dntg"
      },
      "execution_count": null,
      "outputs": []
    },
    {
      "cell_type": "code",
      "source": [
        "#7. What is a shortcut for the following code?\n",
        "if 'color' not in spam:\n",
        "spam['color'] = 'black'\n",
        "Sol. spam.setdefault('color', 'black')"
      ],
      "metadata": {
        "id": "l-GBG-WuD2Qw"
      },
      "execution_count": null,
      "outputs": []
    },
    {
      "cell_type": "code",
      "source": [
        "#8. How do you \"pretty print\" dictionary values using which module and function?\n",
        "Sol.pprint.pprint()"
      ],
      "metadata": {
        "id": "y3gr5kXDERux"
      },
      "execution_count": null,
      "outputs": []
    }
  ]
}