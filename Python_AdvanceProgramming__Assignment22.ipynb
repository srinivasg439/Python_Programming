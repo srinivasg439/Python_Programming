{
  "nbformat": 4,
  "nbformat_minor": 0,
  "metadata": {
    "colab": {
      "provenance": []
    },
    "kernelspec": {
      "name": "python3",
      "display_name": "Python 3"
    },
    "language_info": {
      "name": "python"
    }
  },
  "cells": [
    {
      "cell_type": "markdown",
      "source": [
        "1. Create a class Smoothie and do the following:\n",
        "Create an instance attribute called ingredients.\n",
        "Create a get_cost method which calculates the total cost of the\n",
        "ingredients used to make the smoothie.\n",
        "\n",
        "Create a get_price method which returns the number from get_cost plus\n",
        "the number from get_cost multiplied by 1.5. Round to two decimal places.\n",
        "\n",
        "Create a get_name method which gets the ingredients and puts them in\n",
        "alphabetical order into a nice descriptive sentence. If there are multiple ingredients, add the word \"Fusion\" to the end but otherwise, add \"Smoothie\". Remember to change \"-berries\" to \"-berry\". See the examples below. Ingredient Price Strawberries "
      ],
      "metadata": {
        "id": "nL6uPmm0MJN4"
      }
    },
    {
      "cell_type": "code",
      "execution_count": 1,
      "metadata": {
        "colab": {
          "base_uri": "https://localhost:8080/"
        },
        "id": "SfgHidxB0bOq",
        "outputId": "7268bf68-7366-4ddb-f219-bdd3dcd930b2"
      },
      "outputs": [
        {
          "output_type": "stream",
          "name": "stdout",
          "text": [
            "['Banana']\n",
            "$0.50\n",
            "$1.25\n",
            "Banana Fusion\n",
            "['Raspberries', 'Strawberries', 'Blueberries']\n",
            "$3.50\n",
            "$8.75\n",
            "Blueberry Raspberry Strawberry  Fusion\n"
          ]
        }
      ],
      "source": [
        "# Ans : \n",
        "class Smoothie():\n",
        "    def __init__(self, ingredients):\n",
        "        self.ingredients = ingredients\n",
        "        \n",
        "    def get_cost(self):\n",
        "        cost = {\"Strawberries\": 1.50,\"Banana\":0.50,\"Mango\":2.50,\n",
        "                \"Blueberries\":1.00,\"Raspberries\":1.00,\"Apple1\":.75,\n",
        "                \"Pineapple\":3.50}\n",
        "        self.total_cost = 0\n",
        "        for i in self.ingredients:\n",
        "            self.total_cost += cost.get(i)\n",
        "            \n",
        "        return (\"$\"+ str('%.2f'%self.total_cost))\n",
        "    \n",
        "    def get_price(self):\n",
        "        x = (1.5*self.total_cost)+self.total_cost\n",
        "        \n",
        "        return \"$\"+str(round(x,2))\n",
        "    \n",
        "    def get_name(self):\n",
        "        res = \"\"\n",
        "        for i in sorted(self.ingredients):\n",
        "            if i[-1] == \"s\":\n",
        "                res =  res +  i[:-3]+\"y \"\n",
        "            else:\n",
        "                res = res + i\n",
        "        if len(res) == 1:\n",
        "            return res+\" Smoothie\"\n",
        "        else:\n",
        "            return res +\" Fusion\"\n",
        "        \n",
        "        return res\n",
        "    \n",
        "s1 = Smoothie([\"Banana\"])\n",
        "print(s1.ingredients)\n",
        "print(s1.get_cost())\n",
        "print(s1.get_price())\n",
        "print(s1.get_name())\n",
        "s2 = Smoothie([\"Raspberries\", \"Strawberries\", \"Blueberries\"])\n",
        "print(s2.ingredients)\n",
        "print(s2.get_cost())\n",
        "print(s2.get_price())\n",
        "print(s2.get_name())"
      ]
    },
    {
      "cell_type": "markdown",
      "source": [
        "2. Your task is to write a program which allows teachers to create a multiple choice test in a class called Testpaper and to be also able to assign a minimum pass mark. The testpaper's subject should also be included. The attributes are in the following order:\n",
        "subject\n",
        "markscheme\n",
        "pass_mark\n",
        "As well as that, we need to create student objects to take the test itself! Create another class called Student and do the following:\n",
        "\n",
        "Create an attribute called tests_taken and set the default as 'No tests\n",
        "taken'.\n",
        "\n",
        "Make a method called take_test(), which takes in the testpaper object they\n",
        "are completing and the student's answers. Compare what they wrote to the mark scheme, and append to the/create a dictionary assigned to tests_taken in the way as shown in the point below.\n",
        "\n",
        "Each key in the dictionary should be the testpaper subject and each value\n",
        "should be a string in the format seen in the examples below (whether or not the student has failed, and their percentage in brackets). Examples paper1 = Testpaper(\"Maths\", [\"1A\", \"2C\", \"3D\", \"4A\", \"5A\"], \"60%\") paper2 = Testpaper(\"Chemistry\", [\"1C\", \"2C\", \"3D\", \"4A\"], \"75%\") paper3 = Testpaper(\"Computing\", [\"1D\", \"2C\", \"3C\", \"4B\", \"5D\", \"6C\", \"7A\"], \"75%\") student1 = Student() student2 = Student() student1.tests_taken ➞ \"No tests taken\" student1.take_test(paper1, [\"1A\", \"2D\", \"3D\", \"4A\",\"5A\"]) student1.tests_taken ➞ {\"Maths\" : \"Passed! (80%)\"} student2.take_test(paper2, [\"1C\", \"2D\", \"3A\", \"4C\"]) student2.take_test(paper3, [\"1A\", \"2C\", \"3A\", \"4C\", \"5D\", \"6C\", \"7B\"]) student2.tests_taken ➞ {\"Chemistry\" : \"Failed! (25%)\", \"Computing\" : \"Failed! (43%)\"}"
      ],
      "metadata": {
        "id": "GWgnOpH8PNVA"
      }
    },
    {
      "cell_type": "code",
      "source": [
        "# Ans : \n",
        "import math\n",
        "class Testpaper():\n",
        "    def __init__(self, subject , markscheme, pass_mark):\n",
        "        self.subject = subject\n",
        "        self.markscheme = markscheme\n",
        "        self.pass_mark = pass_mark\n",
        "\n",
        "class Student(Testpaper):\n",
        "    def __init__(self):\n",
        "        self.tests_taken = {}\n",
        "        \n",
        "    def take_test(self, paper, stud_answer):\n",
        "        x = len(paper.markscheme)\n",
        "        count = 0\n",
        "        for i in range(x):\n",
        "            if paper.markscheme[i] == stud_answer[i]:\n",
        "                count+=1\n",
        "        percent = ((count/x)*100)\n",
        "        if int(paper.pass_mark[:-1]) <= percent:\n",
        "            self.tests_taken[paper.subject] = \"Passed!\"+ \"(\"+ str(math.ceil(percent))+\"%)\"\n",
        "        else:\n",
        "            self.tests_taken[paper.subject] = \"Failed!\"+ \"(\"+ str(math.ceil(percent))+\"%)\"\n",
        "\n",
        "        return self.tests_taken\n",
        "\n",
        "paper1 = Testpaper(\"Maths\", [\"1A\", \"2C\", \"3D\", \"4A\", \"5A\"], \"60%\")\n",
        "paper2 = Testpaper(\"Chemistry\", [\"1C\", \"2C\", \"3D\", \"4A\"], \"75%\")\n",
        "paper3 = Testpaper(\"Computing\", [\"1D\", \"2C\", \"3C\", \"4B\", \"5D\", \"6C\", \"7A\"], \"75%\")\n",
        "\n",
        "student1 = Student()\n",
        "student2 = Student()\n",
        "print(student1.tests_taken) \n",
        "student1.take_test(paper1, [\"1A\", \"2D\", \"3D\", \"4A\", \"5A\"])\n",
        "print(student1.tests_taken)\n",
        "student2.take_test(paper2, [\"1C\", \"2D\", \"3A\", \"4C\"])\n",
        "student2.take_test(paper3, [\"1A\", \"2C\", \"3A\", \"4C\", \"5D\", \"6C\", \"7B\"])\n",
        "print(student2.tests_taken )"
      ],
      "metadata": {
        "colab": {
          "base_uri": "https://localhost:8080/"
        },
        "id": "lmI3O8jfP5uk",
        "outputId": "582314e9-c9e3-43bf-c61b-c1d4d6431b52"
      },
      "execution_count": 2,
      "outputs": [
        {
          "output_type": "stream",
          "name": "stdout",
          "text": [
            "{}\n",
            "{'Maths': 'Passed!(80%)'}\n",
            "{'Chemistry': 'Failed!(25%)', 'Computing': 'Failed!(43%)'}\n"
          ]
        }
      ]
    },
    {
      "cell_type": "markdown",
      "source": [
        "3. Due to unforseen circumstances in Suburbia, the trains will be delayed by a further 10 minutes. Create a function that will help to plan out and manage these delays! Create a function called manage_delays that does the following:\n",
        "Parameters will be the train object, a destination and number of minutes\n",
        "the delay is.\n",
        "\n",
        "Increment to the train object's expected_time by the delay, if the\n",
        "destination given is in the train object's destinations. Examples trains = [ Train([\"Townsville\", \"Suburbia\", \"Urbantska\"], \"13:04\"), Train([\"Farmsdale\", \"Suburbia\", \"Lakeside Valley\"], \"13:20\"), Train([\"Suburbia\", \"Townsville\", \"Lakeside Valley\"], \"13:22\") ] for t in trains: manage_delays(t, \"Lakeside Valley\", 60) trains[0].expected_time ➞ \"13:04\" trains[1].expected_time ➞ \"14:20\" trains[2].expected_time ➞ \"14:22\""
      ],
      "metadata": {
        "id": "ZGvC4BEHQSGz"
      }
    },
    {
      "cell_type": "code",
      "source": [
        "# Ans : \n",
        "import datetime\n",
        "def manage_delays(t, destination, delay):\n",
        "    if destination in t.stations:\n",
        "        delay_time = datetime.datetime.strptime(t.arrival, \"%H:%M\") + datetime.timedelta(minutes = delay)\n",
        "        x = str(delay_time.time())\n",
        "        t.expected_time = x[:-3]\n",
        "        return t.expected_time\n",
        "        \n",
        "\n",
        "class Train:\n",
        "    def __init__(self, stations, arrival):\n",
        "        self.stations = stations\n",
        "        self.arrival = arrival\n",
        "        self.expected_time = arrival\n",
        "        \n",
        "        \n",
        "    \n",
        "trains = [Train([\"Townsville\", \"Suburbia\", \"Urbantska\"], \"13:04\"),\n",
        "  Train([\"Farmsdale\", \"Suburbia\", \"Lakeside Valley\"], \"13:20\"),\n",
        "  Train([\"Suburbia\", \"Townsville\", \"Lakeside Valley\"], \"13:22\")]\n",
        "    \n",
        "for t in trains:\n",
        "    manage_delays(t, \"Lakeside Valley\", 60)\n",
        "\n",
        "print(trains[0].expected_time)\n",
        "print(trains[1].expected_time)\n",
        "print(trains[2].expected_time )"
      ],
      "metadata": {
        "colab": {
          "base_uri": "https://localhost:8080/"
        },
        "id": "MfIXt8iCQZBU",
        "outputId": "0d94cf60-4666-4b2d-e9ac-e054d7138f25"
      },
      "execution_count": 3,
      "outputs": [
        {
          "output_type": "stream",
          "name": "stdout",
          "text": [
            "13:04\n",
            "14:20\n",
            "14:22\n"
          ]
        }
      ]
    },
    {
      "cell_type": "markdown",
      "source": [
        "4. Ted works as a computer programmer at Minecraft Inc. His boss has just given him an important assignment to update the code for the minecart tracks by the end of April. However, he has recently had to self-isolate due to Corvid-19 and has left the code for the tracks BACK AT WORK!! He has the shorthand for the tracks he's supposed to look at, and where the carts are suppost to end up, but not the actual code.\n",
        "He knows that:\n",
        "\n",
        "\"-->\" = \"Speed-Up Track\" ⁠— If a minecart interacts with this track, it's\n",
        "velocity increases by 2.67 BPS unless it's at its maximum speed of 8 BPS. 2. \"<-->\" = \"Powered Track\" ⁠— If a minecart interacts with this track, it's velocity remains the same. 3. \"<--\" = \"Slow-Down Track\" ⁠— If a minecart interacts with this track, it's velocity decreases by 2.67 BPS unless it's velocity equals 0, at which point it stops. 4. \"---\" = \"Unpowered Track\" ⁠— If a minecart interacts with this track, it's velocity decreases by 1 BPS unless it's velocity equals 0, at which point it stops.\n",
        "\n",
        "Help Ted by writing a class for the tracks that interact with the provided Minecart class as shown above. And then write a function that will take a list of the shorthand tracks and:\n",
        "\n",
        "If the Minecart reaches the last peice of Track, return True.\n",
        "Else return the index of the Track where the Minecart stops.\n",
        "Examples mine_run([\"-->\", \"-->\", \"-->\", \"<--\", \"<--\", \"<--\"]) ➞ True mine_run([\"-->\", \"<--\", \"-->\", \"-->\", \"<-->\", \"---\"]) ➞ 1"
      ],
      "metadata": {
        "id": "LH7hUuB0QiW8"
      }
    },
    {
      "cell_type": "code",
      "source": [
        "# Ans : \n",
        "def mine_run(lst_track):\n",
        "    right = \"-->\"\n",
        "    left = \"<--\"\n",
        "    count_right = 0\n",
        "    count_left = 0\n",
        "    for i in lst_track:\n",
        "        if i == right:\n",
        "            count_right += 1\n",
        "        elif i == left:\n",
        "            count_left += 1\n",
        "    if count_left == count_right:\n",
        "        return print(True)\n",
        "    else:\n",
        "        return print(count_right - count_left-1)\n",
        "    \n",
        "\n",
        "mine_run([\"-->\", \"-->\", \"-->\", \"<--\", \"<--\", \"<--\"]) \n",
        "mine_run([\"-->\", \"<--\", \"-->\", \"-->\", \"<-->\", \"---\"])"
      ],
      "metadata": {
        "id": "doPJIoIgQrV5"
      },
      "execution_count": null,
      "outputs": []
    },
    {
      "cell_type": "markdown",
      "source": [
        "5. Make a Rectangle class with four parameters, an x, a y (representing the top-left corner of the rectangle), a width and a height exclusively in that order. Lastly, make a function intersecting that takes two Rectangle objects and returns True if those objects are intersecting (colliding), else return False.\n",
        "Examples a = Rectangle(10, 20, 100, 20) b = Rectangle(10, 40, 15, 20) c = Rectangle(50, 50, 20, 30) intersecting(a, b) ➞ True intersecting(a, c) ➞ False intersecting(b, c) ➞ True"
      ],
      "metadata": {
        "id": "eaLHXT70Qywh"
      }
    },
    {
      "cell_type": "code",
      "source": [
        "# Ans : \n",
        "def intersecting(rectangle1, rectangle2):\n",
        "    if (rectangle2.y-rectangle1.y == rectangle1.height) or (rectangle2.y-rectangle1.y + rectangle1.height == rectangle2.height):\n",
        "        return print(True)\n",
        "    else:\n",
        "        return print(False)\n",
        "\n",
        "class Rectangle:\n",
        "    def __init__(self, x, y, width, height):\n",
        "        self.x = x\n",
        "        self.y = y\n",
        "        self.width = width\n",
        "        self.height = height\n",
        "\n",
        "a = Rectangle(10, 20, 100, 20)\n",
        "b = Rectangle(10, 40, 15, 20)\n",
        "c = Rectangle(50, 50, 20, 30)\n",
        "intersecting(a, b)\n",
        "intersecting(a, c)\n",
        "intersecting(b, c)"
      ],
      "metadata": {
        "colab": {
          "base_uri": "https://localhost:8080/"
        },
        "id": "-LOOZm6ZQ1mC",
        "outputId": "c95858c2-282d-437a-fb1e-cfb3fa35e607"
      },
      "execution_count": 4,
      "outputs": [
        {
          "output_type": "stream",
          "name": "stdout",
          "text": [
            "True\n",
            "False\n",
            "True\n"
          ]
        }
      ]
    }
  ]
}