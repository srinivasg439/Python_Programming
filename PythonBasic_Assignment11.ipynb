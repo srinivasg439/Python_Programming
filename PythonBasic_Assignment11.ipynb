{
  "nbformat": 4,
  "nbformat_minor": 0,
  "metadata": {
    "colab": {
      "name": "PythonBasic_Assignment11.ipynb",
      "provenance": []
    },
    "kernelspec": {
      "name": "python3",
      "display_name": "Python 3"
    },
    "language_info": {
      "name": "python"
    }
  },
  "cells": [
    {
      "cell_type": "code",
      "execution_count": null,
      "metadata": {
        "id": "AlhHmdwxYbEL"
      },
      "outputs": [],
      "source": [
        "#1. Create an assert statement that throws an AssertionError if the variable spam is a negative integer.\n",
        "Sol. assert(spam >= 10, 'The spam variable is less than 10.')"
      ]
    },
    {
      "cell_type": "code",
      "source": [
        "#2.Write an assert statement that triggers an AssertionError if the variables eggs and bacon contain strings that are the same as each other, even if their cases are different (that is, 'hello' and 'hello' are considered the same, and 'goodbye' and 'GOODbye' are also considered the same).\n",
        "Sol. assert(eggs.lower() != bacon.lower(), 'The eggs and bacon variables are the same!') or \n",
        "     assert(eggs.upper() != bacon.upper(), 'The eggs and bacon variables are the same!')"
      ],
      "metadata": {
        "id": "jWleqNxMas4O"
      },
      "execution_count": null,
      "outputs": []
    },
    {
      "cell_type": "code",
      "source": [
        "#3. Create an assert statement that throws an AssertionError every time.\n",
        "Sol. assert(False, 'This assertion always triggers.')"
      ],
      "metadata": {
        "id": "qbc7bhqqclg4"
      },
      "execution_count": null,
      "outputs": []
    },
    {
      "cell_type": "code",
      "source": [
        "#4. What are the two lines that must be present in your software in order to call logging.debug()?\n",
        "Sol. import logging \n",
        "     logging.basicConfig(level=logging.DEBUG, format=' %(asctime)s - %(levelname)s - %(message)s')"
      ],
      "metadata": {
        "id": "pZBQudrbcy1x"
      },
      "execution_count": null,
      "outputs": []
    },
    {
      "cell_type": "code",
      "source": [
        "#5. What are the two lines that your program must have in order to have logging.debug() send a logging message to a file named programLog.txt?\n",
        "Sol. import logging \n",
        "     logging.basicConfig(filename='programLog.txt', level=logging.DEBUG, format=' %(asctime)s - %(levelname)s - %(message)s')"
      ],
      "metadata": {
        "id": "ZEgE54tZd2Hp"
      },
      "execution_count": null,
      "outputs": []
    },
    {
      "cell_type": "code",
      "source": [
        "#6. What are the five levels of logging?\n",
        "Sol.DEBUG, INFO, WARNING, ERROR, and CRITICAL"
      ],
      "metadata": {
        "id": "aKChvAyMe--_"
      },
      "execution_count": null,
      "outputs": []
    },
    {
      "cell_type": "code",
      "source": [
        "#7. What line of code would you add to your software to disable all logging messages?\n",
        "Sol.logging.disable(logging.CRITICAL)"
      ],
      "metadata": {
        "id": "P6x6YvHEfP-w"
      },
      "execution_count": null,
      "outputs": []
    },
    {
      "cell_type": "code",
      "source": [
        "#8.Why is using logging messages better than using print() to display the same message?\n",
        "Sol. You can disable logging messages without removing the logging function calls. You can selectively disable lower-level logging messages. \n",
        "You can create logging messages. Logging messages provides a timestamp."
      ],
      "metadata": {
        "id": "E4riZ9h0fb5V"
      },
      "execution_count": null,
      "outputs": []
    },
    {
      "cell_type": "code",
      "source": [
        "#9. What are the differences between the Step Over, Step In, and Step Out buttons in the debugger?\n",
        "Sol.The Step button will move the debugger into a function call. The Over button will quickly execute the function call without stepping into it. \n",
        "The Out button will quickly execute the rest of the code until it steps out of the function it currently is in."
      ],
      "metadata": {
        "id": "vcNnxBanfsXQ"
      },
      "execution_count": null,
      "outputs": []
    },
    {
      "cell_type": "code",
      "source": [
        "#10.After you click Continue, when will the debugger stop ?\n",
        "Sol.click Go, the debugger will stop when it has reached the end of the program or a line with a breakpoint."
      ],
      "metadata": {
        "id": "kSWtp7xugKib"
      },
      "execution_count": null,
      "outputs": []
    },
    {
      "cell_type": "code",
      "source": [
        "#11. What is the concept of a breakpoint?\n",
        "Sol.breakpoint is a setting on a line of code that causes the debugger to pause when the program execution reaches the line"
      ],
      "metadata": {
        "id": "bFXNv_VTgYo2"
      },
      "execution_count": null,
      "outputs": []
    }
  ]
}