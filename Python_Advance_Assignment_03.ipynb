{
  "nbformat": 4,
  "nbformat_minor": 0,
  "metadata": {
    "colab": {
      "provenance": []
    },
    "kernelspec": {
      "name": "python3",
      "display_name": "Python 3"
    },
    "language_info": {
      "name": "python"
    }
  },
  "cells": [
    {
      "cell_type": "code",
      "execution_count": null,
      "metadata": {
        "id": "tEcYfteMv83O"
      },
      "outputs": [],
      "source": [
        "#1.What is the concept of an abstract superclass?\n"
      ]
    },
    {
      "cell_type": "markdown",
      "source": [
        "A class is called an Abstract class if it contains one or more abstract methods. An abstract method is a method that is declared, but contains no implementation. Abstract classes may not be instantiated, and its abstract methods must be implemented by its subclasses."
      ],
      "metadata": {
        "id": "oLYc5tyRxQ0x"
      }
    },
    {
      "cell_type": "code",
      "source": [
        "import abc\n",
        "\n",
        "class Shape(metaclass=abc.ABCMeta):\n",
        "    @abc.abstractmethod\n",
        "    def area(self):\n",
        "        pass\n",
        "\n",
        "class Rectangle(Shape):\n",
        "    def __init__(self, x,y):\n",
        "        self.l = x\n",
        "        self.b=y\n",
        "    \n",
        "    def area(self):\n",
        "        return self.l*self.b\n",
        "    \n",
        "r = Rectangle(10,20)\n",
        "print ('area: ',r.area())"
      ],
      "metadata": {
        "colab": {
          "base_uri": "https://localhost:8080/"
        },
        "id": "hk665JcsxZsR",
        "outputId": "0cb2e34a-e469-4115-a282-7e09f2752366"
      },
      "execution_count": 1,
      "outputs": [
        {
          "output_type": "stream",
          "name": "stdout",
          "text": [
            "area:  200\n"
          ]
        }
      ]
    },
    {
      "cell_type": "markdown",
      "source": [
        "The 'abc' module in Python library provides the infrastructure for defining custom abstract base classes.\n",
        "\n",
        "'abc' works by marking methods of the base class as abstract. This is done by @absttractmethod decorator. A concrete class which is a sub class of such abstract base class then implements the abstract base by overriding its abstract methods.\n",
        "\n",
        "The abc module defines ABCMeta class which is a metaclass for defining abstract base class. Following example defines Shape class as an abstract base class using ABCMeta. The shape class has area() method decorated by abstractmethod.\n",
        "\n",
        "A Rectangle class now uses above Shape class as its parent and implementing the abstract area() method. Since it is a concrete class, it can be instantiated and imlemented area() method can be called."
      ],
      "metadata": {
        "id": "wn7OVbgNxkXd"
      }
    },
    {
      "cell_type": "code",
      "source": [
        "#2.What happens when a class statement's top level contains a basic assignment statement?\n",
        "#Sol. When class statement's top level contains a basic assignment statement, it is considered as class attribute. Change in the value of class attribute will affect all the instances of the class.\n",
        "class Sample:\n",
        "    some_value = 1234\n",
        "    \n",
        "    def __init__(self, value1):\n",
        "        self.value1 = value1\n",
        "        \n",
        "s = Sample(2)       \n",
        "s1 = Sample(3)\n",
        "\n",
        "print(s.some_value)\n",
        "print(s.value1)\n",
        "print(s1.value1)\n",
        "\n",
        "Sample.some_value = 567\n",
        "print(s.some_value) #observe value is changed for both the objects\n",
        "print(s1.some_value)"
      ],
      "metadata": {
        "colab": {
          "base_uri": "https://localhost:8080/"
        },
        "id": "-w6ONSSyywUV",
        "outputId": "148d6efd-4cb8-4ebb-c099-3b820f930b71"
      },
      "execution_count": 2,
      "outputs": [
        {
          "output_type": "stream",
          "name": "stdout",
          "text": [
            "1234\n",
            "2\n",
            "3\n",
            "567\n",
            "567\n"
          ]
        }
      ]
    },
    {
      "cell_type": "code",
      "source": [
        "#3.Why does a class need to manually call a superclass's init method?\n",
        "By doing so,we can access those methods of the super-class (parent class) which have been overridden in a sub-class (child class) that inherits from it."
      ],
      "metadata": {
        "id": "thuSeLTzz6Lq"
      },
      "execution_count": null,
      "outputs": []
    },
    {
      "cell_type": "code",
      "source": [
        "#4.How can you augment, instead of completely replacing, an inherited method?\n",
        "The way to do that in Python is by calling to the original version directly, with augmented arguments."
      ],
      "metadata": {
        "id": "E6aV-N6m0Gnb"
      },
      "execution_count": null,
      "outputs": []
    },
    {
      "cell_type": "code",
      "source": [
        "#5.How is the local scope of a class different from that of a function?\n",
        "In class, if the variable is declared without self then it is accessible within that function only, kinda local variable. However if it declared using self like self.variable_name = 'somevalue', then it is accessible via any object but not via the class name.\n",
        "\n",
        "Whereas, if a variable is declared within a function then it is a local variable and is accessible to that function only."
      ],
      "metadata": {
        "id": "Z2XBNDmu0RHg"
      },
      "execution_count": null,
      "outputs": []
    }
  ]
}