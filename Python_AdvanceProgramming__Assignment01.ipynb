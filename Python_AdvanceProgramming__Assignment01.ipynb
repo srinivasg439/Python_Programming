{
  "nbformat": 4,
  "nbformat_minor": 0,
  "metadata": {
    "colab": {
      "provenance": []
    },
    "kernelspec": {
      "name": "python3",
      "display_name": "Python 3"
    },
    "language_info": {
      "name": "python"
    }
  },
  "cells": [
    {
      "cell_type": "markdown",
      "source": [
        "1. Write a function that takes a list of lists and returns the value of all of the symbols in it, where each symbol adds or takes something from the total score. Symbol values:\n",
        "= 5\n",
        "O = 3\n",
        "\n",
        "X = 1\n",
        "\n",
        "! = -1\n",
        "\n",
        "!! = -3\n",
        "\n",
        "!!! = -5\n",
        "\n",
        "A list of lists containing 2 #s, a O, and a !!! would equal (0 + 5 + 5 + 3 - 5) 8.\n",
        "\n",
        "If the final score is negative, return 0 (e.g. 3 #s, 3 !!s, 2 !!!s and a X would be (0 + 5 + 5 + 5 - 3 - 3 - 3 - 5 - 5 + 1) -3, so return 0.\n",
        "\n",
        "Examples\n",
        "\n",
        "check_score([ [\"#\", \"!\"], [\"!!\", \"X\"] ]) ➞ 2\n",
        "\n",
        "check_score([ [\"!!!\", \"O\", \"!\"], [\"X\", \"#\", \"!!!\"], [\"!!\", \"X\", \"O\"] ]) ➞ 0"
      ],
      "metadata": {
        "id": "kADE23uQ8TFn"
      }
    },
    {
      "cell_type": "code",
      "execution_count": 1,
      "metadata": {
        "colab": {
          "base_uri": "https://localhost:8080/"
        },
        "id": "Q3ltYmi5uA6Q",
        "outputId": "51773aba-0a0f-487b-f2fc-9cff1b724e85"
      },
      "outputs": [
        {
          "output_type": "stream",
          "name": "stdout",
          "text": [
            "2\n",
            "0\n",
            "0\n"
          ]
        }
      ],
      "source": [
        "def check_score(l):\n",
        "    d = {'#': 5, 'O' : 3, 'X' : 1, '!' : -1 , '!!' : -3 , '!!!' : -5}\n",
        "    score = 0\n",
        "    for sub_list in l:\n",
        "        for i in sub_list:\n",
        "            score += d[i]\n",
        "            \n",
        "    if score < 0:\n",
        "        return 0\n",
        "    else:\n",
        "        return score\n",
        "    \n",
        "print(check_score([[\"#\", \"!\"], [\"!!\", \"X\"]]))\n",
        "print(check_score([ [\"!!!\", \"O\", \"!\"], [\"X\", \"#\", \"!!!\"], [\"!!\", \"X\", \"O\"] ]))\n",
        "print(check_score([[\"#\",\"#\",\"#\"],[\"!!\",\"!!\",\"!!\"],[\"!!!\",\"!!!\"],[\"X\"]]))"
      ]
    },
    {
      "cell_type": "markdown",
      "source": [
        "2. Create a function that takes a variable number of arguments, each argument representing the number of items in a group, and returns the number of permutations (combinations) of items that you could get by taking one item from each group.\n",
        "Examples\n",
        "\n",
        "combinations(2, 3) ➞ 6\n",
        "\n",
        "combinations(3, 7, 4) ➞ 84\n",
        "\n",
        "combinations(2, 3, 4, 5) ➞ 120"
      ],
      "metadata": {
        "id": "3OWMihv1D0Br"
      }
    },
    {
      "cell_type": "code",
      "source": [
        "def combinations(*args):\n",
        "    n = 1\n",
        "    \n",
        "    for i in args:\n",
        "        n *= i\n",
        "        \n",
        "    return n\n",
        "\n",
        "print(combinations(2, 3))\n",
        "\n",
        "print(combinations(3, 7, 4))\n",
        "\n",
        "print(combinations(2, 3, 4, 5))"
      ],
      "metadata": {
        "colab": {
          "base_uri": "https://localhost:8080/"
        },
        "id": "Kaus8S0YD8Jf",
        "outputId": "c69c2763-f5bd-4528-8157-95886cce95e9"
      },
      "execution_count": 1,
      "outputs": [
        {
          "output_type": "stream",
          "name": "stdout",
          "text": [
            "6\n",
            "84\n",
            "120\n"
          ]
        }
      ]
    },
    {
      "cell_type": "markdown",
      "source": [
        "3. Create a function that takes a string as an argument and returns the Morse code equivalent.\n",
        "Examples\n",
        "\n",
        "encode_morse(\"EDABBIT CHALLENGE\") ➞ \". -.. .- -... -... .. - -.-. .... .- .-.. .-.. . -. --. .\"\n",
        "\n",
        "encode_morse(\"HELP ME !\") ➞ \".... . .-.. .--. -- . -.-.--\"\n",
        "\n",
        "This dictionary can be used for coding:\n",
        "\n",
        "char_to_dots = { 'A': '.-', 'B': '-...', 'C': '-.-.', 'D': '-..', 'E': '.', 'F': '..-.', 'G': '--.', 'H': '....', 'I': '..', 'J': '.---', 'K': '-.-', 'L': '.-..', 'M': '--', 'N': '-.', 'O': '---', 'P': '.--.', 'Q': '--.-', 'R': '.-.', 'S': '...', 'T': '-', 'U': '..-', 'V': '...-', 'W': '.--', 'X': '-..-', 'Y': '-.--', 'Z': '--..', ' ': ' ', '0': '-----', '1': '.----', '2': '..---', '3': '...--', '4': '....-', '5': '.....', '6': '-....', '7': '--...', '8': '---..', '9': '----.', '&': '.-...', \"'\": '.----.', '@': '.--.-.', ')': '-.--.-', '(': '-.--.', ':': '---...', ',': '--..--', '=': '-...-', '!': '-.-.--', '.': '.-.-.-', '-': '-....-', '+': '.-.-.', '\"': '.-..-.', '?': '..--..', '/': '-..-.' }"
      ],
      "metadata": {
        "id": "2FbntibFFBhg"
      }
    },
    {
      "cell_type": "code",
      "source": [
        "def encode_morse(s):\n",
        "    char_to_dots = { 'A': '.-', 'B': '-...', 'C': '-.-.', 'D': '-..', 'E': '.', 'F': '..-.', 'G': '--.', 'H': '....', 'I': '..', 'J': '.---', 'K': '-.-', 'L': '.-..', 'M': '--', 'N': '-.', 'O': '---', 'P': '.--.', 'Q': '--.-', 'R': '.-.', 'S': '...', 'T': '-', 'U': '..-', 'V': '...-', 'W': '.--', 'X': '-..-', 'Y': '-.--', 'Z': '--..', ' ': ' ', '0': '-----', '1': '.----', '2': '..---', '3': '...--', '4': '....-', '5': '.....', '6': '-....', '7': '--...', '8': '---..', '9': '----.', '&': '.-...', \"'\": '.----.', '@': '.--.-.', ')': '-.--.-', '(': '-.--.', ':': '---...', ',': '--..--', '=': '-...-', '!': '-.-.--', '.': '.-.-.-', '-': '-....-', '+': '.-.-.', '\"': '.-..-.', '?': '..--..', '/': '-..-.' }\n",
        "    result = \"\"\n",
        "    \n",
        "    for letter in s:\n",
        "        if letter != ' ':\n",
        "            result += ' ' + char_to_dots[letter]\n",
        "        \n",
        "    return result    \n",
        "\n",
        "print(encode_morse(\"EDABBIT CHALLENGE\"))\n",
        "print(encode_morse(\"HELP ME !\"))"
      ],
      "metadata": {
        "colab": {
          "base_uri": "https://localhost:8080/"
        },
        "id": "neFlIcwxFEbc",
        "outputId": "04ac8d67-ad02-46f3-ee37-a5827dd3334f"
      },
      "execution_count": 4,
      "outputs": [
        {
          "output_type": "stream",
          "name": "stdout",
          "text": [
            " . -.. .- -... -... .. - -.-. .... .- .-.. .-.. . -. --. .\n",
            " .... . .-.. .--. -- . -.-.--\n"
          ]
        }
      ]
    },
    {
      "cell_type": "markdown",
      "source": [
        "4. Write a function that takes a number and returns True if it's a prime; False otherwise. The number can be 2^64-1 (2 to the power of 63, not XOR). With the standard technique it would be O(2^64-1), which is much too large for the 10 second time limit.\n",
        "Examples\n",
        "\n",
        "prime(7) ➞ True\n",
        "\n",
        "prime(56963) ➞ True\n",
        "\n",
        "prime(5151512515524) ➞ False"
      ],
      "metadata": {
        "id": "Ta0GIfwhGdQt"
      }
    },
    {
      "cell_type": "code",
      "source": [
        "def prime(n):\n",
        "    if n == 1:\n",
        "        return False\n",
        "    if n == 2:\n",
        "        return True\n",
        "    else:\n",
        "        for i in range(2,n):\n",
        "            if n % i == 0:\n",
        "                return False\n",
        "            return True\n",
        "\n",
        "print(prime(11))\n",
        "print(prime(56963))\n",
        "print(prime(1234)) "
      ],
      "metadata": {
        "colab": {
          "base_uri": "https://localhost:8080/"
        },
        "id": "gHrZK_iAGibG",
        "outputId": "907f443b-be0c-40c8-8e9f-b59b482433cb"
      },
      "execution_count": 5,
      "outputs": [
        {
          "output_type": "stream",
          "name": "stdout",
          "text": [
            "True\n",
            "True\n",
            "False\n"
          ]
        }
      ]
    },
    {
      "cell_type": "markdown",
      "source": [
        "5. Create a function that converts a word to a bitstring and then to a boolean list based on the following criteria:\n",
        "1. Locate the position of the letter in the English alphabet (from 1 to 26).\n",
        "\n",
        "2. Odd positions will be represented as 1 and 0 otherwise.\n",
        "\n",
        "3. Convert the represented positions to boolean values, 1 for True and 0 for False.\n",
        "\n",
        "4. Store the conversions into an array.\n",
        "\n",
        "Examples\n",
        "\n",
        "to_boolean_list(\"deep\") ➞ [False, True, True, False]\n",
        "\n",
        "deep converts to 0110\n",
        "\n",
        "d is the 4th alphabet - 0 e is the 5th alphabet - 1 e is the 5th alphabet - 1 p is the 16th alphabet - 0\n",
        "\n",
        "to_boolean_list(\"loves\") ➞ [False, True, False, True, True]\n",
        "\n",
        "to_boolean_list(\"tesh\") ➞ [False, True, True, False]"
      ],
      "metadata": {
        "id": "AVni0dhsJkGT"
      }
    },
    {
      "cell_type": "code",
      "source": [
        "def to_boolean(s):\n",
        "    char_list = list(map(chr,range(97,123)))\n",
        "    boolean_list = []\n",
        "    \n",
        "    for letter in s.lower():\n",
        "        if (char_list.index(letter) + 1) % 2 == 0:\n",
        "            boolean_list.append(False)\n",
        "        else:\n",
        "            boolean_list.append(True)\n",
        "            \n",
        "    return boolean_list\n",
        "\n",
        "print(to_boolean(\"loves\"))\n",
        "print(to_boolean(\"tesh\"))\n",
        "print(to_boolean(\"deep\"))"
      ],
      "metadata": {
        "colab": {
          "base_uri": "https://localhost:8080/"
        },
        "id": "0CzlDTKLJrqK",
        "outputId": "5e7fb74f-d5a9-4e6b-a007-4b1e159c0c37"
      },
      "execution_count": 6,
      "outputs": [
        {
          "output_type": "stream",
          "name": "stdout",
          "text": [
            "[False, True, False, True, True]\n",
            "[False, True, True, False]\n",
            "[False, True, True, False]\n"
          ]
        }
      ]
    }
  ]
}