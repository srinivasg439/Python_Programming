{
  "nbformat": 4,
  "nbformat_minor": 0,
  "metadata": {
    "colab": {
      "provenance": []
    },
    "kernelspec": {
      "name": "python3",
      "display_name": "Python 3"
    },
    "language_info": {
      "name": "python"
    }
  },
  "cells": [
    {
      "cell_type": "code",
      "execution_count": 1,
      "metadata": {
        "colab": {
          "base_uri": "https://localhost:8080/"
        },
        "id": "lKRrt1jJJgwA",
        "outputId": "94d37c56-31da-4324-d862-b7abfea2095b"
      },
      "outputs": [
        {
          "output_type": "stream",
          "name": "stdout",
          "text": [
            "Enter a : 1\n",
            "Enter b : 10\n",
            "Enter c : 2\n",
            "30\n"
          ]
        }
      ],
      "source": [
        "\"\"\"1. Create a function that takes three arguments a, b, c and returns the sum of the\n",
        "numbers that are evenly divided by c from the range a, b inclusive.\n",
        "Examples\n",
        "evenly_divisible(1, 10, 20) ➞ 0\n",
        "# No number between 1 and 10 can be evenly divided by 20.\n",
        "evenly_divisible(1, 10, 2) ➞ 30\n",
        "# 2 + 4 + 6 + 8 + 10 = 30\n",
        "evenly_divisible(1, 10, 3) ➞ 18\n",
        "# 3 + 6 + 9 = 18   \"\"\"\n",
        "\n",
        "#Sol. \n",
        "def sumDivisibles(a, b, c):     \n",
        "    sum = 0\n",
        "    for i in range(a, b + 1): \n",
        "        if (i % c == 0):\n",
        "            sum += i \n",
        "    return sum\n",
        "a = int(input('Enter a : '))\n",
        "b = int(input('Enter b : '))\n",
        "c = int(input('Enter c : '))\n",
        "print(sumDivisibles(a, b, c))"
      ]
    },
    {
      "cell_type": "code",
      "source": [
        "\"\"\"2.Create a function that returns True if a given inequality expression is correct and\n",
        "False otherwise.\n",
        "Examples\n",
        "correct_signs(\"3 > 7 < 11\") ➞ True\n",
        "correct_signs(\"13 > 44 > 33 > 1\") ➞ False\n",
        "correct_signs(\"1 < 2 < 6 < 9 > 3\") ➞ True \"\"\"\n",
        "\n",
        "def correct_signs ( txt ) : \n",
        "    return eval ( txt )\n",
        "print(correct_signs(\"3 > 7 < 11\"))\n",
        "print(correct_signs(\"13 > 44 > 33 > 1\"))\n",
        "print(correct_signs(\"1 < 2 < 6 < 9 > 3\"))"
      ],
      "metadata": {
        "colab": {
          "base_uri": "https://localhost:8080/"
        },
        "id": "Pgm4_kY-1Qo0",
        "outputId": "0e21aa23-99a6-4d0d-8b7c-3f7725825f78"
      },
      "execution_count": 2,
      "outputs": [
        {
          "output_type": "stream",
          "name": "stdout",
          "text": [
            "False\n",
            "False\n",
            "True\n"
          ]
        }
      ]
    },
    {
      "cell_type": "code",
      "source": [
        "\"\"\"3. Create a function that replaces all the vowels in a string with a specified character.\n",
        "Examples\n",
        "replace_vowels('the aardvark, '#') ➞ 'th# ##rdv#rk'\n",
        "replace_vowels('minnie mouse', '?') ➞ 'm?nn?? m??s?'\n",
        "replace_vowels('shakespeare', '*') ➞ 'sh*k*sp**r*' \"\"\"\n",
        "#Sol.\n",
        "def replace_vowels(str, s):\n",
        "    vowels = 'AEIOUaeiou'\n",
        "    for ele in vowels:  \n",
        "        str = str.replace(ele, s)  \n",
        "    return str\n",
        "  \n",
        "input_str = input(\"enter a string : \")\n",
        "s = input(\"enter a vowel replacing string : \")\n",
        "print(\"\\nGiven Sting:\", input_str)\n",
        "print(\"Given Specified Character:\", s)\n",
        "print(\"Afer replacing vowels with the specified character:\",replace_vowels(input_str, s))"
      ],
      "metadata": {
        "colab": {
          "base_uri": "https://localhost:8080/"
        },
        "id": "tJw-VGL03kO1",
        "outputId": "57995357-a3d0-4b20-8380-96453059b3d1"
      },
      "execution_count": 3,
      "outputs": [
        {
          "output_type": "stream",
          "name": "stdout",
          "text": [
            "enter a string : SrInivas\n",
            "enter a vowel replacing string : $\n",
            "\n",
            "Given Sting: SrInivas\n",
            "Given Specified Character: $\n",
            "Afer replacing vowels with the specified character: Sr$n$v$s\n"
          ]
        }
      ]
    },
    {
      "cell_type": "code",
      "source": [
        "\"\"\"4. Write a function that calculates the factorial of a number recursively.\n",
        "Examples\n",
        "factorial(5) ➞ 120\n",
        "factorial(3) ➞ 6\n",
        "factorial(1) ➞ 1\n",
        "factorial(0) ➞ 1 \"\"\"\n",
        "\n",
        "#Sol.\n",
        "def factorial(n):     \n",
        "    if n == 0:\n",
        "        return 1    \n",
        "    return n * factorial(n-1)\n",
        "\n",
        "num = int(input('enter a number :'))\n",
        "print(\"Factorial of\", num, \"is\", factorial(num))"
      ],
      "metadata": {
        "colab": {
          "base_uri": "https://localhost:8080/"
        },
        "id": "6a0JoamF7jZ_",
        "outputId": "cee6e1a5-db9c-4e4b-c374-7978ce6c61dc"
      },
      "execution_count": 4,
      "outputs": [
        {
          "output_type": "stream",
          "name": "stdout",
          "text": [
            "enter a number :5\n",
            "Factorial of 5 is 120\n"
          ]
        }
      ]
    },
    {
      "cell_type": "code",
      "source": [
        "\"\"\"5. Hamming distance is the number of characters that differ between two strings.\n",
        "To illustrate:\n",
        "String1: 'abcbba'\n",
        "String2: 'abcbda'\n",
        "Hamming Distance: 1 - 'b' vs. 'd' is the only difference.\n",
        "Create a function that computes the hamming distance between two strings.\n",
        "Examples\n",
        "hamming_distance('abcde', 'bcdef') ➞ 5\n",
        "hamming_distance('abcde', 'abcde') ➞ 0\n",
        "hamming_distance('strong', 'strung') ➞ 1  \"\"\"\n",
        "\n",
        "#Sol.\n",
        "def hamming_distance(str1, str2):\n",
        "    i = 0\n",
        "    count = 0\n",
        " \n",
        "    while(i < len(str1)):\n",
        "        if(str1[i] != str2[i]):\n",
        "            count += 1\n",
        "        i += 1\n",
        "    return count\n",
        " \n",
        "# Driver code \n",
        "str1 = \"abcde\"\n",
        "str2 = \"bcdef\"\n",
        " \n",
        "# function call\n",
        "print(hamming_distance(str1, str2))"
      ],
      "metadata": {
        "colab": {
          "base_uri": "https://localhost:8080/"
        },
        "id": "NY9jlG-G9PKw",
        "outputId": "5c9abc1e-3d41-4c24-efe9-3aaeb4c85d4c"
      },
      "execution_count": 5,
      "outputs": [
        {
          "output_type": "stream",
          "name": "stdout",
          "text": [
            "5\n"
          ]
        }
      ]
    }
  ]
}