{
  "nbformat": 4,
  "nbformat_minor": 0,
  "metadata": {
    "colab": {
      "provenance": []
    },
    "kernelspec": {
      "name": "python3",
      "display_name": "Python 3"
    },
    "language_info": {
      "name": "python"
    }
  },
  "cells": [
    {
      "cell_type": "markdown",
      "source": [
        "1. Create a function that takes a list and string. The function should remove the letters in the string from the list, and return the list.\n",
        "Examples\n",
        "\n",
        "remove_letters([\"s\", \"t\", \"r\", \"i\", \"n\", \"g\", \"w\"], \"string\") ➞ [\"w\"]\n",
        "\n",
        "remove_letters([\"b\", \"b\", \"l\", \"l\", \"g\", \"n\", \"o\", \"a\", \"w\"], \"balloon\") ➞ [\"b\", \"g\", \"w\"]\n",
        "\n",
        "remove_letters([\"d\", \"b\", \"t\", \"e\", \"a\", \"i\"], \"edabit\") ➞ []"
      ],
      "metadata": {
        "id": "kay3M6ZxA3US"
      }
    },
    {
      "cell_type": "code",
      "source": [
        "def remove_letters(l,s):\n",
        "    i = 0\n",
        "    while True:\n",
        "        if len(s) == 0:\n",
        "            break\n",
        "        else:\n",
        "            if s[i] in l:\n",
        "                if s.count(s[i]) > 1 and(s.count(s[i]) != l.count(s[i])):\n",
        "                    l.remove(s[i])\n",
        "                    s = s.replace(s[i],'')\n",
        "                else:\n",
        "                    l.remove(s[i])                    \n",
        "                    s = s.replace(s[i],'',1)\n",
        "            else:\n",
        "                i += 1\n",
        "    return l\n",
        "\n",
        "print(remove_letters([\"s\", \"t\", \"r\", \"i\", \"n\", \"g\", \"w\"], \"string\"))\n",
        "print(remove_letters([\"b\", \"b\", \"l\", \"l\", \"g\", \"n\", \"o\", \"a\", \"w\"], \"balloon\"))\n",
        "print(remove_letters([\"d\", \"b\", \"t\", \"e\", \"a\", \"i\"], \"edabit\") )"
      ],
      "metadata": {
        "id": "1tN9gMuKA5T6",
        "colab": {
          "base_uri": "https://localhost:8080/"
        },
        "outputId": "6c163b20-9e80-4dd9-e7a4-399f7239e27b"
      },
      "execution_count": 2,
      "outputs": [
        {
          "output_type": "stream",
          "name": "stdout",
          "text": [
            "['w']\n",
            "['b', 'g', 'w']\n",
            "[]\n"
          ]
        }
      ]
    },
    {
      "cell_type": "markdown",
      "source": [
        "2. A block sequence in three dimensions. We can write a formula for this one:\n",
        "Create a function that takes a number (step) as an argument and returns the amount of blocks in that step.\n",
        "\n",
        "Examples\n",
        "\n",
        "blocks(1) ➞ 5\n",
        "\n",
        "blocks(5) ➞ 39\n",
        "\n",
        "blocks(2) ➞ 12"
      ],
      "metadata": {
        "id": "7NVhqblaD4qI"
      }
    },
    {
      "cell_type": "code",
      "source": [
        "# formula is number of blocks = fun(step) + step * 3 + step * 2 -1\n",
        "# where fun(step) = step + fun(step  - 1)\n",
        "\n",
        "def fun(n):\n",
        "    if n == 1:\n",
        "        return 1\n",
        "    else:\n",
        "        return n + fun(n-1)\n",
        "    \n",
        "def blocks(step):\n",
        "    return fun(step) + step * 3 + step * 2 -1\n",
        "\n",
        "\n",
        "print(blocks(1))\n",
        "print(blocks(5))\n",
        "print(blocks(2))"
      ],
      "metadata": {
        "colab": {
          "base_uri": "https://localhost:8080/"
        },
        "id": "3hdzq31uD7x3",
        "outputId": "00c62df5-1150-4e82-e807-5e3975e49a0c"
      },
      "execution_count": 3,
      "outputs": [
        {
          "output_type": "stream",
          "name": "stdout",
          "text": [
            "5\n",
            "39\n",
            "12\n"
          ]
        }
      ]
    },
    {
      "cell_type": "markdown",
      "source": [
        "3. Create a function that subtracts one positive integer from another, without using any arithmetic operators such as -, %, /, +, etc.\n",
        "Examples\n",
        "\n",
        "my_sub(5, 9) ➞ 4\n",
        "\n",
        "my_sub(10, 30) ➞ 20\n",
        "\n",
        "my_sub(0, 0) ➞ 0"
      ],
      "metadata": {
        "id": "oDxFeQd7EWyQ"
      }
    },
    {
      "cell_type": "code",
      "source": [
        "def my_sub(n1,n2):\n",
        "    if n2 > n1:\n",
        "        return n2 - n1 % n2\n",
        "    elif n1 > n2:\n",
        "        return n1 - n2 % n1\n",
        "    elif n1 == 0 and n2 == 0:\n",
        "        return 0\n",
        "    \n",
        "print(my_sub(5,9))\n",
        "print(my_sub(10,30))\n",
        "print(my_sub(0,0))"
      ],
      "metadata": {
        "colab": {
          "base_uri": "https://localhost:8080/"
        },
        "id": "JFtT1SnuEa3F",
        "outputId": "afc2d730-c8c4-401f-bf96-c541bfd17b11"
      },
      "execution_count": 4,
      "outputs": [
        {
          "output_type": "stream",
          "name": "stdout",
          "text": [
            "4\n",
            "20\n",
            "0\n"
          ]
        }
      ]
    },
    {
      "cell_type": "markdown",
      "source": [
        "4. Create a function that takes a string containing money in dollars and pounds sterling (seperated by comma) and returns the sum of dollar bills only, as an integer.\n",
        "For the input string:\n",
        "\n",
        "Each amount is prefixed by the currency symbol: $ for dollars and £ for pounds.\n",
        "Thousands are represented by the suffix k.\n",
        "i.e. \n",
        "4k=4,000 and £40k = £40,000\n",
        "\n",
        "Examples\n",
        "\n",
        "add_bill(\"d20,p40,p60,d50\") ➞ 20 + 50 = 70\n",
        "\n",
        "add_bill(\"p30,d20,p60,d150,p360\") ➞ 20 + 150 = 170\n",
        "\n",
        "add_bill(\"p30,d2k,p60,d200,p360\") ➞ 2 * 1000 + 200 = 2200"
      ],
      "metadata": {
        "id": "AUsyJesJFBLc"
      }
    },
    {
      "cell_type": "code",
      "source": [
        "def add_bill(s):\n",
        "    sum1 = ''\n",
        "    for i in s.split(','):\n",
        "        if 'd' in i:\n",
        "            sum1 += i\n",
        "    sum1 = sum1.replace('k','000')\n",
        "    bill = 0\n",
        "    for i in sum1.split('d')[1:]:\n",
        "        bill += int(i)\n",
        "    \n",
        "    return bill    \n",
        "                \n",
        "print(add_bill(\"d20,p40,p60,d50\"))\n",
        "print(add_bill(\"p30,d20,p60,d150,p360\"))\n",
        "print(add_bill(\"p30,d2k,p60,d200,p360\"))"
      ],
      "metadata": {
        "colab": {
          "base_uri": "https://localhost:8080/"
        },
        "id": "qrSVql4sFEHZ",
        "outputId": "23972765-a00c-4b10-8184-b745744b48a5"
      },
      "execution_count": 5,
      "outputs": [
        {
          "output_type": "stream",
          "name": "stdout",
          "text": [
            "70\n",
            "170\n",
            "2200\n"
          ]
        }
      ]
    },
    {
      "cell_type": "markdown",
      "source": [
        "5. Create a function that flips a horizontal list into a vertical list, and a vertical list into a horizontal list.\n",
        "In other words, take an 1 x n list (1 row + n columns) and flip it into a n x 1 list (n rows and 1 column), and vice versa.\n",
        "\n",
        "Examples\n",
        "\n",
        "flip_list([1, 2, 3, 4]) ➞ [[1], [2], [3], [4]]\n",
        "\n",
        "Take a horizontal list and flip it vertical.\n",
        "flip_list([[5], [6], [9]]) ➞ [5, 6, 9]\n",
        "\n",
        "Take a vertical list and flip it horizontal.\n",
        "flip_list([]) ➞ []"
      ],
      "metadata": {
        "id": "5zvrKPepITYu"
      }
    },
    {
      "cell_type": "code",
      "source": [
        "# Appraoch no. 1 using numpy array\n",
        "\n",
        "import numpy as np\n",
        "\n",
        "def flip_list(l):\n",
        "    list1 =  np.array(l)\n",
        "    \n",
        "    if list1.ndim == 1:\n",
        "        i = list1.shape\n",
        "        return list1.reshape(i[0],1)\n",
        "    else:\n",
        "        i,j = list1.shape\n",
        "        return list1.reshape(j,i)\n",
        "        \n",
        "print(flip_list([1,2,3,4]))\n",
        "\n",
        "print(flip_list([[5],[6],[7]]))\n",
        "print(flip_list([]))"
      ],
      "metadata": {
        "colab": {
          "base_uri": "https://localhost:8080/"
        },
        "id": "L0JC9dG4IWZh",
        "outputId": "bf9b193a-fbd4-4bfe-b91f-7ea1ce49aad4"
      },
      "execution_count": 6,
      "outputs": [
        {
          "output_type": "stream",
          "name": "stdout",
          "text": [
            "[[1]\n",
            " [2]\n",
            " [3]\n",
            " [4]]\n",
            "[[5 6 7]]\n",
            "[]\n"
          ]
        }
      ]
    },
    {
      "cell_type": "code",
      "source": [
        "# Approach no. 2 \n",
        "def flip_list1(l):\n",
        "    j = 0\n",
        "    for i in range(len(l)):\n",
        "        if type(l[i]) == list:\n",
        "            l[i] = int(str(l[i]).replace('[','').replace(']',''))\n",
        "        elif type(l[i]) == int:\n",
        "            l[i] = [l[i]]\n",
        "\n",
        "    return l       \n",
        "\n",
        "print(flip_list1([1,2,3,4]))\n",
        "\n",
        "print(flip_list1([[5],[6],[7]]))\n",
        "print(flip_list([]))"
      ],
      "metadata": {
        "colab": {
          "base_uri": "https://localhost:8080/"
        },
        "id": "9KXdhw3AIfyO",
        "outputId": "0fba3147-1fa8-4137-bd65-addaa9c52a3b"
      },
      "execution_count": 7,
      "outputs": [
        {
          "output_type": "stream",
          "name": "stdout",
          "text": [
            "[[1], [2], [3], [4]]\n",
            "[5, 6, 7]\n",
            "[]\n"
          ]
        }
      ]
    }
  ]
}