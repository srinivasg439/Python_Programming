{
  "nbformat": 4,
  "nbformat_minor": 0,
  "metadata": {
    "colab": {
      "provenance": []
    },
    "kernelspec": {
      "name": "python3",
      "display_name": "Python 3"
    },
    "language_info": {
      "name": "python"
    }
  },
  "cells": [
    {
      "cell_type": "markdown",
      "source": [
        "Question 1\n",
        "Write four functions that directly mutate a list:\n",
        "repeat(lst, n): Repeat lst n times.\n",
        "add(lst, x): Adds x to the end of the lst.\n",
        "remove(lst, m, n): Removes all elements between indices m and n\n",
        "inclusive in lst. 4. concat(lst, x): concatenates lst with x (another list). Examples lst = [1, 2, 3, 4] repeat(lst, 3) ➞ [1, 2, 3, 4, 1, 2, 3, 4, 1, 2, 3, 4] add(lst, 1) ➞ [1, 2, 3, 4, 1, 2, 3, 4, 1, 2, 3, 4, 1] remove(lst, 1, 12) ➞ [1] concat(lst, [3, 4]) ➞ [1, 3, 4]"
      ],
      "metadata": {
        "id": "340sldHybym4"
      }
    },
    {
      "cell_type": "code",
      "execution_count": 1,
      "metadata": {
        "colab": {
          "base_uri": "https://localhost:8080/"
        },
        "id": "GvL2LbriZpbS",
        "outputId": "2f556f43-993c-44f3-86e3-5da0606e340f"
      },
      "outputs": [
        {
          "output_type": "stream",
          "name": "stdout",
          "text": [
            "Repeating list [1, 2, 3, 4, 1, 2, 3, 4, 1, 2, 3, 4]\n",
            "adding at the end of list [1, 2, 3, 4, 1, 2, 3, 4, 1, 2, 3, 4, 8]\n",
            "Removing some elements form list [1, 2, 3, 4, 8]\n",
            "concating list [1, 2, 3, 4, 8, 6, 8]\n"
          ]
        }
      ],
      "source": [
        "# Ans : \n",
        "def repeat(lst,n):\n",
        "    return lst * n\n",
        "\n",
        "def add(lst, x):\n",
        "    lst.append(x)\n",
        "    return lst\n",
        "\n",
        "def remove(lst,m,n):\n",
        "    del lst[m:n+1]\n",
        "    return lst\n",
        "\n",
        "def concat(lst,lst2):\n",
        "    return lst + lst2\n",
        "    \n",
        "\n",
        "lst = [1,2,3,4]\n",
        "lst = repeat(lst,3)\n",
        "print('Repeating list', lst)\n",
        "lst = add(lst,8)\n",
        "print(\"adding at the end of list\",lst)\n",
        "lst = remove(lst,1,8)\n",
        "print('Removing some elements form list',lst)\n",
        "lst = concat(lst,[6,8])\n",
        "print('concating list',lst)"
      ]
    },
    {
      "cell_type": "markdown",
      "source": [
        "Question 2\n",
        "The classic game of Mastermind is played on a tray on which the\n",
        "Mastermind conceals a code and the Guesser has 10 tries to guess it. The code is a sequence of 4 (or 6, sometimes more) pegs of different colors. Each guess is a corresponding sequence of 4 (or more) pegs of different colors. A guess is 'correct' when the color of every peg in the guess exactly matches the corresponding peg in the Mastermind's code. After each guess by the Guesser, the Mastermind will give a score comprising black & white pegs, not arranged in any order:\n",
        "\n",
        "Black peg == guess peg matches the color of a code peg in the same\n",
        "position.\n",
        "\n",
        "White peg == guess peg matches the color of a code peg in another\n",
        "position. Create a function that takes two strings, code and guess as arguments, and returns the score in a dictionary.\n",
        "\n",
        "The code and guess are strings of numeric digits\n",
        "The color of the pegs are represented by numeric digits\n",
        "no 'peg' may be double-scored\n",
        "Examples guess_score('1423', '5678') ➞ {'black': 0, 'white': 0}\n",
        "\n",
        "guess_score('1423', '2222') ➞ {'black': 1, 'white': 0} guess_score('1423', '1234') ➞ {'black': 1, 'white': 3} guess_score('1423', '2211') ➞ {'black': 0, 'white': 2}"
      ],
      "metadata": {
        "id": "qebxy4hRcIUE"
      }
    },
    {
      "cell_type": "code",
      "source": [
        "# Ans : \n",
        "def guess_score(code, guesser):\n",
        "    \n",
        "    dict = {'black' : 0, 'white' : 0}\n",
        "    BlackCnt = 0\n",
        "    whiteCnt = 0\n",
        "\n",
        "    if len(code) != len(guesser):\n",
        "        print('code and guesser are of not of equal lenth')\n",
        "        return False\n",
        "\n",
        "    code = [code[x] for x in range(len(code))]    # converting string of numbers in to list\n",
        "  \n",
        "    # find the black match\n",
        "    for i in range(len(guesser)):\n",
        "        if code[i] == guesser[i]:                # matching the index for black match\n",
        "            code[i] = '-'                        # if found replacing the match with '-'\n",
        "            BlackCnt += 1 \n",
        "            dict['black'] = BlackCnt             # updating the black count\n",
        "            \n",
        "    #for white matches\n",
        "    for i in range(len(guesser)):\n",
        "        for j in range(len(code)):               # for white match they can be in any index, traverse through the string\n",
        "            if guesser[i] == code[j]:\n",
        "                code[j] = '-'                    # if found replace with '-'\n",
        "                whiteCnt += 1\n",
        "                dict['white'] = whiteCnt         # update the count \n",
        "\n",
        "    return dict"
      ],
      "metadata": {
        "id": "VWeHVqu7cRBi"
      },
      "execution_count": 2,
      "outputs": []
    },
    {
      "cell_type": "code",
      "source": [
        "guess_score('1423', '5678')"
      ],
      "metadata": {
        "colab": {
          "base_uri": "https://localhost:8080/"
        },
        "id": "CSmn7QjIcZwd",
        "outputId": "75f74a0a-ebdb-478b-eef6-01646bee39d3"
      },
      "execution_count": 3,
      "outputs": [
        {
          "output_type": "execute_result",
          "data": {
            "text/plain": [
              "{'black': 0, 'white': 0}"
            ]
          },
          "metadata": {},
          "execution_count": 3
        }
      ]
    },
    {
      "cell_type": "code",
      "source": [
        "guess_score('1423', '2222')"
      ],
      "metadata": {
        "colab": {
          "base_uri": "https://localhost:8080/"
        },
        "id": "a9BxI_mccdMQ",
        "outputId": "8a9e81c4-c6ba-4dc5-fb5f-b42a2d383b96"
      },
      "execution_count": 4,
      "outputs": [
        {
          "output_type": "execute_result",
          "data": {
            "text/plain": [
              "{'black': 1, 'white': 0}"
            ]
          },
          "metadata": {},
          "execution_count": 4
        }
      ]
    },
    {
      "cell_type": "code",
      "source": [
        "guess_score('1423', '1234')"
      ],
      "metadata": {
        "colab": {
          "base_uri": "https://localhost:8080/"
        },
        "id": "vDw6JZFScj9m",
        "outputId": "c5fc09fc-255f-4535-ab42-d4eb4e91faa7"
      },
      "execution_count": 5,
      "outputs": [
        {
          "output_type": "execute_result",
          "data": {
            "text/plain": [
              "{'black': 1, 'white': 3}"
            ]
          },
          "metadata": {},
          "execution_count": 5
        }
      ]
    },
    {
      "cell_type": "code",
      "source": [
        "guess_score('1423', '2211')"
      ],
      "metadata": {
        "colab": {
          "base_uri": "https://localhost:8080/"
        },
        "id": "O-cmNsEWcoJ_",
        "outputId": "8fac0dd9-7344-483c-c81f-82d336b08a7c"
      },
      "execution_count": 6,
      "outputs": [
        {
          "output_type": "execute_result",
          "data": {
            "text/plain": [
              "{'black': 0, 'white': 2}"
            ]
          },
          "metadata": {},
          "execution_count": 6
        }
      ]
    },
    {
      "cell_type": "markdown",
      "source": [
        "Question 3\n",
        "Create a function that takes a list lst and a number N and returns a list of\n",
        "two integers from lst whose product equals N. Examples two_product([1, 2, -1, 4, 5], 20) ➞ [4, 5] two_product([1, 2, 3, 4, 5], 10) ➞ [2, 5] two_product([100, 12, 4, 1, 2], 15) ➞ None"
      ],
      "metadata": {
        "id": "NCgD9-E7cuqR"
      }
    },
    {
      "cell_type": "code",
      "source": [
        "# Ans : \n",
        "def two_product(lst, n):\n",
        "    lst = sorted(lst,reverse = True)\n",
        "    divisors = []\n",
        "    for i in range(len(lst)):\n",
        "        for j in range(i+1,len(lst)):\n",
        "            if lst[i]*lst[j] == n:\n",
        "                divisors.append(lst[i])            \n",
        "                divisors.append(lst[j])\n",
        "                break            \n",
        "    return sorted(divisors)"
      ],
      "metadata": {
        "id": "A1cXG44_cya0"
      },
      "execution_count": 7,
      "outputs": []
    },
    {
      "cell_type": "code",
      "source": [
        "two_product([1, 2, -1, 4, 5], 20)"
      ],
      "metadata": {
        "colab": {
          "base_uri": "https://localhost:8080/"
        },
        "id": "5jOAbHc6c2E-",
        "outputId": "3cbf58ed-0d37-419c-f2e9-72fea6504280"
      },
      "execution_count": 8,
      "outputs": [
        {
          "output_type": "execute_result",
          "data": {
            "text/plain": [
              "[4, 5]"
            ]
          },
          "metadata": {},
          "execution_count": 8
        }
      ]
    },
    {
      "cell_type": "code",
      "source": [
        "two_product([1, 2, 3, 4, 5], 10)"
      ],
      "metadata": {
        "colab": {
          "base_uri": "https://localhost:8080/"
        },
        "id": "CM3yla0Ec7_Z",
        "outputId": "6732e27b-5c12-46d3-f98d-93fe38cc33fa"
      },
      "execution_count": 9,
      "outputs": [
        {
          "output_type": "execute_result",
          "data": {
            "text/plain": [
              "[2, 5]"
            ]
          },
          "metadata": {},
          "execution_count": 9
        }
      ]
    },
    {
      "cell_type": "code",
      "source": [
        "two_product([100, 12, 4, 1, 2], 15)"
      ],
      "metadata": {
        "colab": {
          "base_uri": "https://localhost:8080/"
        },
        "id": "7lAwM2efc_Tv",
        "outputId": "d5c39c93-c360-4440-d3bd-43f550f33614"
      },
      "execution_count": 10,
      "outputs": [
        {
          "output_type": "execute_result",
          "data": {
            "text/plain": [
              "[]"
            ]
          },
          "metadata": {},
          "execution_count": 10
        }
      ]
    },
    {
      "cell_type": "markdown",
      "source": [
        "Question 4\n",
        "In this challenge, sort a list containing a series of dates given as strings.\n",
        "Each date is given in the format DD-MM-YYYY_HH:MM: '12-02-2012_13:44' The priority of criteria used for sorting will be:\n",
        "\n",
        "Year\n",
        "Month\n",
        "Day\n",
        "Hours\n",
        "Minutes\n",
        "Given a list lst and a string mode, implement a function that returns:\n",
        "\n",
        "if mode is equal to 'ASC', the list lst sorted in ascending order.\n",
        "if mode is equal to 'DSC', the list lst sorted in descending order.\n",
        "Examples sort_dates(['10-02-2018_12:30', '10-02-2016_12:30', '10-02-2018_12:15'], 'ASC') ➞ ['10-02-2016_12:30', '10-02-2018_12:15', '10-02-2018_12:30'] sort_dates(['10-02-2018_12:30', '10-02-2016_12:30', '10-02-2018_12:15'], 'DSC') ➞ ['10-02-2018_12:30', '10-02-2018_12:15', '10-02-2016_12:30']\n",
        "\n",
        "sort_dates(['09-02-2000_10:03', '10-02-2000_18:29', '01-01-1999_00:55'], 'ASC') ➞ ['01-01-1999_00:55', '09-02-2000_10:03', '10-02-2000_18:29']"
      ],
      "metadata": {
        "id": "SSvoHTmjdGx5"
      }
    },
    {
      "cell_type": "code",
      "source": [
        "# Ans : \n",
        "import datetime\n",
        "def sort_dates(d, sort):\n",
        "    if sort == 'ASC':\n",
        "        print(\"Sorting in Ascending order\")\n",
        "        return sorted(d, key=lambda x: datetime.datetime.strptime(x, '%d-%m-%Y_%H:%M'), reverse = False)\n",
        "    elif sort == 'DSC':\n",
        "        print(\"Sorting in Descending order\")\n",
        "        return sorted(d, key=lambda x: datetime.datetime.strptime(x, '%d-%m-%Y_%H:%M'), reverse = True)\n",
        "    else:\n",
        "        print(\"Provide right sorting order\")"
      ],
      "metadata": {
        "id": "jdPtuqsidMo1"
      },
      "execution_count": 11,
      "outputs": []
    },
    {
      "cell_type": "code",
      "source": [
        "sort_dates(['10-02-2018_12:30', '10-02-2016_12:30', '10-02-2018_12:15'],\n",
        "'ASC')"
      ],
      "metadata": {
        "colab": {
          "base_uri": "https://localhost:8080/"
        },
        "id": "LQAt_bODdPnR",
        "outputId": "2b7eece7-777b-47b1-ecc8-758286457440"
      },
      "execution_count": 12,
      "outputs": [
        {
          "output_type": "stream",
          "name": "stdout",
          "text": [
            "Sorting in Ascending order\n"
          ]
        },
        {
          "output_type": "execute_result",
          "data": {
            "text/plain": [
              "['10-02-2016_12:30', '10-02-2018_12:15', '10-02-2018_12:30']"
            ]
          },
          "metadata": {},
          "execution_count": 12
        }
      ]
    },
    {
      "cell_type": "code",
      "source": [
        "sort_dates(['10-02-2018_12:30', '10-02-2016_12:30', '10-02-2018_12:15'],\n",
        "'DSC')"
      ],
      "metadata": {
        "colab": {
          "base_uri": "https://localhost:8080/"
        },
        "id": "uw0amxHddTdY",
        "outputId": "daf1520d-4e72-4bad-ffab-5390811ed762"
      },
      "execution_count": 13,
      "outputs": [
        {
          "output_type": "stream",
          "name": "stdout",
          "text": [
            "Sorting in Descending order\n"
          ]
        },
        {
          "output_type": "execute_result",
          "data": {
            "text/plain": [
              "['10-02-2018_12:30', '10-02-2018_12:15', '10-02-2016_12:30']"
            ]
          },
          "metadata": {},
          "execution_count": 13
        }
      ]
    },
    {
      "cell_type": "code",
      "source": [
        "sort_dates(['09-02-2000_10:03', '10-02-2000_18:29', '01-01-1999_00:55'],\n",
        "'ASC')"
      ],
      "metadata": {
        "colab": {
          "base_uri": "https://localhost:8080/"
        },
        "id": "AbgnxhAvdaOj",
        "outputId": "8850fcb2-3b30-46d4-c3c0-5c50cd0e4750"
      },
      "execution_count": 14,
      "outputs": [
        {
          "output_type": "stream",
          "name": "stdout",
          "text": [
            "Sorting in Ascending order\n"
          ]
        },
        {
          "output_type": "execute_result",
          "data": {
            "text/plain": [
              "['01-01-1999_00:55', '09-02-2000_10:03', '10-02-2000_18:29']"
            ]
          },
          "metadata": {},
          "execution_count": 14
        }
      ]
    },
    {
      "cell_type": "markdown",
      "source": [
        "Question 5\n",
        "Write a function that selects all words that have all the same vowels (in any\n",
        "order and/or number) as the first word, including the first word. Examples same_vowel_group(['toe', 'ocelot', 'maniac']) ➞ ['toe', 'ocelot'] same_vowel_group(['many', 'carriage', 'emit', 'apricot', 'animal']) ➞ ['many'] same_vowel_group(['hoops', 'chuff', 'bot', 'bottom']) ➞ ['hoops', 'bot', 'bottom']"
      ],
      "metadata": {
        "id": "sHVeJ0dkdf9I"
      }
    },
    {
      "cell_type": "code",
      "source": [
        "# Ans : \n",
        "def findVowelInWord(word):\n",
        "    vowel = 'aeiou'\n",
        "    lstvowstr = ''    \n",
        "    for i in range(len(word)):        \n",
        "        if word[i] in vowel:\n",
        "            lstvowstr = lstvowstr + word[i]\n",
        "    return ''.join(set(lstvowstr)) # find the unique vowels in the word\n",
        "\n",
        "\n",
        "def same_vowel_group(lst):\n",
        "    vowel = 'aeiou'\n",
        "    resultlst = []\n",
        "    test = findVowelInWord(lst[0])   # find the vowels in each word of the list     \n",
        "    resultlst.append(lst[0]) # append the first word in to list\n",
        "    for i in range(1,len(lst)):\n",
        "        vowWord = findVowelInWord(lst[i])\n",
        "        if test == vowWord: # check the vowel of each word with first word in the list\n",
        "            resultlst.append(lst[i])\n",
        "    return resultlst"
      ],
      "metadata": {
        "id": "nmgJtNQddo1o"
      },
      "execution_count": 15,
      "outputs": []
    },
    {
      "cell_type": "code",
      "source": [
        "same_vowel_group(['toe', 'ocelot', 'maniac'])"
      ],
      "metadata": {
        "colab": {
          "base_uri": "https://localhost:8080/"
        },
        "id": "JsB7jExtdvsi",
        "outputId": "1b8f6411-f42f-4b60-ae9b-76d764efca19"
      },
      "execution_count": 16,
      "outputs": [
        {
          "output_type": "execute_result",
          "data": {
            "text/plain": [
              "['toe', 'ocelot']"
            ]
          },
          "metadata": {},
          "execution_count": 16
        }
      ]
    },
    {
      "cell_type": "code",
      "source": [
        "same_vowel_group(['many', 'carriage', 'emit', 'apricot', 'animal'])"
      ],
      "metadata": {
        "colab": {
          "base_uri": "https://localhost:8080/"
        },
        "id": "dJ10XNrxd1Ws",
        "outputId": "5c440206-8d5c-4465-d079-5ca2e114eca1"
      },
      "execution_count": 17,
      "outputs": [
        {
          "output_type": "execute_result",
          "data": {
            "text/plain": [
              "['many']"
            ]
          },
          "metadata": {},
          "execution_count": 17
        }
      ]
    },
    {
      "cell_type": "code",
      "source": [
        "same_vowel_group(['hoops', 'chuff', 'bot', 'bottom'])"
      ],
      "metadata": {
        "colab": {
          "base_uri": "https://localhost:8080/"
        },
        "id": "UWmO9_wDd5Bn",
        "outputId": "180383f4-8f5e-4a2b-b717-d24035cf5a9d"
      },
      "execution_count": 18,
      "outputs": [
        {
          "output_type": "execute_result",
          "data": {
            "text/plain": [
              "['hoops', 'bot', 'bottom']"
            ]
          },
          "metadata": {},
          "execution_count": 18
        }
      ]
    },
    {
      "cell_type": "markdown",
      "source": [
        "Question 6\n",
        "Create a function that takes a list of more than three numbers and returns\n",
        "the Least Common Multiple (LCM). Examples lcm_of_list([1, 2, 3, 4, 5, 6, 7, 8, 9, 10]) ➞ 2520 lcm_of_list([13, 6, 17, 18, 19, 20, 37]) ➞ 27965340 lcm_of_list([44, 64, 12, 17, 65]) ➞ 2333760"
      ],
      "metadata": {
        "id": "ssMtB2jrd_VJ"
      }
    },
    {
      "cell_type": "code",
      "source": [
        "# Ans : \n",
        "from math import gcd\n",
        "def lcm_of_list(lst):\n",
        "    a = [100, 200, 150]   \n",
        "    lcm = 1\n",
        "    for i in lst:\n",
        "        lcm = lcm*i//gcd(lcm, i)\n",
        "    return lcm"
      ],
      "metadata": {
        "id": "LzMGH3WbeEwf"
      },
      "execution_count": 19,
      "outputs": []
    },
    {
      "cell_type": "code",
      "source": [
        "lcm_of_list([1, 2, 3, 4, 5, 6, 7, 8, 9, 10])"
      ],
      "metadata": {
        "colab": {
          "base_uri": "https://localhost:8080/"
        },
        "id": "CVkDMajLeJIt",
        "outputId": "6ea8ec59-6eab-4c89-ae20-31e6fe83e58e"
      },
      "execution_count": 20,
      "outputs": [
        {
          "output_type": "execute_result",
          "data": {
            "text/plain": [
              "2520"
            ]
          },
          "metadata": {},
          "execution_count": 20
        }
      ]
    },
    {
      "cell_type": "code",
      "source": [
        "lcm_of_list([13, 6, 17, 18, 19, 20, 37])"
      ],
      "metadata": {
        "colab": {
          "base_uri": "https://localhost:8080/"
        },
        "id": "NTrqhopSeNkB",
        "outputId": "aded95b3-bd8b-461f-9c7f-bc00164187e0"
      },
      "execution_count": 21,
      "outputs": [
        {
          "output_type": "execute_result",
          "data": {
            "text/plain": [
              "27965340"
            ]
          },
          "metadata": {},
          "execution_count": 21
        }
      ]
    },
    {
      "cell_type": "code",
      "source": [
        "lcm_of_list([44, 64, 12, 17, 65])"
      ],
      "metadata": {
        "colab": {
          "base_uri": "https://localhost:8080/"
        },
        "id": "8ZBsH6P0eTGH",
        "outputId": "dedecf74-71d0-43ca-e160-88cab2fda96a"
      },
      "execution_count": 22,
      "outputs": [
        {
          "output_type": "execute_result",
          "data": {
            "text/plain": [
              "2333760"
            ]
          },
          "metadata": {},
          "execution_count": 22
        }
      ]
    }
  ]
}