{
  "nbformat": 4,
  "nbformat_minor": 0,
  "metadata": {
    "colab": {
      "provenance": []
    },
    "kernelspec": {
      "name": "python3",
      "display_name": "Python 3"
    },
    "language_info": {
      "name": "python"
    }
  },
  "cells": [
    {
      "cell_type": "markdown",
      "source": [
        "Q1. Define the relationship between a class and its instances. Is it a one-to-one or a one-to-many partnership, for example?\n",
        "\n",
        "Ans : Class is abstraction of an real world entity. It consists of attributes and methods. Instance is an object of\n",
        "a class. It one to many relationship between class and its instatnces.\n",
        "\n",
        "Q2. What kind of data is held only in an instance?\n",
        "\n",
        "Ans : Instance objects contains the Instance variables which are specific to that specific Instance object.\n",
        "\n",
        "Q3. What kind of knowledge is stored in a class?\n",
        "\n",
        "Ans : Class creates a user-defined data structure, which holds its own data members and member functions,which can be accessed and used by creating an instance of that class. A class is like a blueprint for an object.\n",
        "\n",
        "Q4. What exactly is a method, and how is it different from a regular function?\n",
        "Ans : The methods with a class can be used to access the insatnce variables of its instance. So, the object's state can be modified by its method.Function cant access the attributes of an instance of a class or cant modify \n",
        "the state of the object."
      ],
      "metadata": {
        "id": "Y7MPeo2Hb4Rx"
      }
    },
    {
      "cell_type": "code",
      "execution_count": 1,
      "metadata": {
        "colab": {
          "base_uri": "https://localhost:8080/"
        },
        "id": "AbZrmimgaNhT",
        "outputId": "2b53f16d-9017-4182-e13c-a6c1ad60c853"
      },
      "outputs": [
        {
          "output_type": "stream",
          "name": "stdout",
          "text": [
            "Class of Instance: <class '__main__.B'>\n",
            "Base class: (<class '__main__.A'>,)\n"
          ]
        }
      ],
      "source": [
        "#Q5. Is inheritance supported in Python, and if so, what is the syntax?\n",
        "# Ans : Inheritance is supported by python\n",
        "#       Example of Inheritance:\n",
        "class A:\n",
        "        var=1\n",
        "        def __init__(self):\n",
        "            pass\n",
        "class B(A): # class B is detived from class A\n",
        "    def __init__(self):\n",
        "        super().__init__()\n",
        "c=B()\n",
        "print(\"Class of Instance:\",c.__class__)\n",
        "print(\"Base class:\",c.__class__.__bases__)"
      ]
    },
    {
      "cell_type": "markdown",
      "source": [
        "Q6. How much encapsulation (making instance or class variables private) does Python support?\n",
        "\n",
        "Ans : Encapsulation prevents from accessing accidentally, but not intentionally. The private attributes and methods are not really hidden. The private attributes can be accessed within the object method.\n",
        "\n",
        "Q7. How do you distinguish between a class variable and an instance variable?\n",
        "Ans : The class attribute is available to all the instance objects of that class. Instance variable is accessible only to the object or Instance of that class.\n",
        "\n",
        "Q8. When, if ever, can self be included in a class's method definitions?\n",
        "\n",
        "Ans : self can included to access the class variables and instance variiables.\n",
        "\n",
        "Q9. What is the difference between the _ add _ and the _ radd _ methods?\n",
        "Ans : When you add two numbers using the + operator, internally, the __add__() method will be called.We can overload this method to perform.\n",
        "\n",
        "Q10. When is it necessary to use a reflection method? When do you not need\n",
        "it, even though you support the operation in question?\n",
        "\n",
        "\n",
        "Ans : Suppose we are implementing a class that you want to act like a number via operator overloading.So we implement __add__ in your class, and now expressions like obj + 10 is acceptable.This is because obj + 10 is interpreted\n",
        "as obj.__add__(10), and the custom method __add__ can do whatever it means to add 10 to custom class.However, what about an expression like 10 + obj which is really (10).__add__(myobj)? \n",
        "The 10 is an instance of a Python built-in type and its __add__ method doesn't know anything about the new type,obj, so it will return a error NotImplemented. \n",
        "To handle such scenarios, __radd__ is used. Python will first try (10).__add__(myobj), and if that returns NotImplemented, Python will check if the right-hand operand implements  __radd__, and if it does, it will call obj.__radd__(10) rather than raising a TypeError."
      ],
      "metadata": {
        "id": "Prt-E-gRc7JR"
      }
    },
    {
      "cell_type": "code",
      "source": [
        "#Q11. What is the _ iadd _ method called?\n",
        "# Ans : __iadd__ method is called when we use implementation like a+=b which is a.__iadd__(b)\n",
        "class A:\n",
        "    def __init__(self,x):\n",
        "        self.x=x\n",
        "    def __iadd__(self,other):\n",
        "        self.x += other.x\n",
        "        return self.x\n",
        "obj1=A(2)\n",
        "obj2=A(3)\n",
        "obj1+=obj2\n",
        "print(obj1)"
      ],
      "metadata": {
        "colab": {
          "base_uri": "https://localhost:8080/"
        },
        "id": "LUMQIeVSdxPr",
        "outputId": "e5694e52-4ede-489a-f9d0-56c70a6b7d9a"
      },
      "execution_count": 2,
      "outputs": [
        {
          "output_type": "stream",
          "name": "stdout",
          "text": [
            "5\n"
          ]
        }
      ]
    },
    {
      "cell_type": "code",
      "source": [
        "#Q12. Is the _ init _ method inherited by subclasses? What do you do if you need to customize its behavior within a subclass?\n",
        "# Ans : __init__ method is inherited by its subclass. But it can be overloaded, to customize it\n",
        "class A:\n",
        "    def __init__(self,x):\n",
        "        self.x=x\n",
        "class B(A):\n",
        "    pass\n",
        "obj=B(2)\n",
        "obj.x \n",
        "#        here the value x is accessible to instance of class B which is subclass of class A.This means\n",
        "#        __init__ of class A is inherited in sub class B\n",
        "class C(A):\n",
        "    def __init__(self,x,y): # Here we are overloading the __init__ inherited from class A \n",
        "        self.x=x\n",
        "        self.y=y\n",
        "    def func(self):\n",
        "        return(self.x + self.y)\n",
        "obj1=C(3,4)\n",
        "obj1.func()"
      ],
      "metadata": {
        "id": "wrOOlvO1d4Sv"
      },
      "execution_count": null,
      "outputs": []
    }
  ]
}