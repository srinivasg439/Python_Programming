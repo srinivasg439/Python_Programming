{
  "nbformat": 4,
  "nbformat_minor": 0,
  "metadata": {
    "colab": {
      "provenance": []
    },
    "kernelspec": {
      "name": "python3",
      "display_name": "Python 3"
    },
    "language_info": {
      "name": "python"
    }
  },
  "cells": [
    {
      "cell_type": "markdown",
      "source": [
        "1. Create a function that takes a number n (integer greater than zero) as an argument, and returns 2 if n is odd and 8 if n is even.\n",
        "You can only use the following arithmetic operators: addition of numbers +, subtraction of numbers -, multiplication of number , division of number /, and exponentiation *.\n",
        "\n",
        "You are not allowed to use any other methods in this challenge (i.e. no if statements, comparison operators, etc).\n",
        "\n",
        "Examples\n",
        "\n",
        "f(1) ➞ 2\n",
        "\n",
        "f(2) ➞ 8\n",
        "\n",
        "f(3) ➞ 2"
      ],
      "metadata": {
        "id": "Z4V-8W9Px6g3"
      }
    },
    {
      "cell_type": "code",
      "execution_count": 1,
      "metadata": {
        "colab": {
          "base_uri": "https://localhost:8080/"
        },
        "id": "98CMT7cFrTjI",
        "outputId": "ac194e8a-0633-452e-e510-f673c0a89f29"
      },
      "outputs": [
        {
          "output_type": "stream",
          "name": "stdout",
          "text": [
            "2\n",
            "8\n",
            "2\n"
          ]
        }
      ],
      "source": [
        "def f(n):\n",
        "    n = n/2\n",
        "    b = n - int(n)\n",
        "    d = {0.5:2, 0.0:8}\n",
        "    return (d[b])\n",
        "\n",
        "print(f(1))\n",
        "print(f(2))\n",
        "print(f(3))"
      ]
    },
    {
      "cell_type": "markdown",
      "source": [
        "2. Create a function that returns the majority vote in a list. A majority vote is an element that occurs > N/2 times in a list (where N is the length of the list).\n",
        "Examples\n",
        "\n",
        "majority_vote([\"A\", \"A\", \"B\"]) ➞ \"A\"\n",
        "\n",
        "majority_vote([\"A\", \"A\", \"A\", \"B\", \"C\", \"A\"]) ➞ \"A\"\n",
        "\n",
        "majority_vote([\"A\", \"B\", \"B\", \"A\", \"C\", \"C\"]) ➞ None"
      ],
      "metadata": {
        "id": "1zQxk50qy4ed"
      }
    },
    {
      "cell_type": "code",
      "source": [
        "def majority_vote(l):\n",
        "    \n",
        "    N = len(l)\n",
        "    for item in l:\n",
        "        if l.count(item) > (N/2):\n",
        "            return item\n",
        "        else:\n",
        "            return 'None'\n",
        "\n",
        "print(majority_vote([\"A\", \"A\", \"B\"]))  \n",
        "print(majority_vote([\"A\", \"A\", \"A\", \"B\", \"C\", \"A\"]))\n",
        "print(majority_vote([\"A\", \"B\", \"B\", \"A\", \"C\", \"C\"]))"
      ],
      "metadata": {
        "colab": {
          "base_uri": "https://localhost:8080/"
        },
        "id": "aMfvAKPFzMhh",
        "outputId": "ff5614cd-bb05-4dc6-f6dc-77725d40c9a9"
      },
      "execution_count": 2,
      "outputs": [
        {
          "output_type": "stream",
          "name": "stdout",
          "text": [
            "A\n",
            "A\n",
            "None\n"
          ]
        }
      ]
    },
    {
      "cell_type": "markdown",
      "source": [
        "3. Create a function that takes a string txt and censors any word from a given list lst. The text removed must be replaced by the given character char.\n",
        "Examples\n",
        "\n",
        "censor_string(\"Today is a Wednesday!\", [\"Today\", \"a\"], \"-\") ➞ \"----- is - Wednesday!\"\n",
        "\n",
        "censor_string(\"The cow jumped over the moon.\", [\"cow\", \"over\"], \"\"), \"The ** jumped **** the moon.\")\n",
        "\n",
        "censor_string(\"Why did the chicken cross the road?\", [\"Did\", \"chicken\", \"road\"], \"\") ➞ \"Why ** the ******* cross the ****?\""
      ],
      "metadata": {
        "id": "Dsah8Ilt5y3h"
      }
    },
    {
      "cell_type": "code",
      "source": [
        "def censor_string(s,l,s1):\n",
        "    l = [i.lower() for i in l]\n",
        "    s = s.lower().rstrip('?')\n",
        "    for word in s.split(' '):\n",
        "        if word in l:\n",
        "            s = s.replace(word,s1 * len(word),1)\n",
        "    return s    \n",
        "\n",
        "print(censor_string(\"Today is a Wednesday!\", [\"Today\", \"a\"], \"-\"))\n",
        "print(censor_string(\"The cow jumped over the moon.\", [\"cow\", \"over\"], \"*\"))\n",
        "print(censor_string(\"Why did the chicken cross the road?\", [\"Did\", \"chicken\", \"road\"], \"*\"))"
      ],
      "metadata": {
        "colab": {
          "base_uri": "https://localhost:8080/"
        },
        "id": "vs87-Jlq54_m",
        "outputId": "d0897cb4-4aa4-413d-8f26-9242beec1d8d"
      },
      "execution_count": 3,
      "outputs": [
        {
          "output_type": "stream",
          "name": "stdout",
          "text": [
            "----- is - wednesday!\n",
            "the *** jumped **** the moon.\n",
            "why *** the ******* cross the ****\n"
          ]
        }
      ]
    },
    {
      "cell_type": "markdown",
      "source": [
        "4. In mathematics a Polydivisible Number (or magic number) is a number in a given number base with digits abcde... that has the following properties:\n",
        "Its first digit a is not 0.\n",
        "The number formed by its first two digits ab is a multiple of 2.\n",
        "The number formed by its first three digits abc is a multiple of 3.\n",
        "The number formed by its first four digits abcd is a multiple of 4.\n",
        "Create a function which takes an integer n and returns True if the given number is a Polydivisible Number and False otherwise.\n",
        "\n",
        "Examples\n",
        "\n",
        "is_polydivisible(1232) ➞ True\n",
        "\n",
        "1 / 1 = 1\n",
        "\n",
        "12 / 2 = 6\n",
        "\n",
        "123 / 3 = 41\n",
        "\n",
        "1232 / 4 = 308\n",
        "\n",
        "is_polydivisible(123220 ) ➞ False 1 / 1 = 1\n",
        "\n",
        "12 / 2 = 6\n",
        "\n",
        "123 / 3 = 41\n",
        "\n",
        "1232 / 4 = 308\n",
        "\n",
        "12322 / 5 = 2464.4 # Not a Whole Number\n",
        "\n",
        "123220 /6 = 220536.333... # Not a Whole Number"
      ],
      "metadata": {
        "id": "nbxXC9Hk6Gyk"
      }
    },
    {
      "cell_type": "code",
      "source": [
        "def is_polydivisible(n):\n",
        "    n1 = str(n)\n",
        "\n",
        "    if n % len(n1) == 0:\n",
        "        return True\n",
        "    else:\n",
        "        return False\n",
        "    \n",
        "print(is_polydivisible(1))    \n",
        "print(is_polydivisible(12))    \n",
        "print(is_polydivisible(123))    \n",
        "print(is_polydivisible(1232))    \n",
        "print(is_polydivisible(12322))\n",
        "print(is_polydivisible(123220))"
      ],
      "metadata": {
        "colab": {
          "base_uri": "https://localhost:8080/"
        },
        "id": "NrwoOI3G6Q-5",
        "outputId": "65210779-fe84-4aec-e109-f1906069f039"
      },
      "execution_count": 4,
      "outputs": [
        {
          "output_type": "stream",
          "name": "stdout",
          "text": [
            "True\n",
            "True\n",
            "True\n",
            "True\n",
            "False\n",
            "False\n"
          ]
        }
      ]
    },
    {
      "cell_type": "markdown",
      "source": [
        "5. Create a function that takes a list of numbers and returns the sum of all prime numbers in the list.\n",
        "Examples\n",
        "\n",
        "sum_primes([1, 2, 3, 4, 5, 6, 7, 8, 9, 10]) ➞ 17\n",
        "\n",
        "sum_primes([2, 3, 4, 11, 20, 50, 71]) ➞ 87\n",
        "\n",
        "sum_primes([]) ➞ None"
      ],
      "metadata": {
        "id": "KnPZkyCy6n-K"
      }
    },
    {
      "cell_type": "code",
      "source": [
        "def sum_primes(l):\n",
        "    sum1 = 0 \n",
        "    flag = 0\n",
        "    if l:\n",
        "        for n in l:\n",
        "            if n == 2:\n",
        "                sum1 += n\n",
        "            elif n > 2:            \n",
        "                for i in range(2,n):\n",
        "                    if n % i == 0:\n",
        "                        break\n",
        "                else:\n",
        "                    sum1 += n\n",
        "        return sum1\n",
        "    else:\n",
        "        return None\n",
        "\n",
        "print(sum_primes([1, 2, 3, 4, 5, 6, 7, 8, 9, 10]))\n",
        "print(sum_primes([2, 3, 4, 11, 20, 50, 71]))\n",
        "print(sum_primes([]))"
      ],
      "metadata": {
        "colab": {
          "base_uri": "https://localhost:8080/"
        },
        "id": "_ABvK3Z96qs7",
        "outputId": "a461909f-403f-4ff0-fda3-0f6438994876"
      },
      "execution_count": 5,
      "outputs": [
        {
          "output_type": "stream",
          "name": "stdout",
          "text": [
            "17\n",
            "87\n",
            "None\n"
          ]
        }
      ]
    }
  ]
}