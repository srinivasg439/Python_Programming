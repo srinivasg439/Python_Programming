{
  "nbformat": 4,
  "nbformat_minor": 0,
  "metadata": {
    "colab": {
      "name": "Python_Basic_Program_Assignment6.ipynb",
      "provenance": []
    },
    "kernelspec": {
      "name": "python3",
      "display_name": "Python 3"
    },
    "language_info": {
      "name": "python"
    }
  },
  "cells": [
    {
      "cell_type": "code",
      "execution_count": null,
      "metadata": {
        "id": "185GqNl1PHNt"
      },
      "outputs": [],
      "source": [
        "#1.\tWrite a Python Program to Display Fibonacci Sequence Using Recursion?\n",
        "def recur_fibo(n):\n",
        "   if n <= 1:\n",
        "       return n\n",
        "   else:\n",
        "       return(recur_fibo(n-1) + recur_fibo(n-2))\n",
        "\n",
        "nterms = int(input('enter the number:'))\n",
        "\n",
        "# check if the number of terms is valid\n",
        "if nterms <= 0:\n",
        "   print(\"Plese enter a positive integer\")\n",
        "else:\n",
        "   print(\"Fibonacci sequence:\")\n",
        "   for i in range(nterms):\n",
        "       print(recur_fibo(i))"
      ]
    },
    {
      "cell_type": "code",
      "source": [
        "#2.\tWrite a Python Program to Find Factorial of Number Using Recursion?\n",
        "def recur_factorial(n):\n",
        "   if n == 1:\n",
        "       return n\n",
        "   else:\n",
        "       return n*recur_factorial(n-1)\n",
        "\n",
        "num = int(input('enter the number:'))\n",
        "\n",
        "# check if the number is negative\n",
        "if num < 0:\n",
        "   print(\"Sorry, factorial does not exist for negative numbers\")\n",
        "elif num == 0:\n",
        "   print(\"The factorial of 0 is: 1\")\n",
        "else:\n",
        "   print(\"The factorial of\", num, \"is:\", recur_factorial(num))"
      ],
      "metadata": {
        "colab": {
          "base_uri": "https://localhost:8080/"
        },
        "id": "rTAJ9F5sSyuF",
        "outputId": "f6c05b77-eaef-4870-d075-263c48e4e321"
      },
      "execution_count": 4,
      "outputs": [
        {
          "output_type": "stream",
          "name": "stdout",
          "text": [
            "enter the number:5\n",
            "The factorial of 5 is 120\n"
          ]
        }
      ]
    },
    {
      "cell_type": "code",
      "source": [
        "#3.\tWrite a Python Program to calculate your Body Mass Index?\n",
        "\n",
        "height = float(input(\"Input your height in Feet: \"))\n",
        "weight = float(input(\"Input your weight in Kilogram: \"))\n",
        "print(\"Your body mass index is: \", round(weight / (height * height), 2))\n"
      ],
      "metadata": {
        "id": "fv1qv8kzYA0o"
      },
      "execution_count": null,
      "outputs": []
    },
    {
      "cell_type": "code",
      "source": [
        "#4.\tWrite a Python Program to calculate the natural logarithm of any number?\n",
        "import math  \n",
        "\n",
        "print (\"math.log(100.12) : \", math.log(100.12))\n",
        "print (\"math.log(100.72) : \", math.log(100.72))\n",
        "print (\"math.log(math.pi) : \", math.log(math.pi))"
      ],
      "metadata": {
        "colab": {
          "base_uri": "https://localhost:8080/"
        },
        "id": "OE6yVoATYKcD",
        "outputId": "0e235b19-8eda-4929-92ca-5855929d1e7c"
      },
      "execution_count": 5,
      "outputs": [
        {
          "output_type": "stream",
          "name": "stdout",
          "text": [
            "math.log(100.12) :  4.6063694665635735\n",
            "math.log(100.72) :  4.612344389736092\n",
            "math.log(math.pi) :  1.1447298858494002\n"
          ]
        }
      ]
    },
    {
      "cell_type": "code",
      "source": [
        "#5.\tWrite a Python Program for cube sum of first n natural numbers?\n",
        "def sumOfSeries(n):\n",
        "    sum = 0\n",
        "    for i in range(1, n+1):\n",
        "        sum +=i*i*i\n",
        "          \n",
        "    return sum  \n",
        "# Driver Function\n",
        "n = int(input('enter the number:'))\n",
        "print(sumOfSeries(n))"
      ],
      "metadata": {
        "colab": {
          "base_uri": "https://localhost:8080/"
        },
        "id": "woAo1gyxZgmY",
        "outputId": "2569868d-f93e-46f5-82c3-5f01c50a0f04"
      },
      "execution_count": 6,
      "outputs": [
        {
          "output_type": "stream",
          "name": "stdout",
          "text": [
            "enter the number:5\n",
            "225\n"
          ]
        }
      ]
    }
  ]
}